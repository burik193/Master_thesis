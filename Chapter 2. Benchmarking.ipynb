{
 "cells": [
  {
   "cell_type": "markdown",
   "metadata": {},
   "source": [
    "# Table Of Contents<a class=\"anchor\" id=\"zero-bullet\"></a>:\n",
    "* [Imports](#first-bullet)\n",
    "* [Global Functions](#second-bullet)\n",
    "* [Data Import](#third-bullet)\n",
    "* [Benchmarking](#fourth-bullet)\n",
    " * [Levenshtein distance](#1)\n",
    " * [Levenshtein distance norm](#2)\n",
    " * [Damerau-Levenshtein distance](#3)\n",
    " * [Damerau-Levenshtein distance norm](#4)\n",
    " * [Jaro-Winkler Similarity](#5)\n",
    " * [Hamming distance](#6)\n",
    " * [Hamming distance norm](#7)\n",
    " * [Jaccard Similarity](#8)\n",
    " * [Jaccard Similarity Modified](#9)\n",
    " * [NYSIIS](#10)\n",
    " * [Soundex](#11)\n",
    " * [Double Metaphone](#12)\n",
    " * [Learnable Similarity Distance](#13)\n",
    "* [Summary](#fifth-bullet)"
   ]
  },
  {
   "cell_type": "markdown",
   "metadata": {},
   "source": [
    "## Imports<a class=\"anchor\" id=\"first-bullet\"></a>"
   ]
  },
  {
   "cell_type": "markdown",
   "metadata": {},
   "source": [
    "[Back to the Table of Contents](#zero-bullet)"
   ]
  },
  {
   "cell_type": "code",
   "execution_count": null,
   "metadata": {},
   "outputs": [],
   "source": [
    "import pandas as pd\n",
    "import numpy as np\n",
    "import json\n",
    "import time\n",
    "from metaphone import doublemetaphone\n",
    "import plotly.express as px\n",
    "import jellyfish\n",
    "import plotly.graph_objects as go"
   ]
  },
  {
   "cell_type": "markdown",
   "metadata": {},
   "source": [
    "## Global Functions<a class=\"anchor\" id=\"second-bullet\"></a>"
   ]
  },
  {
   "cell_type": "markdown",
   "metadata": {},
   "source": [
    "[Back to the Table of Contents](#zero-bullet)"
   ]
  },
  {
   "cell_type": "code",
   "execution_count": null,
   "metadata": {
    "pycharm": {
     "name": "#%%\n"
    }
   },
   "outputs": [],
   "source": [
    "def progress_line(i: int = 0, m: int = 100, num: int = 50) -> str:\n",
    "    \"\"\"\n",
    "    Returns a progress bar as a string based on the given input parameters.\n",
    "\n",
    "    Parameters:\n",
    "    i (int): The current progress index. Default value is 0.\n",
    "    m (int): The maximum progress index. Default value is 100.\n",
    "    num (int): The number of characters to use for the progress bar. Default value is 50.\n",
    "\n",
    "    Returns:\n",
    "    str: A string representing the progress bar.\n",
    "\n",
    "    Example:\n",
    "    >>> progress_line(30, 100, 20)\n",
    "    '[####----------------------]30.0%: 30 of 100'\n",
    "    \"\"\"\n",
    "    percentage = i/m\n",
    "    hash_number = round(percentage*num)\n",
    "    loadbar = '[' + '#'*hash_number + '-'*(num-hash_number) + ']' + f'{round(percentage*100, 2)}%: {i} of {m}'\n",
    "    return loadbar\n",
    "\n",
    "\n",
    "def find_candidates(LHS: dict, RHS: dict, metric) -> pd.DataFrame:\n",
    "    \"\"\"\n",
    "    Find candidate matches between two dictionaries of names using a specified metric.\n",
    "\n",
    "    Args:\n",
    "        LHS (dict): Left-hand side dictionary of names.\n",
    "        RHS (dict): Right-hand side dictionary of names.\n",
    "        metric (function): Metric function to measure the similarity between names.\n",
    "\n",
    "    Returns:\n",
    "        pd.DataFrame: DataFrame containing the candidate matches with distances and labels.\n",
    "\n",
    "    \"\"\"\n",
    "    start = time.time()\n",
    "    candidates = []\n",
    "    LHS_names = LHS.keys()\n",
    "    RHS_names = RHS.keys()\n",
    "    i = 0\n",
    "    for name_l in LHS_names:\n",
    "        min_dist = np.inf\n",
    "        candidate = ''\n",
    "        for name_r in RHS_names:\n",
    "            dist = metric(name_l, name_r)\n",
    "            if dist < min_dist:\n",
    "                min_dist = dist\n",
    "                candidate = name_r\n",
    "                if dist == 0:\n",
    "                    break\n",
    "        i += 1\n",
    "        candidates.append((name_l, candidate, min_dist, (name_l, candidate), int(LHS.get(name_l)), int(RHS.get(candidate))))\n",
    "        print(progress_line(i, len(LHS)), end='\\r')  # Print progress information\n",
    "    print(f'\\nSearching process took us {time.time() - start:.2f}')  # Print time taken for searching\n",
    "    result = pd.DataFrame(candidates, columns=['lhs_name', 'rhs_name', 'dist', 'pair', 'lhs_label', 'rhs_label'])\n",
    "\n",
    "    return result\n",
    "\n",
    "def find_duplicates(names):\n",
    "    \"\"\"\n",
    "    Find duplicate names in a list.\n",
    "\n",
    "    Args:\n",
    "        names (list): List of names to search for duplicates.\n",
    "\n",
    "    Returns:\n",
    "        list: List of tuples containing duplicate names and their positions.\n",
    "\n",
    "    \"\"\"\n",
    "    duplicates = []\n",
    "    seen = set()\n",
    "\n",
    "    for i, name in enumerate(names):\n",
    "        if name in seen and name not in duplicates:  # Check if the name has been seen before and is not already in the duplicates list\n",
    "            duplicates.append((name, i))\n",
    "        else:\n",
    "            seen.add(name)  # Add the name to the set of seen names\n",
    "\n",
    "    return duplicates"
   ]
  },
  {
   "cell_type": "markdown",
   "metadata": {},
   "source": [
    "## Data import<a class=\"anchor\" id=\"third-bullet\"></a>"
   ]
  },
  {
   "cell_type": "markdown",
   "metadata": {},
   "source": [
    "[Back to the Table of Contents](#zero-bullet)"
   ]
  },
  {
   "cell_type": "markdown",
   "metadata": {
    "pycharm": {
     "name": "#%% md\n"
    }
   },
   "source": [
    "### Initialize LHS"
   ]
  },
  {
   "cell_type": "code",
   "execution_count": null,
   "metadata": {
    "pycharm": {
     "name": "#%%\n"
    }
   },
   "outputs": [],
   "source": [
    "path = r'validation_dataset.csv'"
   ]
  },
  {
   "cell_type": "markdown",
   "metadata": {},
   "source": [
    "Import the validation dataset"
   ]
  },
  {
   "cell_type": "code",
   "execution_count": null,
   "metadata": {
    "pycharm": {
     "name": "#%%\n"
    }
   },
   "outputs": [],
   "source": [
    "val_df = pd.read_csv(path, encoding='utf-8')"
   ]
  },
  {
   "cell_type": "code",
   "execution_count": null,
   "metadata": {},
   "outputs": [],
   "source": [
    "val_df.head()"
   ]
  },
  {
   "cell_type": "code",
   "execution_count": null,
   "metadata": {
    "pycharm": {
     "name": "#%%\n"
    }
   },
   "outputs": [],
   "source": [
    "# create a list of misspelling and an according list of labels\n",
    "misspellings = list(val_df[['mistake_1', 'mistake_2', 'mistake_3', 'mistake_4']].values.flatten())\n",
    "misspelling_labels = np.repeat(val_df['label_2'], 4)"
   ]
  },
  {
   "cell_type": "markdown",
   "metadata": {},
   "source": [
    "Check if there're duplicates among the given data. I.e. if the misspelled name by chance changes into some other name, that also presented in the data. This can create ambiguity during the matching phase. We want to avoid it during benchmarking."
   ]
  },
  {
   "cell_type": "code",
   "execution_count": null,
   "metadata": {
    "pycharm": {
     "name": "#%%\n"
    }
   },
   "outputs": [],
   "source": [
    "duplicates = find_duplicates(misspellings)\n",
    "\n",
    "if duplicates:\n",
    "    print(\"Duplicate names found:\")\n",
    "    for name, position in duplicates:\n",
    "        print(f\"{name} - Position: {position}\")\n",
    "else:\n",
    "    print(\"No duplicate names found.\")\n"
   ]
  },
  {
   "cell_type": "markdown",
   "metadata": {},
   "source": [
    "Create LHS dictionary"
   ]
  },
  {
   "cell_type": "code",
   "execution_count": null,
   "metadata": {
    "pycharm": {
     "name": "#%%\n"
    }
   },
   "outputs": [],
   "source": [
    "LHS = {name: label for name, label in zip(misspellings, misspelling_labels)}"
   ]
  },
  {
   "cell_type": "code",
   "execution_count": null,
   "metadata": {
    "pycharm": {
     "name": "#%%\n"
    }
   },
   "outputs": [],
   "source": [
    "LHS"
   ]
  },
  {
   "cell_type": "code",
   "execution_count": null,
   "metadata": {
    "pycharm": {
     "name": "#%%\n"
    }
   },
   "outputs": [],
   "source": [
    "len(LHS)"
   ]
  },
  {
   "cell_type": "markdown",
   "metadata": {
    "pycharm": {
     "name": "#%% md\n"
    }
   },
   "source": [
    "### Initialize RHS"
   ]
  },
  {
   "cell_type": "code",
   "execution_count": null,
   "metadata": {
    "pycharm": {
     "name": "#%%\n"
    }
   },
   "outputs": [],
   "source": [
    "path_rhs = r'RHS_2\\labels_dict.json'\n",
    "with open(path_rhs, 'r', encoding='utf-8') as f:\n",
    "    RHS = json.loads(f.read())"
   ]
  },
  {
   "cell_type": "code",
   "execution_count": null,
   "metadata": {
    "pycharm": {
     "name": "#%%\n"
    }
   },
   "outputs": [],
   "source": [
    "RHS"
   ]
  },
  {
   "cell_type": "markdown",
   "metadata": {
    "pycharm": {
     "name": "#%% md\n"
    }
   },
   "source": [
    "#### Full RHS"
   ]
  },
  {
   "cell_type": "markdown",
   "metadata": {
    "pycharm": {
     "name": "#%% md\n"
    }
   },
   "source": [
    "Note: import full RHS only for exploring purposes. The data is too big to hangle with the introduced algorithms."
   ]
  },
  {
   "cell_type": "code",
   "execution_count": null,
   "metadata": {
    "pycharm": {
     "name": "#%%\n"
    }
   },
   "outputs": [],
   "source": [
    "path_rhs = r'first_and_last.csv'\n",
    "RHS = pd.read_csv(path_rhs)\n",
    "rhs_last_names = RHS['last']\n",
    "RHS = {name: LHS.get(name) for name in rhs_last_names}\n",
    "RHS = {name: 0 for name, label in RHS.items() if not isinstance(label, int)}\n",
    "RHS = {name: label for name, label in RHS.items() if isinstance(name, str)}"
   ]
  },
  {
   "cell_type": "markdown",
   "metadata": {},
   "source": [
    "## Benchmarking the algorithms introduced in Chapter 2<a class=\"anchor\" id=\"fourth-bullet\"></a>"
   ]
  },
  {
   "cell_type": "markdown",
   "metadata": {
    "pycharm": {
     "name": "#%% md\n"
    }
   },
   "source": [
    "### Levenshtein distance<a class=\"anchor\" id=\"1\"></a>"
   ]
  },
  {
   "cell_type": "markdown",
   "metadata": {},
   "source": [
    "[Back to the Table of Contents](#zero-bullet) --- [Next](#2)"
   ]
  },
  {
   "cell_type": "code",
   "execution_count": null,
   "metadata": {
    "pycharm": {
     "name": "#%%\n"
    }
   },
   "outputs": [],
   "source": [
    "lev = find_candidates(LHS=LHS, RHS=RHS, metric=jellyfish.levenshtein_distance)"
   ]
  },
  {
   "cell_type": "markdown",
   "metadata": {},
   "source": [
    "Create normalized distances for the found matches"
   ]
  },
  {
   "cell_type": "code",
   "execution_count": null,
   "metadata": {
    "pycharm": {
     "name": "#%%\n"
    }
   },
   "outputs": [],
   "source": [
    "lev['normalized_dist'] = lev.apply(lambda row: 1 - (row['dist']/max((len(row['lhs_name']), (len(row['rhs_name']))))), axis=1)"
   ]
  },
  {
   "cell_type": "markdown",
   "metadata": {},
   "source": [
    "Create indicator column, that shows if the match was correct"
   ]
  },
  {
   "cell_type": "code",
   "execution_count": null,
   "metadata": {
    "pycharm": {
     "name": "#%%\n"
    }
   },
   "outputs": [],
   "source": [
    "lev['match'] = lev.apply(lambda row: row['lhs_label'] == row['rhs_label'],axis=1)"
   ]
  },
  {
   "cell_type": "markdown",
   "metadata": {},
   "source": [
    "Create visual insights"
   ]
  },
  {
   "cell_type": "code",
   "execution_count": null,
   "metadata": {
    "pycharm": {
     "name": "#%%\n"
    }
   },
   "outputs": [],
   "source": [
    "fig = go.Figure()\n",
    "fig.add_trace(go.Box(x=list(lev[lev['match']]['dist']), y=list(lev[lev['match']]['normalized_dist']), name='True match', boxpoints='all'))\n",
    "fig.add_trace(go.Box(x=list(lev[~lev['match']]['dist']), y=list(lev[~lev['match']]['normalized_dist']), name='False match', boxpoints='all'))\n",
    "fig.update_layout(\n",
    "    autosize=False,\n",
    "    width=800,\n",
    "    height=500,\n",
    "    margin=dict(\n",
    "        l=50,\n",
    "        r=50,\n",
    "        b=50,\n",
    "        t=50,\n",
    "        pad=4\n",
    "    ),\n",
    "    xaxis_title=\"Edit distance\",\n",
    "    yaxis_title=\"Normalized edit distance\",\n",
    "    colorway=px.colors.qualitative.Safe,\n",
    "    paper_bgcolor=\"White\",\n",
    "    # title=\"Levenshtein Distance\",\n",
    ")"
   ]
  },
  {
   "cell_type": "code",
   "execution_count": null,
   "metadata": {
    "pycharm": {
     "name": "#%%\n"
    }
   },
   "outputs": [],
   "source": [
    "fig.write_image(\"images/lev_distr.png\")"
   ]
  },
  {
   "cell_type": "code",
   "execution_count": null,
   "metadata": {
    "pycharm": {
     "name": "#%%\n"
    }
   },
   "outputs": [],
   "source": [
    "fig = go.Figure()\n",
    "fig.add_trace(go.Histogram(x=list(lev[lev['match']]['dist']), name='True match'))\n",
    "fig.add_trace(go.Histogram(x=list(lev[~lev['match']]['dist']), name='False match'))\n",
    "fig.update_layout(\n",
    "    autosize=False,\n",
    "    width=800,\n",
    "    height=500,\n",
    "    margin=dict(\n",
    "        l=50,\n",
    "        r=50,\n",
    "        b=50,\n",
    "        t=50,\n",
    "        pad=4\n",
    "    ),\n",
    "    xaxis_title=\"Edit distance\",\n",
    "    yaxis_title=\"Aggregate\",\n",
    "    colorway=px.colors.qualitative.Safe,\n",
    "    paper_bgcolor=\"White\",\n",
    "    # title=\"Levenshtein Distance\",\n",
    ")\n"
   ]
  },
  {
   "cell_type": "code",
   "execution_count": null,
   "metadata": {
    "pycharm": {
     "name": "#%%\n"
    }
   },
   "outputs": [],
   "source": [
    "fig.write_image(\"images/lev_dist_distr.png\")"
   ]
  },
  {
   "cell_type": "code",
   "execution_count": null,
   "metadata": {
    "pycharm": {
     "name": "#%%\n"
    }
   },
   "outputs": [],
   "source": [
    "fig = go.Figure()\n",
    "fig.add_trace(go.Histogram(x=list(lev['match'])))\n",
    "fig.update_layout(\n",
    "    autosize=False,\n",
    "    width=800,\n",
    "    height=500,\n",
    "    margin=dict(\n",
    "        l=50,\n",
    "        r=50,\n",
    "        b=50,\n",
    "        t=50,\n",
    "        pad=4\n",
    "    ),\n",
    "    xaxis_title=\"Name match\",\n",
    "    yaxis_title=\"Aggregate\",\n",
    "    colorway=px.colors.qualitative.Safe,\n",
    "    paper_bgcolor=\"White\",\n",
    "    # title=\"Matching distribution\",\n",
    ")"
   ]
  },
  {
   "cell_type": "code",
   "execution_count": null,
   "metadata": {
    "pycharm": {
     "name": "#%%\n"
    }
   },
   "outputs": [],
   "source": [
    "fig.write_image(\"images/lev_match_distr.png\")"
   ]
  },
  {
   "cell_type": "markdown",
   "metadata": {},
   "source": [
    "Calculate missmatches"
   ]
  },
  {
   "cell_type": "code",
   "execution_count": null,
   "metadata": {
    "pycharm": {
     "name": "#%%\n"
    }
   },
   "outputs": [],
   "source": [
    "mismatched = 1 - (lev[lev['match']].shape[0]/lev.shape[0])"
   ]
  },
  {
   "cell_type": "code",
   "execution_count": null,
   "metadata": {
    "pycharm": {
     "name": "#%%\n"
    }
   },
   "outputs": [],
   "source": [
    "print(f'Percentage of mismatched names: {mismatched * 100:.2f}%, ({lev[~lev[\"match\"]].shape[0]})')"
   ]
  },
  {
   "cell_type": "markdown",
   "metadata": {},
   "source": [
    "### Normalized Levenshtein distance<a class=\"anchor\" id=\"2\"></a>"
   ]
  },
  {
   "cell_type": "markdown",
   "metadata": {},
   "source": [
    "[Back to the Table of Contents](#zero-bullet) --- [Previous](#1) --- [Next](#3)"
   ]
  },
  {
   "cell_type": "code",
   "execution_count": null,
   "metadata": {
    "pycharm": {
     "name": "#%%\n"
    }
   },
   "outputs": [],
   "source": [
    "def normalized_levenshtein(s1: str, s2: str):\n",
    "    dist = jellyfish.levenshtein_distance(s1, s2)\n",
    "    return (dist/max(len(s1), len(s2)))"
   ]
  },
  {
   "cell_type": "code",
   "execution_count": null,
   "metadata": {
    "pycharm": {
     "name": "#%%\n"
    }
   },
   "outputs": [],
   "source": [
    "lev_n = find_candidates(LHS=LHS, RHS=RHS, metric=normalized_levenshtein)"
   ]
  },
  {
   "cell_type": "markdown",
   "metadata": {},
   "source": [
    "Create regular distances for the found matches"
   ]
  },
  {
   "cell_type": "code",
   "execution_count": null,
   "metadata": {
    "pycharm": {
     "name": "#%%\n"
    }
   },
   "outputs": [],
   "source": [
    "lev_n['normalized_dist'] = lev_n.apply(lambda row: 1 - row['dist'], axis=1)\n",
    "lev_n['dist'] = lev_n.apply(lambda row: row['dist'] * max(len(row['lhs_name']), len(row['rhs_name'])), axis=1)"
   ]
  },
  {
   "cell_type": "markdown",
   "metadata": {},
   "source": [
    "Create indicator column, that shows if the match was correct"
   ]
  },
  {
   "cell_type": "code",
   "execution_count": null,
   "metadata": {
    "pycharm": {
     "name": "#%%\n"
    }
   },
   "outputs": [],
   "source": [
    "lev_n['match'] = lev_n.apply(lambda row: row['lhs_label'] == row['rhs_label'],axis=1)"
   ]
  },
  {
   "cell_type": "markdown",
   "metadata": {},
   "source": [
    "Create visual insights"
   ]
  },
  {
   "cell_type": "code",
   "execution_count": null,
   "metadata": {
    "pycharm": {
     "name": "#%%\n"
    }
   },
   "outputs": [],
   "source": [
    "fig = go.Figure()\n",
    "fig.add_trace(go.Box(x=list(lev_n[lev_n['match']]['dist']), y=list(lev_n[lev_n['match']]['normalized_dist']), name='True match', boxpoints='all'))\n",
    "fig.add_trace(go.Box(x=list(lev_n[~lev_n['match']]['dist']), y=list(lev_n[~lev_n['match']]['normalized_dist']), name='False match', boxpoints='all'))\n",
    "fig.update_layout(\n",
    "    autosize=False,\n",
    "    width=800,\n",
    "    height=500,\n",
    "    margin=dict(\n",
    "        l=50,\n",
    "        r=50,\n",
    "        b=50,\n",
    "        t=50,\n",
    "        pad=4\n",
    "    ),\n",
    "    colorway=px.colors.qualitative.Safe,\n",
    "    paper_bgcolor=\"White\",\n",
    "    #title=\"Levenshtein Distance\",\n",
    "    xaxis_title=\"Edit distance\",\n",
    "    yaxis_title=\"Normalized edit distance\",\n",
    ")"
   ]
  },
  {
   "cell_type": "code",
   "execution_count": null,
   "metadata": {
    "pycharm": {
     "name": "#%%\n"
    }
   },
   "outputs": [],
   "source": [
    "fig.write_image(\"images/lev_n_distr.png\")"
   ]
  },
  {
   "cell_type": "code",
   "execution_count": null,
   "metadata": {
    "pycharm": {
     "name": "#%%\n"
    }
   },
   "outputs": [],
   "source": [
    "fig = go.Figure()\n",
    "fig.add_trace(go.Histogram(x=list(lev_n[lev_n['match']]['dist']), name='True match'))\n",
    "fig.add_trace(go.Histogram(x=list(lev_n[~lev_n['match']]['dist']), name='False match'))\n",
    "fig.update_layout(\n",
    "    autosize=False,\n",
    "    width=800,\n",
    "    height=500,\n",
    "    margin=dict(\n",
    "        l=50,\n",
    "        r=50,\n",
    "        b=50,\n",
    "        t=50,\n",
    "        pad=4\n",
    "    ),\n",
    "    colorway=px.colors.qualitative.Safe,\n",
    "    paper_bgcolor=\"White\",\n",
    "    xaxis_title=\"Edit distance\",\n",
    "    yaxis_title=\"Aggregate\",\n",
    ")\n"
   ]
  },
  {
   "cell_type": "code",
   "execution_count": null,
   "metadata": {
    "pycharm": {
     "name": "#%%\n"
    }
   },
   "outputs": [],
   "source": [
    "fig.write_image(\"images/lev_n_dist_distr.png\")"
   ]
  },
  {
   "cell_type": "code",
   "execution_count": null,
   "metadata": {
    "pycharm": {
     "name": "#%%\n"
    }
   },
   "outputs": [],
   "source": [
    "fig = go.Figure()\n",
    "fig.add_trace(go.Histogram(x=list(lev_n['match'])))\n",
    "fig.update_layout(\n",
    "    autosize=False,\n",
    "    width=800,\n",
    "    height=500,\n",
    "    margin=dict(\n",
    "        l=50,\n",
    "        r=50,\n",
    "        b=50,\n",
    "        t=100,\n",
    "        pad=4\n",
    "    ),\n",
    "    colorway=px.colors.qualitative.Safe,\n",
    "    paper_bgcolor=\"White\",\n",
    "    # title=\"Matching distribution\",\n",
    "    xaxis_title=\"Name match\",\n",
    "    yaxis_title=\"Aggregate\",\n",
    ")"
   ]
  },
  {
   "cell_type": "code",
   "execution_count": null,
   "metadata": {
    "pycharm": {
     "name": "#%%\n"
    }
   },
   "outputs": [],
   "source": [
    "fig.write_image(\"images/lev_n_match_distr.png\")"
   ]
  },
  {
   "cell_type": "markdown",
   "metadata": {},
   "source": [
    "Calculate missmatches"
   ]
  },
  {
   "cell_type": "code",
   "execution_count": null,
   "metadata": {
    "pycharm": {
     "name": "#%%\n"
    }
   },
   "outputs": [],
   "source": [
    "mismatched = 1 - (lev_n[lev_n['match']].shape[0]/len(LHS))"
   ]
  },
  {
   "cell_type": "code",
   "execution_count": null,
   "metadata": {
    "pycharm": {
     "name": "#%%\n"
    }
   },
   "outputs": [],
   "source": [
    "print(f'Percentage of mismatched names: {mismatched * 100:.2f}%, ({lev_n[~lev_n[\"match\"]].shape[0]})')"
   ]
  },
  {
   "cell_type": "markdown",
   "metadata": {
    "pycharm": {
     "name": "#%% md\n"
    }
   },
   "source": [
    "### Damerau-Levenshtein Distance<a class=\"anchor\" id=\"3\"></a>"
   ]
  },
  {
   "cell_type": "markdown",
   "metadata": {},
   "source": [
    "[Back to the Table of Contents](#zero-bullet) --- [Previous](#2) --- [Next](#4)"
   ]
  },
  {
   "cell_type": "code",
   "execution_count": null,
   "metadata": {
    "pycharm": {
     "name": "#%%\n"
    }
   },
   "outputs": [],
   "source": [
    "dam_lev = find_candidates(LHS=LHS, RHS=RHS, metric=jellyfish.damerau_levenshtein_distance)"
   ]
  },
  {
   "cell_type": "markdown",
   "metadata": {},
   "source": [
    "Create normalized distances for the found matches"
   ]
  },
  {
   "cell_type": "code",
   "execution_count": null,
   "metadata": {
    "pycharm": {
     "name": "#%%\n"
    }
   },
   "outputs": [],
   "source": [
    "dam_lev['normalized_dist'] = dam_lev.apply(lambda row: 1 - (row['dist']/max((len(row['lhs_name']), (len(row['rhs_name']))))), axis=1)"
   ]
  },
  {
   "cell_type": "markdown",
   "metadata": {},
   "source": [
    "Create indicator column, that shows if the match was correct"
   ]
  },
  {
   "cell_type": "code",
   "execution_count": null,
   "metadata": {
    "pycharm": {
     "name": "#%%\n"
    }
   },
   "outputs": [],
   "source": [
    "dam_lev['match'] = dam_lev.apply(lambda row: row['lhs_label'] == row['rhs_label'],axis=1)"
   ]
  },
  {
   "cell_type": "markdown",
   "metadata": {},
   "source": [
    "Create visual insights"
   ]
  },
  {
   "cell_type": "code",
   "execution_count": null,
   "metadata": {
    "pycharm": {
     "name": "#%%\n"
    }
   },
   "outputs": [],
   "source": [
    "Create visual insightsfig = go.Figure()\n",
    "fig.add_trace(go.Box(x=list(dam_lev[dam_lev['match']]['dist']), y=list(dam_lev[dam_lev['match']]['normalized_dist']), name='True match', boxpoints='all'))\n",
    "fig.add_trace(go.Box(x=list(dam_lev[~dam_lev['match']]['dist']), y=list(dam_lev[~dam_lev['match']]['normalized_dist']), name='False match', boxpoints='all'))\n",
    "fig.update_layout(\n",
    "    autosize=False,\n",
    "    width=800,\n",
    "    height=500,\n",
    "    margin=dict(\n",
    "        l=50,\n",
    "        r=50,\n",
    "        b=50,\n",
    "        t=50,\n",
    "        pad=4\n",
    "    ),\n",
    "    colorway=px.colors.qualitative.Safe,\n",
    "    paper_bgcolor=\"White\",\n",
    "    #title=\"Levenshtein Distance\",\n",
    "    xaxis_title=\"Edit distance\",\n",
    "    yaxis_title=\"Normalized edit distance\",\n",
    ")"
   ]
  },
  {
   "cell_type": "code",
   "execution_count": null,
   "metadata": {
    "pycharm": {
     "name": "#%%\n"
    }
   },
   "outputs": [],
   "source": [
    "fig.write_image(\"images/dam_lev_distr.png\")"
   ]
  },
  {
   "cell_type": "code",
   "execution_count": null,
   "metadata": {
    "pycharm": {
     "name": "#%%\n"
    }
   },
   "outputs": [],
   "source": [
    "fig = go.Figure()\n",
    "fig.add_trace(go.Histogram(x=list(dam_lev[dam_lev['match']]['dist']), name='True match'))\n",
    "fig.add_trace(go.Histogram(x=list(dam_lev[~dam_lev['match']]['dist']), name='False match'))\n",
    "fig.update_layout(\n",
    "    autosize=False,\n",
    "    width=800,\n",
    "    height=500,\n",
    "    margin=dict(\n",
    "        l=50,\n",
    "        r=50,\n",
    "        b=50,\n",
    "        t=50,\n",
    "        pad=4\n",
    "    ),\n",
    "    colorway=px.colors.qualitative.Safe,\n",
    "    paper_bgcolor=\"White\",\n",
    "    xaxis_title=\"Edit distance\",\n",
    "    yaxis_title=\"Aggregate\",\n",
    ")\n"
   ]
  },
  {
   "cell_type": "code",
   "execution_count": null,
   "metadata": {
    "pycharm": {
     "name": "#%%\n"
    }
   },
   "outputs": [],
   "source": [
    "fig.write_image(\"images/dam_lev_dist_distr.png\")"
   ]
  },
  {
   "cell_type": "code",
   "execution_count": null,
   "metadata": {
    "pycharm": {
     "name": "#%%\n"
    }
   },
   "outputs": [],
   "source": [
    "fig = go.Figure()\n",
    "fig.add_trace(go.Histogram(x=list(dam_lev['match'])))\n",
    "fig.update_layout(\n",
    "    autosize=False,\n",
    "    width=800,\n",
    "    height=500,\n",
    "    margin=dict(\n",
    "        l=50,\n",
    "        r=50,\n",
    "        b=50,\n",
    "        t=100,\n",
    "        pad=4\n",
    "    ),\n",
    "    colorway=px.colors.qualitative.Safe,\n",
    "    paper_bgcolor=\"White\",\n",
    "    # title=\"Matching distribution\",\n",
    "    xaxis_title=\"Name match\",\n",
    "    yaxis_title=\"Aggregate\",\n",
    ")"
   ]
  },
  {
   "cell_type": "code",
   "execution_count": null,
   "metadata": {
    "pycharm": {
     "name": "#%%\n"
    }
   },
   "outputs": [],
   "source": [
    "fig.write_image(\"images/dam_lev_match_distr.png\")"
   ]
  },
  {
   "cell_type": "markdown",
   "metadata": {},
   "source": [
    "Calculate missmatches"
   ]
  },
  {
   "cell_type": "code",
   "execution_count": null,
   "metadata": {
    "pycharm": {
     "name": "#%%\n"
    }
   },
   "outputs": [],
   "source": [
    "mismatched = 1 - (dam_lev[dam_lev['match']].shape[0]/dam_lev.shape[0])"
   ]
  },
  {
   "cell_type": "code",
   "execution_count": null,
   "metadata": {
    "pycharm": {
     "name": "#%%\n"
    }
   },
   "outputs": [],
   "source": [
    "print(f'Percentage of mismatched names: {mismatched * 100:.2f}%, ({dam_lev[~dam_lev[\"match\"]].shape[0]})')"
   ]
  },
  {
   "cell_type": "markdown",
   "metadata": {},
   "source": [
    "### Normalized Damerau-Levenshtein Distance<a class=\"anchor\" id=\"4\"></a>"
   ]
  },
  {
   "cell_type": "markdown",
   "metadata": {},
   "source": [
    "[Back to the Table of Contents](#zero-bullet) --- [Previous](#3) --- [Next](#5)"
   ]
  },
  {
   "cell_type": "code",
   "execution_count": null,
   "metadata": {
    "pycharm": {
     "name": "#%%\n"
    }
   },
   "outputs": [],
   "source": [
    "[Back to the Table of Contents](#zero-bullet)def normalized_dam_lev(s1: str, s2: str):\n",
    "    dist = jellyfish.damerau_levenshtein_distance(s1, s2)\n",
    "    return dist/max(len(s1), len(s2))"
   ]
  },
  {
   "cell_type": "code",
   "execution_count": null,
   "metadata": {
    "pycharm": {
     "name": "#%%\n"
    }
   },
   "outputs": [],
   "source": [
    "dam_lev_n = find_candidates(LHS=LHS, RHS=RHS, metric=normalized_dam_lev)"
   ]
  },
  {
   "cell_type": "markdown",
   "metadata": {},
   "source": [
    "Create regular distances for the found matches"
   ]
  },
  {
   "cell_type": "code",
   "execution_count": null,
   "metadata": {
    "pycharm": {
     "name": "#%%\n"
    }
   },
   "outputs": [],
   "source": [
    "dam_lev_n['normalized_dist'] = dam_lev_n.apply(lambda row: 1 - row['dist'], axis=1)\n",
    "dam_lev_n['dist'] = dam_lev_n.apply(lambda row: row['dist'] * max(len(row['lhs_name']), len(row['rhs_name'])), axis=1)"
   ]
  },
  {
   "cell_type": "markdown",
   "metadata": {},
   "source": [
    "Create indicator column, that shows if the match was correct"
   ]
  },
  {
   "cell_type": "code",
   "execution_count": null,
   "metadata": {
    "pycharm": {
     "name": "#%%\n"
    }
   },
   "outputs": [],
   "source": [
    "dam_lev_n['match'] = dam_lev_n.apply(lambda row: row['lhs_label'] == row['rhs_label'],axis=1)"
   ]
  },
  {
   "cell_type": "markdown",
   "metadata": {},
   "source": [
    "Create visual insights"
   ]
  },
  {
   "cell_type": "code",
   "execution_count": null,
   "metadata": {
    "pycharm": {
     "name": "#%%\n"
    }
   },
   "outputs": [],
   "source": [
    "fig = go.Figure()\n",
    "fig.add_trace(go.Box(x=list(dam_lev_n[dam_lev_n['match']]['dist']), y=list(dam_lev_n[dam_lev_n['match']]['normalized_dist']), name='True match', boxpoints='all'))\n",
    "fig.add_trace(go.Box(x=list(dam_lev_n[~dam_lev_n['match']]['dist']), y=list(dam_lev_n[~dam_lev_n['match']]['normalized_dist']), name='False match', boxpoints='all'))\n",
    "fig.update_layout(\n",
    "    autosize=False,\n",
    "    width=800,\n",
    "    height=500,\n",
    "    margin=dict(\n",
    "        l=50,\n",
    "        r=50,\n",
    "        b=50,\n",
    "        t=50,\n",
    "        pad=4\n",
    "    ),\n",
    "    colorway=px.colors.qualitative.Safe,\n",
    "    paper_bgcolor=\"White\",\n",
    "    #title=\"Levenshtein Distance\",\n",
    "    xaxis_title=\"Edit distance\",\n",
    "    yaxis_title=\"Normalized edit distance\",\n",
    ")"
   ]
  },
  {
   "cell_type": "code",
   "execution_count": null,
   "metadata": {
    "pycharm": {
     "name": "#%%\n"
    }
   },
   "outputs": [],
   "source": [
    "fig.write_image(\"images/dam_lev_n_distr.png\")"
   ]
  },
  {
   "cell_type": "code",
   "execution_count": null,
   "metadata": {
    "pycharm": {
     "name": "#%%\n"
    }
   },
   "outputs": [],
   "source": [
    "fig = go.Figure()\n",
    "fig.add_trace(go.Histogram(x=list(dam_lev_n[dam_lev_n['match']]['dist']), name='True match'))\n",
    "fig.add_trace(go.Histogram(x=list(dam_lev_n[~dam_lev_n['match']]['dist']), name='False match'))\n",
    "fig.update_layout(\n",
    "    autosize=False,\n",
    "    width=800,\n",
    "    height=500,\n",
    "    margin=dict(\n",
    "        l=50,\n",
    "        r=50,\n",
    "        b=50,\n",
    "        t=50,\n",
    "        pad=4\n",
    "    ),\n",
    "    colorway=px.colors.qualitative.Safe,\n",
    "    paper_bgcolor=\"White\",\n",
    "    xaxis_title=\"Edit distance\",\n",
    "    yaxis_title=\"Aggregate\",\n",
    ")\n"
   ]
  },
  {
   "cell_type": "code",
   "execution_count": null,
   "metadata": {
    "pycharm": {
     "name": "#%%\n"
    }
   },
   "outputs": [],
   "source": [
    "fig.write_image(\"images/dam_lev_n_dist_distr.png\")"
   ]
  },
  {
   "cell_type": "code",
   "execution_count": null,
   "metadata": {
    "pycharm": {
     "name": "#%%\n"
    }
   },
   "outputs": [],
   "source": [
    "fig = go.Figure()\n",
    "fig.add_trace(go.Histogram(x=list(dam_lev_n['match'])))\n",
    "fig.update_layout(\n",
    "    autosize=False,\n",
    "    width=800,\n",
    "    height=500,\n",
    "    margin=dict(\n",
    "        l=50,\n",
    "        r=50,\n",
    "        b=50,\n",
    "        t=100,\n",
    "        pad=4\n",
    "    ),\n",
    "    colorway=px.colors.qualitative.Safe,\n",
    "    paper_bgcolor=\"White\",\n",
    "    # title=\"Matching distribution\",\n",
    "    xaxis_title=\"Name match\",\n",
    "    yaxis_title=\"Aggregate\",\n",
    ")"
   ]
  },
  {
   "cell_type": "code",
   "execution_count": null,
   "metadata": {
    "pycharm": {
     "name": "#%%\n"
    }
   },
   "outputs": [],
   "source": [
    "fig.write_image(\"images/dam_lev_n_match_distr.png\")"
   ]
  },
  {
   "cell_type": "markdown",
   "metadata": {},
   "source": [
    "Calculate missmatches"
   ]
  },
  {
   "cell_type": "code",
   "execution_count": null,
   "metadata": {
    "pycharm": {
     "name": "#%%\n"
    }
   },
   "outputs": [],
   "source": [
    "mismatched = 1 - (dam_lev_n[dam_lev_n['match']].shape[0]/len(LHS))"
   ]
  },
  {
   "cell_type": "code",
   "execution_count": null,
   "metadata": {
    "pycharm": {
     "name": "#%%\n"
    }
   },
   "outputs": [],
   "source": [
    "print(f'Percentage of mismatched names: {mismatched * 100:.2f}%, ({dam_lev_n[~dam_lev_n[\"match\"]].shape[0]})')"
   ]
  },
  {
   "cell_type": "markdown",
   "metadata": {
    "pycharm": {
     "name": "#%% md\n"
    }
   },
   "source": [
    "### Jaro-Winkler similarity<a class=\"anchor\" id=\"5\"></a>"
   ]
  },
  {
   "cell_type": "markdown",
   "metadata": {},
   "source": [
    "[Back to the Table of Contents](#zero-bullet) --- [Previous](#4) --- [Next](#6)"
   ]
  },
  {
   "cell_type": "code",
   "execution_count": null,
   "metadata": {
    "pycharm": {
     "name": "#%%\n"
    }
   },
   "outputs": [],
   "source": [
    "def jws(s1, s2):\n",
    "    return 1 - jellyfish.jaro_winkler_similarity(s1, s2)"
   ]
  },
  {
   "cell_type": "markdown",
   "metadata": {},
   "source": [
    "Create regular distances for the found matches"
   ]
  },
  {
   "cell_type": "code",
   "execution_count": null,
   "metadata": {
    "pycharm": {
     "name": "#%%\n"
    }
   },
   "outputs": [],
   "source": [
    "jw = find_candidates(LHS=LHS, RHS=RHS, metric=jws)"
   ]
  },
  {
   "cell_type": "markdown",
   "metadata": {},
   "source": [
    "Create indicator column, that shows if the match was correct"
   ]
  },
  {
   "cell_type": "code",
   "execution_count": null,
   "metadata": {
    "pycharm": {
     "name": "#%%\n"
    }
   },
   "outputs": [],
   "source": [
    "Create indicator column, that shows if the match was correctjw['match'] = jw.apply(lambda row: row['lhs_label'] == row['rhs_label'],axis=1)"
   ]
  },
  {
   "cell_type": "markdown",
   "metadata": {},
   "source": [
    "Create visual insights"
   ]
  },
  {
   "cell_type": "code",
   "execution_count": null,
   "metadata": {
    "pycharm": {
     "name": "#%%\n"
    }
   },
   "outputs": [],
   "source": [
    "Create visual insightsfig = go.Figure()\n",
    "fig.add_trace(go.Histogram(x=list(jw[jw['match']]['dist']), name='True match'))\n",
    "fig.add_trace(go.Histogram(x=list(jw[~jw['match']]['dist']), name='False match'))\n",
    "fig.update_layout(\n",
    "    autosize=False,\n",
    "    width=800,\n",
    "    height=500,\n",
    "    margin=dict(\n",
    "        l=50,\n",
    "        r=50,\n",
    "        b=50,\n",
    "        t=50,\n",
    "        pad=4\n",
    "    ),\n",
    "    colorway=px.colors.qualitative.Safe,\n",
    "    paper_bgcolor=\"White\",\n",
    "    xaxis_title=\"Edit distance\",\n",
    "    yaxis_title=\"Aggregate\",\n",
    ")\n"
   ]
  },
  {
   "cell_type": "code",
   "execution_count": null,
   "metadata": {
    "pycharm": {
     "name": "#%%\n"
    }
   },
   "outputs": [],
   "source": [
    "fig.write_image(\"images/jw_dist_distr.png\")"
   ]
  },
  {
   "cell_type": "code",
   "execution_count": null,
   "metadata": {
    "pycharm": {
     "name": "#%%\n"
    }
   },
   "outputs": [],
   "source": [
    "fig = go.Figure()\n",
    "fig.add_trace(go.Histogram(x=list(jw['match'])))\n",
    "fig.update_layout(\n",
    "    autosize=False,\n",
    "    width=800,\n",
    "    height=500,\n",
    "    margin=dict(\n",
    "        l=50,\n",
    "        r=50,\n",
    "        b=50,\n",
    "        t=100,\n",
    "        pad=4\n",
    "    ),\n",
    "    colorway=px.colors.qualitative.Safe,\n",
    "    paper_bgcolor=\"White\",\n",
    "    # title=\"Matching distribution\",\n",
    "    xaxis_title=\"Name match\",\n",
    "    yaxis_title=\"Aggregate\",\n",
    ")"
   ]
  },
  {
   "cell_type": "code",
   "execution_count": null,
   "metadata": {
    "pycharm": {
     "name": "#%%\n"
    }
   },
   "outputs": [],
   "source": [
    "fig.write_image(\"images/jw_match_distr.png\")"
   ]
  },
  {
   "cell_type": "markdown",
   "metadata": {},
   "source": [
    "Calculate missmatches"
   ]
  },
  {
   "cell_type": "code",
   "execution_count": null,
   "metadata": {
    "pycharm": {
     "name": "#%%\n"
    }
   },
   "outputs": [],
   "source": [
    "mismatched = 1 - (jw[jw['match']].shape[0]/jw.shape[0])"
   ]
  },
  {
   "cell_type": "code",
   "execution_count": null,
   "metadata": {
    "pycharm": {
     "name": "#%%\n"
    }
   },
   "outputs": [],
   "source": [
    "print(f'Percentage of mismatched names: {mismatched * 100:.2f}%, ({jw[~jw[\"match\"]].shape[0]})')"
   ]
  },
  {
   "cell_type": "markdown",
   "metadata": {
    "pycharm": {
     "name": "#%% md\n"
    }
   },
   "source": [
    "### Hamming distance<a class=\"anchor\" id=\"6\"></a>"
   ]
  },
  {
   "cell_type": "markdown",
   "metadata": {},
   "source": [
    "[Back to the Table of Contents](#zero-bullet) --- [Previous](#5) --- [Next](#7)"
   ]
  },
  {
   "cell_type": "code",
   "execution_count": null,
   "metadata": {
    "pycharm": {
     "name": "#%%\n"
    }
   },
   "outputs": [],
   "source": [
    "ham = find_candidates(LHS=LHS, RHS=RHS, metric=jellyfish.hamming_distance)"
   ]
  },
  {
   "cell_type": "markdown",
   "metadata": {},
   "source": [
    "Create normalized distances for the found matches"
   ]
  },
  {
   "cell_type": "code",
   "execution_count": null,
   "metadata": {
    "pycharm": {
     "name": "#%%\n"
    }
   },
   "outputs": [],
   "source": [
    "ham['normalized_dist'] = ham.apply(lambda row: 1 - (row['dist']/max((len(row['lhs_name']), (len(row['rhs_name']))))), axis=1)"
   ]
  },
  {
   "cell_type": "code",
   "execution_count": null,
   "metadata": {
    "pycharm": {
     "name": "#%%\n"
    }
   },
   "outputs": [],
   "source": [
    "ham['match'] = ham.apply(lambda row: row['lhs_label'] == row['rhs_label'],axis=1)"
   ]
  },
  {
   "cell_type": "code",
   "execution_count": null,
   "metadata": {
    "pycharm": {
     "name": "#%%\n"
    }
   },
   "outputs": [],
   "source": [
    "fig = go.Figure()\n",
    "fig.add_trace(go.Box(x=list(ham[ham['match']]['dist']), y=list(ham[ham['match']]['normalized_dist']), name='True match', boxpoints='all'))\n",
    "fig.add_trace(go.Box(x=list(ham[~ham['match']]['dist']), y=list(ham[~ham['match']]['normalized_dist']), name='False match', boxpoints='all'))\n",
    "fig.update_layout(\n",
    "    autosize=False,\n",
    "    width=800,\n",
    "    height=500,\n",
    "    margin=dict(\n",
    "        l=50,\n",
    "        r=50,\n",
    "        b=50,\n",
    "        t=50,\n",
    "        pad=4\n",
    "    ),\n",
    "    colorway=px.colors.qualitative.Safe,\n",
    "    paper_bgcolor=\"White\",\n",
    "    #title=\"Levenshtein Distance\",\n",
    "    xaxis_title=\"Edit distance\",\n",
    "    yaxis_title=\"Normalized edit distance\",\n",
    ")"
   ]
  },
  {
   "cell_type": "code",
   "execution_count": null,
   "metadata": {
    "pycharm": {
     "name": "#%%\n"
    }
   },
   "outputs": [],
   "source": [
    "fig.write_image(\"images/ham_distr.png\")"
   ]
  },
  {
   "cell_type": "code",
   "execution_count": null,
   "metadata": {
    "pycharm": {
     "name": "#%%\n"
    }
   },
   "outputs": [],
   "source": [
    "fig = go.Figure()\n",
    "fig.add_trace(go.Histogram(x=list(ham[ham['match']]['dist']), name='True match'))\n",
    "fig.add_trace(go.Histogram(x=list(ham[~ham['match']]['dist']), name='False match'))\n",
    "fig.update_layout(\n",
    "    autosize=False,\n",
    "    width=800,\n",
    "    height=500,\n",
    "    margin=dict(\n",
    "        l=50,\n",
    "        r=50,\n",
    "        b=50,\n",
    "        t=50,\n",
    "        pad=4\n",
    "    ),\n",
    "    colorway=px.colors.qualitative.Safe,\n",
    "    paper_bgcolor=\"White\",\n",
    "    xaxis_title=\"Edit distance\",\n",
    "    yaxis_title=\"Aggregate\",\n",
    ")\n"
   ]
  },
  {
   "cell_type": "code",
   "execution_count": null,
   "metadata": {
    "pycharm": {
     "name": "#%%\n"
    }
   },
   "outputs": [],
   "source": [
    "fig.write_image(\"images/ham_dist_distr.png\")"
   ]
  },
  {
   "cell_type": "code",
   "execution_count": null,
   "metadata": {
    "pycharm": {
     "name": "#%%\n"
    }
   },
   "outputs": [],
   "source": [
    "fig = go.Figure()\n",
    "fig.add_trace(go.Histogram(x=list(ham['match'])))\n",
    "fig.update_layout(\n",
    "    autosize=False,\n",
    "    width=800,\n",
    "    height=500,\n",
    "    margin=dict(\n",
    "        l=50,\n",
    "        r=50,\n",
    "        b=50,\n",
    "        t=100,\n",
    "        pad=4\n",
    "    ),\n",
    "    colorway=px.colors.qualitative.Safe,\n",
    "    paper_bgcolor=\"White\",\n",
    "    # title=\"Matching distribution\",\n",
    "    xaxis_title=\"Name match\",\n",
    "    yaxis_title=\"Aggregate\",\n",
    ")"
   ]
  },
  {
   "cell_type": "code",
   "execution_count": null,
   "metadata": {
    "pycharm": {
     "name": "#%%\n"
    }
   },
   "outputs": [],
   "source": [
    "fig.write_image(\"images/ham_match_distr.png\")"
   ]
  },
  {
   "cell_type": "code",
   "execution_count": null,
   "metadata": {
    "pycharm": {
     "name": "#%%\n"
    }
   },
   "outputs": [],
   "source": [
    "mismatched = 1 - (ham[ham['match']].shape[0]/len(LHS))"
   ]
  },
  {
   "cell_type": "code",
   "execution_count": null,
   "metadata": {
    "pycharm": {
     "name": "#%%\n"
    }
   },
   "outputs": [],
   "source": [
    "print(f'Percentage of mismatched names: {mismatched * 100:.2f}%, ({ham[~ham[\"match\"]].shape[0]})')"
   ]
  },
  {
   "cell_type": "markdown",
   "metadata": {},
   "source": [
    "### Normalized Hamming Distance<a class=\"anchor\" id=\"7\"></a>"
   ]
  },
  {
   "cell_type": "markdown",
   "metadata": {},
   "source": [
    "[Back to the Table of Contents](#zero-bullet) --- [Previous](#6) --- [Next](#8)"
   ]
  },
  {
   "cell_type": "code",
   "execution_count": null,
   "metadata": {
    "pycharm": {
     "name": "#%%\n"
    }
   },
   "outputs": [],
   "source": [
    "[Back to the Table of Contents](#zero-bullet)def normalized_hamming(s1: str, s2: str):\n",
    "    dist = jellyfish.hamming_distance(s1, s2)\n",
    "    return dist/max(len(s1), len(s2))"
   ]
  },
  {
   "cell_type": "code",
   "execution_count": null,
   "metadata": {
    "pycharm": {
     "name": "#%%\n"
    }
   },
   "outputs": [],
   "source": [
    "ham_n = find_candidates(LHS=LHS, RHS=RHS, metric=normalized_hamming)"
   ]
  },
  {
   "cell_type": "code",
   "execution_count": null,
   "metadata": {
    "pycharm": {
     "name": "#%%\n"
    }
   },
   "outputs": [],
   "source": [
    "ham_n['normalized_dist'] = ham_n.apply(lambda row: 1 - row['dist'], axis=1)\n",
    "ham_n['dist'] = ham_n.apply(lambda row: row['dist'] * max(len(row['lhs_name']), len(row['rhs_name'])), axis=1)"
   ]
  },
  {
   "cell_type": "code",
   "execution_count": null,
   "metadata": {
    "pycharm": {
     "name": "#%%\n"
    }
   },
   "outputs": [],
   "source": [
    "ham_n['match'] = ham_n.apply(lambda row: row['lhs_label'] == row['rhs_label'],axis=1)"
   ]
  },
  {
   "cell_type": "code",
   "execution_count": null,
   "metadata": {
    "pycharm": {
     "name": "#%%\n"
    }
   },
   "outputs": [],
   "source": [
    "fig = go.Figure()\n",
    "fig.add_trace(go.Box(x=list(ham_n[ham_n['match']]['dist']), y=list(ham_n[ham_n['match']]['normalized_dist']), name='True match', boxpoints='all'))\n",
    "fig.add_trace(go.Box(x=list(ham_n[~ham_n['match']]['dist']), y=list(ham_n[~ham_n['match']]['normalized_dist']), name='False match', boxpoints='all'))\n",
    "fig.update_layout(\n",
    "    autosize=False,\n",
    "    width=800,\n",
    "    height=500,\n",
    "    margin=dict(\n",
    "        l=50,\n",
    "        r=50,\n",
    "        b=50,\n",
    "        t=50,\n",
    "        pad=4\n",
    "    ),\n",
    "    colorway=px.colors.qualitative.Safe,\n",
    "    paper_bgcolor=\"White\",\n",
    "    #title=\"Levenshtein Distance\",\n",
    "    xaxis_title=\"Edit distance\",\n",
    "    yaxis_title=\"Normalized edit distance\",\n",
    ")"
   ]
  },
  {
   "cell_type": "code",
   "execution_count": null,
   "metadata": {
    "pycharm": {
     "name": "#%%\n"
    }
   },
   "outputs": [],
   "source": [
    "fig.write_image(\"images/ham_n_distr.png\")"
   ]
  },
  {
   "cell_type": "code",
   "execution_count": null,
   "metadata": {
    "pycharm": {
     "name": "#%%\n"
    }
   },
   "outputs": [],
   "source": [
    "fig = go.Figure()\n",
    "fig.add_trace(go.Histogram(x=list(ham_n[ham_n['match']]['dist']), name='True match'))\n",
    "fig.add_trace(go.Histogram(x=list(ham_n[~ham_n['match']]['dist']), name='False match'))\n",
    "fig.update_layout(\n",
    "    autosize=False,\n",
    "    width=800,\n",
    "    height=500,\n",
    "    margin=dict(\n",
    "        l=50,\n",
    "        r=50,\n",
    "        b=50,\n",
    "        t=50,\n",
    "        pad=4\n",
    "    ),\n",
    "    colorway=px.colors.qualitative.Safe,\n",
    "    paper_bgcolor=\"White\",\n",
    "    xaxis_title=\"Edit distance\",\n",
    "    yaxis_title=\"Aggregate\",\n",
    ")\n"
   ]
  },
  {
   "cell_type": "code",
   "execution_count": null,
   "metadata": {
    "pycharm": {
     "name": "#%%\n"
    }
   },
   "outputs": [],
   "source": [
    "fig.write_image(\"images/ham_n_dist_distr.png\")"
   ]
  },
  {
   "cell_type": "code",
   "execution_count": null,
   "metadata": {
    "pycharm": {
     "name": "#%%\n"
    }
   },
   "outputs": [],
   "source": [
    "fig = go.Figure()\n",
    "fig.add_trace(go.Histogram(x=list(ham_n['match'])))\n",
    "fig.update_layout(\n",
    "    autosize=False,\n",
    "    width=800,\n",
    "    height=500,\n",
    "    margin=dict(\n",
    "        l=50,\n",
    "        r=50,\n",
    "        b=50,\n",
    "        t=100,\n",
    "        pad=4\n",
    "    ),\n",
    "    colorway=px.colors.qualitative.Safe,\n",
    "    paper_bgcolor=\"White\",\n",
    "    # title=\"Matching distribution\",\n",
    "    xaxis_title=\"Name match\",\n",
    "    yaxis_title=\"Aggregate\",\n",
    ")"
   ]
  },
  {
   "cell_type": "code",
   "execution_count": null,
   "metadata": {
    "pycharm": {
     "name": "#%%\n"
    }
   },
   "outputs": [],
   "source": [
    "fig.write_image(\"images/ham_n_match_distr.png\")"
   ]
  },
  {
   "cell_type": "code",
   "execution_count": null,
   "metadata": {
    "pycharm": {
     "name": "#%%\n"
    }
   },
   "outputs": [],
   "source": [
    "mismatched = 1 - (ham_n[ham_n['match']].shape[0]/len(LHS))"
   ]
  },
  {
   "cell_type": "code",
   "execution_count": null,
   "metadata": {
    "pycharm": {
     "name": "#%%\n"
    }
   },
   "outputs": [],
   "source": [
    "print(f'Percentage of mismatched names: {mismatched * 100:.2f}%, ({ham_n[~ham_n[\"match\"]].shape[0]})')"
   ]
  },
  {
   "cell_type": "markdown",
   "metadata": {
    "pycharm": {
     "name": "#%% md\n"
    }
   },
   "source": [
    "### Jaccard similarity<a class=\"anchor\" id=\"8\"></a>"
   ]
  },
  {
   "cell_type": "markdown",
   "metadata": {},
   "source": [
    "[Back to the Table of Contents](#zero-bullet) --- [Previous](#7) --- [Next](#9)"
   ]
  },
  {
   "cell_type": "code",
   "execution_count": null,
   "metadata": {
    "pycharm": {
     "name": "#%%\n"
    }
   },
   "outputs": [],
   "source": [
    "[Back to the Table of Contents](#zero-bullet)def jsm(s1, s2):\n",
    "    if len(s2) > len(s1):\n",
    "        set2 = set(s1)\n",
    "        set1 = set(s2)\n",
    "    else:\n",
    "        set1 = set(s1)\n",
    "        set2 = set(s2)\n",
    "    return 1 - len(set1.intersection(set2))/len(set1.union(set2))"
   ]
  },
  {
   "cell_type": "code",
   "execution_count": null,
   "metadata": {
    "pycharm": {
     "name": "#%%\n"
    }
   },
   "outputs": [],
   "source": [
    "jac = find_candidates(LHS=LHS, RHS=RHS, metric=jsm)"
   ]
  },
  {
   "cell_type": "code",
   "execution_count": null,
   "metadata": {
    "pycharm": {
     "name": "#%%\n"
    }
   },
   "outputs": [],
   "source": [
    "jac['normalized_dist'] = jac.apply(lambda row: 1 - (row['dist']/max((len(row['lhs_name']), (len(row['rhs_name']))))), axis=1)"
   ]
  },
  {
   "cell_type": "code",
   "execution_count": null,
   "metadata": {},
   "outputs": [],
   "source": [
    "jac['match'] = jac.apply(lambda row: row['lhs_label'] == row['rhs_label'],axis=1)"
   ]
  },
  {
   "cell_type": "code",
   "execution_count": null,
   "metadata": {
    "pycharm": {
     "name": "#%%\n"
    },
    "scrolled": false
   },
   "outputs": [],
   "source": [
    "fig = go.Figure()\n",
    "fig.add_trace(go.Scatter(x=list(jac[jac['match']]['dist']), y=list(jac[jac['match']]['normalized_dist']), name='True match', mode=\"markers\"))\n",
    "fig.add_trace(go.Scatter(x=list(jac[~jac['match']]['dist']), y=list(jac[~jac['match']]['normalized_dist']), name='False match', mode=\"markers\"))\n",
    "fig.update_layout(\n",
    "    autosize=False,\n",
    "    width=800,\n",
    "    height=500,\n",
    "    margin=dict(\n",
    "        l=50,\n",
    "        r=50,\n",
    "        b=50,\n",
    "        t=50,\n",
    "        pad=4\n",
    "    ),\n",
    "    colorway=px.colors.qualitative.Safe,\n",
    "    paper_bgcolor=\"White\",\n",
    "    #title=\"Levenshtein Distance\",\n",
    "    xaxis_title=\"Edit distance\",\n",
    "    yaxis_title=\"Normalized edit distance\",\n",
    ")"
   ]
  },
  {
   "cell_type": "code",
   "execution_count": null,
   "metadata": {},
   "outputs": [],
   "source": [
    "fig.write_image(\"images/jac_distr.png\")"
   ]
  },
  {
   "cell_type": "code",
   "execution_count": null,
   "metadata": {
    "pycharm": {
     "name": "#%%\n"
    }
   },
   "outputs": [],
   "source": [
    "fig = go.Figure()\n",
    "fig.add_trace(go.Histogram(x=list(jac[jac['match']]['dist']), name='True match', nbinsx=6))\n",
    "fig.add_trace(go.Histogram(x=list(jac[~jac['match']]['dist']), name='False match', nbinsx=6))\n",
    "fig.update_layout(\n",
    "    autosize=False,\n",
    "    width=800,\n",
    "    height=500,\n",
    "    margin=dict(\n",
    "        l=50,\n",
    "        r=50,\n",
    "        b=50,\n",
    "        t=50,\n",
    "        pad=4\n",
    "    ),\n",
    "    colorway=px.colors.qualitative.Safe,\n",
    "    paper_bgcolor=\"White\",\n",
    "    xaxis_title=\"Edit distance\",\n",
    "    yaxis_title=\"Aggregate\",\n",
    ")"
   ]
  },
  {
   "cell_type": "code",
   "execution_count": null,
   "metadata": {},
   "outputs": [],
   "source": [
    "fig.write_image(\"jac_dist_distr.png\")"
   ]
  },
  {
   "cell_type": "code",
   "execution_count": null,
   "metadata": {},
   "outputs": [],
   "source": [
    "fig = go.Figure()\n",
    "fig.add_trace(go.Histogram(x=list(jac['match'])))\n",
    "fig.update_layout(\n",
    "    autosize=False,\n",
    "    width=800,\n",
    "    height=500,\n",
    "    margin=dict(\n",
    "        l=50,\n",
    "        r=50,\n",
    "        b=50,\n",
    "        t=100,\n",
    "        pad=4\n",
    "    ),\n",
    "    colorway=px.colors.qualitative.Safe,\n",
    "    paper_bgcolor=\"White\",\n",
    "    # title=\"Matching distribution\",\n",
    "    xaxis_title=\"Name match\",\n",
    "    yaxis_title=\"Aggregate\",\n",
    ")"
   ]
  },
  {
   "cell_type": "code",
   "execution_count": null,
   "metadata": {
    "pycharm": {
     "name": "#%%\n"
    }
   },
   "outputs": [],
   "source": [
    "fig.write_image(\"images/jac_match_distr.png\")"
   ]
  },
  {
   "cell_type": "code",
   "execution_count": null,
   "metadata": {
    "pycharm": {
     "name": "#%%\n"
    }
   },
   "outputs": [],
   "source": [
    "fig.write_image(\"images/jac_match_distr.png\")"
   ]
  },
  {
   "cell_type": "code",
   "execution_count": null,
   "metadata": {
    "pycharm": {
     "name": "#%%\n"
    }
   },
   "outputs": [],
   "source": [
    "mismatched = 1 - (jac[jac['match']].shape[0]/len(LHS))"
   ]
  },
  {
   "cell_type": "code",
   "execution_count": null,
   "metadata": {
    "pycharm": {
     "name": "#%%\n"
    }
   },
   "outputs": [],
   "source": [
    "print(f'Percentage of mismatched names: {mismatched * 100:.2f}%, ({jac[~jac[\"match\"]].shape[0]})')"
   ]
  },
  {
   "cell_type": "markdown",
   "metadata": {},
   "source": [
    "### Modified Jaccard similarity<a class=\"anchor\" id=\"9\"></a>"
   ]
  },
  {
   "cell_type": "markdown",
   "metadata": {},
   "source": [
    "[Back to the Table of Contents](#zero-bullet) --- [Previous](#8) --- [Next](#10)"
   ]
  },
  {
   "cell_type": "code",
   "execution_count": null,
   "metadata": {
    "pycharm": {
     "name": "#%%\n"
    }
   },
   "outputs": [],
   "source": [
    "from collections import Counter"
   ]
  },
  {
   "cell_type": "code",
   "execution_count": null,
   "metadata": {
    "pycharm": {
     "name": "#%%\n"
    }
   },
   "outputs": [],
   "source": [
    "def jsm_m(s1, s2):\n",
    "    if len(s2) > len(s1):\n",
    "        set2 = Counter(s1)\n",
    "        set1 = Counter(s2)\n",
    "    else:\n",
    "        set1 = Counter(s1)\n",
    "        set2 = Counter(s2)\n",
    "    union = sum(set1.values()) + sum(set2.values())\n",
    "    set1.subtract(set2)\n",
    "\n",
    "    # Drop elements with negative values\n",
    "    #set1 = Counter({k: v for k, v in set1.items() if v >= 0})\n",
    "    set1 = Counter({k: abs(v) for k, v in set1.items()})\n",
    "    return sum(set1.values())/union"
   ]
  },
  {
   "cell_type": "code",
   "execution_count": null,
   "metadata": {
    "pycharm": {
     "name": "#%%\n"
    }
   },
   "outputs": [],
   "source": [
    "jac_n = find_candidates(LHS=LHS, RHS=RHS, metric=jsm_m)"
   ]
  },
  {
   "cell_type": "code",
   "execution_count": null,
   "metadata": {
    "pycharm": {
     "name": "#%%\n"
    }
   },
   "outputs": [],
   "source": [
    "jac_n['normalized_dist'] = jac_n.apply(lambda row: 1 - (row['dist']/max((len(row['lhs_name']), (len(row['rhs_name']))))), axis=1)"
   ]
  },
  {
   "cell_type": "code",
   "execution_count": null,
   "metadata": {
    "pycharm": {
     "name": "#%%\n"
    }
   },
   "outputs": [],
   "source": [
    "jac_n['match'] = jac_n.apply(lambda row: row['lhs_label'] == row['rhs_label'],axis=1)"
   ]
  },
  {
   "cell_type": "code",
   "execution_count": null,
   "metadata": {
    "pycharm": {
     "name": "#%%\n"
    }
   },
   "outputs": [],
   "source": [
    "fig = go.Figure()\n",
    "fig.add_trace(go.Scatter(x=list(jac_n[jac_n['match']]['dist']), y=list(jac_n[jac_n['match']]['normalized_dist']), name='True match', mode=\"markers\"))\n",
    "fig.add_trace(go.Scatter(x=list(jac_n[~jac_n['match']]['dist']), y=list(jac_n[~jac_n['match']]['normalized_dist']), name='False match', mode=\"markers\"))\n",
    "fig.update_layout(\n",
    "    autosize=False,\n",
    "    width=800,\n",
    "    height=500,\n",
    "    margin=dict(\n",
    "        l=50,\n",
    "        r=50,\n",
    "        b=50,\n",
    "        t=50,\n",
    "        pad=4\n",
    "    ),\n",
    "    colorway=px.colors.qualitative.Safe,\n",
    "    paper_bgcolor=\"White\",\n",
    "    #title=\"Levenshtein Distance\",\n",
    "    xaxis_title=\"Edit distance\",\n",
    "    yaxis_title=\"Normalized edit distance\",\n",
    ")"
   ]
  },
  {
   "cell_type": "code",
   "execution_count": null,
   "metadata": {
    "pycharm": {
     "name": "#%%\n"
    }
   },
   "outputs": [],
   "source": [
    "fig.write_image(\"images/jac_distr.png\")"
   ]
  },
  {
   "cell_type": "code",
   "execution_count": null,
   "metadata": {
    "pycharm": {
     "name": "#%%\n"
    }
   },
   "outputs": [],
   "source": [
    "fig = go.Figure()\n",
    "fig.add_trace(go.Histogram(x=list(jac_n[jac_n['match']]['dist']), name='True match', nbinsx=6))\n",
    "fig.add_trace(go.Histogram(x=list(jac_n[~jac_n['match']]['dist']), name='False match', nbinsx=6))\n",
    "fig.update_layout(\n",
    "    autosize=False,\n",
    "    width=800,\n",
    "    height=500,\n",
    "    margin=dict(\n",
    "        l=50,\n",
    "        r=50,\n",
    "        b=50,\n",
    "        t=50,\n",
    "        pad=4\n",
    "    ),\n",
    "    colorway=px.colors.qualitative.Safe,\n",
    "    paper_bgcolor=\"White\",\n",
    "    xaxis_title=\"Edit distance\",\n",
    "    yaxis_title=\"Aggregate\",\n",
    ")\n"
   ]
  },
  {
   "cell_type": "code",
   "execution_count": null,
   "metadata": {
    "pycharm": {
     "name": "#%%\n"
    }
   },
   "outputs": [],
   "source": [
    "fig.write_image(\"images/jac_dist_distr.png\")"
   ]
  },
  {
   "cell_type": "code",
   "execution_count": null,
   "metadata": {
    "pycharm": {
     "name": "#%%\n"
    }
   },
   "outputs": [],
   "source": [
    "fig = go.Figure()\n",
    "fig.add_trace(go.Histogram(x=list(jac_n['match'])))\n",
    "fig.update_layout(\n",
    "    autosize=False,\n",
    "    width=800,\n",
    "    height=500,\n",
    "    margin=dict(\n",
    "        l=50,\n",
    "        r=50,\n",
    "        b=50,\n",
    "        t=100,\n",
    "        pad=4\n",
    "    ),\n",
    "    colorway=px.colors.qualitative.Safe,\n",
    "    paper_bgcolor=\"White\",\n",
    "    # title=\"Matching distribution\",\n",
    "    xaxis_title=\"Name match\",\n",
    "    yaxis_title=\"Aggregate\",\n",
    ")"
   ]
  },
  {
   "cell_type": "code",
   "execution_count": null,
   "metadata": {
    "pycharm": {
     "name": "#%%\n"
    }
   },
   "outputs": [],
   "source": [
    "fig.write_image(\"images/jac_match_distr.png\")"
   ]
  },
  {
   "cell_type": "code",
   "execution_count": null,
   "metadata": {
    "pycharm": {
     "name": "#%%\n"
    }
   },
   "outputs": [],
   "source": [
    "mismatched = 1 - (jac_n[jac_n['match']].shape[0]/len(LHS))"
   ]
  },
  {
   "cell_type": "code",
   "execution_count": null,
   "metadata": {
    "pycharm": {
     "name": "#%%\n"
    }
   },
   "outputs": [],
   "source": [
    "print(f'Percentage of mismatched names: {mismatched * 100:.2f}%, ({jac_n[~jac_n[\"match\"]].shape[0]})')"
   ]
  },
  {
   "cell_type": "markdown",
   "metadata": {
    "pycharm": {
     "name": "#%% md\n"
    }
   },
   "source": [
    "### NYSIIS<a class=\"anchor\" id=\"10\"></a>"
   ]
  },
  {
   "cell_type": "markdown",
   "metadata": {},
   "source": [
    "[Back to the Table of Contents](#zero-bullet) --- [Previous](#9) --- [Next](#11)"
   ]
  },
  {
   "cell_type": "code",
   "execution_count": null,
   "metadata": {
    "pycharm": {
     "name": "#%%\n"
    }
   },
   "outputs": [],
   "source": [
    "LHS_nysiis = {i: (jellyfish.nysiis(name), int(label)) for i, (name, label) in enumerate(LHS.items())}\n",
    "RHS_nysiis = {i: (jellyfish.nysiis(name), int(label)) for i, (name, label) in enumerate(RHS.items())}"
   ]
  },
  {
   "cell_type": "code",
   "execution_count": null,
   "metadata": {
    "pycharm": {
     "name": "#%%\n"
    }
   },
   "outputs": [],
   "source": [
    "LHS_nysiis = pd.DataFrame.from_dict(LHS_nysiis, columns=['lhs_name', 'lhs_label'], orient='index')\n",
    "RHS_nysiis = pd.DataFrame.from_dict(RHS_nysiis, columns=['rhs_name', 'rhs_label'], orient='index')"
   ]
  },
  {
   "cell_type": "code",
   "execution_count": null,
   "metadata": {
    "pycharm": {
     "name": "#%%\n"
    }
   },
   "outputs": [],
   "source": [
    "nysiis = LHS_nysiis.merge(RHS_nysiis, left_on='lhs_name', right_on='rhs_name', how='inner')"
   ]
  },
  {
   "cell_type": "code",
   "execution_count": null,
   "metadata": {
    "pycharm": {
     "name": "#%%\n"
    }
   },
   "outputs": [],
   "source": [
    "nysiis['match'] = nysiis['lhs_label'] == nysiis['rhs_label']"
   ]
  },
  {
   "cell_type": "code",
   "execution_count": null,
   "metadata": {
    "pycharm": {
     "name": "#%%\n"
    }
   },
   "outputs": [],
   "source": [
    "fig = go.Figure()\n",
    "fig.add_trace(go.Histogram(x=list(nysiis['match'])))\n",
    "fig.update_layout(\n",
    "    autosize=False,\n",
    "    width=800,\n",
    "    height=500,\n",
    "    margin=dict(\n",
    "        l=50,\n",
    "        r=50,\n",
    "        b=50,\n",
    "        t=100,\n",
    "        pad=4\n",
    "    ),\n",
    "    colorway=px.colors.qualitative.Safe,\n",
    "    paper_bgcolor=\"White\",\n",
    "    # title=\"Matching distribution\",\n",
    "    xaxis_title=\"Name match\",\n",
    "    yaxis_title=\"Aggregate\",\n",
    ")"
   ]
  },
  {
   "cell_type": "code",
   "execution_count": null,
   "metadata": {
    "pycharm": {
     "name": "#%%\n"
    }
   },
   "outputs": [],
   "source": [
    "mismatched = 1 - (nysiis[nysiis['match']].shape[0]/len(LHS))\n",
    "print(f'Percentage of mismatched names: {mismatched * 100:.2f}%, ({len(LHS)-nysiis[nysiis[\"match\"]].shape[0]})')"
   ]
  },
  {
   "cell_type": "markdown",
   "metadata": {},
   "source": [
    "### Soundex<a class=\"anchor\" id=\"11\"></a>"
   ]
  },
  {
   "cell_type": "markdown",
   "metadata": {},
   "source": [
    "[Back to the Table of Contents](#zero-bullet) --- [Previous](#10) --- [Next](#12)"
   ]
  },
  {
   "cell_type": "code",
   "execution_count": null,
   "metadata": {
    "pycharm": {
     "name": "#%%\n"
    }
   },
   "outputs": [],
   "source": [
    "[Back to the Table of Contents](#zero-bullet)LHS_soundex = {i: (jellyfish.soundex(name), int(label)) for i, (name, label) in enumerate(LHS.items())}\n",
    "RHS_soundex = {i: (jellyfish.soundex(name), int(label)) for i, (name, label) in enumerate(RHS.items())}"
   ]
  },
  {
   "cell_type": "code",
   "execution_count": null,
   "metadata": {
    "pycharm": {
     "name": "#%%\n"
    }
   },
   "outputs": [],
   "source": [
    "LHS_soundex = pd.DataFrame.from_dict(LHS_soundex, columns=['lhs_name', 'lhs_label'], orient='index')\n",
    "RHS_soundex = pd.DataFrame.from_dict(RHS_soundex, columns=['rhs_name', 'rhs_label'], orient='index')"
   ]
  },
  {
   "cell_type": "code",
   "execution_count": null,
   "metadata": {
    "pycharm": {
     "name": "#%%\n"
    }
   },
   "outputs": [],
   "source": [
    "soundex = LHS_soundex.merge(RHS_soundex, left_on='lhs_name', right_on='rhs_name', how='inner')"
   ]
  },
  {
   "cell_type": "code",
   "execution_count": null,
   "metadata": {
    "pycharm": {
     "name": "#%%\n"
    }
   },
   "outputs": [],
   "source": [
    "soundex['match'] = soundex['lhs_label'] == soundex['rhs_label']"
   ]
  },
  {
   "cell_type": "code",
   "execution_count": null,
   "metadata": {
    "pycharm": {
     "name": "#%%\n"
    }
   },
   "outputs": [],
   "source": [
    "fig = go.Figure()\n",
    "fig.add_trace(go.Histogram(x=list(soundex['match'])))\n",
    "fig.update_layout(\n",
    "    autosize=False,\n",
    "    width=800,\n",
    "    height=500,\n",
    "    margin=dict(\n",
    "        l=50,\n",
    "        r=50,\n",
    "        b=50,\n",
    "        t=100,\n",
    "        pad=4\n",
    "    ),\n",
    "    colorway=px.colors.qualitative.Safe,\n",
    "    paper_bgcolor=\"White\",\n",
    "    # title=\"Matching distribution\",\n",
    "    xaxis_title=\"Name match\",\n",
    "    yaxis_title=\"Aggregate\",\n",
    ")"
   ]
  },
  {
   "cell_type": "code",
   "execution_count": null,
   "metadata": {
    "pycharm": {
     "name": "#%%\n"
    }
   },
   "outputs": [],
   "source": [
    "mismatched = 1 - (soundex[soundex['match']].shape[0]/len(LHS))\n",
    "print(f'Percentage of mismatched names: {mismatched * 100:.2f}%, ({len(LHS)-soundex[soundex[\"match\"]].shape[0]})')"
   ]
  },
  {
   "cell_type": "markdown",
   "metadata": {
    "pycharm": {
     "name": "#%% md\n"
    }
   },
   "source": [
    "### Double metaphone<a class=\"anchor\" id=\"12\"></a>"
   ]
  },
  {
   "cell_type": "markdown",
   "metadata": {},
   "source": [
    "[Back to the Table of Contents](#zero-bullet) --- [Previous](#11) --- [Next](#13)"
   ]
  },
  {
   "cell_type": "code",
   "execution_count": null,
   "metadata": {
    "pycharm": {
     "name": "#%%\n"
    }
   },
   "outputs": [],
   "source": [
    "LHS_dm = {i: (doublemetaphone(name)[0], doublemetaphone(name)[1], int(label)) for i, (name, label) in enumerate(LHS.items())}\n",
    "RHS_dm = {i: (doublemetaphone(name)[0], doublemetaphone(name)[1], int(label)) for i, (name, label) in enumerate(RHS.items())}"
   ]
  },
  {
   "cell_type": "code",
   "execution_count": null,
   "metadata": {
    "pycharm": {
     "name": "#%%\n"
    }
   },
   "outputs": [],
   "source": [
    "LHS_dm = pd.DataFrame.from_dict(LHS_dm, columns=['lhs_name1', 'lhs_name2', 'lhs_label'], orient='index')\n",
    "RHS_dm = pd.DataFrame.from_dict(RHS_dm, columns=['rhs_name1', 'rhs_name2', 'rhs_label'], orient='index')"
   ]
  },
  {
   "cell_type": "code",
   "execution_count": null,
   "metadata": {
    "pycharm": {
     "name": "#%%\n"
    }
   },
   "outputs": [],
   "source": [
    "def find_match(name_label: tuple, rhs: pd.DataFrame):\n",
    "    if name_label[0] != '':\n",
    "        match1 = rhs[rhs['rhs_name1'] == name_label[0]]\n",
    "        match2 = rhs[rhs['rhs_name2'] == name_label[0]]\n",
    "        match = pd.concat([match1, match2]).reset_index(drop=True)\n",
    "        match['lhs_label'] = [name_label[1] for _ in range(match.shape[0])]\n",
    "        return match\n",
    "    return pd.DataFrame()"
   ]
  },
  {
   "cell_type": "code",
   "execution_count": null,
   "metadata": {
    "pycharm": {
     "name": "#%%\n"
    }
   },
   "outputs": [],
   "source": [
    "match1 = pd.concat([find_match((name,label), RHS_dm) for name, label in zip(LHS_dm['lhs_name1'], LHS_dm['lhs_label'])]).reset_index(drop=True)\n",
    "match2 = pd.concat([find_match((name,label), RHS_dm) for name, label in zip(LHS_dm['lhs_name2'], LHS_dm['lhs_label'])]).reset_index(drop=True)\n",
    "dm = pd.concat([match1, match2]).reset_index(drop=True)\n",
    "del match1\n",
    "del match2"
   ]
  },
  {
   "cell_type": "code",
   "execution_count": null,
   "metadata": {
    "pycharm": {
     "name": "#%%\n"
    }
   },
   "outputs": [],
   "source": [
    "dm['match'] = dm['lhs_label'] == dm['rhs_label']"
   ]
  },
  {
   "cell_type": "code",
   "execution_count": null,
   "metadata": {
    "pycharm": {
     "name": "#%%\n"
    }
   },
   "outputs": [],
   "source": [
    "fig = go.Figure()\n",
    "fig.add_trace(go.Histogram(x=list(dm['match'])))\n",
    "fig.update_layout(\n",
    "    autosize=False,\n",
    "    width=800,\n",
    "    height=500,\n",
    "    margin=dict(\n",
    "        l=50,\n",
    "        r=50,\n",
    "        b=50,\n",
    "        t=100,\n",
    "        pad=4\n",
    "    ),\n",
    "    colorway=px.colors.qualitative.Safe,\n",
    "    paper_bgcolor=\"White\",\n",
    "    # title=\"Matching distribution\",\n",
    "    xaxis_title=\"Name match\",\n",
    "    yaxis_title=\"Aggregate\",\n",
    ")"
   ]
  },
  {
   "cell_type": "code",
   "execution_count": null,
   "metadata": {
    "pycharm": {
     "name": "#%%\n"
    }
   },
   "outputs": [],
   "source": [
    "mismatched = 1 - (dm[dm['match']].shape[0]/len(LHS))\n",
    "print(f'Percentage of mismatched names: {mismatched * 100:.2f}%, ({len(LHS)-dm[dm[\"match\"]].shape[0]})')"
   ]
  },
  {
   "cell_type": "markdown",
   "metadata": {},
   "source": [
    " "
   ]
  },
  {
   "cell_type": "markdown",
   "metadata": {
    "pycharm": {
     "name": "#%% md\n"
    }
   },
   "source": [
    "### Learnable similarity metric by dedupe io<a class=\"anchor\" id=\"13\"></a>"
   ]
  },
  {
   "cell_type": "markdown",
   "metadata": {},
   "source": [
    "[Back to the Table of Contents](#zero-bullet) --- [Previous](#12) --- [Next](#fifth-bullet)"
   ]
  },
  {
   "cell_type": "code",
   "execution_count": null,
   "metadata": {
    "pycharm": {
     "name": "#%%\n"
    }
   },
   "outputs": [],
   "source": [
    "from record_linker import find_matches"
   ]
  },
  {
   "cell_type": "code",
   "execution_count": null,
   "metadata": {
    "pycharm": {
     "name": "#%%\n"
    }
   },
   "outputs": [],
   "source": [
    "LHS_rl = pd.DataFrame(zip(*[LHS.keys(), list(map(str, LHS.values()))]), columns=['name', 'label'])\n",
    "RHS_rl = pd.DataFrame(zip(*[RHS.keys(), list(map(str, RHS.values()))]), columns=['name', 'label'])"
   ]
  },
  {
   "cell_type": "markdown",
   "metadata": {
    "pycharm": {
     "name": "#%% md\n"
    }
   },
   "source": [
    "Note: Record linker is already pre-trained for this particular data. One has to train the linker anew for any other data (see record_linker.py)"
   ]
  },
  {
   "cell_type": "code",
   "execution_count": null,
   "metadata": {
    "pycharm": {
     "name": "#%%\n"
    }
   },
   "outputs": [],
   "source": [
    "match = find_matches(LHS_rl, RHS_rl)"
   ]
  },
  {
   "cell_type": "code",
   "execution_count": null,
   "metadata": {
    "pycharm": {
     "name": "#%%\n"
    }
   },
   "outputs": [],
   "source": [
    "index, score = list(zip(*match[0]))"
   ]
  },
  {
   "cell_type": "code",
   "execution_count": null,
   "metadata": {
    "pycharm": {
     "name": "#%%\n"
    }
   },
   "outputs": [],
   "source": [
    "lhs_index, rhs_index = list(zip(*index))"
   ]
  },
  {
   "cell_type": "code",
   "execution_count": null,
   "metadata": {
    "pycharm": {
     "name": "#%%\n"
    }
   },
   "outputs": [],
   "source": [
    "LHS_rl.loc[pd.Index(list(lhs_index)), 'rhs_index'] = rhs_index\n",
    "LHS_rl.loc[pd.Index(list(lhs_index)), 'dist'] = score"
   ]
  },
  {
   "cell_type": "code",
   "execution_count": null,
   "metadata": {
    "pycharm": {
     "name": "#%%\n"
    }
   },
   "outputs": [],
   "source": [
    "rl = LHS_rl.merge(RHS_rl, left_on='rhs_index', right_index=True, suffixes=['_lhs', '_rhs'])"
   ]
  },
  {
   "cell_type": "code",
   "execution_count": null,
   "metadata": {
    "pycharm": {
     "name": "#%%\n"
    }
   },
   "outputs": [],
   "source": [
    "rl['match'] = rl['label_lhs'] == rl['label_rhs']"
   ]
  },
  {
   "cell_type": "code",
   "execution_count": null,
   "metadata": {},
   "outputs": [],
   "source": [
    "fig = go.Figure()\n",
    "fig.add_trace(go.Histogram(x=list(rl['match'])))\n",
    "fig.update_layout(\n",
    "    autosize=False,\n",
    "    width=800,\n",
    "    height=500,\n",
    "    margin=dict(\n",
    "        l=50,\n",
    "        r=50,\n",
    "        b=50,\n",
    "        t=100,\n",
    "        pad=4\n",
    "    ),\n",
    "    colorway=px.colors.qualitative.Safe,\n",
    "    paper_bgcolor=\"White\",\n",
    "    # title=\"Matching distribution\",\n",
    "    xaxis_title=\"Name match\",\n",
    "    yaxis_title=\"Aggregate\",\n",
    ")"
   ]
  },
  {
   "cell_type": "code",
   "execution_count": null,
   "metadata": {
    "pycharm": {
     "name": "#%%\n"
    }
   },
   "outputs": [],
   "source": [
    "mismatched = 1 - (rl[rl['match']].shape[0]/len(LHS))\n",
    "print(f'Percentage of mismatched names: {mismatched * 100:.2f}%, ({len(LHS)-rl[rl[\"match\"]].shape[0]})')"
   ]
  },
  {
   "cell_type": "markdown",
   "metadata": {},
   "source": [
    "### Summary<a class=\"anchor\" id=\"fifth-bullet\"></a>"
   ]
  },
  {
   "cell_type": "markdown",
   "metadata": {},
   "source": [
    "[Back to the Table of Contents](#zero-bullet) --- [Previous](#13)"
   ]
  },
  {
   "cell_type": "markdown",
   "metadata": {},
   "source": [
    "Run this summary, when all dataframes listed below are ready."
   ]
  },
  {
   "cell_type": "code",
   "execution_count": null,
   "metadata": {},
   "outputs": [],
   "source": [
    "matches = [lev['match'], \n",
    "            lev_n['match'], \n",
    "            dam_lev['match'],\n",
    "            dam_lev_n['match'],\n",
    "            ham['match'],\n",
    "            ham_n['match'],\n",
    "            jw['match'],\n",
    "            jac['match'],\n",
    "            jac_n['match'],\n",
    "            rl['match'],\n",
    "            nysiis['match'],\n",
    "            soundex['match'],\n",
    "            dm['match']]"
   ]
  },
  {
   "cell_type": "code",
   "execution_count": null,
   "metadata": {},
   "outputs": [],
   "source": [
    "fig = go.Figure()\n",
    "for match in matches:\n",
    "    match = dict(match.value_counts())\n",
    "    y = list(match.values())\n",
    "    x = list(match.keys())\n",
    "    fig.add_trace(go.Bar(x=x, y=y))\n",
    "\n",
    "fig.update_layout(\n",
    "    autosize=False,\n",
    "    width=800,\n",
    "    height=500,\n",
    "    margin=dict(\n",
    "        l=50,\n",
    "        r=50,\n",
    "        b=50,\n",
    "        t=100,\n",
    "        pad=4\n",
    "    ),\n",
    "    colorway=px.colors.qualitative.Safe,\n",
    "    paper_bgcolor=\"White\",\n",
    "    # title=\"Matching distribution\",\n",
    "    yaxis_title=\"Name match\",\n",
    "    xaxis_title=\"Aggregate\",\n",
    ")\n",
    "fig.update_traces(texttemplate='%{y}', textposition='outside')"
   ]
  },
  {
   "cell_type": "code",
   "execution_count": null,
   "metadata": {},
   "outputs": [],
   "source": [
    "metrics = ['Lev', 'Lev. norm', 'Dam-Lev', 'Dam-Lev. norm', 'Ham', 'Ham. norm', 'Jaro-Wink.', 'Jac.', 'Jac. freq', 'RLinker', 'NYSIIS', 'Soundex', 'D. Metaphone']"
   ]
  },
  {
   "cell_type": "code",
   "execution_count": null,
   "metadata": {},
   "outputs": [],
   "source": [
    "trues = [sum(m) for m in matches]\n",
    "falses = [len(m)-sum(m) for m in matches]"
   ]
  },
  {
   "cell_type": "code",
   "execution_count": null,
   "metadata": {},
   "outputs": [],
   "source": [
    "fig = go.Figure()\n",
    "fig.add_trace(go.Bar(x=metrics, y=trues, name='True'))\n",
    "fig.add_trace(go.Bar(x=metrics, y=falses, name='False'))\n",
    "fig.update_layout(\n",
    "    autosize=False,\n",
    "    width=1000,\n",
    "    height=500,\n",
    "    margin=dict(\n",
    "        l=50,\n",
    "        r=50,\n",
    "        b=50,\n",
    "        t=100,\n",
    "        pad=4\n",
    "    ),\n",
    "    colorway=px.colors.qualitative.Safe,\n",
    "    paper_bgcolor=\"White\",\n",
    "    # title=\"Matching distribution\",\n",
    "    yaxis_title=\"Number matches\",\n",
    "    xaxis_title=\"Techniques\",\n",
    "    uniformtext_minsize=10, uniformtext_mode='show'\n",
    ")\n",
    "fig.update_traces(texttemplate='%{y:.5}', textposition='outside')"
   ]
  },
  {
   "cell_type": "code",
   "execution_count": null,
   "metadata": {},
   "outputs": [],
   "source": []
  }
 ],
 "metadata": {
  "kernelspec": {
   "display_name": "Python 3 (ipykernel)",
   "language": "python",
   "name": "python3"
  },
  "language_info": {
   "codemirror_mode": {
    "name": "ipython",
    "version": 3
   },
   "file_extension": ".py",
   "mimetype": "text/x-python",
   "name": "python",
   "nbconvert_exporter": "python",
   "pygments_lexer": "ipython3",
   "version": "3.9.7"
  }
 },
 "nbformat": 4,
 "nbformat_minor": 1
}

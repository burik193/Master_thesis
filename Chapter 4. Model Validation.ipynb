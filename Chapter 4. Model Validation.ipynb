{
 "cells": [
  {
   "cell_type": "markdown",
   "metadata": {},
   "source": [
    "# Table Of Contents<a class=\"anchor\" id=\"zero-bullet\"></a>:\n",
    "* [Imports](#first-bullet)\n",
    "* [Global Settings](#second-bullet)\n",
    "* [Import Validation Data](#third-bullet)\n",
    "* [Create LHS](#fourth-bullet)\n",
    "* [Analysis](#fifth-bullet)\n",
    "* [Analyze Weights](#sixth-bullet)"
   ]
  },
  {
   "cell_type": "markdown",
   "metadata": {},
   "source": [
    "## Imports<a class=\"anchor\" id=\"first-bullet\"></a>"
   ]
  },
  {
   "cell_type": "markdown",
   "metadata": {},
   "source": [
    "[Back to the Table of Contents](#zero-bullet)"
   ]
  },
  {
   "cell_type": "code",
   "execution_count": 1,
   "metadata": {},
   "outputs": [
    {
     "name": "stderr",
     "output_type": "stream",
     "text": [
      "C:\\Users\\Oleg\\anaconda3\\lib\\site-packages\\torchvision\\io\\image.py:13: UserWarning: Failed to load image Python extension: Could not find module 'C:\\Users\\Oleg\\anaconda3\\Lib\\site-packages\\torchvision\\image.pyd' (or one of its dependencies). Try using the full path with constructor syntax.\n",
      "  warn(f\"Failed to load image Python extension: {e}\")\n",
      "The torchaudio backend is switched to 'soundfile'. Note that 'sox_io' is not supported on Windows.\n",
      "The torchaudio backend is switched to 'soundfile'. Note that 'sox_io' is not supported on Windows.\n"
     ]
    }
   ],
   "source": [
    "import pandas as pd\n",
    "import plotly.express as px\n",
    "import plotly.graph_objects as go\n",
    "from plotly.subplots import make_subplots\n",
    "\n",
    "import numpy as np\n",
    "import time\n",
    "\n",
    "from model_parser import create_model\n",
    "import torch\n",
    "from scipy.stats import expon\n",
    "import torchvision.transforms.functional as F\n",
    "from torch.utils.data import DataLoader\n",
    "\n",
    "import json\n",
    "\n",
    "from utils import *"
   ]
  },
  {
   "cell_type": "markdown",
   "metadata": {
    "pycharm": {
     "name": "#%% md\n"
    }
   },
   "source": [
    "# Global Settings<a class=\"anchor\" id=\"second-bullet\"></a>"
   ]
  },
  {
   "cell_type": "markdown",
   "metadata": {},
   "source": [
    "[Back to the Table of Contents](#zero-bullet)"
   ]
  },
  {
   "cell_type": "code",
   "execution_count": 2,
   "metadata": {
    "pycharm": {
     "name": "#%%\n"
    }
   },
   "outputs": [],
   "source": [
    "# Init Tacotron2\n",
    "\n",
    "run_opts = {\"device\": \"cuda\",\"data_parallel_count\": -1,\"data_parallel_backend\": False,\"distributed_launch\": False,\"distributed_backend\": \"nccl\",\"jit_module_keys\": None}\n",
    "\n",
    "tacotron2 = Tacotron2_modifyed.from_hparams(source=\"speechbrain/tts-tacotron2-ljspeech\", savedir=\"tmpdir_tts\", run_opts=run_opts)"
   ]
  },
  {
   "cell_type": "markdown",
   "metadata": {
    "pycharm": {
     "name": "#%% md\n"
    }
   },
   "source": [
    "## Import validation dataset<a class=\"anchor\" id=\"third-bullet\"></a>"
   ]
  },
  {
   "cell_type": "markdown",
   "metadata": {},
   "source": [
    "[Back to the Table of Contents](#zero-bullet)"
   ]
  },
  {
   "cell_type": "markdown",
   "metadata": {},
   "source": [
    "We use different labels for RHS_1 and RHS_2 for simplicity of the training. Thus, the validation dataset has both labels. Please specity the labels of which RHS you want to work with"
   ]
  },
  {
   "cell_type": "code",
   "execution_count": 3,
   "metadata": {},
   "outputs": [],
   "source": [
    "# Chose what RHS you want to import and work with\n",
    "RHS = 1"
   ]
  },
  {
   "cell_type": "code",
   "execution_count": 4,
   "metadata": {
    "pycharm": {
     "name": "#%%\n"
    }
   },
   "outputs": [],
   "source": [
    "root = fr'C:\\Users\\Oleg\\Documents\\Masterarbeit\\STT\\RHS_{RHS}'"
   ]
  },
  {
   "cell_type": "code",
   "execution_count": 5,
   "metadata": {
    "pycharm": {
     "name": "#%%\n"
    }
   },
   "outputs": [],
   "source": [
    "val_df = pd.read_csv('validation_dataset.csv')"
   ]
  },
  {
   "cell_type": "code",
   "execution_count": 6,
   "metadata": {},
   "outputs": [
    {
     "data": {
      "text/html": [
       "<div>\n",
       "<style scoped>\n",
       "    .dataframe tbody tr th:only-of-type {\n",
       "        vertical-align: middle;\n",
       "    }\n",
       "\n",
       "    .dataframe tbody tr th {\n",
       "        vertical-align: top;\n",
       "    }\n",
       "\n",
       "    .dataframe thead th {\n",
       "        text-align: right;\n",
       "    }\n",
       "</style>\n",
       "<table border=\"1\" class=\"dataframe\">\n",
       "  <thead>\n",
       "    <tr style=\"text-align: right;\">\n",
       "      <th></th>\n",
       "      <th>original</th>\n",
       "      <th>mistake_1</th>\n",
       "      <th>mistake_2</th>\n",
       "      <th>mistake_3</th>\n",
       "      <th>mistake_4</th>\n",
       "      <th>label_2</th>\n",
       "      <th>label_1</th>\n",
       "    </tr>\n",
       "  </thead>\n",
       "  <tbody>\n",
       "    <tr>\n",
       "      <th>0</th>\n",
       "      <td>Sigglekow</td>\n",
       "      <td>Siggelkow</td>\n",
       "      <td>Sigglecow</td>\n",
       "      <td>Siglekow</td>\n",
       "      <td>Sigelkow</td>\n",
       "      <td>8144</td>\n",
       "      <td>830</td>\n",
       "    </tr>\n",
       "    <tr>\n",
       "      <th>1</th>\n",
       "      <td>Rozwaski</td>\n",
       "      <td>Rozwoski</td>\n",
       "      <td>Rozwasky</td>\n",
       "      <td>Roswaski</td>\n",
       "      <td>Rozwaski</td>\n",
       "      <td>7569</td>\n",
       "      <td>769</td>\n",
       "    </tr>\n",
       "    <tr>\n",
       "      <th>2</th>\n",
       "      <td>Maingain</td>\n",
       "      <td>Mainchain</td>\n",
       "      <td>Maingane</td>\n",
       "      <td>Mainagan</td>\n",
       "      <td>Maingainn</td>\n",
       "      <td>5441</td>\n",
       "      <td>570</td>\n",
       "    </tr>\n",
       "    <tr>\n",
       "      <th>3</th>\n",
       "      <td>Doqaj</td>\n",
       "      <td>Dokaaj</td>\n",
       "      <td>Doqja</td>\n",
       "      <td>Docaaj</td>\n",
       "      <td>Dohqaj</td>\n",
       "      <td>2309</td>\n",
       "      <td>252</td>\n",
       "    </tr>\n",
       "    <tr>\n",
       "      <th>4</th>\n",
       "      <td>Tamômura</td>\n",
       "      <td>Tamomura</td>\n",
       "      <td>Tomamura</td>\n",
       "      <td>Tamoemura</td>\n",
       "      <td>Tamooura</td>\n",
       "      <td>8710</td>\n",
       "      <td>878</td>\n",
       "    </tr>\n",
       "  </tbody>\n",
       "</table>\n",
       "</div>"
      ],
      "text/plain": [
       "    original  mistake_1  mistake_2  mistake_3  mistake_4  label_2  label_1\n",
       "0  Sigglekow  Siggelkow  Sigglecow   Siglekow   Sigelkow     8144      830\n",
       "1   Rozwaski   Rozwoski   Rozwasky   Roswaski   Rozwaski     7569      769\n",
       "2   Maingain  Mainchain   Maingane   Mainagan  Maingainn     5441      570\n",
       "3      Doqaj     Dokaaj      Doqja     Docaaj     Dohqaj     2309      252\n",
       "4   Tamômura   Tamomura   Tomamura  Tamoemura   Tamooura     8710      878"
      ]
     },
     "execution_count": 6,
     "metadata": {},
     "output_type": "execute_result"
    }
   ],
   "source": [
    "val_df.head()"
   ]
  },
  {
   "cell_type": "code",
   "execution_count": 7,
   "metadata": {
    "pycharm": {
     "name": "#%%\n"
    }
   },
   "outputs": [],
   "source": [
    "with open(root + r'\\labels_dict.json', 'r', encoding='utf-8') as ld:\n",
    "     label_dict = json.loads(ld.read())"
   ]
  },
  {
   "cell_type": "markdown",
   "metadata": {},
   "source": [
    "Inspect labels dictionary"
   ]
  },
  {
   "cell_type": "code",
   "execution_count": 8,
   "metadata": {
    "pycharm": {
     "name": "#%%\n"
    }
   },
   "outputs": [
    {
     "data": {
      "text/plain": [
       "{'Sigglekow': 830,\n",
       " 'Rozwaski': 769,\n",
       " 'Maingain': 570,\n",
       " 'Doqaj': 252,\n",
       " 'Tamômura': 878,\n",
       " 'Carmignac': 151,\n",
       " 'Mirny': 614,\n",
       " 'Guyer-Nobles': 368,\n",
       " 'Streator': 858,\n",
       " 'Ciubara': 179,\n",
       " 'Colpeyn': 186,\n",
       " 'Mariyappan': 581,\n",
       " 'Wildchild': 966,\n",
       " 'Goriachkovsky': 353,\n",
       " 'Barodka': 65,\n",
       " 'Discupta': 244,\n",
       " 'Suntisook': 869,\n",
       " 'Villégier': 946,\n",
       " 'Kalafi': 443,\n",
       " 'Batwara': 71,\n",
       " 'Gootrad': 352,\n",
       " 'Chetri': 166,\n",
       " 'Zvanova': 995,\n",
       " 'Sbiee': 796,\n",
       " 'Varetskiy': 930,\n",
       " 'Johnston-Henry': 434,\n",
       " 'Hurpy': 405,\n",
       " 'Bilheimer': 99,\n",
       " 'Grantski': 356,\n",
       " 'Ahrary': 10,\n",
       " 'Muliere': 631,\n",
       " 'Krasilovska': 495,\n",
       " 'Granau': 355,\n",
       " 'Fayol': 299,\n",
       " 'Mudzhyri': 629,\n",
       " 'Fitzmeyer': 312,\n",
       " 'Omeiza': 672,\n",
       " \"N'bokolo\": 639,\n",
       " 'Celma': 157,\n",
       " 'Röhre': 776,\n",
       " 'Ezinga': 291,\n",
       " 'Ritziu-Ilka': 751,\n",
       " 'Cumetti': 207,\n",
       " 'Shaodong': 821,\n",
       " 'Cheledinas': 164,\n",
       " 'Galynsky': 330,\n",
       " 'Gellrich': 335,\n",
       " 'Prösler': 725,\n",
       " 'Kamalinia': 446,\n",
       " 'Hiniger': 390,\n",
       " 'Stroegerer': 859,\n",
       " 'Tvrdá': 912,\n",
       " 'Variyath': 932,\n",
       " 'Hoeps': 392,\n",
       " 'Tavlaridou': 885,\n",
       " 'Bittlestone': 102,\n",
       " 'Andreste': 27,\n",
       " 'Janopoulo': 425,\n",
       " 'Cortazzi': 194,\n",
       " 'Brudahl': 131,\n",
       " 'Cordizar': 190,\n",
       " 'Cresciman': 200,\n",
       " 'Molke': 618,\n",
       " 'Mykrä-Nieminen': 637,\n",
       " 'Manherz-Dennis': 578,\n",
       " 'Labrín': 516,\n",
       " 'Kielmet': 468,\n",
       " 'Dropka': 261,\n",
       " 'Alfane': 18,\n",
       " 'Driftmeier': 259,\n",
       " 'Fuéntes': 323,\n",
       " 'Rohee': 760,\n",
       " 'Neventia': 654,\n",
       " 'Ypeij': 976,\n",
       " 'Uplegger': 921,\n",
       " 'Gatonyi': 333,\n",
       " 'Rovanpera': 767,\n",
       " 'Biddlecombe': 97,\n",
       " 'Villamea': 945,\n",
       " 'Lojd': 548,\n",
       " 'Kabalonis': 439,\n",
       " 'Aucot': 43,\n",
       " 'Dobjanski': 247,\n",
       " 'Oshiwa': 678,\n",
       " 'Serazzi': 811,\n",
       " 'Solues': 842,\n",
       " 'Guirnalda': 363,\n",
       " 'Sienkwicz': 829,\n",
       " 'Galaka': 326,\n",
       " 'Keshvan': 460,\n",
       " 'Cardinall': 149,\n",
       " 'Siponen': 833,\n",
       " 'Grizotti': 358,\n",
       " 'Koronka': 487,\n",
       " 'Polancheck': 714,\n",
       " 'Hörgberg': 409,\n",
       " 'Balbàs': 54,\n",
       " 'Fiksel': 309,\n",
       " 'Macaraig': 560,\n",
       " 'Zorawowicz': 992,\n",
       " 'Logne': 546,\n",
       " 'Emhofer': 278,\n",
       " 'Salyev': 786,\n",
       " 'Thelfa': 891,\n",
       " 'Vezys': 940,\n",
       " 'Poppeys': 716,\n",
       " 'Kalogerakou': 445,\n",
       " 'Boudai': 115,\n",
       " 'Drexlter': 258,\n",
       " 'Richtar': 743,\n",
       " 'Ebrahimi-Oble': 270,\n",
       " 'Blednykh': 104,\n",
       " 'McCusker-Bland': 597,\n",
       " 'Baibosinova': 53,\n",
       " 'Chinatiworn': 169,\n",
       " 'Phaire': 703,\n",
       " 'Fengkai': 305,\n",
       " 'Llastarri': 543,\n",
       " 'Couttausse': 197,\n",
       " 'Dichy': 238,\n",
       " 'Beskri': 89,\n",
       " 'Morral': 625,\n",
       " 'Bendelman': 83,\n",
       " 'Huppen': 403,\n",
       " 'Tashio': 882,\n",
       " 'Mongue': 620,\n",
       " 'Fendler': 304,\n",
       " 'Kuberan': 502,\n",
       " 'Kleinlercher': 474,\n",
       " 'Aplenc': 32,\n",
       " 'Rukavitsa': 772,\n",
       " 'Petlevannyy': 702,\n",
       " 'Müller-Morelli': 638,\n",
       " 'Adefami': 5,\n",
       " 'Viinikkala': 943,\n",
       " 'Isoniemi': 421,\n",
       " 'Beauchene': 74,\n",
       " 'Bhesnia': 94,\n",
       " 'Ruppert': 773,\n",
       " 'Vanbiesbrouck': 928,\n",
       " 'Costilla': 195,\n",
       " 'Berthaux': 88,\n",
       " 'Rinford': 747,\n",
       " 'Juvani': 438,\n",
       " 'McCormick-Gould': 595,\n",
       " 'Hascky': 382,\n",
       " 'Merling': 607,\n",
       " 'Kaberlein': 440,\n",
       " 'Rosenberger': 762,\n",
       " 'Jaywardena': 430,\n",
       " 'Sandalow-Ash': 787,\n",
       " 'Boustedt': 119,\n",
       " 'Scifers': 804,\n",
       " 'Barberena': 61,\n",
       " 'Spoonman': 848,\n",
       " 'Purzner': 726,\n",
       " 'Vilailert': 944,\n",
       " 'Bonacka': 109,\n",
       " 'Nightinglam': 656,\n",
       " 'Bambis': 57,\n",
       " 'Lasia': 526,\n",
       " 'Feagler': 300,\n",
       " 'Shadykina': 817,\n",
       " 'Klevstul': 475,\n",
       " 'Avenant': 46,\n",
       " 'Begendik': 77,\n",
       " 'Pyrrhus': 727,\n",
       " 'Plantive': 711,\n",
       " 'Kulchisky': 505,\n",
       " 'Lebzelter': 528,\n",
       " 'Morriss': 626,\n",
       " 'Benlebna': 84,\n",
       " 'Kampatsi': 447,\n",
       " 'Burgeron': 136,\n",
       " 'Balázsfi': 56,\n",
       " 'Konanchuk': 485,\n",
       " 'Casaux': 153,\n",
       " 'Hurgunova': 404,\n",
       " 'Nadudvari': 642,\n",
       " 'Inzko': 417,\n",
       " 'Guyevsky': 369,\n",
       " 'Syse': 871,\n",
       " 'Montmirel': 622,\n",
       " 'Jofjell': 433,\n",
       " 'Elmorsi': 276,\n",
       " 'Richard-Hingant': 742,\n",
       " 'Coissieu': 181,\n",
       " 'Brazze': 125,\n",
       " 'Sarathe': 793,\n",
       " 'Drivon-Delepiere': 260,\n",
       " 'Gretner': 357,\n",
       " 'Hvid-Møller': 406,\n",
       " 'Shastel': 823,\n",
       " 'Vizconde': 949,\n",
       " 'Kodýtek': 479,\n",
       " 'Anojan': 30,\n",
       " 'Simbahon': 832,\n",
       " 'Dovom': 256,\n",
       " 'Zulkarnian': 993,\n",
       " 'Sijen': 831,\n",
       " 'Sudprawet': 864,\n",
       " 'Lenier': 534,\n",
       " 'Marreco': 584,\n",
       " 'Mccomish': 599,\n",
       " 'Pazhyangadi': 689,\n",
       " 'Rieberger': 745,\n",
       " 'Chochulska': 171,\n",
       " 'Cokery': 182,\n",
       " 'Chariere': 159,\n",
       " 'Levantrosser': 538,\n",
       " 'Kriván': 498,\n",
       " 'Urrizola': 922,\n",
       " 'Baghil': 50,\n",
       " 'Totskiy': 903,\n",
       " 'Lynden-Bell': 554,\n",
       " 'Catellier': 154,\n",
       " 'Jongelen': 435,\n",
       " 'Stasiukyniene': 851,\n",
       " 'Hyrkkö': 408,\n",
       " 'Chipol': 170,\n",
       " 'Kromer': 499,\n",
       " 'Tarampi': 880,\n",
       " 'Gaglieri': 325,\n",
       " 'Perewozi': 700,\n",
       " 'Mihcioglu': 610,\n",
       " 'Liasis': 541,\n",
       " 'Demaratus': 230,\n",
       " 'Ganota': 331,\n",
       " 'Shabira': 816,\n",
       " 'Halicek': 376,\n",
       " 'Sakanis': 782,\n",
       " 'Ravish': 735,\n",
       " 'Druv': 263,\n",
       " 'Gutiérrez-Ambrossi': 367,\n",
       " 'Ninnes': 658,\n",
       " 'Tomasovich': 900,\n",
       " 'Holis': 395,\n",
       " 'Öztemur': 998,\n",
       " 'Maulandi': 591,\n",
       " 'Kumpinski': 507,\n",
       " 'Klisenko': 476,\n",
       " 'Threloff': 894,\n",
       " 'Cuellar-Garcia': 206,\n",
       " 'Ross-Mitchell': 764,\n",
       " 'Byloo': 138,\n",
       " 'Strava': 857,\n",
       " 'Ardivat': 35,\n",
       " 'Iteney-Martin': 423,\n",
       " 'Vicquenault': 941,\n",
       " 'Yarosz': 972,\n",
       " 'Rohden': 759,\n",
       " 'Karzel': 454,\n",
       " 'Cadzow-Smith': 143,\n",
       " 'Brannelec': 123,\n",
       " 'Fayman': 298,\n",
       " 'Cerkezov': 158,\n",
       " 'Dymow': 269,\n",
       " 'Seretan': 813,\n",
       " 'Pilarcik-Tellez': 709,\n",
       " 'Felhaurer': 302,\n",
       " 'Shibazz': 827,\n",
       " 'Slabek': 838,\n",
       " 'Futterson': 322,\n",
       " 'Yuanlae': 977,\n",
       " 'Shahayatri': 819,\n",
       " 'Rucquoy': 770,\n",
       " 'Marvelettes': 587,\n",
       " 'Bagschik': 51,\n",
       " 'Betting-Fuentes': 91,\n",
       " 'Bejarno': 78,\n",
       " 'Riba-Abizanda': 740,\n",
       " 'Decerf': 226,\n",
       " 'Bezrucová': 92,\n",
       " 'Senoy': 810,\n",
       " 'Szinicz': 873,\n",
       " 'Strand-Jordan': 856,\n",
       " 'Tuomi-Nikula': 911,\n",
       " 'Mulivai': 632,\n",
       " 'Alibeet': 19,\n",
       " 'Al-Mudarris': 15,\n",
       " 'Briede': 128,\n",
       " 'Farina-Schroll': 293,\n",
       " 'Emintseva': 279,\n",
       " 'Sahverdiyev': 781,\n",
       " 'Vilogorac': 947,\n",
       " 'Krzywicka-Kaindel': 501,\n",
       " 'Ionesyan': 418,\n",
       " 'Dibitonto': 237,\n",
       " 'Rodvaldr': 757,\n",
       " 'Malessardi': 573,\n",
       " 'Matagrano': 590,\n",
       " 'Neculcea': 649,\n",
       " 'Albao': 16,\n",
       " 'Horeftari': 399,\n",
       " 'Wienowski': 964,\n",
       " 'Keuscher': 461,\n",
       " 'Herhard': 388,\n",
       " 'Khweshiwe': 467,\n",
       " 'Weiyi': 959,\n",
       " 'Zizine': 990,\n",
       " 'Hoodie': 397,\n",
       " 'Colchester': 184,\n",
       " 'Sullmann': 866,\n",
       " 'Thomhav': 893,\n",
       " 'Gänßlein-Zeit': 371,\n",
       " 'Fritz': 319,\n",
       " 'Sundbrink': 868,\n",
       " 'Azoulay': 48,\n",
       " 'Struchiner': 861,\n",
       " 'Vembutty': 937,\n",
       " 'Hörnfeldt': 410,\n",
       " 'Sanrey': 790,\n",
       " 'Antoniolo': 31,\n",
       " 'Barmazel': 63,\n",
       " 'Leveleki': 539,\n",
       " 'Caragnini': 148,\n",
       " 'Escare': 286,\n",
       " 'Ugtohan': 918,\n",
       " 'Creveuil': 201,\n",
       " 'Umpfenbach': 919,\n",
       " 'Eggonopoulou': 271,\n",
       " 'Gemander': 336,\n",
       " 'Arvanitidi': 39,\n",
       " 'Kleinhandler': 473,\n",
       " 'Duijtshoff': 266,\n",
       " 'Dufault-Roy': 265,\n",
       " 'Joutseno': 436,\n",
       " 'Gerych': 341,\n",
       " 'Evera': 289,\n",
       " 'Bartlick': 67,\n",
       " 'Wolkstein': 968,\n",
       " 'Mastros': 589,\n",
       " 'DeVorkin': 225,\n",
       " 'DSarma': 211,\n",
       " 'Bartrons': 68,\n",
       " 'Tulard': 909,\n",
       " 'Briach': 127,\n",
       " 'Charoensaengsanga': 161,\n",
       " 'Tatarinceva': 884,\n",
       " 'Kallipolitis': 444,\n",
       " 'Ringhoeven': 748,\n",
       " 'Jelti': 431,\n",
       " 'Danello': 217,\n",
       " \"Guo'An\": 364,\n",
       " 'Kashouty': 456,\n",
       " 'Lorn-Krause': 549,\n",
       " 'Suluape': 867,\n",
       " 'Aguilar-Gomez': 7,\n",
       " 'Sanfrey': 788,\n",
       " 'Magcase': 567,\n",
       " 'Dorean': 253,\n",
       " 'Lahoues': 518,\n",
       " 'Bararon': 60,\n",
       " 'Tsabrou': 907,\n",
       " 'Christenin': 172,\n",
       " 'Bhageerutty': 93,\n",
       " 'Rachok': 730,\n",
       " 'Didden': 239,\n",
       " 'McKiddie': 598,\n",
       " 'Fenstermacher': 306,\n",
       " 'Prondzinsky': 724,\n",
       " 'Severino-Geysen': 814,\n",
       " 'Madras-Steiner': 564,\n",
       " 'Avtziyiannis': 47,\n",
       " 'Vaiciunis': 923,\n",
       " 'Menkudale': 604,\n",
       " 'Knaupp': 478,\n",
       " 'Miller-Coburn': 611,\n",
       " 'Kassiem': 457,\n",
       " 'Thurstlic': 895,\n",
       " 'Valliere': 924,\n",
       " 'Diesner': 241,\n",
       " 'Kührer': 515,\n",
       " 'Tasoff': 883,\n",
       " 'Gurses': 365,\n",
       " 'Meissner': 601,\n",
       " 'Pagdiwala': 681,\n",
       " 'Nestyorkina': 653,\n",
       " 'Indragunawan': 416,\n",
       " 'Avarsky': 45,\n",
       " 'Young-Ian': 974,\n",
       " 'Legnerová': 529,\n",
       " 'Hasenteufel': 383,\n",
       " 'Schorlemmer': 802,\n",
       " 'Bratzz': 124,\n",
       " 'Krasniewska': 496,\n",
       " 'Cattelona': 155,\n",
       " 'Fiumefreddo': 313,\n",
       " 'Rafin': 732,\n",
       " 'Batistella': 70,\n",
       " 'Koperdowska': 486,\n",
       " 'Carrone': 152,\n",
       " 'Izylowski': 424,\n",
       " 'Ekis': 273,\n",
       " 'Ryplewski': 775,\n",
       " 'Loignan': 547,\n",
       " 'Öztunc': 999,\n",
       " 'Spencer-Laitt': 845,\n",
       " 'Fushida': 321,\n",
       " 'Madsen-Garza': 565,\n",
       " 'Sakovic': 783,\n",
       " 'Boeres': 106,\n",
       " 'Hogganvik': 394,\n",
       " 'Paskal': 687,\n",
       " 'Gromon': 359,\n",
       " 'Peretolchin': 699,\n",
       " 'Ablola': 2,\n",
       " 'Rudtf': 771,\n",
       " 'Körmer': 513,\n",
       " 'Corbetta': 189,\n",
       " 'Kravinskiy': 497,\n",
       " 'Tyralla': 913,\n",
       " 'Chiatula': 167,\n",
       " 'Stassinet': 852,\n",
       " 'Adams-Perron': 4,\n",
       " 'Possobon': 719,\n",
       " 'Nikirk': 657,\n",
       " 'Kronmark': 500,\n",
       " 'Quagmire': 729,\n",
       " 'Bragilevskaya': 122,\n",
       " 'Banotra': 58,\n",
       " 'Tellwright': 889,\n",
       " 'Kaisa': 442,\n",
       " 'Isyakarima': 422,\n",
       " 'Bergareche': 87,\n",
       " 'Guywanga': 370,\n",
       " 'Suwier': 870,\n",
       " 'Hyldekrog': 407,\n",
       " 'Stenow': 853,\n",
       " 'Spivacke': 847,\n",
       " 'Haush': 385,\n",
       " 'Rickle': 744,\n",
       " 'Gadhi': 324,\n",
       " 'Kärnberg': 511,\n",
       " 'Birve': 101,\n",
       " 'Doskocilová': 255,\n",
       " 'Teporelli': 890,\n",
       " 'Nahikian': 644,\n",
       " 'Nissen-Petersen': 659,\n",
       " 'Porsbjer': 717,\n",
       " 'Malyk': 575,\n",
       " 'Peippola': 692,\n",
       " 'Wereschtschako': 960,\n",
       " 'Sereday': 812,\n",
       " 'Dobberske': 246,\n",
       " 'Chiengthong': 168,\n",
       " 'Carltastro': 150,\n",
       " 'Fontbona': 315,\n",
       " 'Denilovici': 232,\n",
       " 'Dundgekar': 267,\n",
       " 'Kurdjumow': 508,\n",
       " 'Dalla-Fiore': 214,\n",
       " 'Skerlj': 835,\n",
       " 'Fouré': 318,\n",
       " 'Cintemane': 176,\n",
       " 'Rius': 752,\n",
       " 'Niyitunga': 660,\n",
       " 'Asder': 40,\n",
       " 'Danacheese': 216,\n",
       " 'Bauckloh': 72,\n",
       " 'Fearron': 301,\n",
       " 'Manlow': 579,\n",
       " 'Keyet': 464,\n",
       " 'Weatherall': 956,\n",
       " 'Anderson-Berens': 26,\n",
       " 'Jenövári': 432,\n",
       " 'Vendelová': 938,\n",
       " 'Hallakorpi': 378,\n",
       " 'Bope': 113,\n",
       " 'Santalahti': 791,\n",
       " 'Scheulen': 799,\n",
       " 'Morlath': 623,\n",
       " 'Lakshiminarayanan': 521,\n",
       " 'Tremblay-Beauvais': 905,\n",
       " 'Astrosky': 41,\n",
       " 'Smoliakova': 840,\n",
       " 'Pellicini': 693,\n",
       " 'Verardos': 939,\n",
       " 'Visnie': 948,\n",
       " 'Bentkowska': 85,\n",
       " 'Zachau': 980,\n",
       " 'VanWell': 927,\n",
       " 'Veeragavan': 935,\n",
       " 'Rodillas': 756,\n",
       " 'Daripa': 222,\n",
       " 'Graiver': 354,\n",
       " 'Gnieski': 348,\n",
       " 'Kapsokoli': 451,\n",
       " 'Kpoti': 494,\n",
       " 'Dantay': 220,\n",
       " 'Mwongi': 636,\n",
       " 'Kiernann': 469,\n",
       " 'Ogaldez': 666,\n",
       " 'Tofler-Riesel': 899,\n",
       " 'Bettega': 90,\n",
       " 'Scheski': 798,\n",
       " 'Hackell': 372,\n",
       " 'Struble': 860,\n",
       " 'Pokhrankar': 713,\n",
       " 'Basley': 69,\n",
       " 'Werndorff': 962,\n",
       " 'Brotánek': 130,\n",
       " 'Kevad': 462,\n",
       " 'Roukouz': 766,\n",
       " 'Donnester': 251,\n",
       " 'Yalowitz': 971,\n",
       " 'Belousov-Rogovskiy': 80,\n",
       " 'Kostinenko': 490,\n",
       " 'Szlanka': 874,\n",
       " 'Storrie': 855,\n",
       " 'Gibrelli': 344,\n",
       " 'Aiemniyom': 11,\n",
       " 'Rogallo': 758,\n",
       " 'Szandi': 872,\n",
       " 'Blitek': 105,\n",
       " 'Boor': 112,\n",
       " 'Dadò': 213,\n",
       " 'Lhoir': 540,\n",
       " 'Bägust': 141,\n",
       " 'Stip': 854,\n",
       " 'Sukarya': 865,\n",
       " 'Khabil': 465,\n",
       " 'Ufacik': 917,\n",
       " 'Dieuphel': 242,\n",
       " 'Charmack': 160,\n",
       " 'Indihar': 415,\n",
       " 'Elfeekak': 275,\n",
       " 'Kokmeijer': 480,\n",
       " 'Sachas': 778,\n",
       " 'Bergantinos': 86,\n",
       " 'Proiettis': 723,\n",
       " 'Warnan': 953,\n",
       " 'Monosorate': 621,\n",
       " 'Kutzli': 509,\n",
       " \"D'León\": 209,\n",
       " 'Zamblé': 985,\n",
       " 'Markouizos': 583,\n",
       " 'Aartse-Tuyn': 1,\n",
       " 'Bedoev': 75,\n",
       " 'Ribits': 741,\n",
       " 'Balyali': 55,\n",
       " 'Kirov': 470,\n",
       " 'Araúzo': 34,\n",
       " 'Malzahn': 576,\n",
       " 'Rovetti': 768,\n",
       " 'Durmola': 268,\n",
       " 'Hanslien': 381,\n",
       " 'Marshall-Hart': 585,\n",
       " 'Smith-Florence': 839,\n",
       " 'Ostafinski': 679,\n",
       " 'Devireddy': 236,\n",
       " 'Naudet': 647,\n",
       " 'Szymborska': 875,\n",
       " 'Whines': 963,\n",
       " 'DeMallie': 224,\n",
       " 'Finohr': 311,\n",
       " 'Nadrasik': 640,\n",
       " 'Tirras': 898,\n",
       " 'Bigley': 98,\n",
       " 'Daddeh': 212,\n",
       " 'Fajnburg': 292,\n",
       " 'Yushchenko': 979,\n",
       " 'Emurli': 280,\n",
       " 'Soudée': 843,\n",
       " 'Dertelus': 235,\n",
       " 'Kapetanaki': 450,\n",
       " 'Couchant': 196,\n",
       " 'Angeria': 29,\n",
       " 'Brehinier': 126,\n",
       " 'Auzas': 44,\n",
       " 'Zlowinski': 991,\n",
       " 'Ortos': 677,\n",
       " 'Kyrcz': 510,\n",
       " 'Pochs': 712,\n",
       " 'Gianpolos': 342,\n",
       " 'Melhuish': 602,\n",
       " 'Lobdell': 544,\n",
       " 'Hoertling': 393,\n",
       " 'Mirucki': 615,\n",
       " 'Phillips-Stumberger': 704,\n",
       " 'Buonemani': 134,\n",
       " 'Danthanarayana': 221,\n",
       " 'Mandarin': 577,\n",
       " 'Abunda': 3,\n",
       " 'Polukarov': 715,\n",
       " 'Retondo': 738,\n",
       " 'Orasche': 675,\n",
       " 'Gibbens': 343,\n",
       " 'Cisternelli': 178,\n",
       " 'MacCleary': 558,\n",
       " 'Arimiche': 37,\n",
       " 'Hodger': 391,\n",
       " 'Ruysdael': 774,\n",
       " 'Highcock': 389,\n",
       " 'Narancsimeg': 646,\n",
       " 'Chetang': 165,\n",
       " 'Varichon': 931,\n",
       " 'Jasil': 428,\n",
       " 'Gilimzyanov': 346,\n",
       " 'Piggeries': 708,\n",
       " 'Danias': 218,\n",
       " 'Varesio': 929,\n",
       " 'Sirman': 834,\n",
       " 'Mahatho': 568,\n",
       " 'Piepenbrink': 707,\n",
       " 'Erbrecht': 283,\n",
       " 'Naether': 643,\n",
       " 'Ohamkhal': 667,\n",
       " 'Cohn-Vargas': 180,\n",
       " 'Gutbier-Zakrzewska': 366,\n",
       " 'Rothau': 765,\n",
       " 'Domrane': 249,\n",
       " 'Camontes': 146,\n",
       " 'Ways': 955,\n",
       " 'Parfrey-Sambrooks': 685,\n",
       " 'Zatezalo': 988,\n",
       " 'Reuschenberg': 739,\n",
       " 'Missinen': 616,\n",
       " 'Fersling': 307,\n",
       " 'Rosinsky': 763,\n",
       " 'Tarowski': 881,\n",
       " 'Damarin': 215,\n",
       " 'Escuzar': 287,\n",
       " 'Barey': 62,\n",
       " 'Havig': 387,\n",
       " 'Barnik': 64,\n",
       " 'Tultar': 910,\n",
       " 'Galbaith': 328,\n",
       " 'Potschke': 720,\n",
       " 'Boogh': 111,\n",
       " 'Köppen': 512,\n",
       " 'Rirsasarn': 750,\n",
       " 'Rayya': 736,\n",
       " 'Udomaksorn': 916,\n",
       " 'Traughbur': 904,\n",
       " 'Bahit': 52,\n",
       " 'Gohzlan': 349,\n",
       " 'Seyfert': 815,\n",
       " 'Sickling': 828,\n",
       " 'Kosmack': 488,\n",
       " 'Ikezaki': 413,\n",
       " 'Dorozovec': 254,\n",
       " 'Goodlitt-Jones': 351,\n",
       " 'Csóka': 205,\n",
       " 'Gilderman': 345,\n",
       " 'Amasaib': 23,\n",
       " 'Amboulou': 25,\n",
       " 'McCluer': 594,\n",
       " 'Capalov': 147,\n",
       " 'Ybrayev': 973,\n",
       " 'Ahlstrin-Muniec': 9,\n",
       " 'Jatulis': 429,\n",
       " 'Olsavsky': 669,\n",
       " 'Madale': 561,\n",
       " \"D'Orgeval\": 210,\n",
       " 'Colagrosso': 183,\n",
       " 'Borzì': 114,\n",
       " 'Trevethan': 906,\n",
       " 'Aguoma': 8,\n",
       " 'Dratchev': 257,\n",
       " 'Oedingen': 665,\n",
       " 'Akinwole': 13,\n",
       " 'Sochnick': 841,\n",
       " 'Almila': 20,\n",
       " 'Flevares': 314,\n",
       " 'Hamerling': 379,\n",
       " 'Rizley': 753,\n",
       " 'Shagory': 818,\n",
       " 'Rodena': 754,\n",
       " 'Madjarski': 563,\n",
       " 'Daniloh': 219,\n",
       " 'Galarzo': 327,\n",
       " 'Rodgiriguez': 755,\n",
       " 'Tondayag': 902,\n",
       " 'Sanikow': 789,\n",
       " 'Lehosit': 530,\n",
       " 'Imatomi': 414,\n",
       " 'Nekrushev': 651,\n",
       " 'Penide': 695,\n",
       " 'Cecupak': 156,\n",
       " 'Ohoven': 668,\n",
       " 'Hauvette': 386,\n",
       " 'Loevner': 545,\n",
       " 'Princevas': 722,\n",
       " 'Barrajón': 66,\n",
       " 'Maylock': 592,\n",
       " 'Bomch': 108,\n",
       " 'Eyeland': 290,\n",
       " 'Sérvio': 876,\n",
       " 'Peim': 691,\n",
       " 'Tucman': 908,\n",
       " 'Tchitche': 886,\n",
       " 'Filtschew': 310,\n",
       " 'Chaviaras': 162,\n",
       " 'Meyon': 608,\n",
       " 'Foureau': 317,\n",
       " 'Çaliskantürk': 997,\n",
       " 'Baraff': 59,\n",
       " 'Pirak': 710,\n",
       " 'Scarafile': 797,\n",
       " 'Khushu': 466,\n",
       " 'Portolou': 718,\n",
       " 'Juinor': 437,\n",
       " 'Newbro': 655,\n",
       " 'Ariane': 36,\n",
       " 'Wiktop': 965,\n",
       " 'Blazovics': 103,\n",
       " 'Calfas': 144,\n",
       " 'VanAken': 926,\n",
       " 'Hostyn': 400,\n",
       " 'Sharrer': 822,\n",
       " 'Garkoets': 332,\n",
       " 'Boudler': 116,\n",
       " 'Merlin-Dufey': 606,\n",
       " 'Kmeto': 477,\n",
       " 'Delfish': 229,\n",
       " 'Essiambre': 288,\n",
       " 'Zvanskaya': 996,\n",
       " 'Ragusi': 733,\n",
       " 'Budyn': 132,\n",
       " 'Larhzaoui': 524,\n",
       " 'Kuczmar': 503,\n",
       " 'Penred': 696,\n",
       " 'Picknight': 705,\n",
       " 'Velichka': 936,\n",
       " 'Gerardín': 339,\n",
       " 'Nozik': 662,\n",
       " 'Letizi': 537,\n",
       " 'Baysting': 73,\n",
       " 'Broghamer': 129,\n",
       " 'Deknegt': 228,\n",
       " 'Derras': 234,\n",
       " 'Muvvala': 635,\n",
       " 'Macallster': 559,\n",
       " 'Mazacova': 593,\n",
       " 'Lutovská': 552,\n",
       " 'Conoy': 188,\n",
       " 'Kösker': 514,\n",
       " 'Wobito': 967,\n",
       " 'Ischia': 419,\n",
       " 'Wantwadi': 952,\n",
       " 'Varshavskya': 933,\n",
       " 'Manulli': 580,\n",
       " 'Drutt': 262,\n",
       " 'Kantziki': 449,\n",
       " 'Miniato': 612,\n",
       " 'Hunningher': 402,\n",
       " 'Mensíková': 605,\n",
       " 'Fario': 294,\n",
       " 'Zalli': 983,\n",
       " 'Sarivaara': 794,\n",
       " 'Rafeequllah': 731,\n",
       " 'Mundsperger': 633,\n",
       " 'Cadatil': 142,\n",
       " 'Kozlav': 493,\n",
       " 'Sayharman': 795,\n",
       " 'Stanszewski': 850,\n",
       " 'Gonzalez-Lyons': 350,\n",
       " 'Kotousov-Buntovnikova': 491,\n",
       " 'Faublas': 297,\n",
       " 'Kolarovich': 481,\n",
       " 'Salvia-Quiroz': 785,\n",
       " 'Keward': 463,\n",
       " 'Lemousset': 533,\n",
       " 'Byron-Fields': 139,\n",
       " 'Faszl': 295,\n",
       " 'Uchihori': 914,\n",
       " 'Lalieu': 522,\n",
       " 'Yurevsky': 978,\n",
       " 'Studniak': 862,\n",
       " 'Endeacott': 281,\n",
       " 'Sparey-Green': 844,\n",
       " 'Zafirellis': 981,\n",
       " 'Guimerà': 362,\n",
       " 'Scrisu': 805,\n",
       " 'Boihem': 107,\n",
       " 'Bedzeti': 76,\n",
       " 'Valozic': 925,\n",
       " 'Bounty': 117,\n",
       " 'Xauet': 970,\n",
       " 'Wangyal': 951,\n",
       " 'Cristopoletti': 202,\n",
       " 'Kashouris': 455,\n",
       " 'Schielin': 800,\n",
       " 'Vauro': 934,\n",
       " 'Ifada': 412,\n",
       " 'Laisis': 520,\n",
       " 'Peckosh': 690,\n",
       " 'Daulbayev': 223,\n",
       " 'Peltovuoma': 694,\n",
       " 'Lattie': 527,\n",
       " 'Pereszlay': 698,\n",
       " 'Werick': 961,\n",
       " 'Koliousi': 483,\n",
       " 'Stueckle': 863,\n",
       " 'Udesen': 915,\n",
       " 'Rednour': 737,\n",
       " 'Gertz': 340,\n",
       " 'Deriemaeker': 233,\n",
       " 'Cowens': 198,\n",
       " 'Cunahap': 208,\n",
       " 'Zampollini': 986,\n",
       " 'Ratwattananun': 734,\n",
       " 'Diogou': 243,\n",
       " 'Alshebany': 21,\n",
       " 'Zuzanska': 994,\n",
       " 'Spiesshofer': 846,\n",
       " 'McCullick': 596,\n",
       " \"Ma'at\": 556,\n",
       " 'Forcefield': 316,\n",
       " 'Colemans': 185,\n",
       " 'Didulica': 240,\n",
       " 'Bhotica': 95,\n",
       " 'Senchihina': 808,\n",
       " 'Saguinsin': 780,\n",
       " 'Talazitz': 877,\n",
       " 'Kenpet': 459,\n",
       " 'Shattenberg': 824,\n",
       " 'Kozicsko': 492,\n",
       " 'Thilke': 892,\n",
       " 'Donen': 250,\n",
       " 'Halbower': 375,\n",
       " 'Cserne': 204,\n",
       " 'Felixová': 303,\n",
       " 'Lenvo': 535,\n",
       " 'Saalmon': 777,\n",
       " 'Poumaredes': 721,\n",
       " 'Fatouretchi': 296,\n",
       " 'Romeshika': 761,\n",
       " 'Nankissoor': 645,\n",
       " 'Chrumka': 173,\n",
       " 'Lagardère': 517,\n",
       " 'NeJame': 648,\n",
       " 'Kanieski': 448,\n",
       " 'Biliet': 100,\n",
       " 'Zgurskaya': 989,\n",
       " 'Cordreuse': 191,\n",
       " 'Mladosic': 617,\n",
       " 'Saporovsky': 792,\n",
       " 'Lamap': 523,\n",
       " 'Senior-Seda': 809,\n",
       " 'Genous': 338,\n",
       " 'Waltherd': 950,\n",
       " 'Giuffredi': 347,\n",
       " 'Andrham': 28,\n",
       " 'Atwan': 42,\n",
       " 'Pärnapuu': 728,\n",
       " 'Mabadi': 557,\n",
       " 'Selinenkova': 807,\n",
       " 'Olveczky': 671,\n",
       " 'Kolbaneva': 482,\n",
       " 'Wowereit': 969,\n",
       " 'Benadretti': 81,\n",
       " 'Skrivanos': 836,\n",
       " 'Moucada': 627,\n",
       " 'Lulman': 551,\n",
       " 'Bártková': 140,\n",
       " 'Arapatsakos': 33,\n",
       " 'Mondine': 619,\n",
       " 'Llanodosa': 542,\n",
       " 'Papikaropoulos': 684,\n",
       " 'Leichner': 531,\n",
       " 'Karrer': 453,\n",
       " 'Masem': 588,\n",
       " 'Jarnig': 427,\n",
       " 'Melofiro': 603,\n",
       " 'Uneanya': 920,\n",
       " 'Kolouris': 484,\n",
       " 'Belhanda': 79,\n",
       " 'Lemaitre': 532,\n",
       " 'Agtay': 6,\n",
       " 'SheLuxe': 825,\n",
       " 'Crowshoe': 203,\n",
       " 'Embalsado': 277,\n",
       " 'Kaqorraj': 452,\n",
       " 'Youssif': 975,\n",
       " 'Larkin-Battista': 525,\n",
       " 'Bracholdt': 120,\n",
       " 'Hopek': 398,\n",
       " 'Schmid-Moll': 801,\n",
       " 'Aarestad': 0,\n",
       " 'Mihalicka': 609,\n",
       " 'Amatniek': 24,\n",
       " 'Bible': 96,\n",
       " 'Geidmane': 334,\n",
       " 'Perrilli': 701,\n",
       " 'Arturson': 38,\n",
       " 'Oriuchi': 676,\n",
       " 'Marszolek': 586,\n",
       " 'Techenburg': 887,\n",
       " 'Maliníková': 574,\n",
       " 'Hammersmtih': 380,\n",
       " 'Comoglio': 187,\n",
       " 'Bouritius': 118,\n",
       " 'Meisnerová': 600,\n",
       " 'Divdel': 245,\n",
       " 'Odutayo': 664,\n",
       " 'Cikojevic': 174,\n",
       " 'Wauke': 954,\n",
       " 'Crago': 199,\n",
       " 'Alcasey': 17,\n",
       " 'Stahuljak': 849,\n",
       " 'Leontongh': 536,\n",
       " 'Esbri': 285,\n",
       " 'Tangert': 879,\n",
       " 'Murray-Gibson': 634,\n",
       " 'Moroeno': 624,\n",
       " 'Palawatvichai': 683,\n",
       " 'Obershaw': 663,\n",
       " 'Aktypi': 14,\n",
       " 'Weichenrieder': 958,\n",
       " 'Kumelas': 506,\n",
       " 'Olsbauer': 670,\n",
       " 'Patai': 688,\n",
       " 'Noviaty': 661,\n",
       " 'Fetting': 308,\n",
       " 'Se-young': 806,\n",
       " 'Paghiligan': 682,\n",
       " 'Callan-Jones': 145,\n",
       " 'Ianev': 411,\n",
       " 'Mufua': 630,\n",
       " 'Gryzlov': 361,\n",
       " 'Kosokoff': 489,\n",
       " 'Badreddin': 49,\n",
       " 'Cordrie': 192,\n",
       " 'Alsta': 22,\n",
       " 'Laika': 519,\n",
       " 'Tomoroni': 901,\n",
       " 'Sadeghian': 779,\n",
       " 'Ismajlovic': 420,\n",
       " 'Skuhra': 837,\n",
       " 'Peplyarski': 697,\n",
       " 'Shanaughan': 820,\n",
       " 'Magaev': 566,\n",
       " 'Parkinson-Dermott': 686,\n",
       " 'Neraas': 652,\n",
       " 'Janos-Orzepowska': 426,\n",
       " 'Keheler': 458,\n",
       " 'Lykins': 553,\n",
       " 'Cheesmur': 163,\n",
       " 'Minoi': 613,\n",
       " 'Makhatho': 571,\n",
       " 'Halbheer': 374,\n",
       " 'Tiernas': 896,\n",
       " 'Zamanli': 984,\n",
       " 'Grosslichtova': 360,\n",
       " 'Riechel-Sarup': 746,\n",
       " 'Nedawal': 650,\n",
       " 'Zapasiewicz': 987,\n",
       " 'Kizilocak': 472,\n",
       " 'Malamy': 572,\n",
       " 'Demowlasky': 231,\n",
       " 'Main-Wilson': 569,\n",
       " 'Hruzík': 401,\n",
       " 'Pickus': 706,\n",
       " 'Ripotella': 749,\n",
       " 'Eirth': 272,\n",
       " 'El-Mismari': 274,\n",
       " 'Salayo': 784,\n",
       " 'Tiopez': 897,\n",
       " 'Corrada': 193,\n",
       " 'Drywer': 264,\n",
       " 'Fusel': 320,\n",
       " 'Bonhommet': 110,\n",
       " 'Oussana': 680,\n",
       " 'Lytseos': 555,\n",
       " 'Ontora': 673,\n",
       " 'Schutzbier': 803,\n",
       " 'Burchfiel': 135,\n",
       " 'Akhmatov': 12,\n",
       " 'Hajebi': 373,\n",
       " 'Teighe': 888,\n",
       " 'Bradea': 121,\n",
       " 'Movva': 628,\n",
       " 'Websheet': 957,\n",
       " 'Hall-Bowden': 377,\n",
       " 'Bencsik': 82,\n",
       " 'Engerini': 282,\n",
       " 'Defreyn': 227,\n",
       " 'Holmertz': 396,\n",
       " 'General': 337,\n",
       " 'Sheuli': 826,\n",
       " 'Domachowske': 248,\n",
       " 'Ciofassa': 177,\n",
       " 'Galmozzi': 329,\n",
       " 'Cilbeylioglu': 175,\n",
       " 'Buscikas': 137,\n",
       " 'Kivuagha': 471,\n",
       " 'Bultasová': 133,\n",
       " 'Kuje': 504,\n",
       " 'Zajacówna': 982,\n",
       " 'Lucero-Lhullier': 550,\n",
       " 'Ernory': 284,\n",
       " 'Viguer': 942,\n",
       " 'Oppenhiemer': 674,\n",
       " 'Nadsadniy': 641,\n",
       " 'Markel': 582,\n",
       " 'Kabosu': 441,\n",
       " 'Haukom': 384,\n",
       " 'Madias': 562}"
      ]
     },
     "execution_count": 8,
     "metadata": {},
     "output_type": "execute_result"
    }
   ],
   "source": [
    "label_dict"
   ]
  },
  {
   "cell_type": "markdown",
   "metadata": {},
   "source": [
    "## Create LHS<a class=\"anchor\" id=\"fourth-bullet\"></a>"
   ]
  },
  {
   "cell_type": "markdown",
   "metadata": {},
   "source": [
    "[Back to the Table of Contents](#zero-bullet)"
   ]
  },
  {
   "cell_type": "markdown",
   "metadata": {},
   "source": [
    "Transform the validation data into spectrograms"
   ]
  },
  {
   "cell_type": "code",
   "execution_count": 24,
   "metadata": {
    "pycharm": {
     "name": "#%%\n"
    }
   },
   "outputs": [],
   "source": [
    "# create a list of misspelling and an according list of labels\n",
    "misspellings = list(val_df[['mistake_1', 'mistake_2', 'mistake_3', 'mistake_4']].values.flatten())\n",
    "misspellings_labels  = np.repeat(val_df[f'label_{RHS}'], 4)"
   ]
  },
  {
   "cell_type": "code",
   "execution_count": 26,
   "metadata": {
    "pycharm": {
     "name": "#%%\n"
    }
   },
   "outputs": [
    {
     "data": {
      "text/plain": [
       "4000"
      ]
     },
     "execution_count": 26,
     "metadata": {},
     "output_type": "execute_result"
    }
   ],
   "source": [
    "# num samples (1000 * 4)\n",
    "num_misspellings = len(misspellings)\n",
    "num_misspellings"
   ]
  },
  {
   "cell_type": "code",
   "execution_count": 27,
   "metadata": {
    "pycharm": {
     "name": "#%%\n"
    }
   },
   "outputs": [
    {
     "name": "stdout",
     "output_type": "stream",
     "text": [
      "Creation of 4000 mel spectrograms took us 93.2628390789032 seconds\n"
     ]
    }
   ],
   "source": [
    "# create spectrograms for misspellings\n",
    "start = time.time()\n",
    "\n",
    "# the smaller is the batch size, the better the produced mel spectrograms are and the more time it takes.\n",
    "# Since the batch_size for generation were chosen to be 5, it's the optimal size for validation.\n",
    "# Note: Producing ~4000 spectrograms with batch_size 5 takes ~100 seconds\n",
    "batch_size = 5\n",
    "\n",
    "name_batches = [misspellings[i * batch_size: (i + 1) * batch_size] for i in range(int(num_misspellings / batch_size))]\n",
    "\n",
    "mel_outputs_postnet, texts = [], []\n",
    "\n",
    "for n in name_batches:\n",
    "    mel_output, text = tacotron2.encode_batch(n)\n",
    "    mel_outputs_postnet += mel_output.cpu()\n",
    "    texts += text\n",
    "    \n",
    "stop = time.time()\n",
    "\n",
    "print(f'Creation of {num_misspellings} mel spectrograms took us {stop - start} seconds')"
   ]
  },
  {
   "cell_type": "code",
   "execution_count": 73,
   "metadata": {
    "pycharm": {
     "name": "#%%\n"
    }
   },
   "outputs": [],
   "source": [
    "# drop nulls from each spectrogram\n",
    "mel_unified = [drop_nulls(mel.cpu().squeeze()) for mel in mel_outputs_postnet]"
   ]
  },
  {
   "cell_type": "code",
   "execution_count": 74,
   "metadata": {
    "pycharm": {
     "name": "#%%\n"
    }
   },
   "outputs": [],
   "source": [
    "# resize each spectrogram to fixed size, that was used during training\n",
    "mel_unified = [F.resize(mel.unsqueeze(0).unsqueeze(1), [80, 100]) for mel in mel_unified]"
   ]
  },
  {
   "cell_type": "code",
   "execution_count": 75,
   "metadata": {
    "pycharm": {
     "name": "#%%\n"
    }
   },
   "outputs": [],
   "source": [
    "# stack the spectrograms into one tensor\n",
    "mel_unified = torch.stack(mel_unified).squeeze(1)"
   ]
  },
  {
   "cell_type": "code",
   "execution_count": 76,
   "metadata": {
    "pycharm": {
     "name": "#%%\n"
    }
   },
   "outputs": [
    {
     "data": {
      "text/plain": [
       "torch.Size([4000, 1, 80, 100])"
      ]
     },
     "execution_count": 76,
     "metadata": {},
     "output_type": "execute_result"
    }
   ],
   "source": [
    "# inspect the outcome shape\n",
    "mel_unified.shape"
   ]
  },
  {
   "cell_type": "code",
   "execution_count": 77,
   "metadata": {
    "pycharm": {
     "name": "#%%\n"
    }
   },
   "outputs": [],
   "source": [
    "# put the spectrograms into DataLoader and specify batch size\n",
    "mel_unified = DataLoader(mel_unified, batch_size=32)"
   ]
  },
  {
   "cell_type": "markdown",
   "metadata": {
    "pycharm": {
     "name": "#%% md\n"
    }
   },
   "source": [
    "# Analysis<a class=\"anchor\" id=\"fifth-bullet\"></a>"
   ]
  },
  {
   "cell_type": "markdown",
   "metadata": {},
   "source": [
    "[Back to the Table of Contents](#zero-bullet)"
   ]
  },
  {
   "cell_type": "markdown",
   "metadata": {},
   "source": [
    "### Initialize the desired model"
   ]
  },
  {
   "cell_type": "code",
   "execution_count": 9,
   "metadata": {
    "pycharm": {
     "name": "#%%\n"
    }
   },
   "outputs": [],
   "source": [
    "device = torch.device('cuda') # or CPU"
   ]
  },
  {
   "cell_type": "code",
   "execution_count": 10,
   "metadata": {
    "pycharm": {
     "name": "#%%\n"
    }
   },
   "outputs": [],
   "source": [
    "# Choose the desired model for validation\n",
    "# Num labels: 1.000 : Model num\n",
    "# SCNN var.1 (ReLU) : 1\n",
    "# SCNN var.1 (Sigm) : 2\n",
    "# SCNN var.2 (ReLU) : 3\n",
    "# SCNN var.2 (Sigm) : 4\n",
    "\n",
    "# Num labels: 10.000\n",
    "# SCNN var.3 (ReLU) : 5\n",
    "# SCNN var.3 (Sigm) : 6\n",
    "# SCNN var.4 (ReLU) : 7\n",
    "# SCNN var.4 (Sigm) : 8\n",
    "\n",
    "model_num = 6"
   ]
  },
  {
   "cell_type": "markdown",
   "metadata": {},
   "source": [
    "Import the model"
   ]
  },
  {
   "cell_type": "code",
   "execution_count": 11,
   "metadata": {
    "pycharm": {
     "name": "#%%\n"
    },
    "scrolled": true
   },
   "outputs": [
    {
     "name": "stdout",
     "output_type": "stream",
     "text": [
      "Forward method imported from: C:\\Users\\Oleg\\Documents\\Masterarbeit\\STT\\models\\architecture_6\n",
      "State dict imported for best loss model\n"
     ]
    }
   ],
   "source": [
    "model = import_model(root, model_num)"
   ]
  },
  {
   "cell_type": "markdown",
   "metadata": {},
   "source": [
    "Rebase to the desired device"
   ]
  },
  {
   "cell_type": "code",
   "execution_count": 71,
   "metadata": {
    "pycharm": {
     "name": "#%%\n"
    }
   },
   "outputs": [
    {
     "data": {
      "text/plain": [
       "CNN(\n",
       "  (conv_layers): Sequential(\n",
       "    (0): Conv2d(1, 64, kernel_size=(3, 3), stride=(1, 1), padding=(1, 1))\n",
       "    (1): BatchNorm2d(64, eps=1e-05, momentum=0.1, affine=True, track_running_stats=True)\n",
       "    (2): Sigmoid()\n",
       "    (3): MaxPool2d(kernel_size=2, stride=2, padding=0, dilation=1, ceil_mode=False)\n",
       "    (4): Conv2d(64, 128, kernel_size=(3, 3), stride=(1, 1), padding=(1, 1))\n",
       "    (5): BatchNorm2d(128, eps=1e-05, momentum=0.1, affine=True, track_running_stats=True)\n",
       "    (6): Sigmoid()\n",
       "    (7): MaxPool2d(kernel_size=2, stride=2, padding=0, dilation=1, ceil_mode=False)\n",
       "    (8): Conv2d(128, 256, kernel_size=(3, 3), stride=(1, 1), padding=(1, 1))\n",
       "    (9): BatchNorm2d(256, eps=1e-05, momentum=0.1, affine=True, track_running_stats=True)\n",
       "    (10): Sigmoid()\n",
       "    (11): Dropout(p=0.25, inplace=False)\n",
       "  )\n",
       "  (lstm): LSTM(256, 512, num_layers=2, batch_first=True, dropout=0.25, bidirectional=True)\n",
       "  (flatten): Flatten(start_dim=1, end_dim=-1)\n",
       "  (fc_layers): Sequential(\n",
       "    (0): Linear(in_features=512, out_features=12800, bias=True)\n",
       "    (1): BatchNorm1d(12800, eps=1e-05, momentum=0.1, affine=True, track_running_stats=True)\n",
       "    (2): Sigmoid()\n",
       "    (3): Linear(in_features=12800, out_features=10000, bias=True)\n",
       "  )\n",
       ")"
      ]
     },
     "execution_count": 71,
     "metadata": {},
     "output_type": "execute_result"
    }
   ],
   "source": [
    "model.to(device)"
   ]
  },
  {
   "cell_type": "code",
   "execution_count": 84,
   "metadata": {},
   "outputs": [],
   "source": [
    "# Specify the threshold t (t <= num_labels)\n",
    "t = 1000"
   ]
  },
  {
   "cell_type": "code",
   "execution_count": 78,
   "metadata": {
    "pycharm": {
     "name": "#%%\n"
    }
   },
   "outputs": [],
   "source": [
    "# create predictions using the initialized model in evaluation mode\n",
    "outputs = []\n",
    "model.eval()\n",
    "with torch.no_grad():\n",
    "    for data in mel_unified:\n",
    "        data = data.to(device)\n",
    "        # data = data.permute(0, 3, 1, 2)\n",
    "\n",
    "        # Forward pass\n",
    "        output = model(data)\n",
    "        _, predicted = torch.topk(output.data, t, dim=1)\n",
    "        outputs.append(predicted.cpu())\n",
    "predicted = torch.cat(outputs, dim=0)\n",
    "to_predict = [t[2] for t in texts]"
   ]
  },
  {
   "cell_type": "code",
   "execution_count": 80,
   "metadata": {
    "pycharm": {
     "name": "#%%\n"
    }
   },
   "outputs": [],
   "source": [
    "# find the classification distribution and the number of 'bad classifications'\n",
    "found_dict = {name: -100 for name in to_predict}\n",
    "for prediction, name in zip(predicted.numpy(), to_predict):\n",
    "    label_to_predict = val_df[val_df.isin([name]).any(axis=1)][f'label_{RHS}'].values[0]\n",
    "    # print(f\"LF: {name}: {label_to_predict}\")\n",
    "    try:\n",
    "        found = list(prediction).index(label_to_predict)\n",
    "        # print(f'Found on pos {found}')\n",
    "    except ValueError:\n",
    "        found = -1\n",
    "        # print('Not found.')\n",
    "    found_dict[name] = found\n",
    "    \n",
    "# Uncomment to show the distribution histogram\n",
    "# sns.set_style(\"whitegrid\")\n",
    "# sns.set(rc={\"figure.figsize\": (30, 10)})\n",
    "# sns.histplot(x=list(found_dict.values()))"
   ]
  },
  {
   "cell_type": "markdown",
   "metadata": {},
   "source": [
    "Number of the exact matches, i.e. threshold t = 0"
   ]
  },
  {
   "cell_type": "code",
   "execution_count": 82,
   "metadata": {
    "pycharm": {
     "name": "#%%\n"
    }
   },
   "outputs": [
    {
     "name": "stdout",
     "output_type": "stream",
     "text": [
      "2926 exact matches - 1074 missmatches  - 26.85 %\n"
     ]
    }
   ],
   "source": [
    "exact_matches = sum([1 for name, pos in found_dict.items() if pos == 0])\n",
    "print(f'{exact_matches} exact matches - {num_misspellings - exact_matches} missmatches  - {((num_misspellings-exact_matches)*100)/num_misspellings:.2f} %')"
   ]
  },
  {
   "cell_type": "code",
   "execution_count": 85,
   "metadata": {
    "pycharm": {
     "name": "#%%\n"
    }
   },
   "outputs": [
    {
     "data": {
      "application/vnd.plotly.v1+json": {
       "config": {
        "plotlyServerURL": "https://plot.ly"
       },
       "data": [
        {
         "nbinsx": 50,
         "type": "histogram",
         "x": [
          0,
          0,
          0,
          5,
          0,
          12,
          0,
          0,
          0,
          0,
          0,
          0,
          4,
          0,
          13,
          1,
          1,
          1,
          7,
          2,
          0,
          0,
          0,
          1,
          0,
          0,
          0,
          0,
          0,
          0,
          0,
          0,
          0,
          2,
          0,
          0,
          0,
          0,
          0,
          1,
          0,
          0,
          0,
          0,
          1,
          0,
          0,
          0,
          0,
          3,
          0,
          0,
          3,
          5,
          0,
          0,
          2,
          0,
          5,
          3,
          0,
          0,
          0,
          6,
          0,
          0,
          0,
          2,
          0,
          0,
          0,
          0,
          5,
          0,
          2,
          0,
          0,
          1,
          2,
          0,
          0,
          0,
          0,
          0,
          0,
          0,
          0,
          0,
          0,
          7,
          0,
          0,
          1,
          68,
          0,
          0,
          0,
          0,
          0,
          12,
          0,
          0,
          0,
          0,
          69,
          0,
          0,
          3,
          27,
          1,
          24,
          0,
          0,
          0,
          0,
          0,
          0,
          4,
          0,
          10,
          0,
          1,
          1,
          2,
          0,
          0,
          0,
          0,
          1,
          0,
          0,
          6,
          4,
          5,
          17,
          0,
          2,
          0,
          0,
          2,
          0,
          0,
          0,
          0,
          2,
          1,
          0,
          0,
          5,
          4,
          2,
          8,
          168,
          3,
          17,
          4,
          32,
          17,
          0,
          2,
          0,
          1,
          0,
          0,
          1,
          0,
          0,
          0,
          0,
          0,
          0,
          0,
          0,
          0,
          0,
          0,
          0,
          0,
          0,
          0,
          0,
          0,
          0,
          0,
          0,
          0,
          0,
          16,
          0,
          0,
          0,
          0,
          0,
          2,
          4,
          5,
          0,
          0,
          0,
          0,
          0,
          0,
          0,
          0,
          127,
          0,
          0,
          1,
          0,
          1,
          0,
          0,
          2,
          11,
          96,
          0,
          0,
          0,
          2,
          5,
          0,
          0,
          0,
          0,
          1,
          0,
          0,
          0,
          1,
          0,
          1,
          0,
          0,
          0,
          0,
          0,
          0,
          0,
          3,
          0,
          0,
          0,
          0,
          0,
          0,
          0,
          0,
          0,
          7,
          22,
          0,
          0,
          0,
          2,
          2,
          0,
          0,
          0,
          0,
          0,
          0,
          52,
          2,
          28,
          11,
          0,
          4,
          0,
          1,
          0,
          0,
          0,
          0,
          1,
          0,
          0,
          0,
          0,
          0,
          1,
          0,
          0,
          0,
          0,
          0,
          0,
          0,
          29,
          79,
          37,
          0,
          9,
          1,
          0,
          0,
          0,
          0,
          0,
          0,
          2,
          0,
          0,
          0,
          0,
          0,
          0,
          0,
          1,
          0,
          0,
          0,
          0,
          0,
          0,
          24,
          0,
          56,
          82,
          17,
          69,
          0,
          3,
          0,
          0,
          0,
          1,
          42,
          1,
          18,
          21,
          0,
          0,
          41,
          18,
          40,
          2,
          0,
          0,
          8,
          0,
          0,
          0,
          0,
          0,
          2,
          0,
          0,
          2,
          0,
          0,
          30,
          3,
          0,
          0,
          1,
          0,
          0,
          0,
          0,
          0,
          0,
          0,
          0,
          0,
          3,
          0,
          0,
          38,
          2,
          0,
          0,
          1,
          0,
          0,
          1,
          0,
          0,
          0,
          28,
          1,
          3,
          0,
          3,
          0,
          33,
          13,
          2,
          0,
          1,
          0,
          0,
          54,
          0,
          0,
          1,
          0,
          0,
          0,
          0,
          0,
          0,
          13,
          2,
          1,
          18,
          0,
          0,
          2,
          1,
          8,
          12,
          0,
          0,
          0,
          2,
          0,
          14,
          14,
          0,
          0,
          0,
          4,
          0,
          17,
          3,
          0,
          0,
          0,
          0,
          4,
          0,
          2,
          0,
          0,
          1,
          1,
          0,
          1,
          5,
          1,
          0,
          0,
          0,
          0,
          0,
          0,
          0,
          1,
          3,
          0,
          0,
          0,
          0,
          0,
          0,
          0,
          0,
          0,
          0,
          0,
          0,
          0,
          6,
          0,
          0,
          0,
          0,
          0,
          0,
          1,
          0,
          0,
          0,
          0,
          1,
          0,
          0,
          0,
          0,
          2,
          0,
          0,
          0,
          0,
          0,
          0,
          0,
          0,
          0,
          0,
          0,
          0,
          0,
          0,
          0,
          1,
          0,
          0,
          0,
          0,
          0,
          1,
          1,
          0,
          9,
          0,
          0,
          0,
          0,
          0,
          0,
          0,
          0,
          1,
          0,
          0,
          0,
          233,
          4,
          0,
          0,
          0,
          0,
          0,
          0,
          0,
          0,
          0,
          0,
          0,
          0,
          0,
          0,
          0,
          0,
          0,
          0,
          0,
          0,
          0,
          0,
          0,
          0,
          0,
          0,
          0,
          0,
          0,
          2,
          0,
          9,
          0,
          0,
          0,
          0,
          1,
          0,
          11,
          11,
          1,
          15,
          2,
          8,
          0,
          64,
          1,
          0,
          0,
          0,
          0,
          0,
          0,
          2,
          0,
          0,
          0,
          0,
          0,
          0,
          4,
          0,
          0,
          0,
          0,
          0,
          0,
          0,
          0,
          0,
          0,
          0,
          1,
          0,
          3,
          0,
          1,
          0,
          1,
          1,
          2,
          3,
          0,
          0,
          0,
          0,
          0,
          0,
          0,
          0,
          0,
          0,
          0,
          0,
          0,
          5,
          0,
          0,
          0,
          0,
          0,
          0,
          0,
          0,
          1,
          0,
          0,
          0,
          0,
          6,
          0,
          0,
          0,
          3,
          0,
          0,
          0,
          0,
          0,
          0,
          1,
          3,
          1,
          1,
          0,
          0,
          0,
          0,
          0,
          0,
          0,
          4,
          2,
          0,
          0,
          0,
          0,
          0,
          0,
          2,
          0,
          0,
          0,
          0,
          0,
          8,
          0,
          0,
          0,
          0,
          1,
          0,
          0,
          0,
          0,
          0,
          0,
          0,
          0,
          0,
          0,
          0,
          0,
          78,
          0,
          1,
          1,
          0,
          0,
          0,
          0,
          0,
          0,
          5,
          0,
          0,
          0,
          0,
          1,
          0,
          0,
          0,
          0,
          0,
          0,
          0,
          0,
          2,
          0,
          1,
          10,
          0,
          0,
          0,
          0,
          0,
          0,
          0,
          2,
          0,
          0,
          0,
          0,
          0,
          0,
          16,
          0,
          0,
          0,
          4,
          19,
          0,
          0,
          0,
          3,
          2,
          0,
          74,
          0,
          0,
          0,
          0,
          0,
          0,
          0,
          0,
          0,
          0,
          3,
          0,
          0,
          10,
          0,
          3,
          0,
          0,
          0,
          0,
          0,
          0,
          2,
          3,
          2,
          1,
          13,
          0,
          0,
          0,
          0,
          0,
          0,
          0,
          0,
          0,
          0,
          0,
          1,
          10,
          1,
          0,
          2,
          0,
          0,
          0,
          0,
          0,
          0,
          12,
          0,
          1,
          0,
          0,
          0,
          0,
          76,
          14,
          0,
          31,
          0,
          14,
          2,
          0,
          0,
          0,
          0,
          2,
          0,
          0,
          0,
          2,
          1,
          0,
          0,
          0,
          0,
          2,
          0,
          0,
          0,
          0,
          0,
          0,
          0,
          1,
          0,
          0,
          0,
          0,
          9,
          5,
          8,
          1,
          1,
          0,
          0,
          1,
          0,
          0,
          0,
          0,
          0,
          1,
          12,
          3,
          7,
          50,
          0,
          0,
          0,
          28,
          0,
          0,
          0,
          5,
          0,
          0,
          0,
          0,
          0,
          0,
          0,
          0,
          0,
          0,
          0,
          0,
          0,
          0,
          0,
          0,
          1,
          0,
          0,
          -1,
          343,
          -1,
          0,
          0,
          0,
          0,
          0,
          5,
          0,
          738,
          0,
          1,
          0,
          0,
          1,
          1,
          0,
          0,
          0,
          0,
          0,
          0,
          0,
          0,
          0,
          3,
          0,
          0,
          2,
          0,
          0,
          0,
          0,
          0,
          0,
          2,
          0,
          0,
          2,
          1,
          0,
          0,
          2,
          1,
          2,
          2,
          5,
          77,
          0,
          0,
          47,
          0,
          2,
          48,
          0,
          16,
          3,
          0,
          0,
          0,
          564,
          246,
          0,
          6,
          57,
          204,
          12,
          0,
          0,
          0,
          0,
          1,
          0,
          1,
          2,
          60,
          0,
          0,
          0,
          2,
          0,
          314,
          0,
          0,
          0,
          0,
          1,
          0,
          0,
          0,
          0,
          0,
          0,
          0,
          0,
          0,
          0,
          0,
          0,
          0,
          0,
          0,
          0,
          9,
          1,
          11,
          0,
          0,
          0,
          0,
          0,
          14,
          0,
          0,
          0,
          0,
          34,
          1,
          0,
          0,
          0,
          0,
          0,
          1,
          0,
          0,
          265,
          1,
          5,
          3,
          0,
          1,
          0,
          0,
          3,
          0,
          0,
          0,
          0,
          2,
          0,
          1,
          0,
          0,
          0,
          0,
          0,
          0,
          0,
          0,
          0,
          195,
          0,
          0,
          4,
          225,
          49,
          0,
          0,
          0,
          32,
          0,
          0,
          0,
          0,
          0,
          0,
          0,
          0,
          0,
          11,
          3,
          0,
          0,
          0,
          0,
          0,
          0,
          0,
          0,
          0,
          0,
          1,
          0,
          0,
          0,
          56,
          0,
          0,
          0,
          35,
          1,
          0,
          1,
          0,
          0,
          20,
          0,
          0,
          0,
          0,
          11,
          0,
          0,
          0,
          0,
          0,
          0,
          0,
          0,
          0,
          0,
          1,
          0,
          0,
          0,
          0,
          1,
          0,
          11,
          7,
          244,
          1,
          50,
          2,
          1,
          0,
          0,
          0,
          0,
          0,
          0,
          0,
          0,
          0,
          0,
          1,
          0,
          0,
          0,
          0,
          0,
          0,
          0,
          0,
          0,
          0,
          0,
          0,
          19,
          0,
          1,
          0,
          0,
          0,
          0,
          0,
          0,
          0,
          0,
          0,
          0,
          0,
          0,
          0,
          0,
          0,
          0,
          0,
          0,
          0,
          2,
          0,
          0,
          504,
          0,
          0,
          0,
          0,
          0,
          1,
          0,
          0,
          0,
          0,
          0,
          0,
          0,
          0,
          0,
          0,
          0,
          0,
          0,
          3,
          0,
          0,
          0,
          0,
          0,
          0,
          0,
          0,
          0,
          0,
          0,
          0,
          0,
          0,
          0,
          0,
          0,
          0,
          0,
          0,
          0,
          6,
          0,
          1,
          0,
          0,
          2,
          0,
          0,
          1,
          0,
          0,
          0,
          0,
          0,
          0,
          0,
          0,
          0,
          0,
          0,
          1,
          0,
          0,
          0,
          0,
          2,
          20,
          34,
          47,
          0,
          0,
          0,
          0,
          0,
          2,
          0,
          0,
          0,
          0,
          0,
          0,
          0,
          0,
          0,
          0,
          0,
          0,
          0,
          0,
          0,
          751,
          0,
          1,
          0,
          0,
          0,
          0,
          0,
          18,
          3,
          0,
          1,
          0,
          0,
          0,
          0,
          0,
          0,
          0,
          0,
          0,
          0,
          0,
          0,
          0,
          0,
          0,
          0,
          0,
          0,
          97,
          0,
          0,
          1,
          0,
          0,
          0,
          0,
          0,
          0,
          0,
          0,
          0,
          0,
          0,
          0,
          0,
          0,
          0,
          0,
          0,
          0,
          0,
          0,
          0,
          1,
          0,
          0,
          0,
          1,
          0,
          0,
          0,
          0,
          0,
          0,
          0,
          0,
          0,
          0,
          1,
          3,
          0,
          0,
          2,
          1,
          0,
          0,
          1,
          0,
          79,
          5,
          0,
          0,
          2,
          1,
          0,
          0,
          0,
          0,
          0,
          0,
          0,
          4,
          0,
          6,
          0,
          0,
          0,
          0,
          0,
          0,
          0,
          1,
          0,
          36,
          0,
          0,
          0,
          5,
          0,
          0,
          0,
          0,
          0,
          0,
          0,
          0,
          0,
          0,
          0,
          0,
          0,
          0,
          0,
          2,
          0,
          1,
          8,
          7,
          5,
          2,
          1,
          0,
          0,
          0,
          0,
          0,
          0,
          0,
          0,
          0,
          0,
          0,
          0,
          0,
          0,
          0,
          0,
          0,
          53,
          0,
          0,
          0,
          0,
          0,
          0,
          0,
          0,
          0,
          3,
          3,
          0,
          5,
          0,
          1,
          0,
          0,
          0,
          0,
          0,
          5,
          0,
          0,
          0,
          0,
          0,
          0,
          0,
          0,
          0,
          0,
          0,
          0,
          0,
          0,
          5,
          6,
          0,
          0,
          0,
          0,
          0,
          0,
          119,
          0,
          0,
          0,
          0,
          0,
          2,
          0,
          0,
          0,
          0,
          0,
          0,
          0,
          0,
          0,
          0,
          0,
          0,
          0,
          0,
          0,
          0,
          1,
          0,
          0,
          9,
          0,
          0,
          0,
          0,
          1,
          0,
          0,
          0,
          0,
          1,
          0,
          0,
          0,
          2,
          0,
          0,
          0,
          0,
          1,
          0,
          0,
          0,
          1,
          1,
          0,
          0,
          0,
          1,
          2,
          67,
          62,
          0,
          0,
          153,
          0,
          0,
          0,
          0,
          25,
          0,
          0,
          1,
          0,
          0,
          0,
          0,
          0,
          0,
          0,
          0,
          0,
          0,
          0,
          0,
          0,
          0,
          0,
          0,
          0,
          0,
          0,
          0,
          0,
          0,
          0,
          0,
          0,
          45,
          0,
          0,
          0,
          0,
          0,
          0,
          0,
          3,
          0,
          0,
          0,
          0,
          0,
          0,
          0,
          0,
          0,
          0,
          0,
          0,
          0,
          0,
          0,
          0,
          0,
          0,
          1,
          0,
          0,
          4,
          0,
          0,
          0,
          0,
          0,
          1,
          1,
          0,
          17,
          0,
          5,
          74,
          0,
          0,
          3,
          1,
          5,
          0,
          0,
          0,
          0,
          2,
          1,
          0,
          0,
          0,
          -1,
          0,
          0,
          9,
          4,
          5,
          0,
          0,
          0,
          0,
          0,
          0,
          0,
          0,
          0,
          0,
          18,
          0,
          174,
          5,
          0,
          0,
          0,
          0,
          0,
          1,
          0,
          0,
          0,
          0,
          1,
          0,
          0,
          0,
          0,
          0,
          0,
          0,
          0,
          0,
          0,
          0,
          1,
          1,
          101,
          63,
          0,
          26,
          0,
          7,
          2,
          0,
          1,
          0,
          3,
          121,
          0,
          0,
          0,
          0,
          0,
          0,
          0,
          0,
          0,
          3,
          0,
          0,
          0,
          0,
          0,
          0,
          0,
          0,
          0,
          0,
          0,
          0,
          0,
          0,
          48,
          0,
          0,
          7,
          1,
          312,
          0,
          0,
          0,
          0,
          0,
          0,
          0,
          0,
          0,
          0,
          0,
          0,
          0,
          21,
          0,
          0,
          0,
          1,
          0,
          0,
          0,
          0,
          0,
          34,
          3,
          0,
          0,
          0,
          0,
          0,
          1,
          0,
          0,
          14,
          1,
          0,
          0,
          2,
          0,
          0,
          0,
          0,
          0,
          0,
          0,
          1,
          0,
          0,
          18,
          0,
          3,
          0,
          1,
          4,
          1,
          0,
          0,
          0,
          10,
          0,
          0,
          1,
          0,
          0,
          1,
          0,
          2,
          0,
          4,
          0,
          0,
          0,
          0,
          0,
          0,
          0,
          0,
          0,
          0,
          0,
          0,
          0,
          0,
          0,
          0,
          0,
          0,
          0,
          0,
          0,
          0,
          2,
          2,
          0,
          9,
          0,
          0,
          0,
          0,
          7,
          0,
          0,
          0,
          2,
          1,
          0,
          0,
          0,
          0,
          0,
          0,
          0,
          0,
          0,
          0,
          0,
          0,
          0,
          0,
          3,
          0,
          0,
          0,
          2,
          0,
          0,
          0,
          0,
          0,
          0,
          0,
          1,
          0,
          0,
          0,
          0,
          0,
          0,
          6,
          1,
          0,
          100,
          21,
          0,
          0,
          0,
          0,
          0,
          0,
          0,
          0,
          65,
          13,
          2,
          44,
          0,
          0,
          0,
          3,
          0,
          0,
          0,
          0,
          2,
          342,
          0,
          0,
          0,
          0,
          0,
          0,
          0,
          128,
          0,
          0,
          0,
          1,
          0,
          9,
          0,
          0,
          0,
          0,
          0,
          0,
          0,
          0,
          0,
          0,
          0,
          147,
          210,
          0,
          456,
          35,
          0,
          1,
          0,
          0,
          37,
          0,
          0,
          0,
          84,
          20,
          0,
          5,
          0,
          0,
          0,
          0,
          1,
          1,
          1,
          0,
          0,
          0,
          0,
          0,
          0,
          0,
          0,
          0,
          0,
          0,
          0,
          1,
          1,
          1,
          3,
          0,
          0,
          0,
          3,
          1,
          0,
          0,
          1,
          0,
          0,
          0,
          1,
          0,
          0,
          0,
          0,
          0,
          0,
          0,
          1,
          0,
          0,
          3,
          0,
          77,
          0,
          0,
          0,
          0,
          1,
          0,
          0,
          0,
          0,
          0,
          0,
          0,
          0,
          0,
          0,
          0,
          1,
          0,
          0,
          6,
          0,
          0,
          0,
          3,
          116,
          0,
          0,
          20,
          2,
          150,
          0,
          0,
          0,
          0,
          3,
          0,
          0,
          0,
          2,
          13,
          0,
          0,
          0,
          0,
          0,
          0,
          0,
          0,
          0,
          0,
          0,
          0,
          0,
          1,
          0,
          1,
          93,
          1,
          0,
          0,
          0,
          0,
          0,
          0,
          1,
          0,
          0,
          0,
          0,
          5,
          0,
          2,
          1,
          9,
          12,
          0,
          0,
          0,
          0,
          0,
          146,
          1,
          2,
          0,
          186,
          1,
          0,
          0,
          0,
          0,
          0,
          0,
          6,
          0,
          0,
          0,
          0,
          0,
          56,
          0,
          0,
          0,
          0,
          0,
          0,
          0,
          0,
          13,
          1,
          155,
          0,
          0,
          0,
          0,
          1,
          1,
          0,
          1,
          0,
          0,
          0,
          0,
          0,
          0,
          0,
          0,
          0,
          0,
          0,
          8,
          3,
          5,
          0,
          0,
          0,
          7,
          6,
          11,
          35,
          1,
          3,
          20,
          13,
          6,
          22,
          18,
          11,
          12,
          1,
          2,
          1,
          4,
          0,
          1,
          201,
          0,
          9,
          0,
          5,
          145,
          0,
          0,
          2,
          0,
          15,
          1,
          0,
          0,
          24,
          0,
          0,
          0,
          0,
          0,
          0,
          0,
          0,
          0,
          0,
          30,
          0,
          0,
          0,
          0,
          0,
          0,
          0,
          1,
          0,
          50,
          0,
          0,
          0,
          0,
          48,
          0,
          0,
          0,
          0,
          0,
          0,
          0,
          0,
          0,
          11,
          0,
          0,
          0,
          0,
          0,
          0,
          14,
          9,
          239,
          303,
          0,
          14,
          4,
          1,
          1,
          0,
          0,
          0,
          0,
          0,
          0,
          0,
          3,
          0,
          529,
          1,
          0,
          0,
          0,
          0,
          0,
          0,
          0,
          0,
          0,
          1,
          1,
          1,
          2,
          0,
          0,
          0,
          0,
          16,
          1,
          0,
          0,
          0,
          0,
          0,
          0,
          0,
          0,
          0,
          0,
          0,
          0,
          0,
          0,
          0,
          0,
          0,
          1,
          0,
          0,
          0,
          0,
          0,
          0,
          1,
          0,
          0,
          0,
          0,
          0,
          0,
          0,
          0,
          102,
          17,
          0,
          4,
          0,
          0,
          5,
          0,
          0,
          31,
          0,
          0,
          0,
          9,
          3,
          0,
          0,
          0,
          0,
          0,
          0,
          1,
          4,
          1,
          49,
          13,
          0,
          1,
          1,
          0,
          28,
          21,
          0,
          0,
          0,
          0,
          0,
          0,
          5,
          0,
          0,
          0,
          1,
          0,
          6,
          0,
          1,
          0,
          0,
          0,
          0,
          67,
          0,
          0,
          0,
          0,
          0,
          0,
          0,
          0,
          2,
          6,
          0,
          0,
          0,
          0,
          0,
          0,
          0,
          2,
          20,
          3,
          0,
          3,
          22,
          8,
          9,
          0,
          1,
          0,
          0,
          27,
          0,
          6,
          1,
          34,
          3,
          0,
          0,
          0,
          0,
          0,
          0,
          0,
          0,
          0,
          0,
          0,
          0,
          0,
          5,
          0,
          0,
          0,
          1,
          0,
          0,
          0,
          0,
          0,
          0,
          15,
          0,
          0,
          0,
          0,
          0,
          0,
          0,
          0,
          0,
          0,
          0,
          0,
          0,
          2,
          0,
          0,
          1,
          0,
          0,
          2,
          0,
          1,
          0,
          0,
          0,
          0,
          2,
          0,
          0,
          2,
          0,
          0,
          2,
          0,
          0,
          0,
          0,
          0,
          0,
          0,
          0,
          0,
          0,
          0,
          0,
          0,
          0,
          0,
          0,
          0,
          0,
          0,
          0,
          0,
          0,
          0,
          0,
          0,
          0,
          0,
          0,
          0,
          16,
          0,
          3,
          0,
          1,
          0,
          0,
          0,
          0,
          0,
          0,
          23,
          0,
          0,
          0,
          0,
          0,
          0,
          19,
          0,
          0,
          0,
          43,
          0,
          0,
          0,
          0,
          0,
          0,
          1,
          4,
          0,
          1,
          0,
          0,
          0,
          0,
          77,
          0,
          0,
          0,
          0,
          0,
          0,
          0,
          1,
          0,
          0,
          0,
          0,
          0,
          0,
          0,
          0,
          0,
          0,
          0,
          0,
          0,
          2,
          0,
          2,
          0,
          0,
          0,
          0,
          0,
          0,
          11,
          27,
          0,
          0,
          0,
          0,
          0,
          0,
          0,
          0,
          0,
          0,
          0,
          0,
          0,
          0,
          0,
          0,
          0,
          0,
          0,
          0,
          0,
          0,
          3,
          0,
          0,
          1,
          0,
          1,
          0,
          0,
          0,
          0,
          0,
          0,
          0,
          0,
          1,
          0,
          0,
          0,
          1,
          1,
          1,
          0,
          0,
          1,
          11,
          1,
          0,
          4,
          0,
          0,
          0,
          0,
          0,
          0,
          0,
          0,
          1,
          0,
          0,
          0,
          0,
          1,
          0,
          0,
          32,
          10,
          0,
          306,
          111,
          106,
          2,
          0,
          0,
          0,
          0,
          0,
          0,
          0,
          0,
          0,
          17,
          0,
          0,
          0,
          0,
          0,
          0,
          1,
          0,
          7,
          4,
          0,
          0,
          0,
          0,
          0,
          0,
          9,
          0,
          0,
          0,
          0,
          0,
          0,
          0,
          2,
          0,
          0,
          0,
          1,
          2,
          0,
          0,
          0,
          0,
          0,
          67,
          0,
          52,
          1,
          3,
          0,
          0,
          0,
          0,
          891,
          0,
          0,
          0,
          0,
          0,
          0,
          0,
          17,
          5,
          2,
          0,
          0,
          0,
          3,
          4,
          0,
          1,
          1,
          0,
          0,
          0,
          0,
          0,
          0,
          0,
          0,
          0,
          0,
          0,
          12,
          0,
          0,
          0,
          0,
          0,
          0,
          0,
          0,
          0,
          1,
          0,
          0,
          0,
          0,
          38,
          0,
          0,
          103,
          61,
          7,
          0,
          0,
          0,
          9,
          16,
          0,
          0,
          0,
          5,
          0,
          0,
          0,
          0,
          0,
          0,
          0,
          0,
          9,
          0,
          2,
          0,
          0,
          0,
          0,
          0,
          0,
          0,
          6,
          0,
          0,
          0,
          1,
          1,
          1,
          0,
          0,
          0,
          0,
          0,
          0,
          0,
          0,
          12,
          0,
          5,
          0,
          0,
          0,
          0,
          18,
          0,
          0,
          6,
          0,
          0,
          2,
          2,
          1,
          2,
          174,
          0,
          0,
          0,
          0,
          0,
          0,
          0,
          0,
          0,
          1,
          0,
          0,
          0,
          0,
          0,
          0,
          35,
          0,
          0,
          0,
          0,
          0,
          0,
          0,
          0,
          6,
          0,
          0,
          7,
          0,
          0,
          0,
          0,
          0,
          52,
          0,
          0,
          0,
          0,
          2,
          0,
          0,
          0,
          2,
          1,
          0,
          0,
          73,
          4,
          8,
          0,
          0,
          3,
          2,
          9,
          0,
          2,
          1,
          0,
          0,
          0,
          0,
          0,
          0,
          1,
          3,
          1,
          14,
          26,
          1,
          0,
          0,
          0,
          3,
          0,
          0,
          0,
          0,
          0,
          144,
          0,
          0,
          0,
          0,
          0,
          1,
          0,
          0,
          0,
          0,
          3,
          0,
          6,
          1,
          7,
          0,
          0,
          0,
          0,
          4,
          0,
          69,
          0,
          1,
          12,
          1,
          0,
          0,
          0,
          10,
          0,
          0,
          0,
          1,
          3,
          0,
          0,
          0,
          0,
          1,
          0,
          0,
          0,
          0,
          0,
          0,
          0,
          2,
          1,
          0,
          0,
          0,
          0,
          0,
          0,
          0,
          0,
          0,
          0,
          0,
          0,
          0,
          0,
          0,
          0,
          3,
          0,
          5,
          0,
          0,
          0,
          1,
          0,
          0,
          16,
          0,
          0,
          0,
          0,
          0,
          0,
          0,
          0,
          1,
          0,
          0,
          0,
          20,
          1,
          380,
          0,
          0,
          0,
          0,
          0,
          0,
          0,
          0,
          0,
          0,
          0,
          0,
          3,
          94,
          5,
          1,
          8,
          3,
          2,
          15,
          1,
          0,
          0,
          0,
          0,
          0,
          0,
          0,
          0,
          0,
          0,
          1,
          0,
          0,
          0,
          0,
          0,
          0,
          0,
          0,
          15,
          6,
          11,
          1,
          0,
          1,
          0,
          0,
          0,
          0,
          0,
          0,
          0,
          2,
          1,
          0,
          0,
          0,
          0,
          0,
          0,
          0,
          2,
          11,
          0,
          0,
          1,
          0,
          0,
          3,
          0,
          0,
          0,
          0,
          5,
          0,
          0,
          2,
          1,
          0,
          1,
          0,
          0,
          0,
          2,
          19,
          914,
          1,
          1,
          5,
          401,
          22,
          0,
          0,
          0,
          7,
          0,
          0,
          4,
          0,
          0,
          0,
          0,
          1,
          17,
          0,
          0,
          6,
          6,
          7,
          1,
          0,
          0,
          0,
          1,
          0,
          0,
          0,
          0,
          4,
          0,
          0,
          1,
          1,
          0,
          0,
          0,
          0,
          2,
          0,
          46,
          19,
          10,
          0,
          2,
          0,
          0,
          0,
          15,
          0,
          0,
          0,
          0,
          0,
          0,
          0,
          0,
          0,
          0,
          0,
          0,
          0,
          0,
          0,
          0,
          0,
          0,
          0,
          0,
          0,
          0,
          0,
          0,
          0,
          0,
          0,
          0,
          0,
          0,
          0,
          0,
          0,
          0,
          0,
          0,
          0,
          0,
          93,
          0,
          0,
          0,
          0,
          0,
          0,
          0,
          0,
          0,
          0,
          2,
          6,
          0,
          0,
          0,
          0,
          0,
          0,
          0,
          3,
          0,
          0,
          0,
          0,
          0,
          0,
          0,
          0,
          0,
          0,
          0,
          1,
          27,
          0,
          0,
          0,
          7,
          0,
          43,
          2,
          0,
          0,
          0,
          0,
          0,
          0,
          1,
          0,
          0,
          0,
          0,
          0,
          0,
          0,
          377,
          21,
          1,
          0,
          0,
          5,
          0,
          5,
          0,
          -1,
          5,
          1,
          39,
          0,
          0,
          0,
          1,
          16,
          0,
          0,
          0,
          23,
          2,
          2,
          0,
          2,
          28,
          81,
          0,
          0,
          0,
          0,
          0,
          0,
          0,
          0,
          0,
          0,
          0,
          0,
          0,
          3,
          0,
          1,
          0,
          13,
          9,
          8,
          1,
          13,
          0,
          0,
          27,
          0,
          1,
          4,
          2,
          0,
          0,
          0,
          0,
          0,
          0,
          0,
          0,
          0,
          0,
          0,
          0,
          0,
          0,
          0,
          0,
          0,
          0,
          0,
          85,
          1,
          0,
          1,
          2,
          0,
          0,
          0,
          0,
          0,
          0,
          0,
          0,
          0,
          0,
          0,
          10,
          0,
          0,
          0,
          6,
          34,
          0,
          0,
          0,
          2,
          8,
          0,
          0,
          0,
          191,
          0,
          0,
          0,
          4,
          0,
          0,
          0,
          0,
          0,
          0,
          0,
          0,
          0,
          37,
          1,
          9,
          0,
          0,
          0,
          0,
          0,
          0,
          0,
          0,
          0,
          0,
          0,
          0,
          0,
          0,
          0,
          0,
          0,
          1,
          6,
          5,
          0,
          0,
          0,
          0,
          3,
          0,
          0,
          0,
          0,
          9,
          0,
          0,
          0,
          0,
          0,
          0,
          0,
          0,
          0,
          0,
          0,
          0,
          0,
          0,
          0,
          0,
          0,
          0,
          0,
          0,
          0,
          0,
          1,
          0,
          0,
          0,
          0,
          4,
          0,
          280,
          5,
          1,
          96,
          0,
          12,
          0,
          4,
          4,
          12,
          1,
          0,
          0,
          0,
          448,
          14,
          1,
          0,
          0,
          153,
          87,
          0,
          20,
          13,
          12,
          6,
          0,
          12,
          5,
          0,
          0,
          0,
          0,
          0,
          0,
          0,
          0,
          0,
          0,
          0,
          0,
          0,
          0,
          0,
          0,
          0,
          18,
          0,
          0,
          0,
          0,
          0,
          0,
          0,
          8,
          0,
          0,
          0,
          9,
          0,
          28,
          0,
          20,
          1,
          3,
          0,
          0,
          0,
          0,
          0,
          1,
          0,
          0,
          0,
          0,
          -1,
          0,
          0,
          0,
          0,
          5,
          0,
          11,
          115,
          0,
          0,
          0,
          0,
          0,
          0,
          6,
          0,
          0,
          0,
          0,
          0,
          1,
          0,
          0,
          0,
          0,
          0,
          0,
          1,
          0,
          0,
          0,
          0,
          0,
          1,
          78,
          7,
          0,
          3,
          0,
          0,
          0,
          1,
          0,
          0,
          0,
          0,
          0,
          0,
          0,
          0,
          0,
          0,
          0,
          0,
          0,
          0,
          0,
          0,
          0,
          0,
          0,
          0,
          0,
          0,
          0,
          0,
          1,
          0,
          0,
          1,
          1,
          0,
          7,
          4,
          0,
          0,
          0,
          -1,
          2,
          0,
          0,
          0,
          0,
          0,
          0,
          1,
          0,
          2,
          0,
          105,
          0,
          0,
          0,
          0,
          1,
          0,
          0,
          8,
          0,
          54,
          0,
          1,
          0,
          36,
          0,
          0,
          0,
          31,
          2,
          1,
          0,
          3,
          0,
          0,
          408,
          1,
          2,
          139,
          0,
          0,
          3,
          6,
          1,
          1,
          0,
          0,
          0,
          0,
          0,
          0,
          0,
          2,
          2,
          6,
          0,
          0,
          0,
          0,
          0,
          0,
          0,
          0,
          0,
          0,
          0,
          7,
          0,
          0,
          2,
          0,
          0,
          0,
          0,
          1,
          1,
          0,
          0,
          0,
          0,
          0,
          0,
          0,
          0,
          0,
          0,
          0,
          0,
          0,
          0,
          14,
          0,
          0,
          0,
          0,
          0,
          0,
          0,
          1,
          0,
          0,
          0,
          0,
          4,
          9,
          43,
          0,
          0,
          1,
          0,
          5,
          4,
          0,
          0,
          0,
          1,
          0,
          0,
          0,
          0,
          0,
          0,
          0,
          0,
          0,
          0,
          0,
          2,
          0,
          0,
          0,
          4,
          20,
          2,
          2,
          3,
          0,
          0,
          1,
          0,
          0,
          0,
          0,
          0,
          1,
          0,
          0,
          0,
          7,
          1,
          0,
          1,
          0,
          0,
          0,
          5,
          0,
          0,
          0,
          0,
          7,
          0,
          0,
          -1,
          1,
          27,
          1,
          0,
          2,
          0,
          132,
          0,
          0,
          0,
          0,
          0,
          1,
          0,
          0,
          0,
          0,
          0,
          0,
          152,
          2,
          7,
          0,
          0,
          0,
          67,
          0,
          0,
          0,
          0,
          0,
          0,
          0,
          0,
          1,
          0,
          3,
          0,
          0,
          0,
          0,
          1,
          0,
          22,
          1,
          0,
          128,
          0,
          0,
          0,
          0,
          0,
          0,
          0,
          0,
          0,
          0,
          0,
          0,
          1,
          0,
          43,
          0,
          0,
          0,
          0,
          0,
          0,
          0,
          1,
          0,
          0,
          0,
          0,
          0,
          2,
          1,
          0,
          0,
          0,
          0,
          0,
          1,
          42,
          531,
          27,
          1,
          0,
          0,
          1,
          0,
          1,
          11,
          0,
          0,
          0,
          5,
          0,
          0,
          0,
          0,
          1,
          0,
          0,
          0,
          0,
          0,
          0,
          0,
          0,
          0,
          1,
          0,
          0,
          0,
          10,
          0,
          0,
          1,
          0,
          0,
          0,
          0,
          4,
          0,
          0,
          0,
          0,
          5,
          0,
          0,
          0,
          0,
          0,
          0,
          0,
          0,
          0,
          0,
          0,
          0,
          0,
          0,
          0,
          0,
          0,
          154,
          0,
          8,
          0,
          17,
          0,
          0,
          0,
          0,
          1,
          1,
          0,
          0,
          0,
          0,
          0,
          0,
          0,
          0,
          0,
          0,
          0,
          0,
          2,
          14,
          87,
          0,
          0,
          0,
          10,
          0,
          0,
          1,
          0,
          0,
          0,
          0,
          1,
          1,
          8,
          0,
          0,
          0,
          0,
          0,
          0,
          0,
          0,
          0,
          1,
          0,
          0,
          0,
          0,
          0,
          0,
          0,
          0,
          0,
          0,
          0,
          0,
          0,
          0,
          0,
          2,
          0,
          0,
          0,
          0,
          0,
          0,
          0,
          124,
          1,
          -1,
          -1,
          0,
          0,
          0,
          0,
          0,
          0,
          0,
          2,
          122,
          0,
          0,
          0,
          1,
          0,
          0,
          0,
          0,
          3,
          177,
          1,
          0,
          0,
          66,
          8,
          0,
          2,
          0,
          0,
          0,
          1,
          0,
          1,
          0,
          32,
          0,
          0,
          0,
          6,
          4,
          0,
          0,
          0,
          14,
          6,
          0,
          0,
          0,
          0,
          0,
          0,
          0,
          0,
          0,
          0,
          0,
          0,
          0,
          0,
          0,
          0,
          0,
          0,
          0,
          0,
          0,
          55,
          3,
          150,
          3,
          1,
          0,
          8,
          632,
          36,
          0,
          0,
          5,
          10,
          6,
          0,
          0,
          0,
          1,
          152,
          0,
          0,
          0,
          1,
          0,
          0,
          0,
          0,
          0,
          0,
          0,
          0,
          0,
          0,
          0,
          1,
          0,
          0,
          0,
          2,
          0,
          0,
          0,
          0,
          20,
          1,
          1,
          1,
          1,
          0,
          1,
          0,
          0,
          1,
          24,
          0,
          0,
          0,
          0,
          0,
          0,
          0,
          0,
          0,
          0,
          0,
          0,
          0,
          0,
          0,
          0,
          0,
          0,
          0,
          1,
          0,
          1,
          12,
          1,
          55,
          0,
          0,
          0,
          0,
          0,
          0,
          0,
          0,
          0,
          0,
          0,
          0,
          0,
          0,
          1,
          0,
          0,
          0,
          0,
          1,
          0,
          0,
          0,
          0,
          0,
          0,
          0,
          0,
          0,
          2,
          6,
          1,
          0,
          0,
          8,
          0,
          0,
          0,
          0,
          0
         ]
        }
       ],
       "layout": {
        "bargroupgap": 0.01,
        "template": {
         "data": {
          "bar": [
           {
            "error_x": {
             "color": "#2a3f5f"
            },
            "error_y": {
             "color": "#2a3f5f"
            },
            "marker": {
             "line": {
              "color": "#E5ECF6",
              "width": 0.5
             },
             "pattern": {
              "fillmode": "overlay",
              "size": 10,
              "solidity": 0.2
             }
            },
            "type": "bar"
           }
          ],
          "barpolar": [
           {
            "marker": {
             "line": {
              "color": "#E5ECF6",
              "width": 0.5
             },
             "pattern": {
              "fillmode": "overlay",
              "size": 10,
              "solidity": 0.2
             }
            },
            "type": "barpolar"
           }
          ],
          "carpet": [
           {
            "aaxis": {
             "endlinecolor": "#2a3f5f",
             "gridcolor": "white",
             "linecolor": "white",
             "minorgridcolor": "white",
             "startlinecolor": "#2a3f5f"
            },
            "baxis": {
             "endlinecolor": "#2a3f5f",
             "gridcolor": "white",
             "linecolor": "white",
             "minorgridcolor": "white",
             "startlinecolor": "#2a3f5f"
            },
            "type": "carpet"
           }
          ],
          "choropleth": [
           {
            "colorbar": {
             "outlinewidth": 0,
             "ticks": ""
            },
            "type": "choropleth"
           }
          ],
          "contour": [
           {
            "colorbar": {
             "outlinewidth": 0,
             "ticks": ""
            },
            "colorscale": [
             [
              0,
              "#0d0887"
             ],
             [
              0.1111111111111111,
              "#46039f"
             ],
             [
              0.2222222222222222,
              "#7201a8"
             ],
             [
              0.3333333333333333,
              "#9c179e"
             ],
             [
              0.4444444444444444,
              "#bd3786"
             ],
             [
              0.5555555555555556,
              "#d8576b"
             ],
             [
              0.6666666666666666,
              "#ed7953"
             ],
             [
              0.7777777777777778,
              "#fb9f3a"
             ],
             [
              0.8888888888888888,
              "#fdca26"
             ],
             [
              1,
              "#f0f921"
             ]
            ],
            "type": "contour"
           }
          ],
          "contourcarpet": [
           {
            "colorbar": {
             "outlinewidth": 0,
             "ticks": ""
            },
            "type": "contourcarpet"
           }
          ],
          "heatmap": [
           {
            "colorbar": {
             "outlinewidth": 0,
             "ticks": ""
            },
            "colorscale": [
             [
              0,
              "#0d0887"
             ],
             [
              0.1111111111111111,
              "#46039f"
             ],
             [
              0.2222222222222222,
              "#7201a8"
             ],
             [
              0.3333333333333333,
              "#9c179e"
             ],
             [
              0.4444444444444444,
              "#bd3786"
             ],
             [
              0.5555555555555556,
              "#d8576b"
             ],
             [
              0.6666666666666666,
              "#ed7953"
             ],
             [
              0.7777777777777778,
              "#fb9f3a"
             ],
             [
              0.8888888888888888,
              "#fdca26"
             ],
             [
              1,
              "#f0f921"
             ]
            ],
            "type": "heatmap"
           }
          ],
          "heatmapgl": [
           {
            "colorbar": {
             "outlinewidth": 0,
             "ticks": ""
            },
            "colorscale": [
             [
              0,
              "#0d0887"
             ],
             [
              0.1111111111111111,
              "#46039f"
             ],
             [
              0.2222222222222222,
              "#7201a8"
             ],
             [
              0.3333333333333333,
              "#9c179e"
             ],
             [
              0.4444444444444444,
              "#bd3786"
             ],
             [
              0.5555555555555556,
              "#d8576b"
             ],
             [
              0.6666666666666666,
              "#ed7953"
             ],
             [
              0.7777777777777778,
              "#fb9f3a"
             ],
             [
              0.8888888888888888,
              "#fdca26"
             ],
             [
              1,
              "#f0f921"
             ]
            ],
            "type": "heatmapgl"
           }
          ],
          "histogram": [
           {
            "marker": {
             "pattern": {
              "fillmode": "overlay",
              "size": 10,
              "solidity": 0.2
             }
            },
            "type": "histogram"
           }
          ],
          "histogram2d": [
           {
            "colorbar": {
             "outlinewidth": 0,
             "ticks": ""
            },
            "colorscale": [
             [
              0,
              "#0d0887"
             ],
             [
              0.1111111111111111,
              "#46039f"
             ],
             [
              0.2222222222222222,
              "#7201a8"
             ],
             [
              0.3333333333333333,
              "#9c179e"
             ],
             [
              0.4444444444444444,
              "#bd3786"
             ],
             [
              0.5555555555555556,
              "#d8576b"
             ],
             [
              0.6666666666666666,
              "#ed7953"
             ],
             [
              0.7777777777777778,
              "#fb9f3a"
             ],
             [
              0.8888888888888888,
              "#fdca26"
             ],
             [
              1,
              "#f0f921"
             ]
            ],
            "type": "histogram2d"
           }
          ],
          "histogram2dcontour": [
           {
            "colorbar": {
             "outlinewidth": 0,
             "ticks": ""
            },
            "colorscale": [
             [
              0,
              "#0d0887"
             ],
             [
              0.1111111111111111,
              "#46039f"
             ],
             [
              0.2222222222222222,
              "#7201a8"
             ],
             [
              0.3333333333333333,
              "#9c179e"
             ],
             [
              0.4444444444444444,
              "#bd3786"
             ],
             [
              0.5555555555555556,
              "#d8576b"
             ],
             [
              0.6666666666666666,
              "#ed7953"
             ],
             [
              0.7777777777777778,
              "#fb9f3a"
             ],
             [
              0.8888888888888888,
              "#fdca26"
             ],
             [
              1,
              "#f0f921"
             ]
            ],
            "type": "histogram2dcontour"
           }
          ],
          "mesh3d": [
           {
            "colorbar": {
             "outlinewidth": 0,
             "ticks": ""
            },
            "type": "mesh3d"
           }
          ],
          "parcoords": [
           {
            "line": {
             "colorbar": {
              "outlinewidth": 0,
              "ticks": ""
             }
            },
            "type": "parcoords"
           }
          ],
          "pie": [
           {
            "automargin": true,
            "type": "pie"
           }
          ],
          "scatter": [
           {
            "fillpattern": {
             "fillmode": "overlay",
             "size": 10,
             "solidity": 0.2
            },
            "type": "scatter"
           }
          ],
          "scatter3d": [
           {
            "line": {
             "colorbar": {
              "outlinewidth": 0,
              "ticks": ""
             }
            },
            "marker": {
             "colorbar": {
              "outlinewidth": 0,
              "ticks": ""
             }
            },
            "type": "scatter3d"
           }
          ],
          "scattercarpet": [
           {
            "marker": {
             "colorbar": {
              "outlinewidth": 0,
              "ticks": ""
             }
            },
            "type": "scattercarpet"
           }
          ],
          "scattergeo": [
           {
            "marker": {
             "colorbar": {
              "outlinewidth": 0,
              "ticks": ""
             }
            },
            "type": "scattergeo"
           }
          ],
          "scattergl": [
           {
            "marker": {
             "colorbar": {
              "outlinewidth": 0,
              "ticks": ""
             }
            },
            "type": "scattergl"
           }
          ],
          "scattermapbox": [
           {
            "marker": {
             "colorbar": {
              "outlinewidth": 0,
              "ticks": ""
             }
            },
            "type": "scattermapbox"
           }
          ],
          "scatterpolar": [
           {
            "marker": {
             "colorbar": {
              "outlinewidth": 0,
              "ticks": ""
             }
            },
            "type": "scatterpolar"
           }
          ],
          "scatterpolargl": [
           {
            "marker": {
             "colorbar": {
              "outlinewidth": 0,
              "ticks": ""
             }
            },
            "type": "scatterpolargl"
           }
          ],
          "scatterternary": [
           {
            "marker": {
             "colorbar": {
              "outlinewidth": 0,
              "ticks": ""
             }
            },
            "type": "scatterternary"
           }
          ],
          "surface": [
           {
            "colorbar": {
             "outlinewidth": 0,
             "ticks": ""
            },
            "colorscale": [
             [
              0,
              "#0d0887"
             ],
             [
              0.1111111111111111,
              "#46039f"
             ],
             [
              0.2222222222222222,
              "#7201a8"
             ],
             [
              0.3333333333333333,
              "#9c179e"
             ],
             [
              0.4444444444444444,
              "#bd3786"
             ],
             [
              0.5555555555555556,
              "#d8576b"
             ],
             [
              0.6666666666666666,
              "#ed7953"
             ],
             [
              0.7777777777777778,
              "#fb9f3a"
             ],
             [
              0.8888888888888888,
              "#fdca26"
             ],
             [
              1,
              "#f0f921"
             ]
            ],
            "type": "surface"
           }
          ],
          "table": [
           {
            "cells": {
             "fill": {
              "color": "#EBF0F8"
             },
             "line": {
              "color": "white"
             }
            },
            "header": {
             "fill": {
              "color": "#C8D4E3"
             },
             "line": {
              "color": "white"
             }
            },
            "type": "table"
           }
          ]
         },
         "layout": {
          "annotationdefaults": {
           "arrowcolor": "#2a3f5f",
           "arrowhead": 0,
           "arrowwidth": 1
          },
          "autotypenumbers": "strict",
          "coloraxis": {
           "colorbar": {
            "outlinewidth": 0,
            "ticks": ""
           }
          },
          "colorscale": {
           "diverging": [
            [
             0,
             "#8e0152"
            ],
            [
             0.1,
             "#c51b7d"
            ],
            [
             0.2,
             "#de77ae"
            ],
            [
             0.3,
             "#f1b6da"
            ],
            [
             0.4,
             "#fde0ef"
            ],
            [
             0.5,
             "#f7f7f7"
            ],
            [
             0.6,
             "#e6f5d0"
            ],
            [
             0.7,
             "#b8e186"
            ],
            [
             0.8,
             "#7fbc41"
            ],
            [
             0.9,
             "#4d9221"
            ],
            [
             1,
             "#276419"
            ]
           ],
           "sequential": [
            [
             0,
             "#0d0887"
            ],
            [
             0.1111111111111111,
             "#46039f"
            ],
            [
             0.2222222222222222,
             "#7201a8"
            ],
            [
             0.3333333333333333,
             "#9c179e"
            ],
            [
             0.4444444444444444,
             "#bd3786"
            ],
            [
             0.5555555555555556,
             "#d8576b"
            ],
            [
             0.6666666666666666,
             "#ed7953"
            ],
            [
             0.7777777777777778,
             "#fb9f3a"
            ],
            [
             0.8888888888888888,
             "#fdca26"
            ],
            [
             1,
             "#f0f921"
            ]
           ],
           "sequentialminus": [
            [
             0,
             "#0d0887"
            ],
            [
             0.1111111111111111,
             "#46039f"
            ],
            [
             0.2222222222222222,
             "#7201a8"
            ],
            [
             0.3333333333333333,
             "#9c179e"
            ],
            [
             0.4444444444444444,
             "#bd3786"
            ],
            [
             0.5555555555555556,
             "#d8576b"
            ],
            [
             0.6666666666666666,
             "#ed7953"
            ],
            [
             0.7777777777777778,
             "#fb9f3a"
            ],
            [
             0.8888888888888888,
             "#fdca26"
            ],
            [
             1,
             "#f0f921"
            ]
           ]
          },
          "colorway": [
           "#636efa",
           "#EF553B",
           "#00cc96",
           "#ab63fa",
           "#FFA15A",
           "#19d3f3",
           "#FF6692",
           "#B6E880",
           "#FF97FF",
           "#FECB52"
          ],
          "font": {
           "color": "#2a3f5f"
          },
          "geo": {
           "bgcolor": "white",
           "lakecolor": "white",
           "landcolor": "#E5ECF6",
           "showlakes": true,
           "showland": true,
           "subunitcolor": "white"
          },
          "hoverlabel": {
           "align": "left"
          },
          "hovermode": "closest",
          "mapbox": {
           "style": "light"
          },
          "paper_bgcolor": "white",
          "plot_bgcolor": "#E5ECF6",
          "polar": {
           "angularaxis": {
            "gridcolor": "white",
            "linecolor": "white",
            "ticks": ""
           },
           "bgcolor": "#E5ECF6",
           "radialaxis": {
            "gridcolor": "white",
            "linecolor": "white",
            "ticks": ""
           }
          },
          "scene": {
           "xaxis": {
            "backgroundcolor": "#E5ECF6",
            "gridcolor": "white",
            "gridwidth": 2,
            "linecolor": "white",
            "showbackground": true,
            "ticks": "",
            "zerolinecolor": "white"
           },
           "yaxis": {
            "backgroundcolor": "#E5ECF6",
            "gridcolor": "white",
            "gridwidth": 2,
            "linecolor": "white",
            "showbackground": true,
            "ticks": "",
            "zerolinecolor": "white"
           },
           "zaxis": {
            "backgroundcolor": "#E5ECF6",
            "gridcolor": "white",
            "gridwidth": 2,
            "linecolor": "white",
            "showbackground": true,
            "ticks": "",
            "zerolinecolor": "white"
           }
          },
          "shapedefaults": {
           "line": {
            "color": "#2a3f5f"
           }
          },
          "ternary": {
           "aaxis": {
            "gridcolor": "white",
            "linecolor": "white",
            "ticks": ""
           },
           "baxis": {
            "gridcolor": "white",
            "linecolor": "white",
            "ticks": ""
           },
           "bgcolor": "#E5ECF6",
           "caxis": {
            "gridcolor": "white",
            "linecolor": "white",
            "ticks": ""
           }
          },
          "title": {
           "x": 0.05
          },
          "xaxis": {
           "automargin": true,
           "gridcolor": "white",
           "linecolor": "white",
           "ticks": "",
           "title": {
            "standoff": 15
           },
           "zerolinecolor": "white",
           "zerolinewidth": 2
          },
          "yaxis": {
           "automargin": true,
           "gridcolor": "white",
           "linecolor": "white",
           "ticks": "",
           "title": {
            "standoff": 15
           },
           "zerolinecolor": "white",
           "zerolinewidth": 2
          }
         }
        },
        "xaxis": {
         "title": {
          "text": "Pos. found"
         }
        },
        "yaxis": {
         "title": {
          "text": "Aggregate (18 per bin)"
         }
        }
       }
      },
      "text/html": [
       "<div>                            <div id=\"230ebd76-8bff-4d34-a9b0-504888a9b2b7\" class=\"plotly-graph-div\" style=\"height:525px; width:100%;\"></div>            <script type=\"text/javascript\">                require([\"plotly\"], function(Plotly) {                    window.PLOTLYENV=window.PLOTLYENV || {};                                    if (document.getElementById(\"230ebd76-8bff-4d34-a9b0-504888a9b2b7\")) {                    Plotly.newPlot(                        \"230ebd76-8bff-4d34-a9b0-504888a9b2b7\",                        [{\"nbinsx\":50,\"x\":[0,0,0,5,0,12,0,0,0,0,0,0,4,0,13,1,1,1,7,2,0,0,0,1,0,0,0,0,0,0,0,0,0,2,0,0,0,0,0,1,0,0,0,0,1,0,0,0,0,3,0,0,3,5,0,0,2,0,5,3,0,0,0,6,0,0,0,2,0,0,0,0,5,0,2,0,0,1,2,0,0,0,0,0,0,0,0,0,0,7,0,0,1,68,0,0,0,0,0,12,0,0,0,0,69,0,0,3,27,1,24,0,0,0,0,0,0,4,0,10,0,1,1,2,0,0,0,0,1,0,0,6,4,5,17,0,2,0,0,2,0,0,0,0,2,1,0,0,5,4,2,8,168,3,17,4,32,17,0,2,0,1,0,0,1,0,0,0,0,0,0,0,0,0,0,0,0,0,0,0,0,0,0,0,0,0,0,16,0,0,0,0,0,2,4,5,0,0,0,0,0,0,0,0,127,0,0,1,0,1,0,0,2,11,96,0,0,0,2,5,0,0,0,0,1,0,0,0,1,0,1,0,0,0,0,0,0,0,3,0,0,0,0,0,0,0,0,0,7,22,0,0,0,2,2,0,0,0,0,0,0,52,2,28,11,0,4,0,1,0,0,0,0,1,0,0,0,0,0,1,0,0,0,0,0,0,0,29,79,37,0,9,1,0,0,0,0,0,0,2,0,0,0,0,0,0,0,1,0,0,0,0,0,0,24,0,56,82,17,69,0,3,0,0,0,1,42,1,18,21,0,0,41,18,40,2,0,0,8,0,0,0,0,0,2,0,0,2,0,0,30,3,0,0,1,0,0,0,0,0,0,0,0,0,3,0,0,38,2,0,0,1,0,0,1,0,0,0,28,1,3,0,3,0,33,13,2,0,1,0,0,54,0,0,1,0,0,0,0,0,0,13,2,1,18,0,0,2,1,8,12,0,0,0,2,0,14,14,0,0,0,4,0,17,3,0,0,0,0,4,0,2,0,0,1,1,0,1,5,1,0,0,0,0,0,0,0,1,3,0,0,0,0,0,0,0,0,0,0,0,0,0,6,0,0,0,0,0,0,1,0,0,0,0,1,0,0,0,0,2,0,0,0,0,0,0,0,0,0,0,0,0,0,0,0,1,0,0,0,0,0,1,1,0,9,0,0,0,0,0,0,0,0,1,0,0,0,233,4,0,0,0,0,0,0,0,0,0,0,0,0,0,0,0,0,0,0,0,0,0,0,0,0,0,0,0,0,0,2,0,9,0,0,0,0,1,0,11,11,1,15,2,8,0,64,1,0,0,0,0,0,0,2,0,0,0,0,0,0,4,0,0,0,0,0,0,0,0,0,0,0,1,0,3,0,1,0,1,1,2,3,0,0,0,0,0,0,0,0,0,0,0,0,0,5,0,0,0,0,0,0,0,0,1,0,0,0,0,6,0,0,0,3,0,0,0,0,0,0,1,3,1,1,0,0,0,0,0,0,0,4,2,0,0,0,0,0,0,2,0,0,0,0,0,8,0,0,0,0,1,0,0,0,0,0,0,0,0,0,0,0,0,78,0,1,1,0,0,0,0,0,0,5,0,0,0,0,1,0,0,0,0,0,0,0,0,2,0,1,10,0,0,0,0,0,0,0,2,0,0,0,0,0,0,16,0,0,0,4,19,0,0,0,3,2,0,74,0,0,0,0,0,0,0,0,0,0,3,0,0,10,0,3,0,0,0,0,0,0,2,3,2,1,13,0,0,0,0,0,0,0,0,0,0,0,1,10,1,0,2,0,0,0,0,0,0,12,0,1,0,0,0,0,76,14,0,31,0,14,2,0,0,0,0,2,0,0,0,2,1,0,0,0,0,2,0,0,0,0,0,0,0,1,0,0,0,0,9,5,8,1,1,0,0,1,0,0,0,0,0,1,12,3,7,50,0,0,0,28,0,0,0,5,0,0,0,0,0,0,0,0,0,0,0,0,0,0,0,0,1,0,0,-1,343,-1,0,0,0,0,0,5,0,738,0,1,0,0,1,1,0,0,0,0,0,0,0,0,0,3,0,0,2,0,0,0,0,0,0,2,0,0,2,1,0,0,2,1,2,2,5,77,0,0,47,0,2,48,0,16,3,0,0,0,564,246,0,6,57,204,12,0,0,0,0,1,0,1,2,60,0,0,0,2,0,314,0,0,0,0,1,0,0,0,0,0,0,0,0,0,0,0,0,0,0,0,0,9,1,11,0,0,0,0,0,14,0,0,0,0,34,1,0,0,0,0,0,1,0,0,265,1,5,3,0,1,0,0,3,0,0,0,0,2,0,1,0,0,0,0,0,0,0,0,0,195,0,0,4,225,49,0,0,0,32,0,0,0,0,0,0,0,0,0,11,3,0,0,0,0,0,0,0,0,0,0,1,0,0,0,56,0,0,0,35,1,0,1,0,0,20,0,0,0,0,11,0,0,0,0,0,0,0,0,0,0,1,0,0,0,0,1,0,11,7,244,1,50,2,1,0,0,0,0,0,0,0,0,0,0,1,0,0,0,0,0,0,0,0,0,0,0,0,19,0,1,0,0,0,0,0,0,0,0,0,0,0,0,0,0,0,0,0,0,0,2,0,0,504,0,0,0,0,0,1,0,0,0,0,0,0,0,0,0,0,0,0,0,3,0,0,0,0,0,0,0,0,0,0,0,0,0,0,0,0,0,0,0,0,0,6,0,1,0,0,2,0,0,1,0,0,0,0,0,0,0,0,0,0,0,1,0,0,0,0,2,20,34,47,0,0,0,0,0,2,0,0,0,0,0,0,0,0,0,0,0,0,0,0,0,751,0,1,0,0,0,0,0,18,3,0,1,0,0,0,0,0,0,0,0,0,0,0,0,0,0,0,0,0,0,97,0,0,1,0,0,0,0,0,0,0,0,0,0,0,0,0,0,0,0,0,0,0,0,0,1,0,0,0,1,0,0,0,0,0,0,0,0,0,0,1,3,0,0,2,1,0,0,1,0,79,5,0,0,2,1,0,0,0,0,0,0,0,4,0,6,0,0,0,0,0,0,0,1,0,36,0,0,0,5,0,0,0,0,0,0,0,0,0,0,0,0,0,0,0,2,0,1,8,7,5,2,1,0,0,0,0,0,0,0,0,0,0,0,0,0,0,0,0,0,53,0,0,0,0,0,0,0,0,0,3,3,0,5,0,1,0,0,0,0,0,5,0,0,0,0,0,0,0,0,0,0,0,0,0,0,5,6,0,0,0,0,0,0,119,0,0,0,0,0,2,0,0,0,0,0,0,0,0,0,0,0,0,0,0,0,0,1,0,0,9,0,0,0,0,1,0,0,0,0,1,0,0,0,2,0,0,0,0,1,0,0,0,1,1,0,0,0,1,2,67,62,0,0,153,0,0,0,0,25,0,0,1,0,0,0,0,0,0,0,0,0,0,0,0,0,0,0,0,0,0,0,0,0,0,0,0,0,45,0,0,0,0,0,0,0,3,0,0,0,0,0,0,0,0,0,0,0,0,0,0,0,0,0,0,1,0,0,4,0,0,0,0,0,1,1,0,17,0,5,74,0,0,3,1,5,0,0,0,0,2,1,0,0,0,-1,0,0,9,4,5,0,0,0,0,0,0,0,0,0,0,18,0,174,5,0,0,0,0,0,1,0,0,0,0,1,0,0,0,0,0,0,0,0,0,0,0,1,1,101,63,0,26,0,7,2,0,1,0,3,121,0,0,0,0,0,0,0,0,0,3,0,0,0,0,0,0,0,0,0,0,0,0,0,0,48,0,0,7,1,312,0,0,0,0,0,0,0,0,0,0,0,0,0,21,0,0,0,1,0,0,0,0,0,34,3,0,0,0,0,0,1,0,0,14,1,0,0,2,0,0,0,0,0,0,0,1,0,0,18,0,3,0,1,4,1,0,0,0,10,0,0,1,0,0,1,0,2,0,4,0,0,0,0,0,0,0,0,0,0,0,0,0,0,0,0,0,0,0,0,0,0,2,2,0,9,0,0,0,0,7,0,0,0,2,1,0,0,0,0,0,0,0,0,0,0,0,0,0,0,3,0,0,0,2,0,0,0,0,0,0,0,1,0,0,0,0,0,0,6,1,0,100,21,0,0,0,0,0,0,0,0,65,13,2,44,0,0,0,3,0,0,0,0,2,342,0,0,0,0,0,0,0,128,0,0,0,1,0,9,0,0,0,0,0,0,0,0,0,0,0,147,210,0,456,35,0,1,0,0,37,0,0,0,84,20,0,5,0,0,0,0,1,1,1,0,0,0,0,0,0,0,0,0,0,0,0,1,1,1,3,0,0,0,3,1,0,0,1,0,0,0,1,0,0,0,0,0,0,0,1,0,0,3,0,77,0,0,0,0,1,0,0,0,0,0,0,0,0,0,0,0,1,0,0,6,0,0,0,3,116,0,0,20,2,150,0,0,0,0,3,0,0,0,2,13,0,0,0,0,0,0,0,0,0,0,0,0,0,1,0,1,93,1,0,0,0,0,0,0,1,0,0,0,0,5,0,2,1,9,12,0,0,0,0,0,146,1,2,0,186,1,0,0,0,0,0,0,6,0,0,0,0,0,56,0,0,0,0,0,0,0,0,13,1,155,0,0,0,0,1,1,0,1,0,0,0,0,0,0,0,0,0,0,0,8,3,5,0,0,0,7,6,11,35,1,3,20,13,6,22,18,11,12,1,2,1,4,0,1,201,0,9,0,5,145,0,0,2,0,15,1,0,0,24,0,0,0,0,0,0,0,0,0,0,30,0,0,0,0,0,0,0,1,0,50,0,0,0,0,48,0,0,0,0,0,0,0,0,0,11,0,0,0,0,0,0,14,9,239,303,0,14,4,1,1,0,0,0,0,0,0,0,3,0,529,1,0,0,0,0,0,0,0,0,0,1,1,1,2,0,0,0,0,16,1,0,0,0,0,0,0,0,0,0,0,0,0,0,0,0,0,0,1,0,0,0,0,0,0,1,0,0,0,0,0,0,0,0,102,17,0,4,0,0,5,0,0,31,0,0,0,9,3,0,0,0,0,0,0,1,4,1,49,13,0,1,1,0,28,21,0,0,0,0,0,0,5,0,0,0,1,0,6,0,1,0,0,0,0,67,0,0,0,0,0,0,0,0,2,6,0,0,0,0,0,0,0,2,20,3,0,3,22,8,9,0,1,0,0,27,0,6,1,34,3,0,0,0,0,0,0,0,0,0,0,0,0,0,5,0,0,0,1,0,0,0,0,0,0,15,0,0,0,0,0,0,0,0,0,0,0,0,0,2,0,0,1,0,0,2,0,1,0,0,0,0,2,0,0,2,0,0,2,0,0,0,0,0,0,0,0,0,0,0,0,0,0,0,0,0,0,0,0,0,0,0,0,0,0,0,0,0,16,0,3,0,1,0,0,0,0,0,0,23,0,0,0,0,0,0,19,0,0,0,43,0,0,0,0,0,0,1,4,0,1,0,0,0,0,77,0,0,0,0,0,0,0,1,0,0,0,0,0,0,0,0,0,0,0,0,0,2,0,2,0,0,0,0,0,0,11,27,0,0,0,0,0,0,0,0,0,0,0,0,0,0,0,0,0,0,0,0,0,0,3,0,0,1,0,1,0,0,0,0,0,0,0,0,1,0,0,0,1,1,1,0,0,1,11,1,0,4,0,0,0,0,0,0,0,0,1,0,0,0,0,1,0,0,32,10,0,306,111,106,2,0,0,0,0,0,0,0,0,0,17,0,0,0,0,0,0,1,0,7,4,0,0,0,0,0,0,9,0,0,0,0,0,0,0,2,0,0,0,1,2,0,0,0,0,0,67,0,52,1,3,0,0,0,0,891,0,0,0,0,0,0,0,17,5,2,0,0,0,3,4,0,1,1,0,0,0,0,0,0,0,0,0,0,0,12,0,0,0,0,0,0,0,0,0,1,0,0,0,0,38,0,0,103,61,7,0,0,0,9,16,0,0,0,5,0,0,0,0,0,0,0,0,9,0,2,0,0,0,0,0,0,0,6,0,0,0,1,1,1,0,0,0,0,0,0,0,0,12,0,5,0,0,0,0,18,0,0,6,0,0,2,2,1,2,174,0,0,0,0,0,0,0,0,0,1,0,0,0,0,0,0,35,0,0,0,0,0,0,0,0,6,0,0,7,0,0,0,0,0,52,0,0,0,0,2,0,0,0,2,1,0,0,73,4,8,0,0,3,2,9,0,2,1,0,0,0,0,0,0,1,3,1,14,26,1,0,0,0,3,0,0,0,0,0,144,0,0,0,0,0,1,0,0,0,0,3,0,6,1,7,0,0,0,0,4,0,69,0,1,12,1,0,0,0,10,0,0,0,1,3,0,0,0,0,1,0,0,0,0,0,0,0,2,1,0,0,0,0,0,0,0,0,0,0,0,0,0,0,0,0,3,0,5,0,0,0,1,0,0,16,0,0,0,0,0,0,0,0,1,0,0,0,20,1,380,0,0,0,0,0,0,0,0,0,0,0,0,3,94,5,1,8,3,2,15,1,0,0,0,0,0,0,0,0,0,0,1,0,0,0,0,0,0,0,0,15,6,11,1,0,1,0,0,0,0,0,0,0,2,1,0,0,0,0,0,0,0,2,11,0,0,1,0,0,3,0,0,0,0,5,0,0,2,1,0,1,0,0,0,2,19,914,1,1,5,401,22,0,0,0,7,0,0,4,0,0,0,0,1,17,0,0,6,6,7,1,0,0,0,1,0,0,0,0,4,0,0,1,1,0,0,0,0,2,0,46,19,10,0,2,0,0,0,15,0,0,0,0,0,0,0,0,0,0,0,0,0,0,0,0,0,0,0,0,0,0,0,0,0,0,0,0,0,0,0,0,0,0,0,0,0,0,93,0,0,0,0,0,0,0,0,0,0,2,6,0,0,0,0,0,0,0,3,0,0,0,0,0,0,0,0,0,0,0,1,27,0,0,0,7,0,43,2,0,0,0,0,0,0,1,0,0,0,0,0,0,0,377,21,1,0,0,5,0,5,0,-1,5,1,39,0,0,0,1,16,0,0,0,23,2,2,0,2,28,81,0,0,0,0,0,0,0,0,0,0,0,0,0,3,0,1,0,13,9,8,1,13,0,0,27,0,1,4,2,0,0,0,0,0,0,0,0,0,0,0,0,0,0,0,0,0,0,0,85,1,0,1,2,0,0,0,0,0,0,0,0,0,0,0,10,0,0,0,6,34,0,0,0,2,8,0,0,0,191,0,0,0,4,0,0,0,0,0,0,0,0,0,37,1,9,0,0,0,0,0,0,0,0,0,0,0,0,0,0,0,0,0,1,6,5,0,0,0,0,3,0,0,0,0,9,0,0,0,0,0,0,0,0,0,0,0,0,0,0,0,0,0,0,0,0,0,0,1,0,0,0,0,4,0,280,5,1,96,0,12,0,4,4,12,1,0,0,0,448,14,1,0,0,153,87,0,20,13,12,6,0,12,5,0,0,0,0,0,0,0,0,0,0,0,0,0,0,0,0,0,18,0,0,0,0,0,0,0,8,0,0,0,9,0,28,0,20,1,3,0,0,0,0,0,1,0,0,0,0,-1,0,0,0,0,5,0,11,115,0,0,0,0,0,0,6,0,0,0,0,0,1,0,0,0,0,0,0,1,0,0,0,0,0,1,78,7,0,3,0,0,0,1,0,0,0,0,0,0,0,0,0,0,0,0,0,0,0,0,0,0,0,0,0,0,0,0,1,0,0,1,1,0,7,4,0,0,0,-1,2,0,0,0,0,0,0,1,0,2,0,105,0,0,0,0,1,0,0,8,0,54,0,1,0,36,0,0,0,31,2,1,0,3,0,0,408,1,2,139,0,0,3,6,1,1,0,0,0,0,0,0,0,2,2,6,0,0,0,0,0,0,0,0,0,0,0,7,0,0,2,0,0,0,0,1,1,0,0,0,0,0,0,0,0,0,0,0,0,0,0,14,0,0,0,0,0,0,0,1,0,0,0,0,4,9,43,0,0,1,0,5,4,0,0,0,1,0,0,0,0,0,0,0,0,0,0,0,2,0,0,0,4,20,2,2,3,0,0,1,0,0,0,0,0,1,0,0,0,7,1,0,1,0,0,0,5,0,0,0,0,7,0,0,-1,1,27,1,0,2,0,132,0,0,0,0,0,1,0,0,0,0,0,0,152,2,7,0,0,0,67,0,0,0,0,0,0,0,0,1,0,3,0,0,0,0,1,0,22,1,0,128,0,0,0,0,0,0,0,0,0,0,0,0,1,0,43,0,0,0,0,0,0,0,1,0,0,0,0,0,2,1,0,0,0,0,0,1,42,531,27,1,0,0,1,0,1,11,0,0,0,5,0,0,0,0,1,0,0,0,0,0,0,0,0,0,1,0,0,0,10,0,0,1,0,0,0,0,4,0,0,0,0,5,0,0,0,0,0,0,0,0,0,0,0,0,0,0,0,0,0,154,0,8,0,17,0,0,0,0,1,1,0,0,0,0,0,0,0,0,0,0,0,0,2,14,87,0,0,0,10,0,0,1,0,0,0,0,1,1,8,0,0,0,0,0,0,0,0,0,1,0,0,0,0,0,0,0,0,0,0,0,0,0,0,0,2,0,0,0,0,0,0,0,124,1,-1,-1,0,0,0,0,0,0,0,2,122,0,0,0,1,0,0,0,0,3,177,1,0,0,66,8,0,2,0,0,0,1,0,1,0,32,0,0,0,6,4,0,0,0,14,6,0,0,0,0,0,0,0,0,0,0,0,0,0,0,0,0,0,0,0,0,0,55,3,150,3,1,0,8,632,36,0,0,5,10,6,0,0,0,1,152,0,0,0,1,0,0,0,0,0,0,0,0,0,0,0,1,0,0,0,2,0,0,0,0,20,1,1,1,1,0,1,0,0,1,24,0,0,0,0,0,0,0,0,0,0,0,0,0,0,0,0,0,0,0,1,0,1,12,1,55,0,0,0,0,0,0,0,0,0,0,0,0,0,0,1,0,0,0,0,1,0,0,0,0,0,0,0,0,0,2,6,1,0,0,8,0,0,0,0,0],\"type\":\"histogram\"}],                        {\"template\":{\"data\":{\"histogram2dcontour\":[{\"type\":\"histogram2dcontour\",\"colorbar\":{\"outlinewidth\":0,\"ticks\":\"\"},\"colorscale\":[[0.0,\"#0d0887\"],[0.1111111111111111,\"#46039f\"],[0.2222222222222222,\"#7201a8\"],[0.3333333333333333,\"#9c179e\"],[0.4444444444444444,\"#bd3786\"],[0.5555555555555556,\"#d8576b\"],[0.6666666666666666,\"#ed7953\"],[0.7777777777777778,\"#fb9f3a\"],[0.8888888888888888,\"#fdca26\"],[1.0,\"#f0f921\"]]}],\"choropleth\":[{\"type\":\"choropleth\",\"colorbar\":{\"outlinewidth\":0,\"ticks\":\"\"}}],\"histogram2d\":[{\"type\":\"histogram2d\",\"colorbar\":{\"outlinewidth\":0,\"ticks\":\"\"},\"colorscale\":[[0.0,\"#0d0887\"],[0.1111111111111111,\"#46039f\"],[0.2222222222222222,\"#7201a8\"],[0.3333333333333333,\"#9c179e\"],[0.4444444444444444,\"#bd3786\"],[0.5555555555555556,\"#d8576b\"],[0.6666666666666666,\"#ed7953\"],[0.7777777777777778,\"#fb9f3a\"],[0.8888888888888888,\"#fdca26\"],[1.0,\"#f0f921\"]]}],\"heatmap\":[{\"type\":\"heatmap\",\"colorbar\":{\"outlinewidth\":0,\"ticks\":\"\"},\"colorscale\":[[0.0,\"#0d0887\"],[0.1111111111111111,\"#46039f\"],[0.2222222222222222,\"#7201a8\"],[0.3333333333333333,\"#9c179e\"],[0.4444444444444444,\"#bd3786\"],[0.5555555555555556,\"#d8576b\"],[0.6666666666666666,\"#ed7953\"],[0.7777777777777778,\"#fb9f3a\"],[0.8888888888888888,\"#fdca26\"],[1.0,\"#f0f921\"]]}],\"heatmapgl\":[{\"type\":\"heatmapgl\",\"colorbar\":{\"outlinewidth\":0,\"ticks\":\"\"},\"colorscale\":[[0.0,\"#0d0887\"],[0.1111111111111111,\"#46039f\"],[0.2222222222222222,\"#7201a8\"],[0.3333333333333333,\"#9c179e\"],[0.4444444444444444,\"#bd3786\"],[0.5555555555555556,\"#d8576b\"],[0.6666666666666666,\"#ed7953\"],[0.7777777777777778,\"#fb9f3a\"],[0.8888888888888888,\"#fdca26\"],[1.0,\"#f0f921\"]]}],\"contourcarpet\":[{\"type\":\"contourcarpet\",\"colorbar\":{\"outlinewidth\":0,\"ticks\":\"\"}}],\"contour\":[{\"type\":\"contour\",\"colorbar\":{\"outlinewidth\":0,\"ticks\":\"\"},\"colorscale\":[[0.0,\"#0d0887\"],[0.1111111111111111,\"#46039f\"],[0.2222222222222222,\"#7201a8\"],[0.3333333333333333,\"#9c179e\"],[0.4444444444444444,\"#bd3786\"],[0.5555555555555556,\"#d8576b\"],[0.6666666666666666,\"#ed7953\"],[0.7777777777777778,\"#fb9f3a\"],[0.8888888888888888,\"#fdca26\"],[1.0,\"#f0f921\"]]}],\"surface\":[{\"type\":\"surface\",\"colorbar\":{\"outlinewidth\":0,\"ticks\":\"\"},\"colorscale\":[[0.0,\"#0d0887\"],[0.1111111111111111,\"#46039f\"],[0.2222222222222222,\"#7201a8\"],[0.3333333333333333,\"#9c179e\"],[0.4444444444444444,\"#bd3786\"],[0.5555555555555556,\"#d8576b\"],[0.6666666666666666,\"#ed7953\"],[0.7777777777777778,\"#fb9f3a\"],[0.8888888888888888,\"#fdca26\"],[1.0,\"#f0f921\"]]}],\"mesh3d\":[{\"type\":\"mesh3d\",\"colorbar\":{\"outlinewidth\":0,\"ticks\":\"\"}}],\"scatter\":[{\"fillpattern\":{\"fillmode\":\"overlay\",\"size\":10,\"solidity\":0.2},\"type\":\"scatter\"}],\"parcoords\":[{\"type\":\"parcoords\",\"line\":{\"colorbar\":{\"outlinewidth\":0,\"ticks\":\"\"}}}],\"scatterpolargl\":[{\"type\":\"scatterpolargl\",\"marker\":{\"colorbar\":{\"outlinewidth\":0,\"ticks\":\"\"}}}],\"bar\":[{\"error_x\":{\"color\":\"#2a3f5f\"},\"error_y\":{\"color\":\"#2a3f5f\"},\"marker\":{\"line\":{\"color\":\"#E5ECF6\",\"width\":0.5},\"pattern\":{\"fillmode\":\"overlay\",\"size\":10,\"solidity\":0.2}},\"type\":\"bar\"}],\"scattergeo\":[{\"type\":\"scattergeo\",\"marker\":{\"colorbar\":{\"outlinewidth\":0,\"ticks\":\"\"}}}],\"scatterpolar\":[{\"type\":\"scatterpolar\",\"marker\":{\"colorbar\":{\"outlinewidth\":0,\"ticks\":\"\"}}}],\"histogram\":[{\"marker\":{\"pattern\":{\"fillmode\":\"overlay\",\"size\":10,\"solidity\":0.2}},\"type\":\"histogram\"}],\"scattergl\":[{\"type\":\"scattergl\",\"marker\":{\"colorbar\":{\"outlinewidth\":0,\"ticks\":\"\"}}}],\"scatter3d\":[{\"type\":\"scatter3d\",\"line\":{\"colorbar\":{\"outlinewidth\":0,\"ticks\":\"\"}},\"marker\":{\"colorbar\":{\"outlinewidth\":0,\"ticks\":\"\"}}}],\"scattermapbox\":[{\"type\":\"scattermapbox\",\"marker\":{\"colorbar\":{\"outlinewidth\":0,\"ticks\":\"\"}}}],\"scatterternary\":[{\"type\":\"scatterternary\",\"marker\":{\"colorbar\":{\"outlinewidth\":0,\"ticks\":\"\"}}}],\"scattercarpet\":[{\"type\":\"scattercarpet\",\"marker\":{\"colorbar\":{\"outlinewidth\":0,\"ticks\":\"\"}}}],\"carpet\":[{\"aaxis\":{\"endlinecolor\":\"#2a3f5f\",\"gridcolor\":\"white\",\"linecolor\":\"white\",\"minorgridcolor\":\"white\",\"startlinecolor\":\"#2a3f5f\"},\"baxis\":{\"endlinecolor\":\"#2a3f5f\",\"gridcolor\":\"white\",\"linecolor\":\"white\",\"minorgridcolor\":\"white\",\"startlinecolor\":\"#2a3f5f\"},\"type\":\"carpet\"}],\"table\":[{\"cells\":{\"fill\":{\"color\":\"#EBF0F8\"},\"line\":{\"color\":\"white\"}},\"header\":{\"fill\":{\"color\":\"#C8D4E3\"},\"line\":{\"color\":\"white\"}},\"type\":\"table\"}],\"barpolar\":[{\"marker\":{\"line\":{\"color\":\"#E5ECF6\",\"width\":0.5},\"pattern\":{\"fillmode\":\"overlay\",\"size\":10,\"solidity\":0.2}},\"type\":\"barpolar\"}],\"pie\":[{\"automargin\":true,\"type\":\"pie\"}]},\"layout\":{\"autotypenumbers\":\"strict\",\"colorway\":[\"#636efa\",\"#EF553B\",\"#00cc96\",\"#ab63fa\",\"#FFA15A\",\"#19d3f3\",\"#FF6692\",\"#B6E880\",\"#FF97FF\",\"#FECB52\"],\"font\":{\"color\":\"#2a3f5f\"},\"hovermode\":\"closest\",\"hoverlabel\":{\"align\":\"left\"},\"paper_bgcolor\":\"white\",\"plot_bgcolor\":\"#E5ECF6\",\"polar\":{\"bgcolor\":\"#E5ECF6\",\"angularaxis\":{\"gridcolor\":\"white\",\"linecolor\":\"white\",\"ticks\":\"\"},\"radialaxis\":{\"gridcolor\":\"white\",\"linecolor\":\"white\",\"ticks\":\"\"}},\"ternary\":{\"bgcolor\":\"#E5ECF6\",\"aaxis\":{\"gridcolor\":\"white\",\"linecolor\":\"white\",\"ticks\":\"\"},\"baxis\":{\"gridcolor\":\"white\",\"linecolor\":\"white\",\"ticks\":\"\"},\"caxis\":{\"gridcolor\":\"white\",\"linecolor\":\"white\",\"ticks\":\"\"}},\"coloraxis\":{\"colorbar\":{\"outlinewidth\":0,\"ticks\":\"\"}},\"colorscale\":{\"sequential\":[[0.0,\"#0d0887\"],[0.1111111111111111,\"#46039f\"],[0.2222222222222222,\"#7201a8\"],[0.3333333333333333,\"#9c179e\"],[0.4444444444444444,\"#bd3786\"],[0.5555555555555556,\"#d8576b\"],[0.6666666666666666,\"#ed7953\"],[0.7777777777777778,\"#fb9f3a\"],[0.8888888888888888,\"#fdca26\"],[1.0,\"#f0f921\"]],\"sequentialminus\":[[0.0,\"#0d0887\"],[0.1111111111111111,\"#46039f\"],[0.2222222222222222,\"#7201a8\"],[0.3333333333333333,\"#9c179e\"],[0.4444444444444444,\"#bd3786\"],[0.5555555555555556,\"#d8576b\"],[0.6666666666666666,\"#ed7953\"],[0.7777777777777778,\"#fb9f3a\"],[0.8888888888888888,\"#fdca26\"],[1.0,\"#f0f921\"]],\"diverging\":[[0,\"#8e0152\"],[0.1,\"#c51b7d\"],[0.2,\"#de77ae\"],[0.3,\"#f1b6da\"],[0.4,\"#fde0ef\"],[0.5,\"#f7f7f7\"],[0.6,\"#e6f5d0\"],[0.7,\"#b8e186\"],[0.8,\"#7fbc41\"],[0.9,\"#4d9221\"],[1,\"#276419\"]]},\"xaxis\":{\"gridcolor\":\"white\",\"linecolor\":\"white\",\"ticks\":\"\",\"title\":{\"standoff\":15},\"zerolinecolor\":\"white\",\"automargin\":true,\"zerolinewidth\":2},\"yaxis\":{\"gridcolor\":\"white\",\"linecolor\":\"white\",\"ticks\":\"\",\"title\":{\"standoff\":15},\"zerolinecolor\":\"white\",\"automargin\":true,\"zerolinewidth\":2},\"scene\":{\"xaxis\":{\"backgroundcolor\":\"#E5ECF6\",\"gridcolor\":\"white\",\"linecolor\":\"white\",\"showbackground\":true,\"ticks\":\"\",\"zerolinecolor\":\"white\",\"gridwidth\":2},\"yaxis\":{\"backgroundcolor\":\"#E5ECF6\",\"gridcolor\":\"white\",\"linecolor\":\"white\",\"showbackground\":true,\"ticks\":\"\",\"zerolinecolor\":\"white\",\"gridwidth\":2},\"zaxis\":{\"backgroundcolor\":\"#E5ECF6\",\"gridcolor\":\"white\",\"linecolor\":\"white\",\"showbackground\":true,\"ticks\":\"\",\"zerolinecolor\":\"white\",\"gridwidth\":2}},\"shapedefaults\":{\"line\":{\"color\":\"#2a3f5f\"}},\"annotationdefaults\":{\"arrowcolor\":\"#2a3f5f\",\"arrowhead\":0,\"arrowwidth\":1},\"geo\":{\"bgcolor\":\"white\",\"landcolor\":\"#E5ECF6\",\"subunitcolor\":\"white\",\"showland\":true,\"showlakes\":true,\"lakecolor\":\"white\"},\"title\":{\"x\":0.05},\"mapbox\":{\"style\":\"light\"}}},\"xaxis\":{\"title\":{\"text\":\"Pos. found\"}},\"yaxis\":{\"title\":{\"text\":\"Aggregate (18 per bin)\"}},\"bargroupgap\":0.01},                        {\"responsive\": true}                    ).then(function(){\n",
       "                            \n",
       "var gd = document.getElementById('230ebd76-8bff-4d34-a9b0-504888a9b2b7');\n",
       "var x = new MutationObserver(function (mutations, observer) {{\n",
       "        var display = window.getComputedStyle(gd).display;\n",
       "        if (!display || display === 'none') {{\n",
       "            console.log([gd, 'removed!']);\n",
       "            Plotly.purge(gd);\n",
       "            observer.disconnect();\n",
       "        }}\n",
       "}});\n",
       "\n",
       "// Listen for the removal of the full notebook cells\n",
       "var notebookContainer = gd.closest('#notebook-container');\n",
       "if (notebookContainer) {{\n",
       "    x.observe(notebookContainer, {childList: true});\n",
       "}}\n",
       "\n",
       "// Listen for the clearing of the current output cell\n",
       "var outputEl = gd.closest('.output');\n",
       "if (outputEl) {{\n",
       "    x.observe(outputEl, {childList: true});\n",
       "}}\n",
       "\n",
       "                        })                };                });            </script>        </div>"
      ]
     },
     "metadata": {},
     "output_type": "display_data"
    }
   ],
   "source": [
    "nbins = 50\n",
    "fig = go.Figure()\n",
    "fig.add_trace(go.Histogram(x=list(found_dict.values()), nbinsx=nbins))\n",
    "fig.update_layout(\n",
    "    # title_text='Sampled Results', # title of plot\n",
    "    xaxis_title_text='Pos. found', # xaxis label\n",
    "    yaxis_title_text=f'Aggregate ({int(max(list(found_dict.values()))/nbins)} per bin)', # yaxis label\n",
    "    # bargap=0.2, # gap between bars of adjacent location coordinates\n",
    "    bargroupgap=0.01 # gap between bars of the same location coordinates\n",
    ")"
   ]
  },
  {
   "cell_type": "markdown",
   "metadata": {},
   "source": [
    "Max displaced label"
   ]
  },
  {
   "cell_type": "code",
   "execution_count": 91,
   "metadata": {
    "pycharm": {
     "name": "#%%\n"
    }
   },
   "outputs": [
    {
     "data": {
      "text/plain": [
       "914"
      ]
     },
     "execution_count": 91,
     "metadata": {},
     "output_type": "execute_result"
    }
   ],
   "source": [
    "max(found_dict.values())"
   ]
  },
  {
   "cell_type": "markdown",
   "metadata": {},
   "source": [
    "Inspect the cluster under t = 300"
   ]
  },
  {
   "cell_type": "code",
   "execution_count": 88,
   "metadata": {
    "pycharm": {
     "name": "#%%\n"
    }
   },
   "outputs": [],
   "source": [
    "t = 300\n",
    "cluster = [v for k, v in found_dict.items() if v <= t]"
   ]
  },
  {
   "cell_type": "code",
   "execution_count": 90,
   "metadata": {
    "pycharm": {
     "name": "#%%\n"
    }
   },
   "outputs": [
    {
     "name": "stdout",
     "output_type": "stream",
     "text": [
      "Not found ratio = 0.53% <<===>> 21 names\n"
     ]
    }
   ],
   "source": [
    "num_not_found = sum(np.array(list(found_dict.values())) > t)\n",
    "print(f'Not found ratio = {num_not_found / len(found_dict) * 100:.2f}% <<===>> {num_not_found} names')"
   ]
  },
  {
   "cell_type": "code",
   "execution_count": 92,
   "metadata": {
    "pycharm": {
     "name": "#%%\n"
    }
   },
   "outputs": [
    {
     "data": {
      "application/vnd.plotly.v1+json": {
       "config": {
        "plotlyServerURL": "https://plot.ly"
       },
       "data": [
        {
         "alignmentgroup": "True",
         "bingroup": "x",
         "hovertemplate": "x=%{x}<br>count=%{y}<extra></extra>",
         "legendgroup": "",
         "marker": {
          "color": "#636efa",
          "pattern": {
           "shape": ""
          }
         },
         "name": "",
         "nbinsx": 50,
         "offsetgroup": "",
         "orientation": "v",
         "showlegend": false,
         "type": "histogram",
         "x": [
          0,
          0,
          0,
          5,
          0,
          12,
          0,
          0,
          0,
          0,
          0,
          0,
          4,
          0,
          13,
          1,
          1,
          1,
          7,
          2,
          0,
          0,
          0,
          1,
          0,
          0,
          0,
          0,
          0,
          0,
          0,
          0,
          0,
          2,
          0,
          0,
          0,
          0,
          0,
          1,
          0,
          0,
          0,
          0,
          1,
          0,
          0,
          0,
          0,
          3,
          0,
          0,
          3,
          5,
          0,
          0,
          2,
          0,
          5,
          3,
          0,
          0,
          0,
          6,
          0,
          0,
          0,
          2,
          0,
          0,
          0,
          0,
          5,
          0,
          2,
          0,
          0,
          1,
          2,
          0,
          0,
          0,
          0,
          0,
          0,
          0,
          0,
          0,
          0,
          7,
          0,
          0,
          1,
          68,
          0,
          0,
          0,
          0,
          0,
          12,
          0,
          0,
          0,
          0,
          69,
          0,
          0,
          3,
          27,
          1,
          24,
          0,
          0,
          0,
          0,
          0,
          0,
          4,
          0,
          10,
          0,
          1,
          1,
          2,
          0,
          0,
          0,
          0,
          1,
          0,
          0,
          6,
          4,
          5,
          17,
          0,
          2,
          0,
          0,
          2,
          0,
          0,
          0,
          0,
          2,
          1,
          0,
          0,
          5,
          4,
          2,
          8,
          168,
          3,
          17,
          4,
          32,
          17,
          0,
          2,
          0,
          1,
          0,
          0,
          1,
          0,
          0,
          0,
          0,
          0,
          0,
          0,
          0,
          0,
          0,
          0,
          0,
          0,
          0,
          0,
          0,
          0,
          0,
          0,
          0,
          0,
          0,
          16,
          0,
          0,
          0,
          0,
          0,
          2,
          4,
          5,
          0,
          0,
          0,
          0,
          0,
          0,
          0,
          0,
          127,
          0,
          0,
          1,
          0,
          1,
          0,
          0,
          2,
          11,
          96,
          0,
          0,
          0,
          2,
          5,
          0,
          0,
          0,
          0,
          1,
          0,
          0,
          0,
          1,
          0,
          1,
          0,
          0,
          0,
          0,
          0,
          0,
          0,
          3,
          0,
          0,
          0,
          0,
          0,
          0,
          0,
          0,
          0,
          7,
          22,
          0,
          0,
          0,
          2,
          2,
          0,
          0,
          0,
          0,
          0,
          0,
          52,
          2,
          28,
          11,
          0,
          4,
          0,
          1,
          0,
          0,
          0,
          0,
          1,
          0,
          0,
          0,
          0,
          0,
          1,
          0,
          0,
          0,
          0,
          0,
          0,
          0,
          29,
          79,
          37,
          0,
          9,
          1,
          0,
          0,
          0,
          0,
          0,
          0,
          2,
          0,
          0,
          0,
          0,
          0,
          0,
          0,
          1,
          0,
          0,
          0,
          0,
          0,
          0,
          24,
          0,
          56,
          82,
          17,
          69,
          0,
          3,
          0,
          0,
          0,
          1,
          42,
          1,
          18,
          21,
          0,
          0,
          41,
          18,
          40,
          2,
          0,
          0,
          8,
          0,
          0,
          0,
          0,
          0,
          2,
          0,
          0,
          2,
          0,
          0,
          30,
          3,
          0,
          0,
          1,
          0,
          0,
          0,
          0,
          0,
          0,
          0,
          0,
          0,
          3,
          0,
          0,
          38,
          2,
          0,
          0,
          1,
          0,
          0,
          1,
          0,
          0,
          0,
          28,
          1,
          3,
          0,
          3,
          0,
          33,
          13,
          2,
          0,
          1,
          0,
          0,
          54,
          0,
          0,
          1,
          0,
          0,
          0,
          0,
          0,
          0,
          13,
          2,
          1,
          18,
          0,
          0,
          2,
          1,
          8,
          12,
          0,
          0,
          0,
          2,
          0,
          14,
          14,
          0,
          0,
          0,
          4,
          0,
          17,
          3,
          0,
          0,
          0,
          0,
          4,
          0,
          2,
          0,
          0,
          1,
          1,
          0,
          1,
          5,
          1,
          0,
          0,
          0,
          0,
          0,
          0,
          0,
          1,
          3,
          0,
          0,
          0,
          0,
          0,
          0,
          0,
          0,
          0,
          0,
          0,
          0,
          0,
          6,
          0,
          0,
          0,
          0,
          0,
          0,
          1,
          0,
          0,
          0,
          0,
          1,
          0,
          0,
          0,
          0,
          2,
          0,
          0,
          0,
          0,
          0,
          0,
          0,
          0,
          0,
          0,
          0,
          0,
          0,
          0,
          0,
          1,
          0,
          0,
          0,
          0,
          0,
          1,
          1,
          0,
          9,
          0,
          0,
          0,
          0,
          0,
          0,
          0,
          0,
          1,
          0,
          0,
          0,
          233,
          4,
          0,
          0,
          0,
          0,
          0,
          0,
          0,
          0,
          0,
          0,
          0,
          0,
          0,
          0,
          0,
          0,
          0,
          0,
          0,
          0,
          0,
          0,
          0,
          0,
          0,
          0,
          0,
          0,
          0,
          2,
          0,
          9,
          0,
          0,
          0,
          0,
          1,
          0,
          11,
          11,
          1,
          15,
          2,
          8,
          0,
          64,
          1,
          0,
          0,
          0,
          0,
          0,
          0,
          2,
          0,
          0,
          0,
          0,
          0,
          0,
          4,
          0,
          0,
          0,
          0,
          0,
          0,
          0,
          0,
          0,
          0,
          0,
          1,
          0,
          3,
          0,
          1,
          0,
          1,
          1,
          2,
          3,
          0,
          0,
          0,
          0,
          0,
          0,
          0,
          0,
          0,
          0,
          0,
          0,
          0,
          5,
          0,
          0,
          0,
          0,
          0,
          0,
          0,
          0,
          1,
          0,
          0,
          0,
          0,
          6,
          0,
          0,
          0,
          3,
          0,
          0,
          0,
          0,
          0,
          0,
          1,
          3,
          1,
          1,
          0,
          0,
          0,
          0,
          0,
          0,
          0,
          4,
          2,
          0,
          0,
          0,
          0,
          0,
          0,
          2,
          0,
          0,
          0,
          0,
          0,
          8,
          0,
          0,
          0,
          0,
          1,
          0,
          0,
          0,
          0,
          0,
          0,
          0,
          0,
          0,
          0,
          0,
          0,
          78,
          0,
          1,
          1,
          0,
          0,
          0,
          0,
          0,
          0,
          5,
          0,
          0,
          0,
          0,
          1,
          0,
          0,
          0,
          0,
          0,
          0,
          0,
          0,
          2,
          0,
          1,
          10,
          0,
          0,
          0,
          0,
          0,
          0,
          0,
          2,
          0,
          0,
          0,
          0,
          0,
          0,
          16,
          0,
          0,
          0,
          4,
          19,
          0,
          0,
          0,
          3,
          2,
          0,
          74,
          0,
          0,
          0,
          0,
          0,
          0,
          0,
          0,
          0,
          0,
          3,
          0,
          0,
          10,
          0,
          3,
          0,
          0,
          0,
          0,
          0,
          0,
          2,
          3,
          2,
          1,
          13,
          0,
          0,
          0,
          0,
          0,
          0,
          0,
          0,
          0,
          0,
          0,
          1,
          10,
          1,
          0,
          2,
          0,
          0,
          0,
          0,
          0,
          0,
          12,
          0,
          1,
          0,
          0,
          0,
          0,
          76,
          14,
          0,
          31,
          0,
          14,
          2,
          0,
          0,
          0,
          0,
          2,
          0,
          0,
          0,
          2,
          1,
          0,
          0,
          0,
          0,
          2,
          0,
          0,
          0,
          0,
          0,
          0,
          0,
          1,
          0,
          0,
          0,
          0,
          9,
          5,
          8,
          1,
          1,
          0,
          0,
          1,
          0,
          0,
          0,
          0,
          0,
          1,
          12,
          3,
          7,
          50,
          0,
          0,
          0,
          28,
          0,
          0,
          0,
          5,
          0,
          0,
          0,
          0,
          0,
          0,
          0,
          0,
          0,
          0,
          0,
          0,
          0,
          0,
          0,
          0,
          1,
          0,
          0,
          -1,
          -1,
          0,
          0,
          0,
          0,
          0,
          5,
          0,
          0,
          1,
          0,
          0,
          1,
          1,
          0,
          0,
          0,
          0,
          0,
          0,
          0,
          0,
          0,
          3,
          0,
          0,
          2,
          0,
          0,
          0,
          0,
          0,
          0,
          2,
          0,
          0,
          2,
          1,
          0,
          0,
          2,
          1,
          2,
          2,
          5,
          77,
          0,
          0,
          47,
          0,
          2,
          48,
          0,
          16,
          3,
          0,
          0,
          0,
          246,
          0,
          6,
          57,
          204,
          12,
          0,
          0,
          0,
          0,
          1,
          0,
          1,
          2,
          60,
          0,
          0,
          0,
          2,
          0,
          0,
          0,
          0,
          0,
          1,
          0,
          0,
          0,
          0,
          0,
          0,
          0,
          0,
          0,
          0,
          0,
          0,
          0,
          0,
          0,
          0,
          9,
          1,
          11,
          0,
          0,
          0,
          0,
          0,
          14,
          0,
          0,
          0,
          0,
          34,
          1,
          0,
          0,
          0,
          0,
          0,
          1,
          0,
          0,
          265,
          1,
          5,
          3,
          0,
          1,
          0,
          0,
          3,
          0,
          0,
          0,
          0,
          2,
          0,
          1,
          0,
          0,
          0,
          0,
          0,
          0,
          0,
          0,
          0,
          195,
          0,
          0,
          4,
          225,
          49,
          0,
          0,
          0,
          32,
          0,
          0,
          0,
          0,
          0,
          0,
          0,
          0,
          0,
          11,
          3,
          0,
          0,
          0,
          0,
          0,
          0,
          0,
          0,
          0,
          0,
          1,
          0,
          0,
          0,
          56,
          0,
          0,
          0,
          35,
          1,
          0,
          1,
          0,
          0,
          20,
          0,
          0,
          0,
          0,
          11,
          0,
          0,
          0,
          0,
          0,
          0,
          0,
          0,
          0,
          0,
          1,
          0,
          0,
          0,
          0,
          1,
          0,
          11,
          7,
          244,
          1,
          50,
          2,
          1,
          0,
          0,
          0,
          0,
          0,
          0,
          0,
          0,
          0,
          0,
          1,
          0,
          0,
          0,
          0,
          0,
          0,
          0,
          0,
          0,
          0,
          0,
          0,
          19,
          0,
          1,
          0,
          0,
          0,
          0,
          0,
          0,
          0,
          0,
          0,
          0,
          0,
          0,
          0,
          0,
          0,
          0,
          0,
          0,
          0,
          2,
          0,
          0,
          0,
          0,
          0,
          0,
          0,
          1,
          0,
          0,
          0,
          0,
          0,
          0,
          0,
          0,
          0,
          0,
          0,
          0,
          0,
          3,
          0,
          0,
          0,
          0,
          0,
          0,
          0,
          0,
          0,
          0,
          0,
          0,
          0,
          0,
          0,
          0,
          0,
          0,
          0,
          0,
          0,
          6,
          0,
          1,
          0,
          0,
          2,
          0,
          0,
          1,
          0,
          0,
          0,
          0,
          0,
          0,
          0,
          0,
          0,
          0,
          0,
          1,
          0,
          0,
          0,
          0,
          2,
          20,
          34,
          47,
          0,
          0,
          0,
          0,
          0,
          2,
          0,
          0,
          0,
          0,
          0,
          0,
          0,
          0,
          0,
          0,
          0,
          0,
          0,
          0,
          0,
          0,
          1,
          0,
          0,
          0,
          0,
          0,
          18,
          3,
          0,
          1,
          0,
          0,
          0,
          0,
          0,
          0,
          0,
          0,
          0,
          0,
          0,
          0,
          0,
          0,
          0,
          0,
          0,
          0,
          97,
          0,
          0,
          1,
          0,
          0,
          0,
          0,
          0,
          0,
          0,
          0,
          0,
          0,
          0,
          0,
          0,
          0,
          0,
          0,
          0,
          0,
          0,
          0,
          0,
          1,
          0,
          0,
          0,
          1,
          0,
          0,
          0,
          0,
          0,
          0,
          0,
          0,
          0,
          0,
          1,
          3,
          0,
          0,
          2,
          1,
          0,
          0,
          1,
          0,
          79,
          5,
          0,
          0,
          2,
          1,
          0,
          0,
          0,
          0,
          0,
          0,
          0,
          4,
          0,
          6,
          0,
          0,
          0,
          0,
          0,
          0,
          0,
          1,
          0,
          36,
          0,
          0,
          0,
          5,
          0,
          0,
          0,
          0,
          0,
          0,
          0,
          0,
          0,
          0,
          0,
          0,
          0,
          0,
          0,
          2,
          0,
          1,
          8,
          7,
          5,
          2,
          1,
          0,
          0,
          0,
          0,
          0,
          0,
          0,
          0,
          0,
          0,
          0,
          0,
          0,
          0,
          0,
          0,
          0,
          53,
          0,
          0,
          0,
          0,
          0,
          0,
          0,
          0,
          0,
          3,
          3,
          0,
          5,
          0,
          1,
          0,
          0,
          0,
          0,
          0,
          5,
          0,
          0,
          0,
          0,
          0,
          0,
          0,
          0,
          0,
          0,
          0,
          0,
          0,
          0,
          5,
          6,
          0,
          0,
          0,
          0,
          0,
          0,
          119,
          0,
          0,
          0,
          0,
          0,
          2,
          0,
          0,
          0,
          0,
          0,
          0,
          0,
          0,
          0,
          0,
          0,
          0,
          0,
          0,
          0,
          0,
          1,
          0,
          0,
          9,
          0,
          0,
          0,
          0,
          1,
          0,
          0,
          0,
          0,
          1,
          0,
          0,
          0,
          2,
          0,
          0,
          0,
          0,
          1,
          0,
          0,
          0,
          1,
          1,
          0,
          0,
          0,
          1,
          2,
          67,
          62,
          0,
          0,
          153,
          0,
          0,
          0,
          0,
          25,
          0,
          0,
          1,
          0,
          0,
          0,
          0,
          0,
          0,
          0,
          0,
          0,
          0,
          0,
          0,
          0,
          0,
          0,
          0,
          0,
          0,
          0,
          0,
          0,
          0,
          0,
          0,
          0,
          45,
          0,
          0,
          0,
          0,
          0,
          0,
          0,
          3,
          0,
          0,
          0,
          0,
          0,
          0,
          0,
          0,
          0,
          0,
          0,
          0,
          0,
          0,
          0,
          0,
          0,
          0,
          1,
          0,
          0,
          4,
          0,
          0,
          0,
          0,
          0,
          1,
          1,
          0,
          17,
          0,
          5,
          74,
          0,
          0,
          3,
          1,
          5,
          0,
          0,
          0,
          0,
          2,
          1,
          0,
          0,
          0,
          -1,
          0,
          0,
          9,
          4,
          5,
          0,
          0,
          0,
          0,
          0,
          0,
          0,
          0,
          0,
          0,
          18,
          0,
          174,
          5,
          0,
          0,
          0,
          0,
          0,
          1,
          0,
          0,
          0,
          0,
          1,
          0,
          0,
          0,
          0,
          0,
          0,
          0,
          0,
          0,
          0,
          0,
          1,
          1,
          101,
          63,
          0,
          26,
          0,
          7,
          2,
          0,
          1,
          0,
          3,
          121,
          0,
          0,
          0,
          0,
          0,
          0,
          0,
          0,
          0,
          3,
          0,
          0,
          0,
          0,
          0,
          0,
          0,
          0,
          0,
          0,
          0,
          0,
          0,
          0,
          48,
          0,
          0,
          7,
          1,
          0,
          0,
          0,
          0,
          0,
          0,
          0,
          0,
          0,
          0,
          0,
          0,
          0,
          21,
          0,
          0,
          0,
          1,
          0,
          0,
          0,
          0,
          0,
          34,
          3,
          0,
          0,
          0,
          0,
          0,
          1,
          0,
          0,
          14,
          1,
          0,
          0,
          2,
          0,
          0,
          0,
          0,
          0,
          0,
          0,
          1,
          0,
          0,
          18,
          0,
          3,
          0,
          1,
          4,
          1,
          0,
          0,
          0,
          10,
          0,
          0,
          1,
          0,
          0,
          1,
          0,
          2,
          0,
          4,
          0,
          0,
          0,
          0,
          0,
          0,
          0,
          0,
          0,
          0,
          0,
          0,
          0,
          0,
          0,
          0,
          0,
          0,
          0,
          0,
          0,
          0,
          2,
          2,
          0,
          9,
          0,
          0,
          0,
          0,
          7,
          0,
          0,
          0,
          2,
          1,
          0,
          0,
          0,
          0,
          0,
          0,
          0,
          0,
          0,
          0,
          0,
          0,
          0,
          0,
          3,
          0,
          0,
          0,
          2,
          0,
          0,
          0,
          0,
          0,
          0,
          0,
          1,
          0,
          0,
          0,
          0,
          0,
          0,
          6,
          1,
          0,
          100,
          21,
          0,
          0,
          0,
          0,
          0,
          0,
          0,
          0,
          65,
          13,
          2,
          44,
          0,
          0,
          0,
          3,
          0,
          0,
          0,
          0,
          2,
          0,
          0,
          0,
          0,
          0,
          0,
          0,
          128,
          0,
          0,
          0,
          1,
          0,
          9,
          0,
          0,
          0,
          0,
          0,
          0,
          0,
          0,
          0,
          0,
          0,
          147,
          210,
          0,
          35,
          0,
          1,
          0,
          0,
          37,
          0,
          0,
          0,
          84,
          20,
          0,
          5,
          0,
          0,
          0,
          0,
          1,
          1,
          1,
          0,
          0,
          0,
          0,
          0,
          0,
          0,
          0,
          0,
          0,
          0,
          0,
          1,
          1,
          1,
          3,
          0,
          0,
          0,
          3,
          1,
          0,
          0,
          1,
          0,
          0,
          0,
          1,
          0,
          0,
          0,
          0,
          0,
          0,
          0,
          1,
          0,
          0,
          3,
          0,
          77,
          0,
          0,
          0,
          0,
          1,
          0,
          0,
          0,
          0,
          0,
          0,
          0,
          0,
          0,
          0,
          0,
          1,
          0,
          0,
          6,
          0,
          0,
          0,
          3,
          116,
          0,
          0,
          20,
          2,
          150,
          0,
          0,
          0,
          0,
          3,
          0,
          0,
          0,
          2,
          13,
          0,
          0,
          0,
          0,
          0,
          0,
          0,
          0,
          0,
          0,
          0,
          0,
          0,
          1,
          0,
          1,
          93,
          1,
          0,
          0,
          0,
          0,
          0,
          0,
          1,
          0,
          0,
          0,
          0,
          5,
          0,
          2,
          1,
          9,
          12,
          0,
          0,
          0,
          0,
          0,
          146,
          1,
          2,
          0,
          186,
          1,
          0,
          0,
          0,
          0,
          0,
          0,
          6,
          0,
          0,
          0,
          0,
          0,
          56,
          0,
          0,
          0,
          0,
          0,
          0,
          0,
          0,
          13,
          1,
          155,
          0,
          0,
          0,
          0,
          1,
          1,
          0,
          1,
          0,
          0,
          0,
          0,
          0,
          0,
          0,
          0,
          0,
          0,
          0,
          8,
          3,
          5,
          0,
          0,
          0,
          7,
          6,
          11,
          35,
          1,
          3,
          20,
          13,
          6,
          22,
          18,
          11,
          12,
          1,
          2,
          1,
          4,
          0,
          1,
          201,
          0,
          9,
          0,
          5,
          145,
          0,
          0,
          2,
          0,
          15,
          1,
          0,
          0,
          24,
          0,
          0,
          0,
          0,
          0,
          0,
          0,
          0,
          0,
          0,
          30,
          0,
          0,
          0,
          0,
          0,
          0,
          0,
          1,
          0,
          50,
          0,
          0,
          0,
          0,
          48,
          0,
          0,
          0,
          0,
          0,
          0,
          0,
          0,
          0,
          11,
          0,
          0,
          0,
          0,
          0,
          0,
          14,
          9,
          239,
          0,
          14,
          4,
          1,
          1,
          0,
          0,
          0,
          0,
          0,
          0,
          0,
          3,
          0,
          1,
          0,
          0,
          0,
          0,
          0,
          0,
          0,
          0,
          0,
          1,
          1,
          1,
          2,
          0,
          0,
          0,
          0,
          16,
          1,
          0,
          0,
          0,
          0,
          0,
          0,
          0,
          0,
          0,
          0,
          0,
          0,
          0,
          0,
          0,
          0,
          0,
          1,
          0,
          0,
          0,
          0,
          0,
          0,
          1,
          0,
          0,
          0,
          0,
          0,
          0,
          0,
          0,
          102,
          17,
          0,
          4,
          0,
          0,
          5,
          0,
          0,
          31,
          0,
          0,
          0,
          9,
          3,
          0,
          0,
          0,
          0,
          0,
          0,
          1,
          4,
          1,
          49,
          13,
          0,
          1,
          1,
          0,
          28,
          21,
          0,
          0,
          0,
          0,
          0,
          0,
          5,
          0,
          0,
          0,
          1,
          0,
          6,
          0,
          1,
          0,
          0,
          0,
          0,
          67,
          0,
          0,
          0,
          0,
          0,
          0,
          0,
          0,
          2,
          6,
          0,
          0,
          0,
          0,
          0,
          0,
          0,
          2,
          20,
          3,
          0,
          3,
          22,
          8,
          9,
          0,
          1,
          0,
          0,
          27,
          0,
          6,
          1,
          34,
          3,
          0,
          0,
          0,
          0,
          0,
          0,
          0,
          0,
          0,
          0,
          0,
          0,
          0,
          5,
          0,
          0,
          0,
          1,
          0,
          0,
          0,
          0,
          0,
          0,
          15,
          0,
          0,
          0,
          0,
          0,
          0,
          0,
          0,
          0,
          0,
          0,
          0,
          0,
          2,
          0,
          0,
          1,
          0,
          0,
          2,
          0,
          1,
          0,
          0,
          0,
          0,
          2,
          0,
          0,
          2,
          0,
          0,
          2,
          0,
          0,
          0,
          0,
          0,
          0,
          0,
          0,
          0,
          0,
          0,
          0,
          0,
          0,
          0,
          0,
          0,
          0,
          0,
          0,
          0,
          0,
          0,
          0,
          0,
          0,
          0,
          0,
          0,
          16,
          0,
          3,
          0,
          1,
          0,
          0,
          0,
          0,
          0,
          0,
          23,
          0,
          0,
          0,
          0,
          0,
          0,
          19,
          0,
          0,
          0,
          43,
          0,
          0,
          0,
          0,
          0,
          0,
          1,
          4,
          0,
          1,
          0,
          0,
          0,
          0,
          77,
          0,
          0,
          0,
          0,
          0,
          0,
          0,
          1,
          0,
          0,
          0,
          0,
          0,
          0,
          0,
          0,
          0,
          0,
          0,
          0,
          0,
          2,
          0,
          2,
          0,
          0,
          0,
          0,
          0,
          0,
          11,
          27,
          0,
          0,
          0,
          0,
          0,
          0,
          0,
          0,
          0,
          0,
          0,
          0,
          0,
          0,
          0,
          0,
          0,
          0,
          0,
          0,
          0,
          0,
          3,
          0,
          0,
          1,
          0,
          1,
          0,
          0,
          0,
          0,
          0,
          0,
          0,
          0,
          1,
          0,
          0,
          0,
          1,
          1,
          1,
          0,
          0,
          1,
          11,
          1,
          0,
          4,
          0,
          0,
          0,
          0,
          0,
          0,
          0,
          0,
          1,
          0,
          0,
          0,
          0,
          1,
          0,
          0,
          32,
          10,
          0,
          111,
          106,
          2,
          0,
          0,
          0,
          0,
          0,
          0,
          0,
          0,
          0,
          17,
          0,
          0,
          0,
          0,
          0,
          0,
          1,
          0,
          7,
          4,
          0,
          0,
          0,
          0,
          0,
          0,
          9,
          0,
          0,
          0,
          0,
          0,
          0,
          0,
          2,
          0,
          0,
          0,
          1,
          2,
          0,
          0,
          0,
          0,
          0,
          67,
          0,
          52,
          1,
          3,
          0,
          0,
          0,
          0,
          0,
          0,
          0,
          0,
          0,
          0,
          0,
          17,
          5,
          2,
          0,
          0,
          0,
          3,
          4,
          0,
          1,
          1,
          0,
          0,
          0,
          0,
          0,
          0,
          0,
          0,
          0,
          0,
          0,
          12,
          0,
          0,
          0,
          0,
          0,
          0,
          0,
          0,
          0,
          1,
          0,
          0,
          0,
          0,
          38,
          0,
          0,
          103,
          61,
          7,
          0,
          0,
          0,
          9,
          16,
          0,
          0,
          0,
          5,
          0,
          0,
          0,
          0,
          0,
          0,
          0,
          0,
          9,
          0,
          2,
          0,
          0,
          0,
          0,
          0,
          0,
          0,
          6,
          0,
          0,
          0,
          1,
          1,
          1,
          0,
          0,
          0,
          0,
          0,
          0,
          0,
          0,
          12,
          0,
          5,
          0,
          0,
          0,
          0,
          18,
          0,
          0,
          6,
          0,
          0,
          2,
          2,
          1,
          2,
          174,
          0,
          0,
          0,
          0,
          0,
          0,
          0,
          0,
          0,
          1,
          0,
          0,
          0,
          0,
          0,
          0,
          35,
          0,
          0,
          0,
          0,
          0,
          0,
          0,
          0,
          6,
          0,
          0,
          7,
          0,
          0,
          0,
          0,
          0,
          52,
          0,
          0,
          0,
          0,
          2,
          0,
          0,
          0,
          2,
          1,
          0,
          0,
          73,
          4,
          8,
          0,
          0,
          3,
          2,
          9,
          0,
          2,
          1,
          0,
          0,
          0,
          0,
          0,
          0,
          1,
          3,
          1,
          14,
          26,
          1,
          0,
          0,
          0,
          3,
          0,
          0,
          0,
          0,
          0,
          144,
          0,
          0,
          0,
          0,
          0,
          1,
          0,
          0,
          0,
          0,
          3,
          0,
          6,
          1,
          7,
          0,
          0,
          0,
          0,
          4,
          0,
          69,
          0,
          1,
          12,
          1,
          0,
          0,
          0,
          10,
          0,
          0,
          0,
          1,
          3,
          0,
          0,
          0,
          0,
          1,
          0,
          0,
          0,
          0,
          0,
          0,
          0,
          2,
          1,
          0,
          0,
          0,
          0,
          0,
          0,
          0,
          0,
          0,
          0,
          0,
          0,
          0,
          0,
          0,
          0,
          3,
          0,
          5,
          0,
          0,
          0,
          1,
          0,
          0,
          16,
          0,
          0,
          0,
          0,
          0,
          0,
          0,
          0,
          1,
          0,
          0,
          0,
          20,
          1,
          0,
          0,
          0,
          0,
          0,
          0,
          0,
          0,
          0,
          0,
          0,
          0,
          3,
          94,
          5,
          1,
          8,
          3,
          2,
          15,
          1,
          0,
          0,
          0,
          0,
          0,
          0,
          0,
          0,
          0,
          0,
          1,
          0,
          0,
          0,
          0,
          0,
          0,
          0,
          0,
          15,
          6,
          11,
          1,
          0,
          1,
          0,
          0,
          0,
          0,
          0,
          0,
          0,
          2,
          1,
          0,
          0,
          0,
          0,
          0,
          0,
          0,
          2,
          11,
          0,
          0,
          1,
          0,
          0,
          3,
          0,
          0,
          0,
          0,
          5,
          0,
          0,
          2,
          1,
          0,
          1,
          0,
          0,
          0,
          2,
          19,
          1,
          1,
          5,
          22,
          0,
          0,
          0,
          7,
          0,
          0,
          4,
          0,
          0,
          0,
          0,
          1,
          17,
          0,
          0,
          6,
          6,
          7,
          1,
          0,
          0,
          0,
          1,
          0,
          0,
          0,
          0,
          4,
          0,
          0,
          1,
          1,
          0,
          0,
          0,
          0,
          2,
          0,
          46,
          19,
          10,
          0,
          2,
          0,
          0,
          0,
          15,
          0,
          0,
          0,
          0,
          0,
          0,
          0,
          0,
          0,
          0,
          0,
          0,
          0,
          0,
          0,
          0,
          0,
          0,
          0,
          0,
          0,
          0,
          0,
          0,
          0,
          0,
          0,
          0,
          0,
          0,
          0,
          0,
          0,
          0,
          0,
          0,
          0,
          0,
          93,
          0,
          0,
          0,
          0,
          0,
          0,
          0,
          0,
          0,
          0,
          2,
          6,
          0,
          0,
          0,
          0,
          0,
          0,
          0,
          3,
          0,
          0,
          0,
          0,
          0,
          0,
          0,
          0,
          0,
          0,
          0,
          1,
          27,
          0,
          0,
          0,
          7,
          0,
          43,
          2,
          0,
          0,
          0,
          0,
          0,
          0,
          1,
          0,
          0,
          0,
          0,
          0,
          0,
          0,
          21,
          1,
          0,
          0,
          5,
          0,
          5,
          0,
          -1,
          5,
          1,
          39,
          0,
          0,
          0,
          1,
          16,
          0,
          0,
          0,
          23,
          2,
          2,
          0,
          2,
          28,
          81,
          0,
          0,
          0,
          0,
          0,
          0,
          0,
          0,
          0,
          0,
          0,
          0,
          0,
          3,
          0,
          1,
          0,
          13,
          9,
          8,
          1,
          13,
          0,
          0,
          27,
          0,
          1,
          4,
          2,
          0,
          0,
          0,
          0,
          0,
          0,
          0,
          0,
          0,
          0,
          0,
          0,
          0,
          0,
          0,
          0,
          0,
          0,
          0,
          85,
          1,
          0,
          1,
          2,
          0,
          0,
          0,
          0,
          0,
          0,
          0,
          0,
          0,
          0,
          0,
          10,
          0,
          0,
          0,
          6,
          34,
          0,
          0,
          0,
          2,
          8,
          0,
          0,
          0,
          191,
          0,
          0,
          0,
          4,
          0,
          0,
          0,
          0,
          0,
          0,
          0,
          0,
          0,
          37,
          1,
          9,
          0,
          0,
          0,
          0,
          0,
          0,
          0,
          0,
          0,
          0,
          0,
          0,
          0,
          0,
          0,
          0,
          0,
          1,
          6,
          5,
          0,
          0,
          0,
          0,
          3,
          0,
          0,
          0,
          0,
          9,
          0,
          0,
          0,
          0,
          0,
          0,
          0,
          0,
          0,
          0,
          0,
          0,
          0,
          0,
          0,
          0,
          0,
          0,
          0,
          0,
          0,
          0,
          1,
          0,
          0,
          0,
          0,
          4,
          0,
          280,
          5,
          1,
          96,
          0,
          12,
          0,
          4,
          4,
          12,
          1,
          0,
          0,
          0,
          14,
          1,
          0,
          0,
          153,
          87,
          0,
          20,
          13,
          12,
          6,
          0,
          12,
          5,
          0,
          0,
          0,
          0,
          0,
          0,
          0,
          0,
          0,
          0,
          0,
          0,
          0,
          0,
          0,
          0,
          0,
          18,
          0,
          0,
          0,
          0,
          0,
          0,
          0,
          8,
          0,
          0,
          0,
          9,
          0,
          28,
          0,
          20,
          1,
          3,
          0,
          0,
          0,
          0,
          0,
          1,
          0,
          0,
          0,
          0,
          -1,
          0,
          0,
          0,
          0,
          5,
          0,
          11,
          115,
          0,
          0,
          0,
          0,
          0,
          0,
          6,
          0,
          0,
          0,
          0,
          0,
          1,
          0,
          0,
          0,
          0,
          0,
          0,
          1,
          0,
          0,
          0,
          0,
          0,
          1,
          78,
          7,
          0,
          3,
          0,
          0,
          0,
          1,
          0,
          0,
          0,
          0,
          0,
          0,
          0,
          0,
          0,
          0,
          0,
          0,
          0,
          0,
          0,
          0,
          0,
          0,
          0,
          0,
          0,
          0,
          0,
          0,
          1,
          0,
          0,
          1,
          1,
          0,
          7,
          4,
          0,
          0,
          0,
          -1,
          2,
          0,
          0,
          0,
          0,
          0,
          0,
          1,
          0,
          2,
          0,
          105,
          0,
          0,
          0,
          0,
          1,
          0,
          0,
          8,
          0,
          54,
          0,
          1,
          0,
          36,
          0,
          0,
          0,
          31,
          2,
          1,
          0,
          3,
          0,
          0,
          1,
          2,
          139,
          0,
          0,
          3,
          6,
          1,
          1,
          0,
          0,
          0,
          0,
          0,
          0,
          0,
          2,
          2,
          6,
          0,
          0,
          0,
          0,
          0,
          0,
          0,
          0,
          0,
          0,
          0,
          7,
          0,
          0,
          2,
          0,
          0,
          0,
          0,
          1,
          1,
          0,
          0,
          0,
          0,
          0,
          0,
          0,
          0,
          0,
          0,
          0,
          0,
          0,
          0,
          14,
          0,
          0,
          0,
          0,
          0,
          0,
          0,
          1,
          0,
          0,
          0,
          0,
          4,
          9,
          43,
          0,
          0,
          1,
          0,
          5,
          4,
          0,
          0,
          0,
          1,
          0,
          0,
          0,
          0,
          0,
          0,
          0,
          0,
          0,
          0,
          0,
          2,
          0,
          0,
          0,
          4,
          20,
          2,
          2,
          3,
          0,
          0,
          1,
          0,
          0,
          0,
          0,
          0,
          1,
          0,
          0,
          0,
          7,
          1,
          0,
          1,
          0,
          0,
          0,
          5,
          0,
          0,
          0,
          0,
          7,
          0,
          0,
          -1,
          1,
          27,
          1,
          0,
          2,
          0,
          132,
          0,
          0,
          0,
          0,
          0,
          1,
          0,
          0,
          0,
          0,
          0,
          0,
          152,
          2,
          7,
          0,
          0,
          0,
          67,
          0,
          0,
          0,
          0,
          0,
          0,
          0,
          0,
          1,
          0,
          3,
          0,
          0,
          0,
          0,
          1,
          0,
          22,
          1,
          0,
          128,
          0,
          0,
          0,
          0,
          0,
          0,
          0,
          0,
          0,
          0,
          0,
          0,
          1,
          0,
          43,
          0,
          0,
          0,
          0,
          0,
          0,
          0,
          1,
          0,
          0,
          0,
          0,
          0,
          2,
          1,
          0,
          0,
          0,
          0,
          0,
          1,
          42,
          27,
          1,
          0,
          0,
          1,
          0,
          1,
          11,
          0,
          0,
          0,
          5,
          0,
          0,
          0,
          0,
          1,
          0,
          0,
          0,
          0,
          0,
          0,
          0,
          0,
          0,
          1,
          0,
          0,
          0,
          10,
          0,
          0,
          1,
          0,
          0,
          0,
          0,
          4,
          0,
          0,
          0,
          0,
          5,
          0,
          0,
          0,
          0,
          0,
          0,
          0,
          0,
          0,
          0,
          0,
          0,
          0,
          0,
          0,
          0,
          0,
          154,
          0,
          8,
          0,
          17,
          0,
          0,
          0,
          0,
          1,
          1,
          0,
          0,
          0,
          0,
          0,
          0,
          0,
          0,
          0,
          0,
          0,
          0,
          2,
          14,
          87,
          0,
          0,
          0,
          10,
          0,
          0,
          1,
          0,
          0,
          0,
          0,
          1,
          1,
          8,
          0,
          0,
          0,
          0,
          0,
          0,
          0,
          0,
          0,
          1,
          0,
          0,
          0,
          0,
          0,
          0,
          0,
          0,
          0,
          0,
          0,
          0,
          0,
          0,
          0,
          2,
          0,
          0,
          0,
          0,
          0,
          0,
          0,
          124,
          1,
          -1,
          -1,
          0,
          0,
          0,
          0,
          0,
          0,
          0,
          2,
          122,
          0,
          0,
          0,
          1,
          0,
          0,
          0,
          0,
          3,
          177,
          1,
          0,
          0,
          66,
          8,
          0,
          2,
          0,
          0,
          0,
          1,
          0,
          1,
          0,
          32,
          0,
          0,
          0,
          6,
          4,
          0,
          0,
          0,
          14,
          6,
          0,
          0,
          0,
          0,
          0,
          0,
          0,
          0,
          0,
          0,
          0,
          0,
          0,
          0,
          0,
          0,
          0,
          0,
          0,
          0,
          0,
          55,
          3,
          150,
          3,
          1,
          0,
          8,
          36,
          0,
          0,
          5,
          10,
          6,
          0,
          0,
          0,
          1,
          152,
          0,
          0,
          0,
          1,
          0,
          0,
          0,
          0,
          0,
          0,
          0,
          0,
          0,
          0,
          0,
          1,
          0,
          0,
          0,
          2,
          0,
          0,
          0,
          0,
          20,
          1,
          1,
          1,
          1,
          0,
          1,
          0,
          0,
          1,
          24,
          0,
          0,
          0,
          0,
          0,
          0,
          0,
          0,
          0,
          0,
          0,
          0,
          0,
          0,
          0,
          0,
          0,
          0,
          0,
          1,
          0,
          1,
          12,
          1,
          55,
          0,
          0,
          0,
          0,
          0,
          0,
          0,
          0,
          0,
          0,
          0,
          0,
          0,
          0,
          1,
          0,
          0,
          0,
          0,
          1,
          0,
          0,
          0,
          0,
          0,
          0,
          0,
          0,
          0,
          2,
          6,
          1,
          0,
          0,
          8,
          0,
          0,
          0,
          0,
          0
         ],
         "xaxis": "x",
         "yaxis": "y"
        }
       ],
       "layout": {
        "bargroupgap": 0.01,
        "barmode": "relative",
        "legend": {
         "tracegroupgap": 0
        },
        "margin": {
         "t": 60
        },
        "template": {
         "data": {
          "bar": [
           {
            "error_x": {
             "color": "#2a3f5f"
            },
            "error_y": {
             "color": "#2a3f5f"
            },
            "marker": {
             "line": {
              "color": "#E5ECF6",
              "width": 0.5
             },
             "pattern": {
              "fillmode": "overlay",
              "size": 10,
              "solidity": 0.2
             }
            },
            "type": "bar"
           }
          ],
          "barpolar": [
           {
            "marker": {
             "line": {
              "color": "#E5ECF6",
              "width": 0.5
             },
             "pattern": {
              "fillmode": "overlay",
              "size": 10,
              "solidity": 0.2
             }
            },
            "type": "barpolar"
           }
          ],
          "carpet": [
           {
            "aaxis": {
             "endlinecolor": "#2a3f5f",
             "gridcolor": "white",
             "linecolor": "white",
             "minorgridcolor": "white",
             "startlinecolor": "#2a3f5f"
            },
            "baxis": {
             "endlinecolor": "#2a3f5f",
             "gridcolor": "white",
             "linecolor": "white",
             "minorgridcolor": "white",
             "startlinecolor": "#2a3f5f"
            },
            "type": "carpet"
           }
          ],
          "choropleth": [
           {
            "colorbar": {
             "outlinewidth": 0,
             "ticks": ""
            },
            "type": "choropleth"
           }
          ],
          "contour": [
           {
            "colorbar": {
             "outlinewidth": 0,
             "ticks": ""
            },
            "colorscale": [
             [
              0,
              "#0d0887"
             ],
             [
              0.1111111111111111,
              "#46039f"
             ],
             [
              0.2222222222222222,
              "#7201a8"
             ],
             [
              0.3333333333333333,
              "#9c179e"
             ],
             [
              0.4444444444444444,
              "#bd3786"
             ],
             [
              0.5555555555555556,
              "#d8576b"
             ],
             [
              0.6666666666666666,
              "#ed7953"
             ],
             [
              0.7777777777777778,
              "#fb9f3a"
             ],
             [
              0.8888888888888888,
              "#fdca26"
             ],
             [
              1,
              "#f0f921"
             ]
            ],
            "type": "contour"
           }
          ],
          "contourcarpet": [
           {
            "colorbar": {
             "outlinewidth": 0,
             "ticks": ""
            },
            "type": "contourcarpet"
           }
          ],
          "heatmap": [
           {
            "colorbar": {
             "outlinewidth": 0,
             "ticks": ""
            },
            "colorscale": [
             [
              0,
              "#0d0887"
             ],
             [
              0.1111111111111111,
              "#46039f"
             ],
             [
              0.2222222222222222,
              "#7201a8"
             ],
             [
              0.3333333333333333,
              "#9c179e"
             ],
             [
              0.4444444444444444,
              "#bd3786"
             ],
             [
              0.5555555555555556,
              "#d8576b"
             ],
             [
              0.6666666666666666,
              "#ed7953"
             ],
             [
              0.7777777777777778,
              "#fb9f3a"
             ],
             [
              0.8888888888888888,
              "#fdca26"
             ],
             [
              1,
              "#f0f921"
             ]
            ],
            "type": "heatmap"
           }
          ],
          "heatmapgl": [
           {
            "colorbar": {
             "outlinewidth": 0,
             "ticks": ""
            },
            "colorscale": [
             [
              0,
              "#0d0887"
             ],
             [
              0.1111111111111111,
              "#46039f"
             ],
             [
              0.2222222222222222,
              "#7201a8"
             ],
             [
              0.3333333333333333,
              "#9c179e"
             ],
             [
              0.4444444444444444,
              "#bd3786"
             ],
             [
              0.5555555555555556,
              "#d8576b"
             ],
             [
              0.6666666666666666,
              "#ed7953"
             ],
             [
              0.7777777777777778,
              "#fb9f3a"
             ],
             [
              0.8888888888888888,
              "#fdca26"
             ],
             [
              1,
              "#f0f921"
             ]
            ],
            "type": "heatmapgl"
           }
          ],
          "histogram": [
           {
            "marker": {
             "pattern": {
              "fillmode": "overlay",
              "size": 10,
              "solidity": 0.2
             }
            },
            "type": "histogram"
           }
          ],
          "histogram2d": [
           {
            "colorbar": {
             "outlinewidth": 0,
             "ticks": ""
            },
            "colorscale": [
             [
              0,
              "#0d0887"
             ],
             [
              0.1111111111111111,
              "#46039f"
             ],
             [
              0.2222222222222222,
              "#7201a8"
             ],
             [
              0.3333333333333333,
              "#9c179e"
             ],
             [
              0.4444444444444444,
              "#bd3786"
             ],
             [
              0.5555555555555556,
              "#d8576b"
             ],
             [
              0.6666666666666666,
              "#ed7953"
             ],
             [
              0.7777777777777778,
              "#fb9f3a"
             ],
             [
              0.8888888888888888,
              "#fdca26"
             ],
             [
              1,
              "#f0f921"
             ]
            ],
            "type": "histogram2d"
           }
          ],
          "histogram2dcontour": [
           {
            "colorbar": {
             "outlinewidth": 0,
             "ticks": ""
            },
            "colorscale": [
             [
              0,
              "#0d0887"
             ],
             [
              0.1111111111111111,
              "#46039f"
             ],
             [
              0.2222222222222222,
              "#7201a8"
             ],
             [
              0.3333333333333333,
              "#9c179e"
             ],
             [
              0.4444444444444444,
              "#bd3786"
             ],
             [
              0.5555555555555556,
              "#d8576b"
             ],
             [
              0.6666666666666666,
              "#ed7953"
             ],
             [
              0.7777777777777778,
              "#fb9f3a"
             ],
             [
              0.8888888888888888,
              "#fdca26"
             ],
             [
              1,
              "#f0f921"
             ]
            ],
            "type": "histogram2dcontour"
           }
          ],
          "mesh3d": [
           {
            "colorbar": {
             "outlinewidth": 0,
             "ticks": ""
            },
            "type": "mesh3d"
           }
          ],
          "parcoords": [
           {
            "line": {
             "colorbar": {
              "outlinewidth": 0,
              "ticks": ""
             }
            },
            "type": "parcoords"
           }
          ],
          "pie": [
           {
            "automargin": true,
            "type": "pie"
           }
          ],
          "scatter": [
           {
            "fillpattern": {
             "fillmode": "overlay",
             "size": 10,
             "solidity": 0.2
            },
            "type": "scatter"
           }
          ],
          "scatter3d": [
           {
            "line": {
             "colorbar": {
              "outlinewidth": 0,
              "ticks": ""
             }
            },
            "marker": {
             "colorbar": {
              "outlinewidth": 0,
              "ticks": ""
             }
            },
            "type": "scatter3d"
           }
          ],
          "scattercarpet": [
           {
            "marker": {
             "colorbar": {
              "outlinewidth": 0,
              "ticks": ""
             }
            },
            "type": "scattercarpet"
           }
          ],
          "scattergeo": [
           {
            "marker": {
             "colorbar": {
              "outlinewidth": 0,
              "ticks": ""
             }
            },
            "type": "scattergeo"
           }
          ],
          "scattergl": [
           {
            "marker": {
             "colorbar": {
              "outlinewidth": 0,
              "ticks": ""
             }
            },
            "type": "scattergl"
           }
          ],
          "scattermapbox": [
           {
            "marker": {
             "colorbar": {
              "outlinewidth": 0,
              "ticks": ""
             }
            },
            "type": "scattermapbox"
           }
          ],
          "scatterpolar": [
           {
            "marker": {
             "colorbar": {
              "outlinewidth": 0,
              "ticks": ""
             }
            },
            "type": "scatterpolar"
           }
          ],
          "scatterpolargl": [
           {
            "marker": {
             "colorbar": {
              "outlinewidth": 0,
              "ticks": ""
             }
            },
            "type": "scatterpolargl"
           }
          ],
          "scatterternary": [
           {
            "marker": {
             "colorbar": {
              "outlinewidth": 0,
              "ticks": ""
             }
            },
            "type": "scatterternary"
           }
          ],
          "surface": [
           {
            "colorbar": {
             "outlinewidth": 0,
             "ticks": ""
            },
            "colorscale": [
             [
              0,
              "#0d0887"
             ],
             [
              0.1111111111111111,
              "#46039f"
             ],
             [
              0.2222222222222222,
              "#7201a8"
             ],
             [
              0.3333333333333333,
              "#9c179e"
             ],
             [
              0.4444444444444444,
              "#bd3786"
             ],
             [
              0.5555555555555556,
              "#d8576b"
             ],
             [
              0.6666666666666666,
              "#ed7953"
             ],
             [
              0.7777777777777778,
              "#fb9f3a"
             ],
             [
              0.8888888888888888,
              "#fdca26"
             ],
             [
              1,
              "#f0f921"
             ]
            ],
            "type": "surface"
           }
          ],
          "table": [
           {
            "cells": {
             "fill": {
              "color": "#EBF0F8"
             },
             "line": {
              "color": "white"
             }
            },
            "header": {
             "fill": {
              "color": "#C8D4E3"
             },
             "line": {
              "color": "white"
             }
            },
            "type": "table"
           }
          ]
         },
         "layout": {
          "annotationdefaults": {
           "arrowcolor": "#2a3f5f",
           "arrowhead": 0,
           "arrowwidth": 1
          },
          "autotypenumbers": "strict",
          "coloraxis": {
           "colorbar": {
            "outlinewidth": 0,
            "ticks": ""
           }
          },
          "colorscale": {
           "diverging": [
            [
             0,
             "#8e0152"
            ],
            [
             0.1,
             "#c51b7d"
            ],
            [
             0.2,
             "#de77ae"
            ],
            [
             0.3,
             "#f1b6da"
            ],
            [
             0.4,
             "#fde0ef"
            ],
            [
             0.5,
             "#f7f7f7"
            ],
            [
             0.6,
             "#e6f5d0"
            ],
            [
             0.7,
             "#b8e186"
            ],
            [
             0.8,
             "#7fbc41"
            ],
            [
             0.9,
             "#4d9221"
            ],
            [
             1,
             "#276419"
            ]
           ],
           "sequential": [
            [
             0,
             "#0d0887"
            ],
            [
             0.1111111111111111,
             "#46039f"
            ],
            [
             0.2222222222222222,
             "#7201a8"
            ],
            [
             0.3333333333333333,
             "#9c179e"
            ],
            [
             0.4444444444444444,
             "#bd3786"
            ],
            [
             0.5555555555555556,
             "#d8576b"
            ],
            [
             0.6666666666666666,
             "#ed7953"
            ],
            [
             0.7777777777777778,
             "#fb9f3a"
            ],
            [
             0.8888888888888888,
             "#fdca26"
            ],
            [
             1,
             "#f0f921"
            ]
           ],
           "sequentialminus": [
            [
             0,
             "#0d0887"
            ],
            [
             0.1111111111111111,
             "#46039f"
            ],
            [
             0.2222222222222222,
             "#7201a8"
            ],
            [
             0.3333333333333333,
             "#9c179e"
            ],
            [
             0.4444444444444444,
             "#bd3786"
            ],
            [
             0.5555555555555556,
             "#d8576b"
            ],
            [
             0.6666666666666666,
             "#ed7953"
            ],
            [
             0.7777777777777778,
             "#fb9f3a"
            ],
            [
             0.8888888888888888,
             "#fdca26"
            ],
            [
             1,
             "#f0f921"
            ]
           ]
          },
          "colorway": [
           "#636efa",
           "#EF553B",
           "#00cc96",
           "#ab63fa",
           "#FFA15A",
           "#19d3f3",
           "#FF6692",
           "#B6E880",
           "#FF97FF",
           "#FECB52"
          ],
          "font": {
           "color": "#2a3f5f"
          },
          "geo": {
           "bgcolor": "white",
           "lakecolor": "white",
           "landcolor": "#E5ECF6",
           "showlakes": true,
           "showland": true,
           "subunitcolor": "white"
          },
          "hoverlabel": {
           "align": "left"
          },
          "hovermode": "closest",
          "mapbox": {
           "style": "light"
          },
          "paper_bgcolor": "white",
          "plot_bgcolor": "#E5ECF6",
          "polar": {
           "angularaxis": {
            "gridcolor": "white",
            "linecolor": "white",
            "ticks": ""
           },
           "bgcolor": "#E5ECF6",
           "radialaxis": {
            "gridcolor": "white",
            "linecolor": "white",
            "ticks": ""
           }
          },
          "scene": {
           "xaxis": {
            "backgroundcolor": "#E5ECF6",
            "gridcolor": "white",
            "gridwidth": 2,
            "linecolor": "white",
            "showbackground": true,
            "ticks": "",
            "zerolinecolor": "white"
           },
           "yaxis": {
            "backgroundcolor": "#E5ECF6",
            "gridcolor": "white",
            "gridwidth": 2,
            "linecolor": "white",
            "showbackground": true,
            "ticks": "",
            "zerolinecolor": "white"
           },
           "zaxis": {
            "backgroundcolor": "#E5ECF6",
            "gridcolor": "white",
            "gridwidth": 2,
            "linecolor": "white",
            "showbackground": true,
            "ticks": "",
            "zerolinecolor": "white"
           }
          },
          "shapedefaults": {
           "line": {
            "color": "#2a3f5f"
           }
          },
          "ternary": {
           "aaxis": {
            "gridcolor": "white",
            "linecolor": "white",
            "ticks": ""
           },
           "baxis": {
            "gridcolor": "white",
            "linecolor": "white",
            "ticks": ""
           },
           "bgcolor": "#E5ECF6",
           "caxis": {
            "gridcolor": "white",
            "linecolor": "white",
            "ticks": ""
           }
          },
          "title": {
           "x": 0.05
          },
          "xaxis": {
           "automargin": true,
           "gridcolor": "white",
           "linecolor": "white",
           "ticks": "",
           "title": {
            "standoff": 15
           },
           "zerolinecolor": "white",
           "zerolinewidth": 2
          },
          "yaxis": {
           "automargin": true,
           "gridcolor": "white",
           "linecolor": "white",
           "ticks": "",
           "title": {
            "standoff": 15
           },
           "zerolinecolor": "white",
           "zerolinewidth": 2
          }
         }
        },
        "xaxis": {
         "anchor": "y",
         "domain": [
          0,
          1
         ],
         "title": {
          "text": "Pos. found"
         }
        },
        "yaxis": {
         "anchor": "x",
         "domain": [
          0,
          1
         ],
         "title": {
          "text": "Aggregate (5 per bin)"
         }
        }
       }
      },
      "text/html": [
       "<div>                            <div id=\"35127b17-c8ac-430e-a696-9a3076647f29\" class=\"plotly-graph-div\" style=\"height:525px; width:100%;\"></div>            <script type=\"text/javascript\">                require([\"plotly\"], function(Plotly) {                    window.PLOTLYENV=window.PLOTLYENV || {};                                    if (document.getElementById(\"35127b17-c8ac-430e-a696-9a3076647f29\")) {                    Plotly.newPlot(                        \"35127b17-c8ac-430e-a696-9a3076647f29\",                        [{\"alignmentgroup\":\"True\",\"bingroup\":\"x\",\"hovertemplate\":\"x=%{x}<br>count=%{y}<extra></extra>\",\"legendgroup\":\"\",\"marker\":{\"color\":\"#636efa\",\"pattern\":{\"shape\":\"\"}},\"name\":\"\",\"nbinsx\":50,\"offsetgroup\":\"\",\"orientation\":\"v\",\"showlegend\":false,\"x\":[0,0,0,5,0,12,0,0,0,0,0,0,4,0,13,1,1,1,7,2,0,0,0,1,0,0,0,0,0,0,0,0,0,2,0,0,0,0,0,1,0,0,0,0,1,0,0,0,0,3,0,0,3,5,0,0,2,0,5,3,0,0,0,6,0,0,0,2,0,0,0,0,5,0,2,0,0,1,2,0,0,0,0,0,0,0,0,0,0,7,0,0,1,68,0,0,0,0,0,12,0,0,0,0,69,0,0,3,27,1,24,0,0,0,0,0,0,4,0,10,0,1,1,2,0,0,0,0,1,0,0,6,4,5,17,0,2,0,0,2,0,0,0,0,2,1,0,0,5,4,2,8,168,3,17,4,32,17,0,2,0,1,0,0,1,0,0,0,0,0,0,0,0,0,0,0,0,0,0,0,0,0,0,0,0,0,0,16,0,0,0,0,0,2,4,5,0,0,0,0,0,0,0,0,127,0,0,1,0,1,0,0,2,11,96,0,0,0,2,5,0,0,0,0,1,0,0,0,1,0,1,0,0,0,0,0,0,0,3,0,0,0,0,0,0,0,0,0,7,22,0,0,0,2,2,0,0,0,0,0,0,52,2,28,11,0,4,0,1,0,0,0,0,1,0,0,0,0,0,1,0,0,0,0,0,0,0,29,79,37,0,9,1,0,0,0,0,0,0,2,0,0,0,0,0,0,0,1,0,0,0,0,0,0,24,0,56,82,17,69,0,3,0,0,0,1,42,1,18,21,0,0,41,18,40,2,0,0,8,0,0,0,0,0,2,0,0,2,0,0,30,3,0,0,1,0,0,0,0,0,0,0,0,0,3,0,0,38,2,0,0,1,0,0,1,0,0,0,28,1,3,0,3,0,33,13,2,0,1,0,0,54,0,0,1,0,0,0,0,0,0,13,2,1,18,0,0,2,1,8,12,0,0,0,2,0,14,14,0,0,0,4,0,17,3,0,0,0,0,4,0,2,0,0,1,1,0,1,5,1,0,0,0,0,0,0,0,1,3,0,0,0,0,0,0,0,0,0,0,0,0,0,6,0,0,0,0,0,0,1,0,0,0,0,1,0,0,0,0,2,0,0,0,0,0,0,0,0,0,0,0,0,0,0,0,1,0,0,0,0,0,1,1,0,9,0,0,0,0,0,0,0,0,1,0,0,0,233,4,0,0,0,0,0,0,0,0,0,0,0,0,0,0,0,0,0,0,0,0,0,0,0,0,0,0,0,0,0,2,0,9,0,0,0,0,1,0,11,11,1,15,2,8,0,64,1,0,0,0,0,0,0,2,0,0,0,0,0,0,4,0,0,0,0,0,0,0,0,0,0,0,1,0,3,0,1,0,1,1,2,3,0,0,0,0,0,0,0,0,0,0,0,0,0,5,0,0,0,0,0,0,0,0,1,0,0,0,0,6,0,0,0,3,0,0,0,0,0,0,1,3,1,1,0,0,0,0,0,0,0,4,2,0,0,0,0,0,0,2,0,0,0,0,0,8,0,0,0,0,1,0,0,0,0,0,0,0,0,0,0,0,0,78,0,1,1,0,0,0,0,0,0,5,0,0,0,0,1,0,0,0,0,0,0,0,0,2,0,1,10,0,0,0,0,0,0,0,2,0,0,0,0,0,0,16,0,0,0,4,19,0,0,0,3,2,0,74,0,0,0,0,0,0,0,0,0,0,3,0,0,10,0,3,0,0,0,0,0,0,2,3,2,1,13,0,0,0,0,0,0,0,0,0,0,0,1,10,1,0,2,0,0,0,0,0,0,12,0,1,0,0,0,0,76,14,0,31,0,14,2,0,0,0,0,2,0,0,0,2,1,0,0,0,0,2,0,0,0,0,0,0,0,1,0,0,0,0,9,5,8,1,1,0,0,1,0,0,0,0,0,1,12,3,7,50,0,0,0,28,0,0,0,5,0,0,0,0,0,0,0,0,0,0,0,0,0,0,0,0,1,0,0,-1,-1,0,0,0,0,0,5,0,0,1,0,0,1,1,0,0,0,0,0,0,0,0,0,3,0,0,2,0,0,0,0,0,0,2,0,0,2,1,0,0,2,1,2,2,5,77,0,0,47,0,2,48,0,16,3,0,0,0,246,0,6,57,204,12,0,0,0,0,1,0,1,2,60,0,0,0,2,0,0,0,0,0,1,0,0,0,0,0,0,0,0,0,0,0,0,0,0,0,0,9,1,11,0,0,0,0,0,14,0,0,0,0,34,1,0,0,0,0,0,1,0,0,265,1,5,3,0,1,0,0,3,0,0,0,0,2,0,1,0,0,0,0,0,0,0,0,0,195,0,0,4,225,49,0,0,0,32,0,0,0,0,0,0,0,0,0,11,3,0,0,0,0,0,0,0,0,0,0,1,0,0,0,56,0,0,0,35,1,0,1,0,0,20,0,0,0,0,11,0,0,0,0,0,0,0,0,0,0,1,0,0,0,0,1,0,11,7,244,1,50,2,1,0,0,0,0,0,0,0,0,0,0,1,0,0,0,0,0,0,0,0,0,0,0,0,19,0,1,0,0,0,0,0,0,0,0,0,0,0,0,0,0,0,0,0,0,0,2,0,0,0,0,0,0,0,1,0,0,0,0,0,0,0,0,0,0,0,0,0,3,0,0,0,0,0,0,0,0,0,0,0,0,0,0,0,0,0,0,0,0,0,6,0,1,0,0,2,0,0,1,0,0,0,0,0,0,0,0,0,0,0,1,0,0,0,0,2,20,34,47,0,0,0,0,0,2,0,0,0,0,0,0,0,0,0,0,0,0,0,0,0,0,1,0,0,0,0,0,18,3,0,1,0,0,0,0,0,0,0,0,0,0,0,0,0,0,0,0,0,0,97,0,0,1,0,0,0,0,0,0,0,0,0,0,0,0,0,0,0,0,0,0,0,0,0,1,0,0,0,1,0,0,0,0,0,0,0,0,0,0,1,3,0,0,2,1,0,0,1,0,79,5,0,0,2,1,0,0,0,0,0,0,0,4,0,6,0,0,0,0,0,0,0,1,0,36,0,0,0,5,0,0,0,0,0,0,0,0,0,0,0,0,0,0,0,2,0,1,8,7,5,2,1,0,0,0,0,0,0,0,0,0,0,0,0,0,0,0,0,0,53,0,0,0,0,0,0,0,0,0,3,3,0,5,0,1,0,0,0,0,0,5,0,0,0,0,0,0,0,0,0,0,0,0,0,0,5,6,0,0,0,0,0,0,119,0,0,0,0,0,2,0,0,0,0,0,0,0,0,0,0,0,0,0,0,0,0,1,0,0,9,0,0,0,0,1,0,0,0,0,1,0,0,0,2,0,0,0,0,1,0,0,0,1,1,0,0,0,1,2,67,62,0,0,153,0,0,0,0,25,0,0,1,0,0,0,0,0,0,0,0,0,0,0,0,0,0,0,0,0,0,0,0,0,0,0,0,0,45,0,0,0,0,0,0,0,3,0,0,0,0,0,0,0,0,0,0,0,0,0,0,0,0,0,0,1,0,0,4,0,0,0,0,0,1,1,0,17,0,5,74,0,0,3,1,5,0,0,0,0,2,1,0,0,0,-1,0,0,9,4,5,0,0,0,0,0,0,0,0,0,0,18,0,174,5,0,0,0,0,0,1,0,0,0,0,1,0,0,0,0,0,0,0,0,0,0,0,1,1,101,63,0,26,0,7,2,0,1,0,3,121,0,0,0,0,0,0,0,0,0,3,0,0,0,0,0,0,0,0,0,0,0,0,0,0,48,0,0,7,1,0,0,0,0,0,0,0,0,0,0,0,0,0,21,0,0,0,1,0,0,0,0,0,34,3,0,0,0,0,0,1,0,0,14,1,0,0,2,0,0,0,0,0,0,0,1,0,0,18,0,3,0,1,4,1,0,0,0,10,0,0,1,0,0,1,0,2,0,4,0,0,0,0,0,0,0,0,0,0,0,0,0,0,0,0,0,0,0,0,0,0,2,2,0,9,0,0,0,0,7,0,0,0,2,1,0,0,0,0,0,0,0,0,0,0,0,0,0,0,3,0,0,0,2,0,0,0,0,0,0,0,1,0,0,0,0,0,0,6,1,0,100,21,0,0,0,0,0,0,0,0,65,13,2,44,0,0,0,3,0,0,0,0,2,0,0,0,0,0,0,0,128,0,0,0,1,0,9,0,0,0,0,0,0,0,0,0,0,0,147,210,0,35,0,1,0,0,37,0,0,0,84,20,0,5,0,0,0,0,1,1,1,0,0,0,0,0,0,0,0,0,0,0,0,1,1,1,3,0,0,0,3,1,0,0,1,0,0,0,1,0,0,0,0,0,0,0,1,0,0,3,0,77,0,0,0,0,1,0,0,0,0,0,0,0,0,0,0,0,1,0,0,6,0,0,0,3,116,0,0,20,2,150,0,0,0,0,3,0,0,0,2,13,0,0,0,0,0,0,0,0,0,0,0,0,0,1,0,1,93,1,0,0,0,0,0,0,1,0,0,0,0,5,0,2,1,9,12,0,0,0,0,0,146,1,2,0,186,1,0,0,0,0,0,0,6,0,0,0,0,0,56,0,0,0,0,0,0,0,0,13,1,155,0,0,0,0,1,1,0,1,0,0,0,0,0,0,0,0,0,0,0,8,3,5,0,0,0,7,6,11,35,1,3,20,13,6,22,18,11,12,1,2,1,4,0,1,201,0,9,0,5,145,0,0,2,0,15,1,0,0,24,0,0,0,0,0,0,0,0,0,0,30,0,0,0,0,0,0,0,1,0,50,0,0,0,0,48,0,0,0,0,0,0,0,0,0,11,0,0,0,0,0,0,14,9,239,0,14,4,1,1,0,0,0,0,0,0,0,3,0,1,0,0,0,0,0,0,0,0,0,1,1,1,2,0,0,0,0,16,1,0,0,0,0,0,0,0,0,0,0,0,0,0,0,0,0,0,1,0,0,0,0,0,0,1,0,0,0,0,0,0,0,0,102,17,0,4,0,0,5,0,0,31,0,0,0,9,3,0,0,0,0,0,0,1,4,1,49,13,0,1,1,0,28,21,0,0,0,0,0,0,5,0,0,0,1,0,6,0,1,0,0,0,0,67,0,0,0,0,0,0,0,0,2,6,0,0,0,0,0,0,0,2,20,3,0,3,22,8,9,0,1,0,0,27,0,6,1,34,3,0,0,0,0,0,0,0,0,0,0,0,0,0,5,0,0,0,1,0,0,0,0,0,0,15,0,0,0,0,0,0,0,0,0,0,0,0,0,2,0,0,1,0,0,2,0,1,0,0,0,0,2,0,0,2,0,0,2,0,0,0,0,0,0,0,0,0,0,0,0,0,0,0,0,0,0,0,0,0,0,0,0,0,0,0,0,0,16,0,3,0,1,0,0,0,0,0,0,23,0,0,0,0,0,0,19,0,0,0,43,0,0,0,0,0,0,1,4,0,1,0,0,0,0,77,0,0,0,0,0,0,0,1,0,0,0,0,0,0,0,0,0,0,0,0,0,2,0,2,0,0,0,0,0,0,11,27,0,0,0,0,0,0,0,0,0,0,0,0,0,0,0,0,0,0,0,0,0,0,3,0,0,1,0,1,0,0,0,0,0,0,0,0,1,0,0,0,1,1,1,0,0,1,11,1,0,4,0,0,0,0,0,0,0,0,1,0,0,0,0,1,0,0,32,10,0,111,106,2,0,0,0,0,0,0,0,0,0,17,0,0,0,0,0,0,1,0,7,4,0,0,0,0,0,0,9,0,0,0,0,0,0,0,2,0,0,0,1,2,0,0,0,0,0,67,0,52,1,3,0,0,0,0,0,0,0,0,0,0,0,17,5,2,0,0,0,3,4,0,1,1,0,0,0,0,0,0,0,0,0,0,0,12,0,0,0,0,0,0,0,0,0,1,0,0,0,0,38,0,0,103,61,7,0,0,0,9,16,0,0,0,5,0,0,0,0,0,0,0,0,9,0,2,0,0,0,0,0,0,0,6,0,0,0,1,1,1,0,0,0,0,0,0,0,0,12,0,5,0,0,0,0,18,0,0,6,0,0,2,2,1,2,174,0,0,0,0,0,0,0,0,0,1,0,0,0,0,0,0,35,0,0,0,0,0,0,0,0,6,0,0,7,0,0,0,0,0,52,0,0,0,0,2,0,0,0,2,1,0,0,73,4,8,0,0,3,2,9,0,2,1,0,0,0,0,0,0,1,3,1,14,26,1,0,0,0,3,0,0,0,0,0,144,0,0,0,0,0,1,0,0,0,0,3,0,6,1,7,0,0,0,0,4,0,69,0,1,12,1,0,0,0,10,0,0,0,1,3,0,0,0,0,1,0,0,0,0,0,0,0,2,1,0,0,0,0,0,0,0,0,0,0,0,0,0,0,0,0,3,0,5,0,0,0,1,0,0,16,0,0,0,0,0,0,0,0,1,0,0,0,20,1,0,0,0,0,0,0,0,0,0,0,0,0,3,94,5,1,8,3,2,15,1,0,0,0,0,0,0,0,0,0,0,1,0,0,0,0,0,0,0,0,15,6,11,1,0,1,0,0,0,0,0,0,0,2,1,0,0,0,0,0,0,0,2,11,0,0,1,0,0,3,0,0,0,0,5,0,0,2,1,0,1,0,0,0,2,19,1,1,5,22,0,0,0,7,0,0,4,0,0,0,0,1,17,0,0,6,6,7,1,0,0,0,1,0,0,0,0,4,0,0,1,1,0,0,0,0,2,0,46,19,10,0,2,0,0,0,15,0,0,0,0,0,0,0,0,0,0,0,0,0,0,0,0,0,0,0,0,0,0,0,0,0,0,0,0,0,0,0,0,0,0,0,0,0,0,93,0,0,0,0,0,0,0,0,0,0,2,6,0,0,0,0,0,0,0,3,0,0,0,0,0,0,0,0,0,0,0,1,27,0,0,0,7,0,43,2,0,0,0,0,0,0,1,0,0,0,0,0,0,0,21,1,0,0,5,0,5,0,-1,5,1,39,0,0,0,1,16,0,0,0,23,2,2,0,2,28,81,0,0,0,0,0,0,0,0,0,0,0,0,0,3,0,1,0,13,9,8,1,13,0,0,27,0,1,4,2,0,0,0,0,0,0,0,0,0,0,0,0,0,0,0,0,0,0,0,85,1,0,1,2,0,0,0,0,0,0,0,0,0,0,0,10,0,0,0,6,34,0,0,0,2,8,0,0,0,191,0,0,0,4,0,0,0,0,0,0,0,0,0,37,1,9,0,0,0,0,0,0,0,0,0,0,0,0,0,0,0,0,0,1,6,5,0,0,0,0,3,0,0,0,0,9,0,0,0,0,0,0,0,0,0,0,0,0,0,0,0,0,0,0,0,0,0,0,1,0,0,0,0,4,0,280,5,1,96,0,12,0,4,4,12,1,0,0,0,14,1,0,0,153,87,0,20,13,12,6,0,12,5,0,0,0,0,0,0,0,0,0,0,0,0,0,0,0,0,0,18,0,0,0,0,0,0,0,8,0,0,0,9,0,28,0,20,1,3,0,0,0,0,0,1,0,0,0,0,-1,0,0,0,0,5,0,11,115,0,0,0,0,0,0,6,0,0,0,0,0,1,0,0,0,0,0,0,1,0,0,0,0,0,1,78,7,0,3,0,0,0,1,0,0,0,0,0,0,0,0,0,0,0,0,0,0,0,0,0,0,0,0,0,0,0,0,1,0,0,1,1,0,7,4,0,0,0,-1,2,0,0,0,0,0,0,1,0,2,0,105,0,0,0,0,1,0,0,8,0,54,0,1,0,36,0,0,0,31,2,1,0,3,0,0,1,2,139,0,0,3,6,1,1,0,0,0,0,0,0,0,2,2,6,0,0,0,0,0,0,0,0,0,0,0,7,0,0,2,0,0,0,0,1,1,0,0,0,0,0,0,0,0,0,0,0,0,0,0,14,0,0,0,0,0,0,0,1,0,0,0,0,4,9,43,0,0,1,0,5,4,0,0,0,1,0,0,0,0,0,0,0,0,0,0,0,2,0,0,0,4,20,2,2,3,0,0,1,0,0,0,0,0,1,0,0,0,7,1,0,1,0,0,0,5,0,0,0,0,7,0,0,-1,1,27,1,0,2,0,132,0,0,0,0,0,1,0,0,0,0,0,0,152,2,7,0,0,0,67,0,0,0,0,0,0,0,0,1,0,3,0,0,0,0,1,0,22,1,0,128,0,0,0,0,0,0,0,0,0,0,0,0,1,0,43,0,0,0,0,0,0,0,1,0,0,0,0,0,2,1,0,0,0,0,0,1,42,27,1,0,0,1,0,1,11,0,0,0,5,0,0,0,0,1,0,0,0,0,0,0,0,0,0,1,0,0,0,10,0,0,1,0,0,0,0,4,0,0,0,0,5,0,0,0,0,0,0,0,0,0,0,0,0,0,0,0,0,0,154,0,8,0,17,0,0,0,0,1,1,0,0,0,0,0,0,0,0,0,0,0,0,2,14,87,0,0,0,10,0,0,1,0,0,0,0,1,1,8,0,0,0,0,0,0,0,0,0,1,0,0,0,0,0,0,0,0,0,0,0,0,0,0,0,2,0,0,0,0,0,0,0,124,1,-1,-1,0,0,0,0,0,0,0,2,122,0,0,0,1,0,0,0,0,3,177,1,0,0,66,8,0,2,0,0,0,1,0,1,0,32,0,0,0,6,4,0,0,0,14,6,0,0,0,0,0,0,0,0,0,0,0,0,0,0,0,0,0,0,0,0,0,55,3,150,3,1,0,8,36,0,0,5,10,6,0,0,0,1,152,0,0,0,1,0,0,0,0,0,0,0,0,0,0,0,1,0,0,0,2,0,0,0,0,20,1,1,1,1,0,1,0,0,1,24,0,0,0,0,0,0,0,0,0,0,0,0,0,0,0,0,0,0,0,1,0,1,12,1,55,0,0,0,0,0,0,0,0,0,0,0,0,0,0,1,0,0,0,0,1,0,0,0,0,0,0,0,0,0,2,6,1,0,0,8,0,0,0,0,0],\"xaxis\":\"x\",\"yaxis\":\"y\",\"type\":\"histogram\"}],                        {\"template\":{\"data\":{\"histogram2dcontour\":[{\"type\":\"histogram2dcontour\",\"colorbar\":{\"outlinewidth\":0,\"ticks\":\"\"},\"colorscale\":[[0.0,\"#0d0887\"],[0.1111111111111111,\"#46039f\"],[0.2222222222222222,\"#7201a8\"],[0.3333333333333333,\"#9c179e\"],[0.4444444444444444,\"#bd3786\"],[0.5555555555555556,\"#d8576b\"],[0.6666666666666666,\"#ed7953\"],[0.7777777777777778,\"#fb9f3a\"],[0.8888888888888888,\"#fdca26\"],[1.0,\"#f0f921\"]]}],\"choropleth\":[{\"type\":\"choropleth\",\"colorbar\":{\"outlinewidth\":0,\"ticks\":\"\"}}],\"histogram2d\":[{\"type\":\"histogram2d\",\"colorbar\":{\"outlinewidth\":0,\"ticks\":\"\"},\"colorscale\":[[0.0,\"#0d0887\"],[0.1111111111111111,\"#46039f\"],[0.2222222222222222,\"#7201a8\"],[0.3333333333333333,\"#9c179e\"],[0.4444444444444444,\"#bd3786\"],[0.5555555555555556,\"#d8576b\"],[0.6666666666666666,\"#ed7953\"],[0.7777777777777778,\"#fb9f3a\"],[0.8888888888888888,\"#fdca26\"],[1.0,\"#f0f921\"]]}],\"heatmap\":[{\"type\":\"heatmap\",\"colorbar\":{\"outlinewidth\":0,\"ticks\":\"\"},\"colorscale\":[[0.0,\"#0d0887\"],[0.1111111111111111,\"#46039f\"],[0.2222222222222222,\"#7201a8\"],[0.3333333333333333,\"#9c179e\"],[0.4444444444444444,\"#bd3786\"],[0.5555555555555556,\"#d8576b\"],[0.6666666666666666,\"#ed7953\"],[0.7777777777777778,\"#fb9f3a\"],[0.8888888888888888,\"#fdca26\"],[1.0,\"#f0f921\"]]}],\"heatmapgl\":[{\"type\":\"heatmapgl\",\"colorbar\":{\"outlinewidth\":0,\"ticks\":\"\"},\"colorscale\":[[0.0,\"#0d0887\"],[0.1111111111111111,\"#46039f\"],[0.2222222222222222,\"#7201a8\"],[0.3333333333333333,\"#9c179e\"],[0.4444444444444444,\"#bd3786\"],[0.5555555555555556,\"#d8576b\"],[0.6666666666666666,\"#ed7953\"],[0.7777777777777778,\"#fb9f3a\"],[0.8888888888888888,\"#fdca26\"],[1.0,\"#f0f921\"]]}],\"contourcarpet\":[{\"type\":\"contourcarpet\",\"colorbar\":{\"outlinewidth\":0,\"ticks\":\"\"}}],\"contour\":[{\"type\":\"contour\",\"colorbar\":{\"outlinewidth\":0,\"ticks\":\"\"},\"colorscale\":[[0.0,\"#0d0887\"],[0.1111111111111111,\"#46039f\"],[0.2222222222222222,\"#7201a8\"],[0.3333333333333333,\"#9c179e\"],[0.4444444444444444,\"#bd3786\"],[0.5555555555555556,\"#d8576b\"],[0.6666666666666666,\"#ed7953\"],[0.7777777777777778,\"#fb9f3a\"],[0.8888888888888888,\"#fdca26\"],[1.0,\"#f0f921\"]]}],\"surface\":[{\"type\":\"surface\",\"colorbar\":{\"outlinewidth\":0,\"ticks\":\"\"},\"colorscale\":[[0.0,\"#0d0887\"],[0.1111111111111111,\"#46039f\"],[0.2222222222222222,\"#7201a8\"],[0.3333333333333333,\"#9c179e\"],[0.4444444444444444,\"#bd3786\"],[0.5555555555555556,\"#d8576b\"],[0.6666666666666666,\"#ed7953\"],[0.7777777777777778,\"#fb9f3a\"],[0.8888888888888888,\"#fdca26\"],[1.0,\"#f0f921\"]]}],\"mesh3d\":[{\"type\":\"mesh3d\",\"colorbar\":{\"outlinewidth\":0,\"ticks\":\"\"}}],\"scatter\":[{\"fillpattern\":{\"fillmode\":\"overlay\",\"size\":10,\"solidity\":0.2},\"type\":\"scatter\"}],\"parcoords\":[{\"type\":\"parcoords\",\"line\":{\"colorbar\":{\"outlinewidth\":0,\"ticks\":\"\"}}}],\"scatterpolargl\":[{\"type\":\"scatterpolargl\",\"marker\":{\"colorbar\":{\"outlinewidth\":0,\"ticks\":\"\"}}}],\"bar\":[{\"error_x\":{\"color\":\"#2a3f5f\"},\"error_y\":{\"color\":\"#2a3f5f\"},\"marker\":{\"line\":{\"color\":\"#E5ECF6\",\"width\":0.5},\"pattern\":{\"fillmode\":\"overlay\",\"size\":10,\"solidity\":0.2}},\"type\":\"bar\"}],\"scattergeo\":[{\"type\":\"scattergeo\",\"marker\":{\"colorbar\":{\"outlinewidth\":0,\"ticks\":\"\"}}}],\"scatterpolar\":[{\"type\":\"scatterpolar\",\"marker\":{\"colorbar\":{\"outlinewidth\":0,\"ticks\":\"\"}}}],\"histogram\":[{\"marker\":{\"pattern\":{\"fillmode\":\"overlay\",\"size\":10,\"solidity\":0.2}},\"type\":\"histogram\"}],\"scattergl\":[{\"type\":\"scattergl\",\"marker\":{\"colorbar\":{\"outlinewidth\":0,\"ticks\":\"\"}}}],\"scatter3d\":[{\"type\":\"scatter3d\",\"line\":{\"colorbar\":{\"outlinewidth\":0,\"ticks\":\"\"}},\"marker\":{\"colorbar\":{\"outlinewidth\":0,\"ticks\":\"\"}}}],\"scattermapbox\":[{\"type\":\"scattermapbox\",\"marker\":{\"colorbar\":{\"outlinewidth\":0,\"ticks\":\"\"}}}],\"scatterternary\":[{\"type\":\"scatterternary\",\"marker\":{\"colorbar\":{\"outlinewidth\":0,\"ticks\":\"\"}}}],\"scattercarpet\":[{\"type\":\"scattercarpet\",\"marker\":{\"colorbar\":{\"outlinewidth\":0,\"ticks\":\"\"}}}],\"carpet\":[{\"aaxis\":{\"endlinecolor\":\"#2a3f5f\",\"gridcolor\":\"white\",\"linecolor\":\"white\",\"minorgridcolor\":\"white\",\"startlinecolor\":\"#2a3f5f\"},\"baxis\":{\"endlinecolor\":\"#2a3f5f\",\"gridcolor\":\"white\",\"linecolor\":\"white\",\"minorgridcolor\":\"white\",\"startlinecolor\":\"#2a3f5f\"},\"type\":\"carpet\"}],\"table\":[{\"cells\":{\"fill\":{\"color\":\"#EBF0F8\"},\"line\":{\"color\":\"white\"}},\"header\":{\"fill\":{\"color\":\"#C8D4E3\"},\"line\":{\"color\":\"white\"}},\"type\":\"table\"}],\"barpolar\":[{\"marker\":{\"line\":{\"color\":\"#E5ECF6\",\"width\":0.5},\"pattern\":{\"fillmode\":\"overlay\",\"size\":10,\"solidity\":0.2}},\"type\":\"barpolar\"}],\"pie\":[{\"automargin\":true,\"type\":\"pie\"}]},\"layout\":{\"autotypenumbers\":\"strict\",\"colorway\":[\"#636efa\",\"#EF553B\",\"#00cc96\",\"#ab63fa\",\"#FFA15A\",\"#19d3f3\",\"#FF6692\",\"#B6E880\",\"#FF97FF\",\"#FECB52\"],\"font\":{\"color\":\"#2a3f5f\"},\"hovermode\":\"closest\",\"hoverlabel\":{\"align\":\"left\"},\"paper_bgcolor\":\"white\",\"plot_bgcolor\":\"#E5ECF6\",\"polar\":{\"bgcolor\":\"#E5ECF6\",\"angularaxis\":{\"gridcolor\":\"white\",\"linecolor\":\"white\",\"ticks\":\"\"},\"radialaxis\":{\"gridcolor\":\"white\",\"linecolor\":\"white\",\"ticks\":\"\"}},\"ternary\":{\"bgcolor\":\"#E5ECF6\",\"aaxis\":{\"gridcolor\":\"white\",\"linecolor\":\"white\",\"ticks\":\"\"},\"baxis\":{\"gridcolor\":\"white\",\"linecolor\":\"white\",\"ticks\":\"\"},\"caxis\":{\"gridcolor\":\"white\",\"linecolor\":\"white\",\"ticks\":\"\"}},\"coloraxis\":{\"colorbar\":{\"outlinewidth\":0,\"ticks\":\"\"}},\"colorscale\":{\"sequential\":[[0.0,\"#0d0887\"],[0.1111111111111111,\"#46039f\"],[0.2222222222222222,\"#7201a8\"],[0.3333333333333333,\"#9c179e\"],[0.4444444444444444,\"#bd3786\"],[0.5555555555555556,\"#d8576b\"],[0.6666666666666666,\"#ed7953\"],[0.7777777777777778,\"#fb9f3a\"],[0.8888888888888888,\"#fdca26\"],[1.0,\"#f0f921\"]],\"sequentialminus\":[[0.0,\"#0d0887\"],[0.1111111111111111,\"#46039f\"],[0.2222222222222222,\"#7201a8\"],[0.3333333333333333,\"#9c179e\"],[0.4444444444444444,\"#bd3786\"],[0.5555555555555556,\"#d8576b\"],[0.6666666666666666,\"#ed7953\"],[0.7777777777777778,\"#fb9f3a\"],[0.8888888888888888,\"#fdca26\"],[1.0,\"#f0f921\"]],\"diverging\":[[0,\"#8e0152\"],[0.1,\"#c51b7d\"],[0.2,\"#de77ae\"],[0.3,\"#f1b6da\"],[0.4,\"#fde0ef\"],[0.5,\"#f7f7f7\"],[0.6,\"#e6f5d0\"],[0.7,\"#b8e186\"],[0.8,\"#7fbc41\"],[0.9,\"#4d9221\"],[1,\"#276419\"]]},\"xaxis\":{\"gridcolor\":\"white\",\"linecolor\":\"white\",\"ticks\":\"\",\"title\":{\"standoff\":15},\"zerolinecolor\":\"white\",\"automargin\":true,\"zerolinewidth\":2},\"yaxis\":{\"gridcolor\":\"white\",\"linecolor\":\"white\",\"ticks\":\"\",\"title\":{\"standoff\":15},\"zerolinecolor\":\"white\",\"automargin\":true,\"zerolinewidth\":2},\"scene\":{\"xaxis\":{\"backgroundcolor\":\"#E5ECF6\",\"gridcolor\":\"white\",\"linecolor\":\"white\",\"showbackground\":true,\"ticks\":\"\",\"zerolinecolor\":\"white\",\"gridwidth\":2},\"yaxis\":{\"backgroundcolor\":\"#E5ECF6\",\"gridcolor\":\"white\",\"linecolor\":\"white\",\"showbackground\":true,\"ticks\":\"\",\"zerolinecolor\":\"white\",\"gridwidth\":2},\"zaxis\":{\"backgroundcolor\":\"#E5ECF6\",\"gridcolor\":\"white\",\"linecolor\":\"white\",\"showbackground\":true,\"ticks\":\"\",\"zerolinecolor\":\"white\",\"gridwidth\":2}},\"shapedefaults\":{\"line\":{\"color\":\"#2a3f5f\"}},\"annotationdefaults\":{\"arrowcolor\":\"#2a3f5f\",\"arrowhead\":0,\"arrowwidth\":1},\"geo\":{\"bgcolor\":\"white\",\"landcolor\":\"#E5ECF6\",\"subunitcolor\":\"white\",\"showland\":true,\"showlakes\":true,\"lakecolor\":\"white\"},\"title\":{\"x\":0.05},\"mapbox\":{\"style\":\"light\"}}},\"xaxis\":{\"anchor\":\"y\",\"domain\":[0.0,1.0],\"title\":{\"text\":\"Pos. found\"}},\"yaxis\":{\"anchor\":\"x\",\"domain\":[0.0,1.0],\"title\":{\"text\":\"Aggregate (5 per bin)\"}},\"legend\":{\"tracegroupgap\":0},\"margin\":{\"t\":60},\"barmode\":\"relative\",\"bargroupgap\":0.01},                        {\"responsive\": true}                    ).then(function(){\n",
       "                            \n",
       "var gd = document.getElementById('35127b17-c8ac-430e-a696-9a3076647f29');\n",
       "var x = new MutationObserver(function (mutations, observer) {{\n",
       "        var display = window.getComputedStyle(gd).display;\n",
       "        if (!display || display === 'none') {{\n",
       "            console.log([gd, 'removed!']);\n",
       "            Plotly.purge(gd);\n",
       "            observer.disconnect();\n",
       "        }}\n",
       "}});\n",
       "\n",
       "// Listen for the removal of the full notebook cells\n",
       "var notebookContainer = gd.closest('#notebook-container');\n",
       "if (notebookContainer) {{\n",
       "    x.observe(notebookContainer, {childList: true});\n",
       "}}\n",
       "\n",
       "// Listen for the clearing of the current output cell\n",
       "var outputEl = gd.closest('.output');\n",
       "if (outputEl) {{\n",
       "    x.observe(outputEl, {childList: true});\n",
       "}}\n",
       "\n",
       "                        })                };                });            </script>        </div>"
      ]
     },
     "metadata": {},
     "output_type": "display_data"
    }
   ],
   "source": [
    "fig = px.histogram(x=cluster, nbins=nbins)\n",
    "fig.update_layout(\n",
    "    # title_text='Sampled Results', # title of plot\n",
    "    xaxis_title_text='Pos. found', # xaxis label\n",
    "    yaxis_title_text=f'Aggregate ({int(max(cluster)/nbins)} per bin)', # yaxis label\n",
    "    # bargap=0.2, # gap between bars of adjacent location coordinates\n",
    "    bargroupgap=0.01 # gap between bars of the same location coordinates\n",
    ")"
   ]
  },
  {
   "cell_type": "code",
   "execution_count": 160,
   "metadata": {
    "pycharm": {
     "name": "#%%\n"
    }
   },
   "outputs": [],
   "source": [
    "# Save the Figure\n",
    "fig.write_image('var1 relu.png')"
   ]
  },
  {
   "cell_type": "code",
   "execution_count": 94,
   "metadata": {
    "pycharm": {
     "name": "#%%\n"
    }
   },
   "outputs": [
    {
     "data": {
      "text/plain": [
       "(-1.0, 7.99)"
      ]
     },
     "execution_count": 94,
     "metadata": {},
     "output_type": "execute_result"
    }
   ],
   "source": [
    "# Fit the matching distribution to exponential distribution\n",
    "\n",
    "distribution = np.array(list(found_dict.values()))\n",
    "fit_params = expon.fit(distribution)\n",
    "fit_params"
   ]
  },
  {
   "cell_type": "markdown",
   "metadata": {},
   "source": [
    "fit_params are (bias, expected_value + bias)"
   ]
  },
  {
   "cell_type": "code",
   "execution_count": 95,
   "metadata": {
    "pycharm": {
     "name": "#%%\n"
    }
   },
   "outputs": [],
   "source": [
    "# Calculate the expected value, variance, skewnes and kurtosis\n",
    "mean, var, skew, kurt = expon.stats(moments='mvsk', loc=fit_params[0], scale=fit_params[1])"
   ]
  },
  {
   "cell_type": "code",
   "execution_count": 98,
   "metadata": {
    "pycharm": {
     "name": "#%%\n"
    }
   },
   "outputs": [
    {
     "data": {
      "text/plain": [
       "array(6.99)"
      ]
     },
     "execution_count": 98,
     "metadata": {},
     "output_type": "execute_result"
    }
   ],
   "source": [
    "mean"
   ]
  },
  {
   "cell_type": "markdown",
   "metadata": {},
   "source": [
    "Show the fitness curve"
   ]
  },
  {
   "cell_type": "code",
   "execution_count": 99,
   "metadata": {
    "pycharm": {
     "name": "#%%\n"
    }
   },
   "outputs": [
    {
     "name": "stderr",
     "output_type": "stream",
     "text": [
      "C:\\Users\\Oleg\\anaconda3\\lib\\site-packages\\plotly\\graph_objs\\_deprecations.py:378: DeprecationWarning:\n",
      "\n",
      "plotly.graph_objs.Line is deprecated.\n",
      "Please replace it with one of the following more specific types\n",
      "  - plotly.graph_objs.scatter.Line\n",
      "  - plotly.graph_objs.layout.shape.Line\n",
      "  - etc.\n",
      "\n",
      "\n"
     ]
    },
    {
     "data": {
      "application/vnd.plotly.v1+json": {
       "config": {
        "plotlyServerURL": "https://plot.ly"
       },
       "data": [
        {
         "alignmentgroup": "True",
         "bingroup": "x",
         "histnorm": "probability density",
         "hovertemplate": "x=%{x}<br>probability density=%{y}<extra></extra>",
         "legendgroup": "",
         "marker": {
          "color": "#636efa",
          "pattern": {
           "shape": ""
          }
         },
         "name": "",
         "nbinsx": 50,
         "offsetgroup": "",
         "orientation": "v",
         "showlegend": false,
         "type": "histogram",
         "x": [
          0,
          0,
          0,
          5,
          0,
          12,
          0,
          0,
          0,
          0,
          0,
          0,
          4,
          0,
          13,
          1,
          1,
          1,
          7,
          2,
          0,
          0,
          0,
          1,
          0,
          0,
          0,
          0,
          0,
          0,
          0,
          0,
          0,
          2,
          0,
          0,
          0,
          0,
          0,
          1,
          0,
          0,
          0,
          0,
          1,
          0,
          0,
          0,
          0,
          3,
          0,
          0,
          3,
          5,
          0,
          0,
          2,
          0,
          5,
          3,
          0,
          0,
          0,
          6,
          0,
          0,
          0,
          2,
          0,
          0,
          0,
          0,
          5,
          0,
          2,
          0,
          0,
          1,
          2,
          0,
          0,
          0,
          0,
          0,
          0,
          0,
          0,
          0,
          0,
          7,
          0,
          0,
          1,
          68,
          0,
          0,
          0,
          0,
          0,
          12,
          0,
          0,
          0,
          0,
          69,
          0,
          0,
          3,
          27,
          1,
          24,
          0,
          0,
          0,
          0,
          0,
          0,
          4,
          0,
          10,
          0,
          1,
          1,
          2,
          0,
          0,
          0,
          0,
          1,
          0,
          0,
          6,
          4,
          5,
          17,
          0,
          2,
          0,
          0,
          2,
          0,
          0,
          0,
          0,
          2,
          1,
          0,
          0,
          5,
          4,
          2,
          8,
          168,
          3,
          17,
          4,
          32,
          17,
          0,
          2,
          0,
          1,
          0,
          0,
          1,
          0,
          0,
          0,
          0,
          0,
          0,
          0,
          0,
          0,
          0,
          0,
          0,
          0,
          0,
          0,
          0,
          0,
          0,
          0,
          0,
          0,
          0,
          16,
          0,
          0,
          0,
          0,
          0,
          2,
          4,
          5,
          0,
          0,
          0,
          0,
          0,
          0,
          0,
          0,
          127,
          0,
          0,
          1,
          0,
          1,
          0,
          0,
          2,
          11,
          96,
          0,
          0,
          0,
          2,
          5,
          0,
          0,
          0,
          0,
          1,
          0,
          0,
          0,
          1,
          0,
          1,
          0,
          0,
          0,
          0,
          0,
          0,
          0,
          3,
          0,
          0,
          0,
          0,
          0,
          0,
          0,
          0,
          0,
          7,
          22,
          0,
          0,
          0,
          2,
          2,
          0,
          0,
          0,
          0,
          0,
          0,
          52,
          2,
          28,
          11,
          0,
          4,
          0,
          1,
          0,
          0,
          0,
          0,
          1,
          0,
          0,
          0,
          0,
          0,
          1,
          0,
          0,
          0,
          0,
          0,
          0,
          0,
          29,
          79,
          37,
          0,
          9,
          1,
          0,
          0,
          0,
          0,
          0,
          0,
          2,
          0,
          0,
          0,
          0,
          0,
          0,
          0,
          1,
          0,
          0,
          0,
          0,
          0,
          0,
          24,
          0,
          56,
          82,
          17,
          69,
          0,
          3,
          0,
          0,
          0,
          1,
          42,
          1,
          18,
          21,
          0,
          0,
          41,
          18,
          40,
          2,
          0,
          0,
          8,
          0,
          0,
          0,
          0,
          0,
          2,
          0,
          0,
          2,
          0,
          0,
          30,
          3,
          0,
          0,
          1,
          0,
          0,
          0,
          0,
          0,
          0,
          0,
          0,
          0,
          3,
          0,
          0,
          38,
          2,
          0,
          0,
          1,
          0,
          0,
          1,
          0,
          0,
          0,
          28,
          1,
          3,
          0,
          3,
          0,
          33,
          13,
          2,
          0,
          1,
          0,
          0,
          54,
          0,
          0,
          1,
          0,
          0,
          0,
          0,
          0,
          0,
          13,
          2,
          1,
          18,
          0,
          0,
          2,
          1,
          8,
          12,
          0,
          0,
          0,
          2,
          0,
          14,
          14,
          0,
          0,
          0,
          4,
          0,
          17,
          3,
          0,
          0,
          0,
          0,
          4,
          0,
          2,
          0,
          0,
          1,
          1,
          0,
          1,
          5,
          1,
          0,
          0,
          0,
          0,
          0,
          0,
          0,
          1,
          3,
          0,
          0,
          0,
          0,
          0,
          0,
          0,
          0,
          0,
          0,
          0,
          0,
          0,
          6,
          0,
          0,
          0,
          0,
          0,
          0,
          1,
          0,
          0,
          0,
          0,
          1,
          0,
          0,
          0,
          0,
          2,
          0,
          0,
          0,
          0,
          0,
          0,
          0,
          0,
          0,
          0,
          0,
          0,
          0,
          0,
          0,
          1,
          0,
          0,
          0,
          0,
          0,
          1,
          1,
          0,
          9,
          0,
          0,
          0,
          0,
          0,
          0,
          0,
          0,
          1,
          0,
          0,
          0,
          233,
          4,
          0,
          0,
          0,
          0,
          0,
          0,
          0,
          0,
          0,
          0,
          0,
          0,
          0,
          0,
          0,
          0,
          0,
          0,
          0,
          0,
          0,
          0,
          0,
          0,
          0,
          0,
          0,
          0,
          0,
          2,
          0,
          9,
          0,
          0,
          0,
          0,
          1,
          0,
          11,
          11,
          1,
          15,
          2,
          8,
          0,
          64,
          1,
          0,
          0,
          0,
          0,
          0,
          0,
          2,
          0,
          0,
          0,
          0,
          0,
          0,
          4,
          0,
          0,
          0,
          0,
          0,
          0,
          0,
          0,
          0,
          0,
          0,
          1,
          0,
          3,
          0,
          1,
          0,
          1,
          1,
          2,
          3,
          0,
          0,
          0,
          0,
          0,
          0,
          0,
          0,
          0,
          0,
          0,
          0,
          0,
          5,
          0,
          0,
          0,
          0,
          0,
          0,
          0,
          0,
          1,
          0,
          0,
          0,
          0,
          6,
          0,
          0,
          0,
          3,
          0,
          0,
          0,
          0,
          0,
          0,
          1,
          3,
          1,
          1,
          0,
          0,
          0,
          0,
          0,
          0,
          0,
          4,
          2,
          0,
          0,
          0,
          0,
          0,
          0,
          2,
          0,
          0,
          0,
          0,
          0,
          8,
          0,
          0,
          0,
          0,
          1,
          0,
          0,
          0,
          0,
          0,
          0,
          0,
          0,
          0,
          0,
          0,
          0,
          78,
          0,
          1,
          1,
          0,
          0,
          0,
          0,
          0,
          0,
          5,
          0,
          0,
          0,
          0,
          1,
          0,
          0,
          0,
          0,
          0,
          0,
          0,
          0,
          2,
          0,
          1,
          10,
          0,
          0,
          0,
          0,
          0,
          0,
          0,
          2,
          0,
          0,
          0,
          0,
          0,
          0,
          16,
          0,
          0,
          0,
          4,
          19,
          0,
          0,
          0,
          3,
          2,
          0,
          74,
          0,
          0,
          0,
          0,
          0,
          0,
          0,
          0,
          0,
          0,
          3,
          0,
          0,
          10,
          0,
          3,
          0,
          0,
          0,
          0,
          0,
          0,
          2,
          3,
          2,
          1,
          13,
          0,
          0,
          0,
          0,
          0,
          0,
          0,
          0,
          0,
          0,
          0,
          1,
          10,
          1,
          0,
          2,
          0,
          0,
          0,
          0,
          0,
          0,
          12,
          0,
          1,
          0,
          0,
          0,
          0,
          76,
          14,
          0,
          31,
          0,
          14,
          2,
          0,
          0,
          0,
          0,
          2,
          0,
          0,
          0,
          2,
          1,
          0,
          0,
          0,
          0,
          2,
          0,
          0,
          0,
          0,
          0,
          0,
          0,
          1,
          0,
          0,
          0,
          0,
          9,
          5,
          8,
          1,
          1,
          0,
          0,
          1,
          0,
          0,
          0,
          0,
          0,
          1,
          12,
          3,
          7,
          50,
          0,
          0,
          0,
          28,
          0,
          0,
          0,
          5,
          0,
          0,
          0,
          0,
          0,
          0,
          0,
          0,
          0,
          0,
          0,
          0,
          0,
          0,
          0,
          0,
          1,
          0,
          0,
          -1,
          -1,
          0,
          0,
          0,
          0,
          0,
          5,
          0,
          0,
          1,
          0,
          0,
          1,
          1,
          0,
          0,
          0,
          0,
          0,
          0,
          0,
          0,
          0,
          3,
          0,
          0,
          2,
          0,
          0,
          0,
          0,
          0,
          0,
          2,
          0,
          0,
          2,
          1,
          0,
          0,
          2,
          1,
          2,
          2,
          5,
          77,
          0,
          0,
          47,
          0,
          2,
          48,
          0,
          16,
          3,
          0,
          0,
          0,
          246,
          0,
          6,
          57,
          204,
          12,
          0,
          0,
          0,
          0,
          1,
          0,
          1,
          2,
          60,
          0,
          0,
          0,
          2,
          0,
          0,
          0,
          0,
          0,
          1,
          0,
          0,
          0,
          0,
          0,
          0,
          0,
          0,
          0,
          0,
          0,
          0,
          0,
          0,
          0,
          0,
          9,
          1,
          11,
          0,
          0,
          0,
          0,
          0,
          14,
          0,
          0,
          0,
          0,
          34,
          1,
          0,
          0,
          0,
          0,
          0,
          1,
          0,
          0,
          265,
          1,
          5,
          3,
          0,
          1,
          0,
          0,
          3,
          0,
          0,
          0,
          0,
          2,
          0,
          1,
          0,
          0,
          0,
          0,
          0,
          0,
          0,
          0,
          0,
          195,
          0,
          0,
          4,
          225,
          49,
          0,
          0,
          0,
          32,
          0,
          0,
          0,
          0,
          0,
          0,
          0,
          0,
          0,
          11,
          3,
          0,
          0,
          0,
          0,
          0,
          0,
          0,
          0,
          0,
          0,
          1,
          0,
          0,
          0,
          56,
          0,
          0,
          0,
          35,
          1,
          0,
          1,
          0,
          0,
          20,
          0,
          0,
          0,
          0,
          11,
          0,
          0,
          0,
          0,
          0,
          0,
          0,
          0,
          0,
          0,
          1,
          0,
          0,
          0,
          0,
          1,
          0,
          11,
          7,
          244,
          1,
          50,
          2,
          1,
          0,
          0,
          0,
          0,
          0,
          0,
          0,
          0,
          0,
          0,
          1,
          0,
          0,
          0,
          0,
          0,
          0,
          0,
          0,
          0,
          0,
          0,
          0,
          19,
          0,
          1,
          0,
          0,
          0,
          0,
          0,
          0,
          0,
          0,
          0,
          0,
          0,
          0,
          0,
          0,
          0,
          0,
          0,
          0,
          0,
          2,
          0,
          0,
          0,
          0,
          0,
          0,
          0,
          1,
          0,
          0,
          0,
          0,
          0,
          0,
          0,
          0,
          0,
          0,
          0,
          0,
          0,
          3,
          0,
          0,
          0,
          0,
          0,
          0,
          0,
          0,
          0,
          0,
          0,
          0,
          0,
          0,
          0,
          0,
          0,
          0,
          0,
          0,
          0,
          6,
          0,
          1,
          0,
          0,
          2,
          0,
          0,
          1,
          0,
          0,
          0,
          0,
          0,
          0,
          0,
          0,
          0,
          0,
          0,
          1,
          0,
          0,
          0,
          0,
          2,
          20,
          34,
          47,
          0,
          0,
          0,
          0,
          0,
          2,
          0,
          0,
          0,
          0,
          0,
          0,
          0,
          0,
          0,
          0,
          0,
          0,
          0,
          0,
          0,
          0,
          1,
          0,
          0,
          0,
          0,
          0,
          18,
          3,
          0,
          1,
          0,
          0,
          0,
          0,
          0,
          0,
          0,
          0,
          0,
          0,
          0,
          0,
          0,
          0,
          0,
          0,
          0,
          0,
          97,
          0,
          0,
          1,
          0,
          0,
          0,
          0,
          0,
          0,
          0,
          0,
          0,
          0,
          0,
          0,
          0,
          0,
          0,
          0,
          0,
          0,
          0,
          0,
          0,
          1,
          0,
          0,
          0,
          1,
          0,
          0,
          0,
          0,
          0,
          0,
          0,
          0,
          0,
          0,
          1,
          3,
          0,
          0,
          2,
          1,
          0,
          0,
          1,
          0,
          79,
          5,
          0,
          0,
          2,
          1,
          0,
          0,
          0,
          0,
          0,
          0,
          0,
          4,
          0,
          6,
          0,
          0,
          0,
          0,
          0,
          0,
          0,
          1,
          0,
          36,
          0,
          0,
          0,
          5,
          0,
          0,
          0,
          0,
          0,
          0,
          0,
          0,
          0,
          0,
          0,
          0,
          0,
          0,
          0,
          2,
          0,
          1,
          8,
          7,
          5,
          2,
          1,
          0,
          0,
          0,
          0,
          0,
          0,
          0,
          0,
          0,
          0,
          0,
          0,
          0,
          0,
          0,
          0,
          0,
          53,
          0,
          0,
          0,
          0,
          0,
          0,
          0,
          0,
          0,
          3,
          3,
          0,
          5,
          0,
          1,
          0,
          0,
          0,
          0,
          0,
          5,
          0,
          0,
          0,
          0,
          0,
          0,
          0,
          0,
          0,
          0,
          0,
          0,
          0,
          0,
          5,
          6,
          0,
          0,
          0,
          0,
          0,
          0,
          119,
          0,
          0,
          0,
          0,
          0,
          2,
          0,
          0,
          0,
          0,
          0,
          0,
          0,
          0,
          0,
          0,
          0,
          0,
          0,
          0,
          0,
          0,
          1,
          0,
          0,
          9,
          0,
          0,
          0,
          0,
          1,
          0,
          0,
          0,
          0,
          1,
          0,
          0,
          0,
          2,
          0,
          0,
          0,
          0,
          1,
          0,
          0,
          0,
          1,
          1,
          0,
          0,
          0,
          1,
          2,
          67,
          62,
          0,
          0,
          153,
          0,
          0,
          0,
          0,
          25,
          0,
          0,
          1,
          0,
          0,
          0,
          0,
          0,
          0,
          0,
          0,
          0,
          0,
          0,
          0,
          0,
          0,
          0,
          0,
          0,
          0,
          0,
          0,
          0,
          0,
          0,
          0,
          0,
          45,
          0,
          0,
          0,
          0,
          0,
          0,
          0,
          3,
          0,
          0,
          0,
          0,
          0,
          0,
          0,
          0,
          0,
          0,
          0,
          0,
          0,
          0,
          0,
          0,
          0,
          0,
          1,
          0,
          0,
          4,
          0,
          0,
          0,
          0,
          0,
          1,
          1,
          0,
          17,
          0,
          5,
          74,
          0,
          0,
          3,
          1,
          5,
          0,
          0,
          0,
          0,
          2,
          1,
          0,
          0,
          0,
          -1,
          0,
          0,
          9,
          4,
          5,
          0,
          0,
          0,
          0,
          0,
          0,
          0,
          0,
          0,
          0,
          18,
          0,
          174,
          5,
          0,
          0,
          0,
          0,
          0,
          1,
          0,
          0,
          0,
          0,
          1,
          0,
          0,
          0,
          0,
          0,
          0,
          0,
          0,
          0,
          0,
          0,
          1,
          1,
          101,
          63,
          0,
          26,
          0,
          7,
          2,
          0,
          1,
          0,
          3,
          121,
          0,
          0,
          0,
          0,
          0,
          0,
          0,
          0,
          0,
          3,
          0,
          0,
          0,
          0,
          0,
          0,
          0,
          0,
          0,
          0,
          0,
          0,
          0,
          0,
          48,
          0,
          0,
          7,
          1,
          0,
          0,
          0,
          0,
          0,
          0,
          0,
          0,
          0,
          0,
          0,
          0,
          0,
          21,
          0,
          0,
          0,
          1,
          0,
          0,
          0,
          0,
          0,
          34,
          3,
          0,
          0,
          0,
          0,
          0,
          1,
          0,
          0,
          14,
          1,
          0,
          0,
          2,
          0,
          0,
          0,
          0,
          0,
          0,
          0,
          1,
          0,
          0,
          18,
          0,
          3,
          0,
          1,
          4,
          1,
          0,
          0,
          0,
          10,
          0,
          0,
          1,
          0,
          0,
          1,
          0,
          2,
          0,
          4,
          0,
          0,
          0,
          0,
          0,
          0,
          0,
          0,
          0,
          0,
          0,
          0,
          0,
          0,
          0,
          0,
          0,
          0,
          0,
          0,
          0,
          0,
          2,
          2,
          0,
          9,
          0,
          0,
          0,
          0,
          7,
          0,
          0,
          0,
          2,
          1,
          0,
          0,
          0,
          0,
          0,
          0,
          0,
          0,
          0,
          0,
          0,
          0,
          0,
          0,
          3,
          0,
          0,
          0,
          2,
          0,
          0,
          0,
          0,
          0,
          0,
          0,
          1,
          0,
          0,
          0,
          0,
          0,
          0,
          6,
          1,
          0,
          100,
          21,
          0,
          0,
          0,
          0,
          0,
          0,
          0,
          0,
          65,
          13,
          2,
          44,
          0,
          0,
          0,
          3,
          0,
          0,
          0,
          0,
          2,
          0,
          0,
          0,
          0,
          0,
          0,
          0,
          128,
          0,
          0,
          0,
          1,
          0,
          9,
          0,
          0,
          0,
          0,
          0,
          0,
          0,
          0,
          0,
          0,
          0,
          147,
          210,
          0,
          35,
          0,
          1,
          0,
          0,
          37,
          0,
          0,
          0,
          84,
          20,
          0,
          5,
          0,
          0,
          0,
          0,
          1,
          1,
          1,
          0,
          0,
          0,
          0,
          0,
          0,
          0,
          0,
          0,
          0,
          0,
          0,
          1,
          1,
          1,
          3,
          0,
          0,
          0,
          3,
          1,
          0,
          0,
          1,
          0,
          0,
          0,
          1,
          0,
          0,
          0,
          0,
          0,
          0,
          0,
          1,
          0,
          0,
          3,
          0,
          77,
          0,
          0,
          0,
          0,
          1,
          0,
          0,
          0,
          0,
          0,
          0,
          0,
          0,
          0,
          0,
          0,
          1,
          0,
          0,
          6,
          0,
          0,
          0,
          3,
          116,
          0,
          0,
          20,
          2,
          150,
          0,
          0,
          0,
          0,
          3,
          0,
          0,
          0,
          2,
          13,
          0,
          0,
          0,
          0,
          0,
          0,
          0,
          0,
          0,
          0,
          0,
          0,
          0,
          1,
          0,
          1,
          93,
          1,
          0,
          0,
          0,
          0,
          0,
          0,
          1,
          0,
          0,
          0,
          0,
          5,
          0,
          2,
          1,
          9,
          12,
          0,
          0,
          0,
          0,
          0,
          146,
          1,
          2,
          0,
          186,
          1,
          0,
          0,
          0,
          0,
          0,
          0,
          6,
          0,
          0,
          0,
          0,
          0,
          56,
          0,
          0,
          0,
          0,
          0,
          0,
          0,
          0,
          13,
          1,
          155,
          0,
          0,
          0,
          0,
          1,
          1,
          0,
          1,
          0,
          0,
          0,
          0,
          0,
          0,
          0,
          0,
          0,
          0,
          0,
          8,
          3,
          5,
          0,
          0,
          0,
          7,
          6,
          11,
          35,
          1,
          3,
          20,
          13,
          6,
          22,
          18,
          11,
          12,
          1,
          2,
          1,
          4,
          0,
          1,
          201,
          0,
          9,
          0,
          5,
          145,
          0,
          0,
          2,
          0,
          15,
          1,
          0,
          0,
          24,
          0,
          0,
          0,
          0,
          0,
          0,
          0,
          0,
          0,
          0,
          30,
          0,
          0,
          0,
          0,
          0,
          0,
          0,
          1,
          0,
          50,
          0,
          0,
          0,
          0,
          48,
          0,
          0,
          0,
          0,
          0,
          0,
          0,
          0,
          0,
          11,
          0,
          0,
          0,
          0,
          0,
          0,
          14,
          9,
          239,
          0,
          14,
          4,
          1,
          1,
          0,
          0,
          0,
          0,
          0,
          0,
          0,
          3,
          0,
          1,
          0,
          0,
          0,
          0,
          0,
          0,
          0,
          0,
          0,
          1,
          1,
          1,
          2,
          0,
          0,
          0,
          0,
          16,
          1,
          0,
          0,
          0,
          0,
          0,
          0,
          0,
          0,
          0,
          0,
          0,
          0,
          0,
          0,
          0,
          0,
          0,
          1,
          0,
          0,
          0,
          0,
          0,
          0,
          1,
          0,
          0,
          0,
          0,
          0,
          0,
          0,
          0,
          102,
          17,
          0,
          4,
          0,
          0,
          5,
          0,
          0,
          31,
          0,
          0,
          0,
          9,
          3,
          0,
          0,
          0,
          0,
          0,
          0,
          1,
          4,
          1,
          49,
          13,
          0,
          1,
          1,
          0,
          28,
          21,
          0,
          0,
          0,
          0,
          0,
          0,
          5,
          0,
          0,
          0,
          1,
          0,
          6,
          0,
          1,
          0,
          0,
          0,
          0,
          67,
          0,
          0,
          0,
          0,
          0,
          0,
          0,
          0,
          2,
          6,
          0,
          0,
          0,
          0,
          0,
          0,
          0,
          2,
          20,
          3,
          0,
          3,
          22,
          8,
          9,
          0,
          1,
          0,
          0,
          27,
          0,
          6,
          1,
          34,
          3,
          0,
          0,
          0,
          0,
          0,
          0,
          0,
          0,
          0,
          0,
          0,
          0,
          0,
          5,
          0,
          0,
          0,
          1,
          0,
          0,
          0,
          0,
          0,
          0,
          15,
          0,
          0,
          0,
          0,
          0,
          0,
          0,
          0,
          0,
          0,
          0,
          0,
          0,
          2,
          0,
          0,
          1,
          0,
          0,
          2,
          0,
          1,
          0,
          0,
          0,
          0,
          2,
          0,
          0,
          2,
          0,
          0,
          2,
          0,
          0,
          0,
          0,
          0,
          0,
          0,
          0,
          0,
          0,
          0,
          0,
          0,
          0,
          0,
          0,
          0,
          0,
          0,
          0,
          0,
          0,
          0,
          0,
          0,
          0,
          0,
          0,
          0,
          16,
          0,
          3,
          0,
          1,
          0,
          0,
          0,
          0,
          0,
          0,
          23,
          0,
          0,
          0,
          0,
          0,
          0,
          19,
          0,
          0,
          0,
          43,
          0,
          0,
          0,
          0,
          0,
          0,
          1,
          4,
          0,
          1,
          0,
          0,
          0,
          0,
          77,
          0,
          0,
          0,
          0,
          0,
          0,
          0,
          1,
          0,
          0,
          0,
          0,
          0,
          0,
          0,
          0,
          0,
          0,
          0,
          0,
          0,
          2,
          0,
          2,
          0,
          0,
          0,
          0,
          0,
          0,
          11,
          27,
          0,
          0,
          0,
          0,
          0,
          0,
          0,
          0,
          0,
          0,
          0,
          0,
          0,
          0,
          0,
          0,
          0,
          0,
          0,
          0,
          0,
          0,
          3,
          0,
          0,
          1,
          0,
          1,
          0,
          0,
          0,
          0,
          0,
          0,
          0,
          0,
          1,
          0,
          0,
          0,
          1,
          1,
          1,
          0,
          0,
          1,
          11,
          1,
          0,
          4,
          0,
          0,
          0,
          0,
          0,
          0,
          0,
          0,
          1,
          0,
          0,
          0,
          0,
          1,
          0,
          0,
          32,
          10,
          0,
          111,
          106,
          2,
          0,
          0,
          0,
          0,
          0,
          0,
          0,
          0,
          0,
          17,
          0,
          0,
          0,
          0,
          0,
          0,
          1,
          0,
          7,
          4,
          0,
          0,
          0,
          0,
          0,
          0,
          9,
          0,
          0,
          0,
          0,
          0,
          0,
          0,
          2,
          0,
          0,
          0,
          1,
          2,
          0,
          0,
          0,
          0,
          0,
          67,
          0,
          52,
          1,
          3,
          0,
          0,
          0,
          0,
          0,
          0,
          0,
          0,
          0,
          0,
          0,
          17,
          5,
          2,
          0,
          0,
          0,
          3,
          4,
          0,
          1,
          1,
          0,
          0,
          0,
          0,
          0,
          0,
          0,
          0,
          0,
          0,
          0,
          12,
          0,
          0,
          0,
          0,
          0,
          0,
          0,
          0,
          0,
          1,
          0,
          0,
          0,
          0,
          38,
          0,
          0,
          103,
          61,
          7,
          0,
          0,
          0,
          9,
          16,
          0,
          0,
          0,
          5,
          0,
          0,
          0,
          0,
          0,
          0,
          0,
          0,
          9,
          0,
          2,
          0,
          0,
          0,
          0,
          0,
          0,
          0,
          6,
          0,
          0,
          0,
          1,
          1,
          1,
          0,
          0,
          0,
          0,
          0,
          0,
          0,
          0,
          12,
          0,
          5,
          0,
          0,
          0,
          0,
          18,
          0,
          0,
          6,
          0,
          0,
          2,
          2,
          1,
          2,
          174,
          0,
          0,
          0,
          0,
          0,
          0,
          0,
          0,
          0,
          1,
          0,
          0,
          0,
          0,
          0,
          0,
          35,
          0,
          0,
          0,
          0,
          0,
          0,
          0,
          0,
          6,
          0,
          0,
          7,
          0,
          0,
          0,
          0,
          0,
          52,
          0,
          0,
          0,
          0,
          2,
          0,
          0,
          0,
          2,
          1,
          0,
          0,
          73,
          4,
          8,
          0,
          0,
          3,
          2,
          9,
          0,
          2,
          1,
          0,
          0,
          0,
          0,
          0,
          0,
          1,
          3,
          1,
          14,
          26,
          1,
          0,
          0,
          0,
          3,
          0,
          0,
          0,
          0,
          0,
          144,
          0,
          0,
          0,
          0,
          0,
          1,
          0,
          0,
          0,
          0,
          3,
          0,
          6,
          1,
          7,
          0,
          0,
          0,
          0,
          4,
          0,
          69,
          0,
          1,
          12,
          1,
          0,
          0,
          0,
          10,
          0,
          0,
          0,
          1,
          3,
          0,
          0,
          0,
          0,
          1,
          0,
          0,
          0,
          0,
          0,
          0,
          0,
          2,
          1,
          0,
          0,
          0,
          0,
          0,
          0,
          0,
          0,
          0,
          0,
          0,
          0,
          0,
          0,
          0,
          0,
          3,
          0,
          5,
          0,
          0,
          0,
          1,
          0,
          0,
          16,
          0,
          0,
          0,
          0,
          0,
          0,
          0,
          0,
          1,
          0,
          0,
          0,
          20,
          1,
          0,
          0,
          0,
          0,
          0,
          0,
          0,
          0,
          0,
          0,
          0,
          0,
          3,
          94,
          5,
          1,
          8,
          3,
          2,
          15,
          1,
          0,
          0,
          0,
          0,
          0,
          0,
          0,
          0,
          0,
          0,
          1,
          0,
          0,
          0,
          0,
          0,
          0,
          0,
          0,
          15,
          6,
          11,
          1,
          0,
          1,
          0,
          0,
          0,
          0,
          0,
          0,
          0,
          2,
          1,
          0,
          0,
          0,
          0,
          0,
          0,
          0,
          2,
          11,
          0,
          0,
          1,
          0,
          0,
          3,
          0,
          0,
          0,
          0,
          5,
          0,
          0,
          2,
          1,
          0,
          1,
          0,
          0,
          0,
          2,
          19,
          1,
          1,
          5,
          22,
          0,
          0,
          0,
          7,
          0,
          0,
          4,
          0,
          0,
          0,
          0,
          1,
          17,
          0,
          0,
          6,
          6,
          7,
          1,
          0,
          0,
          0,
          1,
          0,
          0,
          0,
          0,
          4,
          0,
          0,
          1,
          1,
          0,
          0,
          0,
          0,
          2,
          0,
          46,
          19,
          10,
          0,
          2,
          0,
          0,
          0,
          15,
          0,
          0,
          0,
          0,
          0,
          0,
          0,
          0,
          0,
          0,
          0,
          0,
          0,
          0,
          0,
          0,
          0,
          0,
          0,
          0,
          0,
          0,
          0,
          0,
          0,
          0,
          0,
          0,
          0,
          0,
          0,
          0,
          0,
          0,
          0,
          0,
          0,
          0,
          93,
          0,
          0,
          0,
          0,
          0,
          0,
          0,
          0,
          0,
          0,
          2,
          6,
          0,
          0,
          0,
          0,
          0,
          0,
          0,
          3,
          0,
          0,
          0,
          0,
          0,
          0,
          0,
          0,
          0,
          0,
          0,
          1,
          27,
          0,
          0,
          0,
          7,
          0,
          43,
          2,
          0,
          0,
          0,
          0,
          0,
          0,
          1,
          0,
          0,
          0,
          0,
          0,
          0,
          0,
          21,
          1,
          0,
          0,
          5,
          0,
          5,
          0,
          -1,
          5,
          1,
          39,
          0,
          0,
          0,
          1,
          16,
          0,
          0,
          0,
          23,
          2,
          2,
          0,
          2,
          28,
          81,
          0,
          0,
          0,
          0,
          0,
          0,
          0,
          0,
          0,
          0,
          0,
          0,
          0,
          3,
          0,
          1,
          0,
          13,
          9,
          8,
          1,
          13,
          0,
          0,
          27,
          0,
          1,
          4,
          2,
          0,
          0,
          0,
          0,
          0,
          0,
          0,
          0,
          0,
          0,
          0,
          0,
          0,
          0,
          0,
          0,
          0,
          0,
          0,
          85,
          1,
          0,
          1,
          2,
          0,
          0,
          0,
          0,
          0,
          0,
          0,
          0,
          0,
          0,
          0,
          10,
          0,
          0,
          0,
          6,
          34,
          0,
          0,
          0,
          2,
          8,
          0,
          0,
          0,
          191,
          0,
          0,
          0,
          4,
          0,
          0,
          0,
          0,
          0,
          0,
          0,
          0,
          0,
          37,
          1,
          9,
          0,
          0,
          0,
          0,
          0,
          0,
          0,
          0,
          0,
          0,
          0,
          0,
          0,
          0,
          0,
          0,
          0,
          1,
          6,
          5,
          0,
          0,
          0,
          0,
          3,
          0,
          0,
          0,
          0,
          9,
          0,
          0,
          0,
          0,
          0,
          0,
          0,
          0,
          0,
          0,
          0,
          0,
          0,
          0,
          0,
          0,
          0,
          0,
          0,
          0,
          0,
          0,
          1,
          0,
          0,
          0,
          0,
          4,
          0,
          280,
          5,
          1,
          96,
          0,
          12,
          0,
          4,
          4,
          12,
          1,
          0,
          0,
          0,
          14,
          1,
          0,
          0,
          153,
          87,
          0,
          20,
          13,
          12,
          6,
          0,
          12,
          5,
          0,
          0,
          0,
          0,
          0,
          0,
          0,
          0,
          0,
          0,
          0,
          0,
          0,
          0,
          0,
          0,
          0,
          18,
          0,
          0,
          0,
          0,
          0,
          0,
          0,
          8,
          0,
          0,
          0,
          9,
          0,
          28,
          0,
          20,
          1,
          3,
          0,
          0,
          0,
          0,
          0,
          1,
          0,
          0,
          0,
          0,
          -1,
          0,
          0,
          0,
          0,
          5,
          0,
          11,
          115,
          0,
          0,
          0,
          0,
          0,
          0,
          6,
          0,
          0,
          0,
          0,
          0,
          1,
          0,
          0,
          0,
          0,
          0,
          0,
          1,
          0,
          0,
          0,
          0,
          0,
          1,
          78,
          7,
          0,
          3,
          0,
          0,
          0,
          1,
          0,
          0,
          0,
          0,
          0,
          0,
          0,
          0,
          0,
          0,
          0,
          0,
          0,
          0,
          0,
          0,
          0,
          0,
          0,
          0,
          0,
          0,
          0,
          0,
          1,
          0,
          0,
          1,
          1,
          0,
          7,
          4,
          0,
          0,
          0,
          -1,
          2,
          0,
          0,
          0,
          0,
          0,
          0,
          1,
          0,
          2,
          0,
          105,
          0,
          0,
          0,
          0,
          1,
          0,
          0,
          8,
          0,
          54,
          0,
          1,
          0,
          36,
          0,
          0,
          0,
          31,
          2,
          1,
          0,
          3,
          0,
          0,
          1,
          2,
          139,
          0,
          0,
          3,
          6,
          1,
          1,
          0,
          0,
          0,
          0,
          0,
          0,
          0,
          2,
          2,
          6,
          0,
          0,
          0,
          0,
          0,
          0,
          0,
          0,
          0,
          0,
          0,
          7,
          0,
          0,
          2,
          0,
          0,
          0,
          0,
          1,
          1,
          0,
          0,
          0,
          0,
          0,
          0,
          0,
          0,
          0,
          0,
          0,
          0,
          0,
          0,
          14,
          0,
          0,
          0,
          0,
          0,
          0,
          0,
          1,
          0,
          0,
          0,
          0,
          4,
          9,
          43,
          0,
          0,
          1,
          0,
          5,
          4,
          0,
          0,
          0,
          1,
          0,
          0,
          0,
          0,
          0,
          0,
          0,
          0,
          0,
          0,
          0,
          2,
          0,
          0,
          0,
          4,
          20,
          2,
          2,
          3,
          0,
          0,
          1,
          0,
          0,
          0,
          0,
          0,
          1,
          0,
          0,
          0,
          7,
          1,
          0,
          1,
          0,
          0,
          0,
          5,
          0,
          0,
          0,
          0,
          7,
          0,
          0,
          -1,
          1,
          27,
          1,
          0,
          2,
          0,
          132,
          0,
          0,
          0,
          0,
          0,
          1,
          0,
          0,
          0,
          0,
          0,
          0,
          152,
          2,
          7,
          0,
          0,
          0,
          67,
          0,
          0,
          0,
          0,
          0,
          0,
          0,
          0,
          1,
          0,
          3,
          0,
          0,
          0,
          0,
          1,
          0,
          22,
          1,
          0,
          128,
          0,
          0,
          0,
          0,
          0,
          0,
          0,
          0,
          0,
          0,
          0,
          0,
          1,
          0,
          43,
          0,
          0,
          0,
          0,
          0,
          0,
          0,
          1,
          0,
          0,
          0,
          0,
          0,
          2,
          1,
          0,
          0,
          0,
          0,
          0,
          1,
          42,
          27,
          1,
          0,
          0,
          1,
          0,
          1,
          11,
          0,
          0,
          0,
          5,
          0,
          0,
          0,
          0,
          1,
          0,
          0,
          0,
          0,
          0,
          0,
          0,
          0,
          0,
          1,
          0,
          0,
          0,
          10,
          0,
          0,
          1,
          0,
          0,
          0,
          0,
          4,
          0,
          0,
          0,
          0,
          5,
          0,
          0,
          0,
          0,
          0,
          0,
          0,
          0,
          0,
          0,
          0,
          0,
          0,
          0,
          0,
          0,
          0,
          154,
          0,
          8,
          0,
          17,
          0,
          0,
          0,
          0,
          1,
          1,
          0,
          0,
          0,
          0,
          0,
          0,
          0,
          0,
          0,
          0,
          0,
          0,
          2,
          14,
          87,
          0,
          0,
          0,
          10,
          0,
          0,
          1,
          0,
          0,
          0,
          0,
          1,
          1,
          8,
          0,
          0,
          0,
          0,
          0,
          0,
          0,
          0,
          0,
          1,
          0,
          0,
          0,
          0,
          0,
          0,
          0,
          0,
          0,
          0,
          0,
          0,
          0,
          0,
          0,
          2,
          0,
          0,
          0,
          0,
          0,
          0,
          0,
          124,
          1,
          -1,
          -1,
          0,
          0,
          0,
          0,
          0,
          0,
          0,
          2,
          122,
          0,
          0,
          0,
          1,
          0,
          0,
          0,
          0,
          3,
          177,
          1,
          0,
          0,
          66,
          8,
          0,
          2,
          0,
          0,
          0,
          1,
          0,
          1,
          0,
          32,
          0,
          0,
          0,
          6,
          4,
          0,
          0,
          0,
          14,
          6,
          0,
          0,
          0,
          0,
          0,
          0,
          0,
          0,
          0,
          0,
          0,
          0,
          0,
          0,
          0,
          0,
          0,
          0,
          0,
          0,
          0,
          55,
          3,
          150,
          3,
          1,
          0,
          8,
          36,
          0,
          0,
          5,
          10,
          6,
          0,
          0,
          0,
          1,
          152,
          0,
          0,
          0,
          1,
          0,
          0,
          0,
          0,
          0,
          0,
          0,
          0,
          0,
          0,
          0,
          1,
          0,
          0,
          0,
          2,
          0,
          0,
          0,
          0,
          20,
          1,
          1,
          1,
          1,
          0,
          1,
          0,
          0,
          1,
          24,
          0,
          0,
          0,
          0,
          0,
          0,
          0,
          0,
          0,
          0,
          0,
          0,
          0,
          0,
          0,
          0,
          0,
          0,
          0,
          1,
          0,
          1,
          12,
          1,
          55,
          0,
          0,
          0,
          0,
          0,
          0,
          0,
          0,
          0,
          0,
          0,
          0,
          0,
          0,
          1,
          0,
          0,
          0,
          0,
          1,
          0,
          0,
          0,
          0,
          0,
          0,
          0,
          0,
          0,
          2,
          6,
          1,
          0,
          0,
          8,
          0,
          0,
          0,
          0,
          0
         ],
         "xaxis": "x",
         "yaxis": "y"
        },
        {
         "name": "Expon. distr.",
         "type": "scatter",
         "x": [
          -1,
          0.007168458781362075,
          1.0143369175627241,
          2.021505376344086,
          3.0286738351254483,
          4.035842293906811,
          5.043010752688172,
          6.050179211469534,
          7.057347670250897,
          8.064516129032258,
          9.071684587813621,
          10.078853046594983,
          11.086021505376344,
          12.093189964157707,
          13.100358422939069,
          14.107526881720432,
          15.114695340501793,
          16.121863799283155,
          17.129032258064516,
          18.13620071684588,
          19.143369175627242,
          20.150537634408604,
          21.157706093189965,
          22.164874551971327,
          23.172043010752688,
          24.179211469534053,
          25.186379928315414,
          26.193548387096776,
          27.200716845878137,
          28.2078853046595,
          29.215053763440864,
          30.222222222222225,
          31.229390681003586,
          32.23655913978495,
          33.24372759856631,
          34.250896057347674,
          35.25806451612903,
          36.2652329749104,
          37.27240143369176,
          38.27956989247312,
          39.286738351254485,
          40.29390681003584,
          41.30107526881721,
          42.30824372759857,
          43.31541218637993,
          44.322580645161295,
          45.32974910394265,
          46.33691756272402,
          47.344086021505376,
          48.35125448028674,
          49.358422939068106,
          50.365591397849464,
          51.37275985663083,
          52.37992831541219,
          53.38709677419355,
          54.39426523297492,
          55.401433691756274,
          56.40860215053764,
          57.415770609319,
          58.42293906810036,
          59.43010752688173,
          60.437275985663085,
          61.44444444444445,
          62.45161290322581,
          63.45878136200717,
          64.46594982078854,
          65.4731182795699,
          66.48028673835125,
          67.48745519713262,
          68.49462365591398,
          69.50179211469535,
          70.50896057347671,
          71.51612903225806,
          72.52329749103943,
          73.5304659498208,
          74.53763440860216,
          75.54480286738352,
          76.55197132616487,
          77.55913978494624,
          78.5663082437276,
          79.57347670250897,
          80.58064516129033,
          81.58781362007169,
          82.59498207885305,
          83.60215053763442,
          84.60931899641578,
          85.61648745519715,
          86.6236559139785,
          87.63082437275986,
          88.63799283154123,
          89.64516129032259,
          90.65232974910396,
          91.6594982078853,
          92.66666666666667,
          93.67383512544804,
          94.6810035842294,
          95.68817204301075,
          96.69534050179212,
          97.70250896057348,
          98.70967741935485,
          99.71684587813621,
          100.72401433691756,
          101.73118279569893,
          102.73835125448029,
          103.74551971326166,
          104.75268817204302,
          105.75985663082437,
          106.76702508960574,
          107.7741935483871,
          108.78136200716847,
          109.78853046594983,
          110.79569892473118,
          111.80286738351255,
          112.81003584229391,
          113.81720430107528,
          114.82437275985664,
          115.831541218638,
          116.83870967741936,
          117.84587813620072,
          118.85304659498209,
          119.86021505376345,
          120.8673835125448,
          121.87455197132617,
          122.88172043010753,
          123.8888888888889,
          124.89605734767026,
          125.90322580645162,
          126.91039426523298,
          127.91756272401435,
          128.9247311827957,
          129.93189964157708,
          130.93906810035844,
          131.9462365591398,
          132.95340501792114,
          133.9605734767025,
          134.96774193548387,
          135.97491039426524,
          136.9820788530466,
          137.98924731182797,
          138.99641577060933,
          140.0035842293907,
          141.01075268817206,
          142.01792114695343,
          143.02508960573476,
          144.03225806451613,
          145.0394265232975,
          146.04659498207886,
          147.05376344086022,
          148.0609318996416,
          149.06810035842295,
          150.07526881720432,
          151.08243727598568,
          152.08960573476705,
          153.09677419354838,
          154.10394265232975,
          155.11111111111111,
          156.11827956989248,
          157.12544802867384,
          158.1326164874552,
          159.13978494623657,
          160.14695340501794,
          161.1541218637993,
          162.16129032258067,
          163.168458781362,
          164.17562724014337,
          165.18279569892474,
          166.1899641577061,
          167.19713261648747,
          168.20430107526883,
          169.2114695340502,
          170.21863799283156,
          171.22580645161293,
          172.2329749103943,
          173.24014336917563,
          174.247311827957,
          175.25448028673836,
          176.26164874551972,
          177.2688172043011,
          178.27598566308245,
          179.28315412186382,
          180.29032258064518,
          181.29749103942655,
          182.3046594982079,
          183.31182795698925,
          184.3189964157706,
          185.32616487455198,
          186.33333333333334,
          187.3405017921147,
          188.34767025089607,
          189.35483870967744,
          190.3620071684588,
          191.36917562724017,
          192.3763440860215,
          193.38351254480287,
          194.39068100358423,
          195.3978494623656,
          196.40501792114696,
          197.41218637992833,
          198.4193548387097,
          199.42652329749106,
          200.43369175627242,
          201.4408602150538,
          202.44802867383513,
          203.4551971326165,
          204.46236559139786,
          205.46953405017922,
          206.47670250896059,
          207.48387096774195,
          208.49103942652332,
          209.49820788530468,
          210.50537634408605,
          211.5125448028674,
          212.51971326164875,
          213.5268817204301,
          214.53405017921148,
          215.54121863799284,
          216.5483870967742,
          217.55555555555557,
          218.56272401433694,
          219.5698924731183,
          220.57706093189967,
          221.58422939068103,
          222.59139784946237,
          223.59856630824373,
          224.6057347670251,
          225.61290322580646,
          226.62007168458783,
          227.6272401433692,
          228.63440860215056,
          229.64157706093192,
          230.6487455197133,
          231.65591397849465,
          232.663082437276,
          233.67025089605735,
          234.67741935483872,
          235.68458781362008,
          236.69175627240145,
          237.6989247311828,
          238.70609318996418,
          239.71326164874554,
          240.7204301075269,
          241.72759856630827,
          242.7347670250896,
          243.74193548387098,
          244.74910394265234,
          245.7562724014337,
          246.76344086021507,
          247.77060931899643,
          248.7777777777778,
          249.78494623655916,
          250.79211469534053,
          251.7992831541219,
          252.80645161290323,
          253.8136200716846,
          254.82078853046596,
          255.82795698924735,
          256.8351254480287,
          257.84229390681,
          258.8494623655914,
          259.85663082437276,
          260.86379928315415,
          261.8709677419355,
          262.8781362007169,
          263.8853046594982,
          264.8924731182796,
          265.89964157706095,
          266.9068100358423,
          267.9139784946237,
          268.921146953405,
          269.9283154121864,
          270.93548387096774,
          271.94265232974914,
          272.9498207885305,
          273.95698924731187,
          274.9641577060932,
          275.9713261648746,
          276.97849462365593,
          277.98566308243727,
          278.99283154121866,
          280
         ],
         "y": [
          0.1251564455569462,
          0.11033386383016863,
          0.09726675644647662,
          0.08574721831713215,
          0.07559196705784942,
          0.06663942686212265,
          0.058747157738516124,
          0.05178958920962369,
          0.04565602241456318,
          0.040248868827323175,
          0.03548209756797243,
          0.03127986660257268,
          0.027575316053409217,
          0.024309504420420614,
          0.02143047078850755,
          0.018892408099906832,
          0.016654934337925573,
          0.01468245002615523,
          0.012943571820613743,
          0.01141063318294552,
          0.01005924419010669,
          0.008867903476858117,
          0.00781765613685119,
          0.006891792139318628,
          0.0060755804630088115,
          0.005356034717283825,
          0.004721706521279931,
          0.004162503353675705,
          0.0036695279749544324,
          0.003234936867277839,
          0.002851815439669268,
          0.0025140680129500394,
          0.002216320834026892,
          0.0019538365764328555,
          0.0017224389667766606,
          0.0015184463378647374,
          0.0013386130512883356,
          0.001180077857475849,
          0.0010403183715895418,
          9.171109409523566E-4,
          8.084952654727993E-4,
          7.127432081588151E-4,
          6.283312994782293E-4,
          5.53916498094542E-4,
          4.883148223176361E-4,
          4.30482512283658E-4,
          3.794994231436765E-4,
          3.3455438503732774E-4,
          2.9493229692033E-4,
          2.60002748901337E-4,
          2.292099920630695E-4,
          2.0206409618187814E-4,
          1.7813315466004844E-4,
          1.5703641264690226E-4,
          1.384382090131983E-4,
          1.2204263579221553E-4,
          1.0758883011619569E-4,
          9.484682374018299E-5,
          8.361388411683413E-5,
          7.371128880662159E-5,
          6.498148190246881E-5,
          5.7285567225919403E-5,
          5.050109841017108E-5,
          4.452013070894153E-5,
          3.924750353433987E-5,
          3.4599326397949025E-5,
          3.0501644165580816E-5,
          2.688926038915205E-5,
          2.3704699994222497E-5,
          2.0897294818967345E-5,
          1.8422377454988906E-5,
          1.6240570563518253E-5,
          1.4317160359624953E-5,
          1.262154429621285E-5,
          1.1126744160141276E-5,
          9.808976833554815E-6,
          8.647275890991061E-6,
          7.6231580116614925E-6,
          6.72032889933599E-6,
          5.9244240308495415E-6,
          5.222780108392539E-6,
          4.604233579261424E-6,
          4.058943017404395E-6,
          3.5782325407519164E-6,
          3.154453773012963E-6,
          2.780864153670885E-6,
          2.4515196600219525E-6,
          2.1611802344032925E-6,
          1.9052264119038847E-6,
          1.6795858220581859E-6,
          1.4806683951225776E-6,
          1.3053092420298576E-6,
          1.150718299209402E-6,
          1.0144359370935088E-6,
          8.942938260161594E-7,
          7.883804368583814E-7,
          6.950106275359466E-7,
          6.126988314331777E-7,
          5.40135421195651E-7,
          4.761658718162935E-7,
          4.197723914878035E-7,
          3.7005772795781637E-7,
          3.262308927367365E-7,
          2.875945760223109E-7,
          2.535340521052345E-7,
          2.2350739873450574E-7,
          1.9703687482709523E-7,
          1.7370131933639076E-7,
          1.5312945034110804E-7,
          1.3499395773937162E-7,
          1.1900629555937986E-7,
          1.0491209102935974E-7,
          9.248709736251522E-8,
          8.1533625863482E-8,
          7.187740058907471E-8,
          6.33647855192009E-8,
          5.586034012065591E-8,
          4.9244664411431055E-8,
          4.3412499239290085E-8,
          3.827105154896511E-8,
          3.373851799202464E-8,
          2.97427833892103E-8,
          2.62202733370387E-8,
          2.3114942702989453E-8,
          2.0377383915663938E-8,
          1.7964040862305812E-8,
          1.5836515886346495E-8,
          1.396095885891417E-8,
          1.2307528604087381E-8,
          1.0849918108863351E-8,
          9.564935963662579E-9,
          8.432137373850635E-9,
          7.433498871461645E-9,
          6.5531315516018714E-9,
          5.777028270962215E-9,
          5.092840786225115E-9,
          4.489683286510574E-9,
          3.9579591939517836E-9,
          3.489208476699207E-9,
          3.0759730450161775E-9,
          2.711678088841728E-9,
          2.390527468834062E-9,
          2.1074114965066388E-9,
          1.8578256361866699E-9,
          1.6377988352980968E-9,
          1.443830342663165E-9,
          1.2728340095658922E-9,
          1.1220891873759057E-9,
          9.891974404858514E-10,
          8.720443858407397E-10,
          7.687660519045083E-10,
          6.777192218158275E-10,
          5.974552888759728E-10,
          5.266972083947717E-10,
          4.643191791853629E-10,
          4.0932873142888756E-10,
          3.6085093591685136E-10,
          3.181144834312465E-10,
          2.804394127774872E-10,
          2.4722629221621027E-10,
          2.1794668216436003E-10,
          1.9213472742175446E-10,
          1.6937974515066373E-10,
          1.4931969067896587E-10,
          1.316353971641018E-10,
          1.160454974676143E-10,
          1.0230194744441035E-10,
          9.018607941975206E-11,
          7.950512306254498E-11,
          7.008913830005115E-11,
          6.17883114749618E-11,
          5.447057172515021E-11,
          4.801948966135844E-11,
          4.2332424909589283E-11,
          3.731889304454802E-11,
          3.2899125931123556E-11,
          2.9002802568123046E-11,
          2.5567930241264033E-11,
          2.2539858183934388E-11,
          1.9870408052504024E-11,
          1.751710738155581E-11,
          1.544251382287479E-11,
          1.3613619416455205E-11,
          1.2001325415138024E-11,
          1.0579979307041675E-11,
          9.3269666695512E-12,
          8.222351361029617E-12,
          7.24855832549882E-12,
          6.39009396353246E-12,
          5.633299620302651E-12,
          4.966134268635889E-12,
          4.377982929442464E-12,
          3.859487781379403E-12,
          3.4023992726060627E-12,
          2.9994448657362565E-12,
          2.6442133276441236E-12,
          2.3310527231093246E-12,
          2.0549804893225762E-12,
          1.8116041604857414E-12,
          1.5970514811900316E-12,
          1.4079087966365644E-12,
          1.2411667394526307E-12,
          1.0941723489501968E-12,
          9.645868610168947E-13,
          8.503484970527065E-13,
          7.496396599031936E-13,
          6.608580148580476E-13,
          5.82590995597164E-13,
          5.135933294594292E-13,
          4.5276722444850945E-13,
          3.991449027396321E-13,
          3.518732027855694E-13,
          3.1020000503261095E-13,
          2.734622652719325E-13,
          2.410754652302304E-13,
          2.1252431255251893E-13,
          1.8735454220854126E-13,
          1.6516568887852593E-13,
          1.456047153228526E-13,
          1.2836039535936232E-13,
          1.1315836207830411E-13,
          9.975674250921211E-14,
          8.794230928477979E-14,
          7.752708807252424E-14,
          6.834536679656152E-14,
          6.025105906450254E-14,
          5.311537985010562E-14,
          4.682479645047713E-14,
          4.127922211638412E-14,
          3.639042361531519E-14,
          3.2080617390715716E-14,
          2.8281231981492048E-14,
          2.4931817011178928E-14,
          2.1979081388169244E-14,
          1.937604541422577E-14,
          1.7081293310839765E-14,
          1.5058314270708883E-14,
          1.3274921550087695E-14,
          1.1702740359441722E-14,
          1.0316756404455093E-14,
          9.094917894422383E-15,
          8.017784685752995E-15,
          7.0682189782625E-15,
          6.231112643052744E-15,
          5.49314684361349E-15,
          4.842580125580541E-15,
          4.2690616035382586E-15,
          3.763466272562652E-15,
          3.317749824218411E-15,
          2.9248206570497674E-15,
          2.5784270451797176E-15,
          2.2730576698060715E-15,
          2.0038539309938544E-15,
          1.7665326445950115E-15,
          1.5573178943597497E-15,
          1.372880954967611E-15,
          1.2102873301200284E-15,
          1.06695006303997E-15,
          9.405885765226367E-16,
          8.291923876588679E-16,
          7.309891199118366E-16,
          6.444163036013213E-16,
          5.680965161249946E-16,
          5.008154663837044E-16,
          4.4150267472145217E-16,
          3.8921444098704397E-16,
          3.431188297294736E-16,
          3.024824336331365E-16,
          2.6665870459153854E-16,
          2.350776667602401E-16,
          2.0723684791796604E-16,
          1.8269328484860583E-16,
          1.6105647554524746E-16,
          1.4198216610179073E-16,
          1.2516687343808974E-16,
          1.1034305671202931E-16,
          9.727486059301809E-17,
          8.575436266992236E-17,
          7.559826528759209E-17,
          6.664497917722472E-17
         ]
        }
       ],
       "layout": {
        "bargroupgap": 0.01,
        "barmode": "relative",
        "legend": {
         "tracegroupgap": 0
        },
        "margin": {
         "t": 60
        },
        "template": {
         "data": {
          "bar": [
           {
            "error_x": {
             "color": "#2a3f5f"
            },
            "error_y": {
             "color": "#2a3f5f"
            },
            "marker": {
             "line": {
              "color": "#E5ECF6",
              "width": 0.5
             },
             "pattern": {
              "fillmode": "overlay",
              "size": 10,
              "solidity": 0.2
             }
            },
            "type": "bar"
           }
          ],
          "barpolar": [
           {
            "marker": {
             "line": {
              "color": "#E5ECF6",
              "width": 0.5
             },
             "pattern": {
              "fillmode": "overlay",
              "size": 10,
              "solidity": 0.2
             }
            },
            "type": "barpolar"
           }
          ],
          "carpet": [
           {
            "aaxis": {
             "endlinecolor": "#2a3f5f",
             "gridcolor": "white",
             "linecolor": "white",
             "minorgridcolor": "white",
             "startlinecolor": "#2a3f5f"
            },
            "baxis": {
             "endlinecolor": "#2a3f5f",
             "gridcolor": "white",
             "linecolor": "white",
             "minorgridcolor": "white",
             "startlinecolor": "#2a3f5f"
            },
            "type": "carpet"
           }
          ],
          "choropleth": [
           {
            "colorbar": {
             "outlinewidth": 0,
             "ticks": ""
            },
            "type": "choropleth"
           }
          ],
          "contour": [
           {
            "colorbar": {
             "outlinewidth": 0,
             "ticks": ""
            },
            "colorscale": [
             [
              0,
              "#0d0887"
             ],
             [
              0.1111111111111111,
              "#46039f"
             ],
             [
              0.2222222222222222,
              "#7201a8"
             ],
             [
              0.3333333333333333,
              "#9c179e"
             ],
             [
              0.4444444444444444,
              "#bd3786"
             ],
             [
              0.5555555555555556,
              "#d8576b"
             ],
             [
              0.6666666666666666,
              "#ed7953"
             ],
             [
              0.7777777777777778,
              "#fb9f3a"
             ],
             [
              0.8888888888888888,
              "#fdca26"
             ],
             [
              1,
              "#f0f921"
             ]
            ],
            "type": "contour"
           }
          ],
          "contourcarpet": [
           {
            "colorbar": {
             "outlinewidth": 0,
             "ticks": ""
            },
            "type": "contourcarpet"
           }
          ],
          "heatmap": [
           {
            "colorbar": {
             "outlinewidth": 0,
             "ticks": ""
            },
            "colorscale": [
             [
              0,
              "#0d0887"
             ],
             [
              0.1111111111111111,
              "#46039f"
             ],
             [
              0.2222222222222222,
              "#7201a8"
             ],
             [
              0.3333333333333333,
              "#9c179e"
             ],
             [
              0.4444444444444444,
              "#bd3786"
             ],
             [
              0.5555555555555556,
              "#d8576b"
             ],
             [
              0.6666666666666666,
              "#ed7953"
             ],
             [
              0.7777777777777778,
              "#fb9f3a"
             ],
             [
              0.8888888888888888,
              "#fdca26"
             ],
             [
              1,
              "#f0f921"
             ]
            ],
            "type": "heatmap"
           }
          ],
          "heatmapgl": [
           {
            "colorbar": {
             "outlinewidth": 0,
             "ticks": ""
            },
            "colorscale": [
             [
              0,
              "#0d0887"
             ],
             [
              0.1111111111111111,
              "#46039f"
             ],
             [
              0.2222222222222222,
              "#7201a8"
             ],
             [
              0.3333333333333333,
              "#9c179e"
             ],
             [
              0.4444444444444444,
              "#bd3786"
             ],
             [
              0.5555555555555556,
              "#d8576b"
             ],
             [
              0.6666666666666666,
              "#ed7953"
             ],
             [
              0.7777777777777778,
              "#fb9f3a"
             ],
             [
              0.8888888888888888,
              "#fdca26"
             ],
             [
              1,
              "#f0f921"
             ]
            ],
            "type": "heatmapgl"
           }
          ],
          "histogram": [
           {
            "marker": {
             "pattern": {
              "fillmode": "overlay",
              "size": 10,
              "solidity": 0.2
             }
            },
            "type": "histogram"
           }
          ],
          "histogram2d": [
           {
            "colorbar": {
             "outlinewidth": 0,
             "ticks": ""
            },
            "colorscale": [
             [
              0,
              "#0d0887"
             ],
             [
              0.1111111111111111,
              "#46039f"
             ],
             [
              0.2222222222222222,
              "#7201a8"
             ],
             [
              0.3333333333333333,
              "#9c179e"
             ],
             [
              0.4444444444444444,
              "#bd3786"
             ],
             [
              0.5555555555555556,
              "#d8576b"
             ],
             [
              0.6666666666666666,
              "#ed7953"
             ],
             [
              0.7777777777777778,
              "#fb9f3a"
             ],
             [
              0.8888888888888888,
              "#fdca26"
             ],
             [
              1,
              "#f0f921"
             ]
            ],
            "type": "histogram2d"
           }
          ],
          "histogram2dcontour": [
           {
            "colorbar": {
             "outlinewidth": 0,
             "ticks": ""
            },
            "colorscale": [
             [
              0,
              "#0d0887"
             ],
             [
              0.1111111111111111,
              "#46039f"
             ],
             [
              0.2222222222222222,
              "#7201a8"
             ],
             [
              0.3333333333333333,
              "#9c179e"
             ],
             [
              0.4444444444444444,
              "#bd3786"
             ],
             [
              0.5555555555555556,
              "#d8576b"
             ],
             [
              0.6666666666666666,
              "#ed7953"
             ],
             [
              0.7777777777777778,
              "#fb9f3a"
             ],
             [
              0.8888888888888888,
              "#fdca26"
             ],
             [
              1,
              "#f0f921"
             ]
            ],
            "type": "histogram2dcontour"
           }
          ],
          "mesh3d": [
           {
            "colorbar": {
             "outlinewidth": 0,
             "ticks": ""
            },
            "type": "mesh3d"
           }
          ],
          "parcoords": [
           {
            "line": {
             "colorbar": {
              "outlinewidth": 0,
              "ticks": ""
             }
            },
            "type": "parcoords"
           }
          ],
          "pie": [
           {
            "automargin": true,
            "type": "pie"
           }
          ],
          "scatter": [
           {
            "fillpattern": {
             "fillmode": "overlay",
             "size": 10,
             "solidity": 0.2
            },
            "type": "scatter"
           }
          ],
          "scatter3d": [
           {
            "line": {
             "colorbar": {
              "outlinewidth": 0,
              "ticks": ""
             }
            },
            "marker": {
             "colorbar": {
              "outlinewidth": 0,
              "ticks": ""
             }
            },
            "type": "scatter3d"
           }
          ],
          "scattercarpet": [
           {
            "marker": {
             "colorbar": {
              "outlinewidth": 0,
              "ticks": ""
             }
            },
            "type": "scattercarpet"
           }
          ],
          "scattergeo": [
           {
            "marker": {
             "colorbar": {
              "outlinewidth": 0,
              "ticks": ""
             }
            },
            "type": "scattergeo"
           }
          ],
          "scattergl": [
           {
            "marker": {
             "colorbar": {
              "outlinewidth": 0,
              "ticks": ""
             }
            },
            "type": "scattergl"
           }
          ],
          "scattermapbox": [
           {
            "marker": {
             "colorbar": {
              "outlinewidth": 0,
              "ticks": ""
             }
            },
            "type": "scattermapbox"
           }
          ],
          "scatterpolar": [
           {
            "marker": {
             "colorbar": {
              "outlinewidth": 0,
              "ticks": ""
             }
            },
            "type": "scatterpolar"
           }
          ],
          "scatterpolargl": [
           {
            "marker": {
             "colorbar": {
              "outlinewidth": 0,
              "ticks": ""
             }
            },
            "type": "scatterpolargl"
           }
          ],
          "scatterternary": [
           {
            "marker": {
             "colorbar": {
              "outlinewidth": 0,
              "ticks": ""
             }
            },
            "type": "scatterternary"
           }
          ],
          "surface": [
           {
            "colorbar": {
             "outlinewidth": 0,
             "ticks": ""
            },
            "colorscale": [
             [
              0,
              "#0d0887"
             ],
             [
              0.1111111111111111,
              "#46039f"
             ],
             [
              0.2222222222222222,
              "#7201a8"
             ],
             [
              0.3333333333333333,
              "#9c179e"
             ],
             [
              0.4444444444444444,
              "#bd3786"
             ],
             [
              0.5555555555555556,
              "#d8576b"
             ],
             [
              0.6666666666666666,
              "#ed7953"
             ],
             [
              0.7777777777777778,
              "#fb9f3a"
             ],
             [
              0.8888888888888888,
              "#fdca26"
             ],
             [
              1,
              "#f0f921"
             ]
            ],
            "type": "surface"
           }
          ],
          "table": [
           {
            "cells": {
             "fill": {
              "color": "#EBF0F8"
             },
             "line": {
              "color": "white"
             }
            },
            "header": {
             "fill": {
              "color": "#C8D4E3"
             },
             "line": {
              "color": "white"
             }
            },
            "type": "table"
           }
          ]
         },
         "layout": {
          "annotationdefaults": {
           "arrowcolor": "#2a3f5f",
           "arrowhead": 0,
           "arrowwidth": 1
          },
          "autotypenumbers": "strict",
          "coloraxis": {
           "colorbar": {
            "outlinewidth": 0,
            "ticks": ""
           }
          },
          "colorscale": {
           "diverging": [
            [
             0,
             "#8e0152"
            ],
            [
             0.1,
             "#c51b7d"
            ],
            [
             0.2,
             "#de77ae"
            ],
            [
             0.3,
             "#f1b6da"
            ],
            [
             0.4,
             "#fde0ef"
            ],
            [
             0.5,
             "#f7f7f7"
            ],
            [
             0.6,
             "#e6f5d0"
            ],
            [
             0.7,
             "#b8e186"
            ],
            [
             0.8,
             "#7fbc41"
            ],
            [
             0.9,
             "#4d9221"
            ],
            [
             1,
             "#276419"
            ]
           ],
           "sequential": [
            [
             0,
             "#0d0887"
            ],
            [
             0.1111111111111111,
             "#46039f"
            ],
            [
             0.2222222222222222,
             "#7201a8"
            ],
            [
             0.3333333333333333,
             "#9c179e"
            ],
            [
             0.4444444444444444,
             "#bd3786"
            ],
            [
             0.5555555555555556,
             "#d8576b"
            ],
            [
             0.6666666666666666,
             "#ed7953"
            ],
            [
             0.7777777777777778,
             "#fb9f3a"
            ],
            [
             0.8888888888888888,
             "#fdca26"
            ],
            [
             1,
             "#f0f921"
            ]
           ],
           "sequentialminus": [
            [
             0,
             "#0d0887"
            ],
            [
             0.1111111111111111,
             "#46039f"
            ],
            [
             0.2222222222222222,
             "#7201a8"
            ],
            [
             0.3333333333333333,
             "#9c179e"
            ],
            [
             0.4444444444444444,
             "#bd3786"
            ],
            [
             0.5555555555555556,
             "#d8576b"
            ],
            [
             0.6666666666666666,
             "#ed7953"
            ],
            [
             0.7777777777777778,
             "#fb9f3a"
            ],
            [
             0.8888888888888888,
             "#fdca26"
            ],
            [
             1,
             "#f0f921"
            ]
           ]
          },
          "colorway": [
           "#636efa",
           "#EF553B",
           "#00cc96",
           "#ab63fa",
           "#FFA15A",
           "#19d3f3",
           "#FF6692",
           "#B6E880",
           "#FF97FF",
           "#FECB52"
          ],
          "font": {
           "color": "#2a3f5f"
          },
          "geo": {
           "bgcolor": "white",
           "lakecolor": "white",
           "landcolor": "#E5ECF6",
           "showlakes": true,
           "showland": true,
           "subunitcolor": "white"
          },
          "hoverlabel": {
           "align": "left"
          },
          "hovermode": "closest",
          "mapbox": {
           "style": "light"
          },
          "paper_bgcolor": "white",
          "plot_bgcolor": "#E5ECF6",
          "polar": {
           "angularaxis": {
            "gridcolor": "white",
            "linecolor": "white",
            "ticks": ""
           },
           "bgcolor": "#E5ECF6",
           "radialaxis": {
            "gridcolor": "white",
            "linecolor": "white",
            "ticks": ""
           }
          },
          "scene": {
           "xaxis": {
            "backgroundcolor": "#E5ECF6",
            "gridcolor": "white",
            "gridwidth": 2,
            "linecolor": "white",
            "showbackground": true,
            "ticks": "",
            "zerolinecolor": "white"
           },
           "yaxis": {
            "backgroundcolor": "#E5ECF6",
            "gridcolor": "white",
            "gridwidth": 2,
            "linecolor": "white",
            "showbackground": true,
            "ticks": "",
            "zerolinecolor": "white"
           },
           "zaxis": {
            "backgroundcolor": "#E5ECF6",
            "gridcolor": "white",
            "gridwidth": 2,
            "linecolor": "white",
            "showbackground": true,
            "ticks": "",
            "zerolinecolor": "white"
           }
          },
          "shapedefaults": {
           "line": {
            "color": "#2a3f5f"
           }
          },
          "ternary": {
           "aaxis": {
            "gridcolor": "white",
            "linecolor": "white",
            "ticks": ""
           },
           "baxis": {
            "gridcolor": "white",
            "linecolor": "white",
            "ticks": ""
           },
           "bgcolor": "#E5ECF6",
           "caxis": {
            "gridcolor": "white",
            "linecolor": "white",
            "ticks": ""
           }
          },
          "title": {
           "x": 0.05
          },
          "xaxis": {
           "automargin": true,
           "gridcolor": "white",
           "linecolor": "white",
           "ticks": "",
           "title": {
            "standoff": 15
           },
           "zerolinecolor": "white",
           "zerolinewidth": 2
          },
          "yaxis": {
           "automargin": true,
           "gridcolor": "white",
           "linecolor": "white",
           "ticks": "",
           "title": {
            "standoff": 15
           },
           "zerolinecolor": "white",
           "zerolinewidth": 2
          }
         }
        },
        "xaxis": {
         "anchor": "y",
         "domain": [
          0,
          1
         ],
         "title": {
          "text": "Pos. found"
         }
        },
        "yaxis": {
         "anchor": "x",
         "domain": [
          0,
          1
         ],
         "title": {
          "text": "Probability density"
         }
        }
       }
      },
      "text/html": [
       "<div>                            <div id=\"b2760ddd-7cae-44db-85ba-63ef11ef02d5\" class=\"plotly-graph-div\" style=\"height:525px; width:100%;\"></div>            <script type=\"text/javascript\">                require([\"plotly\"], function(Plotly) {                    window.PLOTLYENV=window.PLOTLYENV || {};                                    if (document.getElementById(\"b2760ddd-7cae-44db-85ba-63ef11ef02d5\")) {                    Plotly.newPlot(                        \"b2760ddd-7cae-44db-85ba-63ef11ef02d5\",                        [{\"alignmentgroup\":\"True\",\"bingroup\":\"x\",\"histnorm\":\"probability density\",\"hovertemplate\":\"x=%{x}<br>probability density=%{y}<extra></extra>\",\"legendgroup\":\"\",\"marker\":{\"color\":\"#636efa\",\"pattern\":{\"shape\":\"\"}},\"name\":\"\",\"nbinsx\":50,\"offsetgroup\":\"\",\"orientation\":\"v\",\"showlegend\":false,\"x\":[0,0,0,5,0,12,0,0,0,0,0,0,4,0,13,1,1,1,7,2,0,0,0,1,0,0,0,0,0,0,0,0,0,2,0,0,0,0,0,1,0,0,0,0,1,0,0,0,0,3,0,0,3,5,0,0,2,0,5,3,0,0,0,6,0,0,0,2,0,0,0,0,5,0,2,0,0,1,2,0,0,0,0,0,0,0,0,0,0,7,0,0,1,68,0,0,0,0,0,12,0,0,0,0,69,0,0,3,27,1,24,0,0,0,0,0,0,4,0,10,0,1,1,2,0,0,0,0,1,0,0,6,4,5,17,0,2,0,0,2,0,0,0,0,2,1,0,0,5,4,2,8,168,3,17,4,32,17,0,2,0,1,0,0,1,0,0,0,0,0,0,0,0,0,0,0,0,0,0,0,0,0,0,0,0,0,0,16,0,0,0,0,0,2,4,5,0,0,0,0,0,0,0,0,127,0,0,1,0,1,0,0,2,11,96,0,0,0,2,5,0,0,0,0,1,0,0,0,1,0,1,0,0,0,0,0,0,0,3,0,0,0,0,0,0,0,0,0,7,22,0,0,0,2,2,0,0,0,0,0,0,52,2,28,11,0,4,0,1,0,0,0,0,1,0,0,0,0,0,1,0,0,0,0,0,0,0,29,79,37,0,9,1,0,0,0,0,0,0,2,0,0,0,0,0,0,0,1,0,0,0,0,0,0,24,0,56,82,17,69,0,3,0,0,0,1,42,1,18,21,0,0,41,18,40,2,0,0,8,0,0,0,0,0,2,0,0,2,0,0,30,3,0,0,1,0,0,0,0,0,0,0,0,0,3,0,0,38,2,0,0,1,0,0,1,0,0,0,28,1,3,0,3,0,33,13,2,0,1,0,0,54,0,0,1,0,0,0,0,0,0,13,2,1,18,0,0,2,1,8,12,0,0,0,2,0,14,14,0,0,0,4,0,17,3,0,0,0,0,4,0,2,0,0,1,1,0,1,5,1,0,0,0,0,0,0,0,1,3,0,0,0,0,0,0,0,0,0,0,0,0,0,6,0,0,0,0,0,0,1,0,0,0,0,1,0,0,0,0,2,0,0,0,0,0,0,0,0,0,0,0,0,0,0,0,1,0,0,0,0,0,1,1,0,9,0,0,0,0,0,0,0,0,1,0,0,0,233,4,0,0,0,0,0,0,0,0,0,0,0,0,0,0,0,0,0,0,0,0,0,0,0,0,0,0,0,0,0,2,0,9,0,0,0,0,1,0,11,11,1,15,2,8,0,64,1,0,0,0,0,0,0,2,0,0,0,0,0,0,4,0,0,0,0,0,0,0,0,0,0,0,1,0,3,0,1,0,1,1,2,3,0,0,0,0,0,0,0,0,0,0,0,0,0,5,0,0,0,0,0,0,0,0,1,0,0,0,0,6,0,0,0,3,0,0,0,0,0,0,1,3,1,1,0,0,0,0,0,0,0,4,2,0,0,0,0,0,0,2,0,0,0,0,0,8,0,0,0,0,1,0,0,0,0,0,0,0,0,0,0,0,0,78,0,1,1,0,0,0,0,0,0,5,0,0,0,0,1,0,0,0,0,0,0,0,0,2,0,1,10,0,0,0,0,0,0,0,2,0,0,0,0,0,0,16,0,0,0,4,19,0,0,0,3,2,0,74,0,0,0,0,0,0,0,0,0,0,3,0,0,10,0,3,0,0,0,0,0,0,2,3,2,1,13,0,0,0,0,0,0,0,0,0,0,0,1,10,1,0,2,0,0,0,0,0,0,12,0,1,0,0,0,0,76,14,0,31,0,14,2,0,0,0,0,2,0,0,0,2,1,0,0,0,0,2,0,0,0,0,0,0,0,1,0,0,0,0,9,5,8,1,1,0,0,1,0,0,0,0,0,1,12,3,7,50,0,0,0,28,0,0,0,5,0,0,0,0,0,0,0,0,0,0,0,0,0,0,0,0,1,0,0,-1,-1,0,0,0,0,0,5,0,0,1,0,0,1,1,0,0,0,0,0,0,0,0,0,3,0,0,2,0,0,0,0,0,0,2,0,0,2,1,0,0,2,1,2,2,5,77,0,0,47,0,2,48,0,16,3,0,0,0,246,0,6,57,204,12,0,0,0,0,1,0,1,2,60,0,0,0,2,0,0,0,0,0,1,0,0,0,0,0,0,0,0,0,0,0,0,0,0,0,0,9,1,11,0,0,0,0,0,14,0,0,0,0,34,1,0,0,0,0,0,1,0,0,265,1,5,3,0,1,0,0,3,0,0,0,0,2,0,1,0,0,0,0,0,0,0,0,0,195,0,0,4,225,49,0,0,0,32,0,0,0,0,0,0,0,0,0,11,3,0,0,0,0,0,0,0,0,0,0,1,0,0,0,56,0,0,0,35,1,0,1,0,0,20,0,0,0,0,11,0,0,0,0,0,0,0,0,0,0,1,0,0,0,0,1,0,11,7,244,1,50,2,1,0,0,0,0,0,0,0,0,0,0,1,0,0,0,0,0,0,0,0,0,0,0,0,19,0,1,0,0,0,0,0,0,0,0,0,0,0,0,0,0,0,0,0,0,0,2,0,0,0,0,0,0,0,1,0,0,0,0,0,0,0,0,0,0,0,0,0,3,0,0,0,0,0,0,0,0,0,0,0,0,0,0,0,0,0,0,0,0,0,6,0,1,0,0,2,0,0,1,0,0,0,0,0,0,0,0,0,0,0,1,0,0,0,0,2,20,34,47,0,0,0,0,0,2,0,0,0,0,0,0,0,0,0,0,0,0,0,0,0,0,1,0,0,0,0,0,18,3,0,1,0,0,0,0,0,0,0,0,0,0,0,0,0,0,0,0,0,0,97,0,0,1,0,0,0,0,0,0,0,0,0,0,0,0,0,0,0,0,0,0,0,0,0,1,0,0,0,1,0,0,0,0,0,0,0,0,0,0,1,3,0,0,2,1,0,0,1,0,79,5,0,0,2,1,0,0,0,0,0,0,0,4,0,6,0,0,0,0,0,0,0,1,0,36,0,0,0,5,0,0,0,0,0,0,0,0,0,0,0,0,0,0,0,2,0,1,8,7,5,2,1,0,0,0,0,0,0,0,0,0,0,0,0,0,0,0,0,0,53,0,0,0,0,0,0,0,0,0,3,3,0,5,0,1,0,0,0,0,0,5,0,0,0,0,0,0,0,0,0,0,0,0,0,0,5,6,0,0,0,0,0,0,119,0,0,0,0,0,2,0,0,0,0,0,0,0,0,0,0,0,0,0,0,0,0,1,0,0,9,0,0,0,0,1,0,0,0,0,1,0,0,0,2,0,0,0,0,1,0,0,0,1,1,0,0,0,1,2,67,62,0,0,153,0,0,0,0,25,0,0,1,0,0,0,0,0,0,0,0,0,0,0,0,0,0,0,0,0,0,0,0,0,0,0,0,0,45,0,0,0,0,0,0,0,3,0,0,0,0,0,0,0,0,0,0,0,0,0,0,0,0,0,0,1,0,0,4,0,0,0,0,0,1,1,0,17,0,5,74,0,0,3,1,5,0,0,0,0,2,1,0,0,0,-1,0,0,9,4,5,0,0,0,0,0,0,0,0,0,0,18,0,174,5,0,0,0,0,0,1,0,0,0,0,1,0,0,0,0,0,0,0,0,0,0,0,1,1,101,63,0,26,0,7,2,0,1,0,3,121,0,0,0,0,0,0,0,0,0,3,0,0,0,0,0,0,0,0,0,0,0,0,0,0,48,0,0,7,1,0,0,0,0,0,0,0,0,0,0,0,0,0,21,0,0,0,1,0,0,0,0,0,34,3,0,0,0,0,0,1,0,0,14,1,0,0,2,0,0,0,0,0,0,0,1,0,0,18,0,3,0,1,4,1,0,0,0,10,0,0,1,0,0,1,0,2,0,4,0,0,0,0,0,0,0,0,0,0,0,0,0,0,0,0,0,0,0,0,0,0,2,2,0,9,0,0,0,0,7,0,0,0,2,1,0,0,0,0,0,0,0,0,0,0,0,0,0,0,3,0,0,0,2,0,0,0,0,0,0,0,1,0,0,0,0,0,0,6,1,0,100,21,0,0,0,0,0,0,0,0,65,13,2,44,0,0,0,3,0,0,0,0,2,0,0,0,0,0,0,0,128,0,0,0,1,0,9,0,0,0,0,0,0,0,0,0,0,0,147,210,0,35,0,1,0,0,37,0,0,0,84,20,0,5,0,0,0,0,1,1,1,0,0,0,0,0,0,0,0,0,0,0,0,1,1,1,3,0,0,0,3,1,0,0,1,0,0,0,1,0,0,0,0,0,0,0,1,0,0,3,0,77,0,0,0,0,1,0,0,0,0,0,0,0,0,0,0,0,1,0,0,6,0,0,0,3,116,0,0,20,2,150,0,0,0,0,3,0,0,0,2,13,0,0,0,0,0,0,0,0,0,0,0,0,0,1,0,1,93,1,0,0,0,0,0,0,1,0,0,0,0,5,0,2,1,9,12,0,0,0,0,0,146,1,2,0,186,1,0,0,0,0,0,0,6,0,0,0,0,0,56,0,0,0,0,0,0,0,0,13,1,155,0,0,0,0,1,1,0,1,0,0,0,0,0,0,0,0,0,0,0,8,3,5,0,0,0,7,6,11,35,1,3,20,13,6,22,18,11,12,1,2,1,4,0,1,201,0,9,0,5,145,0,0,2,0,15,1,0,0,24,0,0,0,0,0,0,0,0,0,0,30,0,0,0,0,0,0,0,1,0,50,0,0,0,0,48,0,0,0,0,0,0,0,0,0,11,0,0,0,0,0,0,14,9,239,0,14,4,1,1,0,0,0,0,0,0,0,3,0,1,0,0,0,0,0,0,0,0,0,1,1,1,2,0,0,0,0,16,1,0,0,0,0,0,0,0,0,0,0,0,0,0,0,0,0,0,1,0,0,0,0,0,0,1,0,0,0,0,0,0,0,0,102,17,0,4,0,0,5,0,0,31,0,0,0,9,3,0,0,0,0,0,0,1,4,1,49,13,0,1,1,0,28,21,0,0,0,0,0,0,5,0,0,0,1,0,6,0,1,0,0,0,0,67,0,0,0,0,0,0,0,0,2,6,0,0,0,0,0,0,0,2,20,3,0,3,22,8,9,0,1,0,0,27,0,6,1,34,3,0,0,0,0,0,0,0,0,0,0,0,0,0,5,0,0,0,1,0,0,0,0,0,0,15,0,0,0,0,0,0,0,0,0,0,0,0,0,2,0,0,1,0,0,2,0,1,0,0,0,0,2,0,0,2,0,0,2,0,0,0,0,0,0,0,0,0,0,0,0,0,0,0,0,0,0,0,0,0,0,0,0,0,0,0,0,0,16,0,3,0,1,0,0,0,0,0,0,23,0,0,0,0,0,0,19,0,0,0,43,0,0,0,0,0,0,1,4,0,1,0,0,0,0,77,0,0,0,0,0,0,0,1,0,0,0,0,0,0,0,0,0,0,0,0,0,2,0,2,0,0,0,0,0,0,11,27,0,0,0,0,0,0,0,0,0,0,0,0,0,0,0,0,0,0,0,0,0,0,3,0,0,1,0,1,0,0,0,0,0,0,0,0,1,0,0,0,1,1,1,0,0,1,11,1,0,4,0,0,0,0,0,0,0,0,1,0,0,0,0,1,0,0,32,10,0,111,106,2,0,0,0,0,0,0,0,0,0,17,0,0,0,0,0,0,1,0,7,4,0,0,0,0,0,0,9,0,0,0,0,0,0,0,2,0,0,0,1,2,0,0,0,0,0,67,0,52,1,3,0,0,0,0,0,0,0,0,0,0,0,17,5,2,0,0,0,3,4,0,1,1,0,0,0,0,0,0,0,0,0,0,0,12,0,0,0,0,0,0,0,0,0,1,0,0,0,0,38,0,0,103,61,7,0,0,0,9,16,0,0,0,5,0,0,0,0,0,0,0,0,9,0,2,0,0,0,0,0,0,0,6,0,0,0,1,1,1,0,0,0,0,0,0,0,0,12,0,5,0,0,0,0,18,0,0,6,0,0,2,2,1,2,174,0,0,0,0,0,0,0,0,0,1,0,0,0,0,0,0,35,0,0,0,0,0,0,0,0,6,0,0,7,0,0,0,0,0,52,0,0,0,0,2,0,0,0,2,1,0,0,73,4,8,0,0,3,2,9,0,2,1,0,0,0,0,0,0,1,3,1,14,26,1,0,0,0,3,0,0,0,0,0,144,0,0,0,0,0,1,0,0,0,0,3,0,6,1,7,0,0,0,0,4,0,69,0,1,12,1,0,0,0,10,0,0,0,1,3,0,0,0,0,1,0,0,0,0,0,0,0,2,1,0,0,0,0,0,0,0,0,0,0,0,0,0,0,0,0,3,0,5,0,0,0,1,0,0,16,0,0,0,0,0,0,0,0,1,0,0,0,20,1,0,0,0,0,0,0,0,0,0,0,0,0,3,94,5,1,8,3,2,15,1,0,0,0,0,0,0,0,0,0,0,1,0,0,0,0,0,0,0,0,15,6,11,1,0,1,0,0,0,0,0,0,0,2,1,0,0,0,0,0,0,0,2,11,0,0,1,0,0,3,0,0,0,0,5,0,0,2,1,0,1,0,0,0,2,19,1,1,5,22,0,0,0,7,0,0,4,0,0,0,0,1,17,0,0,6,6,7,1,0,0,0,1,0,0,0,0,4,0,0,1,1,0,0,0,0,2,0,46,19,10,0,2,0,0,0,15,0,0,0,0,0,0,0,0,0,0,0,0,0,0,0,0,0,0,0,0,0,0,0,0,0,0,0,0,0,0,0,0,0,0,0,0,0,0,93,0,0,0,0,0,0,0,0,0,0,2,6,0,0,0,0,0,0,0,3,0,0,0,0,0,0,0,0,0,0,0,1,27,0,0,0,7,0,43,2,0,0,0,0,0,0,1,0,0,0,0,0,0,0,21,1,0,0,5,0,5,0,-1,5,1,39,0,0,0,1,16,0,0,0,23,2,2,0,2,28,81,0,0,0,0,0,0,0,0,0,0,0,0,0,3,0,1,0,13,9,8,1,13,0,0,27,0,1,4,2,0,0,0,0,0,0,0,0,0,0,0,0,0,0,0,0,0,0,0,85,1,0,1,2,0,0,0,0,0,0,0,0,0,0,0,10,0,0,0,6,34,0,0,0,2,8,0,0,0,191,0,0,0,4,0,0,0,0,0,0,0,0,0,37,1,9,0,0,0,0,0,0,0,0,0,0,0,0,0,0,0,0,0,1,6,5,0,0,0,0,3,0,0,0,0,9,0,0,0,0,0,0,0,0,0,0,0,0,0,0,0,0,0,0,0,0,0,0,1,0,0,0,0,4,0,280,5,1,96,0,12,0,4,4,12,1,0,0,0,14,1,0,0,153,87,0,20,13,12,6,0,12,5,0,0,0,0,0,0,0,0,0,0,0,0,0,0,0,0,0,18,0,0,0,0,0,0,0,8,0,0,0,9,0,28,0,20,1,3,0,0,0,0,0,1,0,0,0,0,-1,0,0,0,0,5,0,11,115,0,0,0,0,0,0,6,0,0,0,0,0,1,0,0,0,0,0,0,1,0,0,0,0,0,1,78,7,0,3,0,0,0,1,0,0,0,0,0,0,0,0,0,0,0,0,0,0,0,0,0,0,0,0,0,0,0,0,1,0,0,1,1,0,7,4,0,0,0,-1,2,0,0,0,0,0,0,1,0,2,0,105,0,0,0,0,1,0,0,8,0,54,0,1,0,36,0,0,0,31,2,1,0,3,0,0,1,2,139,0,0,3,6,1,1,0,0,0,0,0,0,0,2,2,6,0,0,0,0,0,0,0,0,0,0,0,7,0,0,2,0,0,0,0,1,1,0,0,0,0,0,0,0,0,0,0,0,0,0,0,14,0,0,0,0,0,0,0,1,0,0,0,0,4,9,43,0,0,1,0,5,4,0,0,0,1,0,0,0,0,0,0,0,0,0,0,0,2,0,0,0,4,20,2,2,3,0,0,1,0,0,0,0,0,1,0,0,0,7,1,0,1,0,0,0,5,0,0,0,0,7,0,0,-1,1,27,1,0,2,0,132,0,0,0,0,0,1,0,0,0,0,0,0,152,2,7,0,0,0,67,0,0,0,0,0,0,0,0,1,0,3,0,0,0,0,1,0,22,1,0,128,0,0,0,0,0,0,0,0,0,0,0,0,1,0,43,0,0,0,0,0,0,0,1,0,0,0,0,0,2,1,0,0,0,0,0,1,42,27,1,0,0,1,0,1,11,0,0,0,5,0,0,0,0,1,0,0,0,0,0,0,0,0,0,1,0,0,0,10,0,0,1,0,0,0,0,4,0,0,0,0,5,0,0,0,0,0,0,0,0,0,0,0,0,0,0,0,0,0,154,0,8,0,17,0,0,0,0,1,1,0,0,0,0,0,0,0,0,0,0,0,0,2,14,87,0,0,0,10,0,0,1,0,0,0,0,1,1,8,0,0,0,0,0,0,0,0,0,1,0,0,0,0,0,0,0,0,0,0,0,0,0,0,0,2,0,0,0,0,0,0,0,124,1,-1,-1,0,0,0,0,0,0,0,2,122,0,0,0,1,0,0,0,0,3,177,1,0,0,66,8,0,2,0,0,0,1,0,1,0,32,0,0,0,6,4,0,0,0,14,6,0,0,0,0,0,0,0,0,0,0,0,0,0,0,0,0,0,0,0,0,0,55,3,150,3,1,0,8,36,0,0,5,10,6,0,0,0,1,152,0,0,0,1,0,0,0,0,0,0,0,0,0,0,0,1,0,0,0,2,0,0,0,0,20,1,1,1,1,0,1,0,0,1,24,0,0,0,0,0,0,0,0,0,0,0,0,0,0,0,0,0,0,0,1,0,1,12,1,55,0,0,0,0,0,0,0,0,0,0,0,0,0,0,1,0,0,0,0,1,0,0,0,0,0,0,0,0,0,2,6,1,0,0,8,0,0,0,0,0],\"xaxis\":\"x\",\"yaxis\":\"y\",\"type\":\"histogram\"},{\"name\":\"Expon. distr.\",\"x\":[-1.0,0.007168458781362075,1.0143369175627241,2.021505376344086,3.0286738351254483,4.035842293906811,5.043010752688172,6.050179211469534,7.057347670250897,8.064516129032258,9.071684587813621,10.078853046594983,11.086021505376344,12.093189964157707,13.100358422939069,14.107526881720432,15.114695340501793,16.121863799283155,17.129032258064516,18.13620071684588,19.143369175627242,20.150537634408604,21.157706093189965,22.164874551971327,23.172043010752688,24.179211469534053,25.186379928315414,26.193548387096776,27.200716845878137,28.2078853046595,29.215053763440864,30.222222222222225,31.229390681003586,32.23655913978495,33.24372759856631,34.250896057347674,35.25806451612903,36.2652329749104,37.27240143369176,38.27956989247312,39.286738351254485,40.29390681003584,41.30107526881721,42.30824372759857,43.31541218637993,44.322580645161295,45.32974910394265,46.33691756272402,47.344086021505376,48.35125448028674,49.358422939068106,50.365591397849464,51.37275985663083,52.37992831541219,53.38709677419355,54.39426523297492,55.401433691756274,56.40860215053764,57.415770609319,58.42293906810036,59.43010752688173,60.437275985663085,61.44444444444445,62.45161290322581,63.45878136200717,64.46594982078854,65.4731182795699,66.48028673835125,67.48745519713262,68.49462365591398,69.50179211469535,70.50896057347671,71.51612903225806,72.52329749103943,73.5304659498208,74.53763440860216,75.54480286738352,76.55197132616487,77.55913978494624,78.5663082437276,79.57347670250897,80.58064516129033,81.58781362007169,82.59498207885305,83.60215053763442,84.60931899641578,85.61648745519715,86.6236559139785,87.63082437275986,88.63799283154123,89.64516129032259,90.65232974910396,91.6594982078853,92.66666666666667,93.67383512544804,94.6810035842294,95.68817204301075,96.69534050179212,97.70250896057348,98.70967741935485,99.71684587813621,100.72401433691756,101.73118279569893,102.73835125448029,103.74551971326166,104.75268817204302,105.75985663082437,106.76702508960574,107.7741935483871,108.78136200716847,109.78853046594983,110.79569892473118,111.80286738351255,112.81003584229391,113.81720430107528,114.82437275985664,115.831541218638,116.83870967741936,117.84587813620072,118.85304659498209,119.86021505376345,120.8673835125448,121.87455197132617,122.88172043010753,123.8888888888889,124.89605734767026,125.90322580645162,126.91039426523298,127.91756272401435,128.9247311827957,129.93189964157708,130.93906810035844,131.9462365591398,132.95340501792114,133.9605734767025,134.96774193548387,135.97491039426524,136.9820788530466,137.98924731182797,138.99641577060933,140.0035842293907,141.01075268817206,142.01792114695343,143.02508960573476,144.03225806451613,145.0394265232975,146.04659498207886,147.05376344086022,148.0609318996416,149.06810035842295,150.07526881720432,151.08243727598568,152.08960573476705,153.09677419354838,154.10394265232975,155.11111111111111,156.11827956989248,157.12544802867384,158.1326164874552,159.13978494623657,160.14695340501794,161.1541218637993,162.16129032258067,163.168458781362,164.17562724014337,165.18279569892474,166.1899641577061,167.19713261648747,168.20430107526883,169.2114695340502,170.21863799283156,171.22580645161293,172.2329749103943,173.24014336917563,174.247311827957,175.25448028673836,176.26164874551972,177.2688172043011,178.27598566308245,179.28315412186382,180.29032258064518,181.29749103942655,182.3046594982079,183.31182795698925,184.3189964157706,185.32616487455198,186.33333333333334,187.3405017921147,188.34767025089607,189.35483870967744,190.3620071684588,191.36917562724017,192.3763440860215,193.38351254480287,194.39068100358423,195.3978494623656,196.40501792114696,197.41218637992833,198.4193548387097,199.42652329749106,200.43369175627242,201.4408602150538,202.44802867383513,203.4551971326165,204.46236559139786,205.46953405017922,206.47670250896059,207.48387096774195,208.49103942652332,209.49820788530468,210.50537634408605,211.5125448028674,212.51971326164875,213.5268817204301,214.53405017921148,215.54121863799284,216.5483870967742,217.55555555555557,218.56272401433694,219.5698924731183,220.57706093189967,221.58422939068103,222.59139784946237,223.59856630824373,224.6057347670251,225.61290322580646,226.62007168458783,227.6272401433692,228.63440860215056,229.64157706093192,230.6487455197133,231.65591397849465,232.663082437276,233.67025089605735,234.67741935483872,235.68458781362008,236.69175627240145,237.6989247311828,238.70609318996418,239.71326164874554,240.7204301075269,241.72759856630827,242.7347670250896,243.74193548387098,244.74910394265234,245.7562724014337,246.76344086021507,247.77060931899643,248.7777777777778,249.78494623655916,250.79211469534053,251.7992831541219,252.80645161290323,253.8136200716846,254.82078853046596,255.82795698924735,256.8351254480287,257.84229390681,258.8494623655914,259.85663082437276,260.86379928315415,261.8709677419355,262.8781362007169,263.8853046594982,264.8924731182796,265.89964157706095,266.9068100358423,267.9139784946237,268.921146953405,269.9283154121864,270.93548387096774,271.94265232974914,272.9498207885305,273.95698924731187,274.9641577060932,275.9713261648746,276.97849462365593,277.98566308243727,278.99283154121866,280.0],\"y\":[0.1251564455569462,0.11033386383016863,0.09726675644647662,0.08574721831713215,0.07559196705784942,0.06663942686212265,0.058747157738516124,0.05178958920962369,0.04565602241456318,0.040248868827323175,0.03548209756797243,0.03127986660257268,0.027575316053409217,0.024309504420420614,0.02143047078850755,0.018892408099906832,0.016654934337925573,0.01468245002615523,0.012943571820613743,0.01141063318294552,0.01005924419010669,0.008867903476858117,0.00781765613685119,0.006891792139318628,0.0060755804630088115,0.005356034717283825,0.004721706521279931,0.004162503353675705,0.0036695279749544324,0.003234936867277839,0.002851815439669268,0.0025140680129500394,0.002216320834026892,0.0019538365764328555,0.0017224389667766606,0.0015184463378647374,0.0013386130512883356,0.001180077857475849,0.0010403183715895418,0.0009171109409523566,0.0008084952654727993,0.0007127432081588151,0.0006283312994782293,0.000553916498094542,0.0004883148223176361,0.000430482512283658,0.0003794994231436765,0.00033455438503732774,0.00029493229692033,0.000260002748901337,0.0002292099920630695,0.00020206409618187814,0.00017813315466004844,0.00015703641264690226,0.0001384382090131983,0.00012204263579221553,0.00010758883011619569,9.484682374018299e-05,8.361388411683413e-05,7.371128880662159e-05,6.498148190246881e-05,5.7285567225919403e-05,5.050109841017108e-05,4.452013070894153e-05,3.924750353433987e-05,3.4599326397949025e-05,3.0501644165580816e-05,2.688926038915205e-05,2.3704699994222497e-05,2.0897294818967345e-05,1.8422377454988906e-05,1.6240570563518253e-05,1.4317160359624953e-05,1.262154429621285e-05,1.1126744160141276e-05,9.808976833554815e-06,8.647275890991061e-06,7.6231580116614925e-06,6.72032889933599e-06,5.9244240308495415e-06,5.222780108392539e-06,4.604233579261424e-06,4.058943017404395e-06,3.5782325407519164e-06,3.154453773012963e-06,2.780864153670885e-06,2.4515196600219525e-06,2.1611802344032925e-06,1.9052264119038847e-06,1.6795858220581859e-06,1.4806683951225776e-06,1.3053092420298576e-06,1.150718299209402e-06,1.0144359370935088e-06,8.942938260161594e-07,7.883804368583814e-07,6.950106275359466e-07,6.126988314331777e-07,5.40135421195651e-07,4.761658718162935e-07,4.197723914878035e-07,3.7005772795781637e-07,3.262308927367365e-07,2.875945760223109e-07,2.535340521052345e-07,2.2350739873450574e-07,1.9703687482709523e-07,1.7370131933639076e-07,1.5312945034110804e-07,1.3499395773937162e-07,1.1900629555937986e-07,1.0491209102935974e-07,9.248709736251522e-08,8.1533625863482e-08,7.187740058907471e-08,6.33647855192009e-08,5.586034012065591e-08,4.9244664411431055e-08,4.3412499239290085e-08,3.827105154896511e-08,3.373851799202464e-08,2.97427833892103e-08,2.62202733370387e-08,2.3114942702989453e-08,2.0377383915663938e-08,1.7964040862305812e-08,1.5836515886346495e-08,1.396095885891417e-08,1.2307528604087381e-08,1.0849918108863351e-08,9.564935963662579e-09,8.432137373850635e-09,7.433498871461645e-09,6.5531315516018714e-09,5.777028270962215e-09,5.092840786225115e-09,4.489683286510574e-09,3.9579591939517836e-09,3.489208476699207e-09,3.0759730450161775e-09,2.711678088841728e-09,2.390527468834062e-09,2.1074114965066388e-09,1.8578256361866699e-09,1.6377988352980968e-09,1.443830342663165e-09,1.2728340095658922e-09,1.1220891873759057e-09,9.891974404858514e-10,8.720443858407397e-10,7.687660519045083e-10,6.777192218158275e-10,5.974552888759728e-10,5.266972083947717e-10,4.643191791853629e-10,4.0932873142888756e-10,3.6085093591685136e-10,3.181144834312465e-10,2.804394127774872e-10,2.4722629221621027e-10,2.1794668216436003e-10,1.9213472742175446e-10,1.6937974515066373e-10,1.4931969067896587e-10,1.316353971641018e-10,1.160454974676143e-10,1.0230194744441035e-10,9.018607941975206e-11,7.950512306254498e-11,7.008913830005115e-11,6.17883114749618e-11,5.447057172515021e-11,4.801948966135844e-11,4.2332424909589283e-11,3.731889304454802e-11,3.2899125931123556e-11,2.9002802568123046e-11,2.5567930241264033e-11,2.2539858183934388e-11,1.9870408052504024e-11,1.751710738155581e-11,1.544251382287479e-11,1.3613619416455205e-11,1.2001325415138024e-11,1.0579979307041675e-11,9.3269666695512e-12,8.222351361029617e-12,7.24855832549882e-12,6.39009396353246e-12,5.633299620302651e-12,4.966134268635889e-12,4.377982929442464e-12,3.859487781379403e-12,3.4023992726060627e-12,2.9994448657362565e-12,2.6442133276441236e-12,2.3310527231093246e-12,2.0549804893225762e-12,1.8116041604857414e-12,1.5970514811900316e-12,1.4079087966365644e-12,1.2411667394526307e-12,1.0941723489501968e-12,9.645868610168947e-13,8.503484970527065e-13,7.496396599031936e-13,6.608580148580476e-13,5.82590995597164e-13,5.135933294594292e-13,4.5276722444850945e-13,3.991449027396321e-13,3.518732027855694e-13,3.1020000503261095e-13,2.734622652719325e-13,2.410754652302304e-13,2.1252431255251893e-13,1.8735454220854126e-13,1.6516568887852593e-13,1.456047153228526e-13,1.2836039535936232e-13,1.1315836207830411e-13,9.975674250921211e-14,8.794230928477979e-14,7.752708807252424e-14,6.834536679656152e-14,6.025105906450254e-14,5.311537985010562e-14,4.682479645047713e-14,4.127922211638412e-14,3.639042361531519e-14,3.2080617390715716e-14,2.8281231981492048e-14,2.4931817011178928e-14,2.1979081388169244e-14,1.937604541422577e-14,1.7081293310839765e-14,1.5058314270708883e-14,1.3274921550087695e-14,1.1702740359441722e-14,1.0316756404455093e-14,9.094917894422383e-15,8.017784685752995e-15,7.0682189782625e-15,6.231112643052744e-15,5.49314684361349e-15,4.842580125580541e-15,4.2690616035382586e-15,3.763466272562652e-15,3.317749824218411e-15,2.9248206570497674e-15,2.5784270451797176e-15,2.2730576698060715e-15,2.0038539309938544e-15,1.7665326445950115e-15,1.5573178943597497e-15,1.372880954967611e-15,1.2102873301200284e-15,1.06695006303997e-15,9.405885765226367e-16,8.291923876588679e-16,7.309891199118366e-16,6.444163036013213e-16,5.680965161249946e-16,5.008154663837044e-16,4.4150267472145217e-16,3.8921444098704397e-16,3.431188297294736e-16,3.024824336331365e-16,2.6665870459153854e-16,2.350776667602401e-16,2.0723684791796604e-16,1.8269328484860583e-16,1.6105647554524746e-16,1.4198216610179073e-16,1.2516687343808974e-16,1.1034305671202931e-16,9.727486059301809e-17,8.575436266992236e-17,7.559826528759209e-17,6.664497917722472e-17],\"type\":\"scatter\"}],                        {\"template\":{\"data\":{\"histogram2dcontour\":[{\"type\":\"histogram2dcontour\",\"colorbar\":{\"outlinewidth\":0,\"ticks\":\"\"},\"colorscale\":[[0.0,\"#0d0887\"],[0.1111111111111111,\"#46039f\"],[0.2222222222222222,\"#7201a8\"],[0.3333333333333333,\"#9c179e\"],[0.4444444444444444,\"#bd3786\"],[0.5555555555555556,\"#d8576b\"],[0.6666666666666666,\"#ed7953\"],[0.7777777777777778,\"#fb9f3a\"],[0.8888888888888888,\"#fdca26\"],[1.0,\"#f0f921\"]]}],\"choropleth\":[{\"type\":\"choropleth\",\"colorbar\":{\"outlinewidth\":0,\"ticks\":\"\"}}],\"histogram2d\":[{\"type\":\"histogram2d\",\"colorbar\":{\"outlinewidth\":0,\"ticks\":\"\"},\"colorscale\":[[0.0,\"#0d0887\"],[0.1111111111111111,\"#46039f\"],[0.2222222222222222,\"#7201a8\"],[0.3333333333333333,\"#9c179e\"],[0.4444444444444444,\"#bd3786\"],[0.5555555555555556,\"#d8576b\"],[0.6666666666666666,\"#ed7953\"],[0.7777777777777778,\"#fb9f3a\"],[0.8888888888888888,\"#fdca26\"],[1.0,\"#f0f921\"]]}],\"heatmap\":[{\"type\":\"heatmap\",\"colorbar\":{\"outlinewidth\":0,\"ticks\":\"\"},\"colorscale\":[[0.0,\"#0d0887\"],[0.1111111111111111,\"#46039f\"],[0.2222222222222222,\"#7201a8\"],[0.3333333333333333,\"#9c179e\"],[0.4444444444444444,\"#bd3786\"],[0.5555555555555556,\"#d8576b\"],[0.6666666666666666,\"#ed7953\"],[0.7777777777777778,\"#fb9f3a\"],[0.8888888888888888,\"#fdca26\"],[1.0,\"#f0f921\"]]}],\"heatmapgl\":[{\"type\":\"heatmapgl\",\"colorbar\":{\"outlinewidth\":0,\"ticks\":\"\"},\"colorscale\":[[0.0,\"#0d0887\"],[0.1111111111111111,\"#46039f\"],[0.2222222222222222,\"#7201a8\"],[0.3333333333333333,\"#9c179e\"],[0.4444444444444444,\"#bd3786\"],[0.5555555555555556,\"#d8576b\"],[0.6666666666666666,\"#ed7953\"],[0.7777777777777778,\"#fb9f3a\"],[0.8888888888888888,\"#fdca26\"],[1.0,\"#f0f921\"]]}],\"contourcarpet\":[{\"type\":\"contourcarpet\",\"colorbar\":{\"outlinewidth\":0,\"ticks\":\"\"}}],\"contour\":[{\"type\":\"contour\",\"colorbar\":{\"outlinewidth\":0,\"ticks\":\"\"},\"colorscale\":[[0.0,\"#0d0887\"],[0.1111111111111111,\"#46039f\"],[0.2222222222222222,\"#7201a8\"],[0.3333333333333333,\"#9c179e\"],[0.4444444444444444,\"#bd3786\"],[0.5555555555555556,\"#d8576b\"],[0.6666666666666666,\"#ed7953\"],[0.7777777777777778,\"#fb9f3a\"],[0.8888888888888888,\"#fdca26\"],[1.0,\"#f0f921\"]]}],\"surface\":[{\"type\":\"surface\",\"colorbar\":{\"outlinewidth\":0,\"ticks\":\"\"},\"colorscale\":[[0.0,\"#0d0887\"],[0.1111111111111111,\"#46039f\"],[0.2222222222222222,\"#7201a8\"],[0.3333333333333333,\"#9c179e\"],[0.4444444444444444,\"#bd3786\"],[0.5555555555555556,\"#d8576b\"],[0.6666666666666666,\"#ed7953\"],[0.7777777777777778,\"#fb9f3a\"],[0.8888888888888888,\"#fdca26\"],[1.0,\"#f0f921\"]]}],\"mesh3d\":[{\"type\":\"mesh3d\",\"colorbar\":{\"outlinewidth\":0,\"ticks\":\"\"}}],\"scatter\":[{\"fillpattern\":{\"fillmode\":\"overlay\",\"size\":10,\"solidity\":0.2},\"type\":\"scatter\"}],\"parcoords\":[{\"type\":\"parcoords\",\"line\":{\"colorbar\":{\"outlinewidth\":0,\"ticks\":\"\"}}}],\"scatterpolargl\":[{\"type\":\"scatterpolargl\",\"marker\":{\"colorbar\":{\"outlinewidth\":0,\"ticks\":\"\"}}}],\"bar\":[{\"error_x\":{\"color\":\"#2a3f5f\"},\"error_y\":{\"color\":\"#2a3f5f\"},\"marker\":{\"line\":{\"color\":\"#E5ECF6\",\"width\":0.5},\"pattern\":{\"fillmode\":\"overlay\",\"size\":10,\"solidity\":0.2}},\"type\":\"bar\"}],\"scattergeo\":[{\"type\":\"scattergeo\",\"marker\":{\"colorbar\":{\"outlinewidth\":0,\"ticks\":\"\"}}}],\"scatterpolar\":[{\"type\":\"scatterpolar\",\"marker\":{\"colorbar\":{\"outlinewidth\":0,\"ticks\":\"\"}}}],\"histogram\":[{\"marker\":{\"pattern\":{\"fillmode\":\"overlay\",\"size\":10,\"solidity\":0.2}},\"type\":\"histogram\"}],\"scattergl\":[{\"type\":\"scattergl\",\"marker\":{\"colorbar\":{\"outlinewidth\":0,\"ticks\":\"\"}}}],\"scatter3d\":[{\"type\":\"scatter3d\",\"line\":{\"colorbar\":{\"outlinewidth\":0,\"ticks\":\"\"}},\"marker\":{\"colorbar\":{\"outlinewidth\":0,\"ticks\":\"\"}}}],\"scattermapbox\":[{\"type\":\"scattermapbox\",\"marker\":{\"colorbar\":{\"outlinewidth\":0,\"ticks\":\"\"}}}],\"scatterternary\":[{\"type\":\"scatterternary\",\"marker\":{\"colorbar\":{\"outlinewidth\":0,\"ticks\":\"\"}}}],\"scattercarpet\":[{\"type\":\"scattercarpet\",\"marker\":{\"colorbar\":{\"outlinewidth\":0,\"ticks\":\"\"}}}],\"carpet\":[{\"aaxis\":{\"endlinecolor\":\"#2a3f5f\",\"gridcolor\":\"white\",\"linecolor\":\"white\",\"minorgridcolor\":\"white\",\"startlinecolor\":\"#2a3f5f\"},\"baxis\":{\"endlinecolor\":\"#2a3f5f\",\"gridcolor\":\"white\",\"linecolor\":\"white\",\"minorgridcolor\":\"white\",\"startlinecolor\":\"#2a3f5f\"},\"type\":\"carpet\"}],\"table\":[{\"cells\":{\"fill\":{\"color\":\"#EBF0F8\"},\"line\":{\"color\":\"white\"}},\"header\":{\"fill\":{\"color\":\"#C8D4E3\"},\"line\":{\"color\":\"white\"}},\"type\":\"table\"}],\"barpolar\":[{\"marker\":{\"line\":{\"color\":\"#E5ECF6\",\"width\":0.5},\"pattern\":{\"fillmode\":\"overlay\",\"size\":10,\"solidity\":0.2}},\"type\":\"barpolar\"}],\"pie\":[{\"automargin\":true,\"type\":\"pie\"}]},\"layout\":{\"autotypenumbers\":\"strict\",\"colorway\":[\"#636efa\",\"#EF553B\",\"#00cc96\",\"#ab63fa\",\"#FFA15A\",\"#19d3f3\",\"#FF6692\",\"#B6E880\",\"#FF97FF\",\"#FECB52\"],\"font\":{\"color\":\"#2a3f5f\"},\"hovermode\":\"closest\",\"hoverlabel\":{\"align\":\"left\"},\"paper_bgcolor\":\"white\",\"plot_bgcolor\":\"#E5ECF6\",\"polar\":{\"bgcolor\":\"#E5ECF6\",\"angularaxis\":{\"gridcolor\":\"white\",\"linecolor\":\"white\",\"ticks\":\"\"},\"radialaxis\":{\"gridcolor\":\"white\",\"linecolor\":\"white\",\"ticks\":\"\"}},\"ternary\":{\"bgcolor\":\"#E5ECF6\",\"aaxis\":{\"gridcolor\":\"white\",\"linecolor\":\"white\",\"ticks\":\"\"},\"baxis\":{\"gridcolor\":\"white\",\"linecolor\":\"white\",\"ticks\":\"\"},\"caxis\":{\"gridcolor\":\"white\",\"linecolor\":\"white\",\"ticks\":\"\"}},\"coloraxis\":{\"colorbar\":{\"outlinewidth\":0,\"ticks\":\"\"}},\"colorscale\":{\"sequential\":[[0.0,\"#0d0887\"],[0.1111111111111111,\"#46039f\"],[0.2222222222222222,\"#7201a8\"],[0.3333333333333333,\"#9c179e\"],[0.4444444444444444,\"#bd3786\"],[0.5555555555555556,\"#d8576b\"],[0.6666666666666666,\"#ed7953\"],[0.7777777777777778,\"#fb9f3a\"],[0.8888888888888888,\"#fdca26\"],[1.0,\"#f0f921\"]],\"sequentialminus\":[[0.0,\"#0d0887\"],[0.1111111111111111,\"#46039f\"],[0.2222222222222222,\"#7201a8\"],[0.3333333333333333,\"#9c179e\"],[0.4444444444444444,\"#bd3786\"],[0.5555555555555556,\"#d8576b\"],[0.6666666666666666,\"#ed7953\"],[0.7777777777777778,\"#fb9f3a\"],[0.8888888888888888,\"#fdca26\"],[1.0,\"#f0f921\"]],\"diverging\":[[0,\"#8e0152\"],[0.1,\"#c51b7d\"],[0.2,\"#de77ae\"],[0.3,\"#f1b6da\"],[0.4,\"#fde0ef\"],[0.5,\"#f7f7f7\"],[0.6,\"#e6f5d0\"],[0.7,\"#b8e186\"],[0.8,\"#7fbc41\"],[0.9,\"#4d9221\"],[1,\"#276419\"]]},\"xaxis\":{\"gridcolor\":\"white\",\"linecolor\":\"white\",\"ticks\":\"\",\"title\":{\"standoff\":15},\"zerolinecolor\":\"white\",\"automargin\":true,\"zerolinewidth\":2},\"yaxis\":{\"gridcolor\":\"white\",\"linecolor\":\"white\",\"ticks\":\"\",\"title\":{\"standoff\":15},\"zerolinecolor\":\"white\",\"automargin\":true,\"zerolinewidth\":2},\"scene\":{\"xaxis\":{\"backgroundcolor\":\"#E5ECF6\",\"gridcolor\":\"white\",\"linecolor\":\"white\",\"showbackground\":true,\"ticks\":\"\",\"zerolinecolor\":\"white\",\"gridwidth\":2},\"yaxis\":{\"backgroundcolor\":\"#E5ECF6\",\"gridcolor\":\"white\",\"linecolor\":\"white\",\"showbackground\":true,\"ticks\":\"\",\"zerolinecolor\":\"white\",\"gridwidth\":2},\"zaxis\":{\"backgroundcolor\":\"#E5ECF6\",\"gridcolor\":\"white\",\"linecolor\":\"white\",\"showbackground\":true,\"ticks\":\"\",\"zerolinecolor\":\"white\",\"gridwidth\":2}},\"shapedefaults\":{\"line\":{\"color\":\"#2a3f5f\"}},\"annotationdefaults\":{\"arrowcolor\":\"#2a3f5f\",\"arrowhead\":0,\"arrowwidth\":1},\"geo\":{\"bgcolor\":\"white\",\"landcolor\":\"#E5ECF6\",\"subunitcolor\":\"white\",\"showland\":true,\"showlakes\":true,\"lakecolor\":\"white\"},\"title\":{\"x\":0.05},\"mapbox\":{\"style\":\"light\"}}},\"xaxis\":{\"anchor\":\"y\",\"domain\":[0.0,1.0],\"title\":{\"text\":\"Pos. found\"}},\"yaxis\":{\"anchor\":\"x\",\"domain\":[0.0,1.0],\"title\":{\"text\":\"Probability density\"}},\"legend\":{\"tracegroupgap\":0},\"margin\":{\"t\":60},\"barmode\":\"relative\",\"bargroupgap\":0.01},                        {\"responsive\": true}                    ).then(function(){\n",
       "                            \n",
       "var gd = document.getElementById('b2760ddd-7cae-44db-85ba-63ef11ef02d5');\n",
       "var x = new MutationObserver(function (mutations, observer) {{\n",
       "        var display = window.getComputedStyle(gd).display;\n",
       "        if (!display || display === 'none') {{\n",
       "            console.log([gd, 'removed!']);\n",
       "            Plotly.purge(gd);\n",
       "            observer.disconnect();\n",
       "        }}\n",
       "}});\n",
       "\n",
       "// Listen for the removal of the full notebook cells\n",
       "var notebookContainer = gd.closest('#notebook-container');\n",
       "if (notebookContainer) {{\n",
       "    x.observe(notebookContainer, {childList: true});\n",
       "}}\n",
       "\n",
       "// Listen for the clearing of the current output cell\n",
       "var outputEl = gd.closest('.output');\n",
       "if (outputEl) {{\n",
       "    x.observe(outputEl, {childList: true});\n",
       "}}\n",
       "\n",
       "                        })                };                });            </script>        </div>"
      ]
     },
     "metadata": {},
     "output_type": "display_data"
    }
   ],
   "source": [
    "x = np.linspace(fit_params[0], max(cluster), max(cluster))\n",
    "fig = px.histogram(x=cluster, histnorm='probability density', nbins=nbins)\n",
    "fig.add_trace(go.Line(x=x, y=expon.pdf(x, loc=fit_params[0], scale=fit_params[1]), name='Expon. distr.'))\n",
    "\n",
    "fig.update_layout(\n",
    "    # title_text='Sampled Results', # title of plot\n",
    "    xaxis_title_text='Pos. found', # xaxis label\n",
    "    yaxis_title_text=f'Probability density', # yaxis label\n",
    "    # bargap=0.2, # gap between bars of adjacent location coordinates\n",
    "    bargroupgap=0.01 # gap between bars of the same location coordinates\n",
    ")"
   ]
  },
  {
   "cell_type": "code",
   "execution_count": 172,
   "metadata": {
    "pycharm": {
     "name": "#%%\n"
    }
   },
   "outputs": [],
   "source": [
    "fig.write_image('expon_distr.png')"
   ]
  },
  {
   "cell_type": "markdown",
   "metadata": {},
   "source": [
    "Analyse the labels, that weren't predicted correctly"
   ]
  },
  {
   "cell_type": "code",
   "execution_count": 100,
   "metadata": {
    "pycharm": {
     "name": "#%%\n"
    }
   },
   "outputs": [],
   "source": [
    "unpredicted = {i: {'original':kv[0], 'misspelled': val_df[val_df.isin([kv[0]]).any(axis=1)]['original'].values[0]} for i, kv in enumerate(found_dict.items()) if kv[1] == -1}"
   ]
  },
  {
   "cell_type": "code",
   "execution_count": 101,
   "metadata": {
    "pycharm": {
     "name": "#%%\n"
    }
   },
   "outputs": [
    {
     "data": {
      "text/plain": [
       "{872: {'original': 'Hyrkkoo', 'misspelled': 'Hyrkkö'},\n",
       " 874: {'original': 'Hyrko', 'misspelled': 'Hyrkkö'},\n",
       " 1584: {'original': 'Oztunc', 'misspelled': 'Öztunc'},\n",
       " 3101: {'original': 'Boihemm', 'misspelled': 'Boihem'},\n",
       " 3349: {'original': 'Mlado…цi„?', 'misspelled': 'Mladosic'},\n",
       " 3427: {'original': 'Bartkovaa', 'misspelled': 'Bártková'},\n",
       " 3592: {'original': 'Waukeee', 'misspelled': 'Wauke'},\n",
       " 3814: {'original': 'Hruzik', 'misspelled': 'Hruzík'},\n",
       " 3815: {'original': 'Hruzzik', 'misspelled': 'Hruzík'}}"
      ]
     },
     "execution_count": 101,
     "metadata": {},
     "output_type": "execute_result"
    }
   ],
   "source": [
    "unpredicted"
   ]
  },
  {
   "cell_type": "markdown",
   "metadata": {
    "pycharm": {
     "name": "#%% md\n"
    }
   },
   "source": [
    "# Analyze weights<a class=\"anchor\" id=\"sixth-bullet\"></a>"
   ]
  },
  {
   "cell_type": "markdown",
   "metadata": {},
   "source": [
    "[Back to the Table of Contents](#zero-bullet)"
   ]
  },
  {
   "cell_type": "code",
   "execution_count": 105,
   "metadata": {
    "pycharm": {
     "name": "#%%\n"
    }
   },
   "outputs": [],
   "source": [
    "fig = make_subplots(rows=8, cols=8)"
   ]
  },
  {
   "cell_type": "code",
   "execution_count": 111,
   "metadata": {},
   "outputs": [],
   "source": [
    "model_parameters = dict(model.named_parameters())"
   ]
  },
  {
   "cell_type": "code",
   "execution_count": 113,
   "metadata": {},
   "outputs": [
    {
     "data": {
      "text/plain": [
       "['conv_layers.0.weight',\n",
       " 'conv_layers.0.bias',\n",
       " 'conv_layers.1.weight',\n",
       " 'conv_layers.1.bias',\n",
       " 'conv_layers.4.weight',\n",
       " 'conv_layers.4.bias',\n",
       " 'conv_layers.5.weight',\n",
       " 'conv_layers.5.bias',\n",
       " 'conv_layers.8.weight',\n",
       " 'conv_layers.8.bias',\n",
       " 'conv_layers.9.weight',\n",
       " 'conv_layers.9.bias',\n",
       " 'lstm.weight_ih_l0',\n",
       " 'lstm.weight_hh_l0',\n",
       " 'lstm.bias_ih_l0',\n",
       " 'lstm.bias_hh_l0',\n",
       " 'lstm.weight_ih_l0_reverse',\n",
       " 'lstm.weight_hh_l0_reverse',\n",
       " 'lstm.bias_ih_l0_reverse',\n",
       " 'lstm.bias_hh_l0_reverse',\n",
       " 'lstm.weight_ih_l1',\n",
       " 'lstm.weight_hh_l1',\n",
       " 'lstm.bias_ih_l1',\n",
       " 'lstm.bias_hh_l1',\n",
       " 'lstm.weight_ih_l1_reverse',\n",
       " 'lstm.weight_hh_l1_reverse',\n",
       " 'lstm.bias_ih_l1_reverse',\n",
       " 'lstm.bias_hh_l1_reverse',\n",
       " 'fc_layers.0.weight',\n",
       " 'fc_layers.0.bias',\n",
       " 'fc_layers.1.weight',\n",
       " 'fc_layers.1.bias',\n",
       " 'fc_layers.3.weight',\n",
       " 'fc_layers.3.bias']"
      ]
     },
     "execution_count": 113,
     "metadata": {},
     "output_type": "execute_result"
    }
   ],
   "source": [
    "list(model_parameters.keys())"
   ]
  },
  {
   "cell_type": "code",
   "execution_count": 119,
   "metadata": {},
   "outputs": [],
   "source": [
    "# chose the weights (implemented for convolution layers only)\n",
    "layer = 'conv_layers.0.weight'"
   ]
  },
  {
   "cell_type": "code",
   "execution_count": 125,
   "metadata": {
    "pycharm": {
     "name": "#%%\n"
    }
   },
   "outputs": [
    {
     "data": {
      "application/vnd.plotly.v1+json": {
       "config": {
        "plotlyServerURL": "https://plot.ly"
       },
       "data": [
        {
         "coloraxis": "coloraxis",
         "colorscale": [
          [
           0,
           "rgb(247,251,255)"
          ],
          [
           0.125,
           "rgb(222,235,247)"
          ],
          [
           0.25,
           "rgb(198,219,239)"
          ],
          [
           0.375,
           "rgb(158,202,225)"
          ],
          [
           0.5,
           "rgb(107,174,214)"
          ],
          [
           0.625,
           "rgb(66,146,198)"
          ],
          [
           0.75,
           "rgb(33,113,181)"
          ],
          [
           0.875,
           "rgb(8,81,156)"
          ],
          [
           1,
           "rgb(8,48,107)"
          ]
         ],
         "type": "heatmap",
         "xaxis": "x",
         "yaxis": "y",
         "z": [
          [
           -0.0194846298545599,
           -0.13450826704502106,
           0.16052526235580444
          ],
          [
           -0.32911351323127747,
           -0.15505217015743256,
           -0.23047158122062683
          ],
          [
           -0.1822313666343689,
           -0.054280344396829605,
           -0.0016763926250860095
          ]
         ]
        },
        {
         "coloraxis": "coloraxis",
         "colorscale": [
          [
           0,
           "rgb(247,251,255)"
          ],
          [
           0.125,
           "rgb(222,235,247)"
          ],
          [
           0.25,
           "rgb(198,219,239)"
          ],
          [
           0.375,
           "rgb(158,202,225)"
          ],
          [
           0.5,
           "rgb(107,174,214)"
          ],
          [
           0.625,
           "rgb(66,146,198)"
          ],
          [
           0.75,
           "rgb(33,113,181)"
          ],
          [
           0.875,
           "rgb(8,81,156)"
          ],
          [
           1,
           "rgb(8,48,107)"
          ]
         ],
         "type": "heatmap",
         "xaxis": "x9",
         "yaxis": "y9",
         "z": [
          [
           -0.28811612725257874,
           0.07113104313611984,
           0.0683097094297409
          ],
          [
           0.07965414971113205,
           0.188160702586174,
           0.08297395706176758
          ],
          [
           -0.3010849058628082,
           0.2928370535373688,
           -0.0022199475206434727
          ]
         ]
        },
        {
         "coloraxis": "coloraxis",
         "colorscale": [
          [
           0,
           "rgb(247,251,255)"
          ],
          [
           0.125,
           "rgb(222,235,247)"
          ],
          [
           0.25,
           "rgb(198,219,239)"
          ],
          [
           0.375,
           "rgb(158,202,225)"
          ],
          [
           0.5,
           "rgb(107,174,214)"
          ],
          [
           0.625,
           "rgb(66,146,198)"
          ],
          [
           0.75,
           "rgb(33,113,181)"
          ],
          [
           0.875,
           "rgb(8,81,156)"
          ],
          [
           1,
           "rgb(8,48,107)"
          ]
         ],
         "type": "heatmap",
         "xaxis": "x17",
         "yaxis": "y17",
         "z": [
          [
           -0.21879181265830994,
           0.22835290431976318,
           -0.04563860595226288
          ],
          [
           -0.15858350694179535,
           -0.13521194458007812,
           -0.2651557922363281
          ],
          [
           -0.2092290073633194,
           0.25842732191085815,
           -0.30164816975593567
          ]
         ]
        },
        {
         "coloraxis": "coloraxis",
         "colorscale": [
          [
           0,
           "rgb(247,251,255)"
          ],
          [
           0.125,
           "rgb(222,235,247)"
          ],
          [
           0.25,
           "rgb(198,219,239)"
          ],
          [
           0.375,
           "rgb(158,202,225)"
          ],
          [
           0.5,
           "rgb(107,174,214)"
          ],
          [
           0.625,
           "rgb(66,146,198)"
          ],
          [
           0.75,
           "rgb(33,113,181)"
          ],
          [
           0.875,
           "rgb(8,81,156)"
          ],
          [
           1,
           "rgb(8,48,107)"
          ]
         ],
         "type": "heatmap",
         "xaxis": "x25",
         "yaxis": "y25",
         "z": [
          [
           -0.17465956509113312,
           0.2902190387248993,
           -0.2681589722633362
          ],
          [
           -0.2092248946428299,
           0.23662036657333374,
           0.13859368860721588
          ],
          [
           0.022116342559456825,
           0.09630358964204788,
           -0.14931082725524902
          ]
         ]
        },
        {
         "coloraxis": "coloraxis",
         "colorscale": [
          [
           0,
           "rgb(247,251,255)"
          ],
          [
           0.125,
           "rgb(222,235,247)"
          ],
          [
           0.25,
           "rgb(198,219,239)"
          ],
          [
           0.375,
           "rgb(158,202,225)"
          ],
          [
           0.5,
           "rgb(107,174,214)"
          ],
          [
           0.625,
           "rgb(66,146,198)"
          ],
          [
           0.75,
           "rgb(33,113,181)"
          ],
          [
           0.875,
           "rgb(8,81,156)"
          ],
          [
           1,
           "rgb(8,48,107)"
          ]
         ],
         "type": "heatmap",
         "xaxis": "x33",
         "yaxis": "y33",
         "z": [
          [
           -0.07513575255870819,
           0.22091363370418549,
           0.28039440512657166
          ],
          [
           0.20793093740940094,
           -0.20700813829898834,
           0.15620264410972595
          ],
          [
           0.06575038284063339,
           0.0318775400519371,
           0.30030369758605957
          ]
         ]
        },
        {
         "coloraxis": "coloraxis",
         "colorscale": [
          [
           0,
           "rgb(247,251,255)"
          ],
          [
           0.125,
           "rgb(222,235,247)"
          ],
          [
           0.25,
           "rgb(198,219,239)"
          ],
          [
           0.375,
           "rgb(158,202,225)"
          ],
          [
           0.5,
           "rgb(107,174,214)"
          ],
          [
           0.625,
           "rgb(66,146,198)"
          ],
          [
           0.75,
           "rgb(33,113,181)"
          ],
          [
           0.875,
           "rgb(8,81,156)"
          ],
          [
           1,
           "rgb(8,48,107)"
          ]
         ],
         "type": "heatmap",
         "xaxis": "x41",
         "yaxis": "y41",
         "z": [
          [
           0.10807297378778458,
           -0.12111026793718338,
           0.06511934846639633
          ],
          [
           0.20060093700885773,
           -0.18125931918621063,
           0.22053341567516327
          ],
          [
           0.13157382607460022,
           0.15763074159622192,
           -0.18564298748970032
          ]
         ]
        },
        {
         "coloraxis": "coloraxis",
         "colorscale": [
          [
           0,
           "rgb(247,251,255)"
          ],
          [
           0.125,
           "rgb(222,235,247)"
          ],
          [
           0.25,
           "rgb(198,219,239)"
          ],
          [
           0.375,
           "rgb(158,202,225)"
          ],
          [
           0.5,
           "rgb(107,174,214)"
          ],
          [
           0.625,
           "rgb(66,146,198)"
          ],
          [
           0.75,
           "rgb(33,113,181)"
          ],
          [
           0.875,
           "rgb(8,81,156)"
          ],
          [
           1,
           "rgb(8,48,107)"
          ]
         ],
         "type": "heatmap",
         "xaxis": "x49",
         "yaxis": "y49",
         "z": [
          [
           0.1355210691690445,
           -0.16772028803825378,
           -0.08304993063211441
          ],
          [
           0.1398136168718338,
           -0.01940918155014515,
           -0.24845531582832336
          ],
          [
           0.20166721940040588,
           -0.19288505613803864,
           0.11775795370340347
          ]
         ]
        },
        {
         "coloraxis": "coloraxis",
         "colorscale": [
          [
           0,
           "rgb(247,251,255)"
          ],
          [
           0.125,
           "rgb(222,235,247)"
          ],
          [
           0.25,
           "rgb(198,219,239)"
          ],
          [
           0.375,
           "rgb(158,202,225)"
          ],
          [
           0.5,
           "rgb(107,174,214)"
          ],
          [
           0.625,
           "rgb(66,146,198)"
          ],
          [
           0.75,
           "rgb(33,113,181)"
          ],
          [
           0.875,
           "rgb(8,81,156)"
          ],
          [
           1,
           "rgb(8,48,107)"
          ]
         ],
         "type": "heatmap",
         "xaxis": "x57",
         "yaxis": "y57",
         "z": [
          [
           0.2668209969997406,
           -0.2854175865650177,
           -0.24668791890144348
          ],
          [
           0.02341155707836151,
           0.24442918598651886,
           -0.2531885802745819
          ],
          [
           0.11782857030630112,
           0.13730868697166443,
           0.01329486258327961
          ]
         ]
        },
        {
         "coloraxis": "coloraxis",
         "colorscale": [
          [
           0,
           "rgb(247,251,255)"
          ],
          [
           0.125,
           "rgb(222,235,247)"
          ],
          [
           0.25,
           "rgb(198,219,239)"
          ],
          [
           0.375,
           "rgb(158,202,225)"
          ],
          [
           0.5,
           "rgb(107,174,214)"
          ],
          [
           0.625,
           "rgb(66,146,198)"
          ],
          [
           0.75,
           "rgb(33,113,181)"
          ],
          [
           0.875,
           "rgb(8,81,156)"
          ],
          [
           1,
           "rgb(8,48,107)"
          ]
         ],
         "type": "heatmap",
         "xaxis": "x2",
         "yaxis": "y2",
         "z": [
          [
           0.010167851112782955,
           -0.1020498275756836,
           0.04077852889895439
          ],
          [
           0.21792662143707275,
           0.19149190187454224,
           -0.21614161133766174
          ],
          [
           0.04566805809736252,
           -0.33474817872047424,
           0.21337610483169556
          ]
         ]
        },
        {
         "coloraxis": "coloraxis",
         "colorscale": [
          [
           0,
           "rgb(247,251,255)"
          ],
          [
           0.125,
           "rgb(222,235,247)"
          ],
          [
           0.25,
           "rgb(198,219,239)"
          ],
          [
           0.375,
           "rgb(158,202,225)"
          ],
          [
           0.5,
           "rgb(107,174,214)"
          ],
          [
           0.625,
           "rgb(66,146,198)"
          ],
          [
           0.75,
           "rgb(33,113,181)"
          ],
          [
           0.875,
           "rgb(8,81,156)"
          ],
          [
           1,
           "rgb(8,48,107)"
          ]
         ],
         "type": "heatmap",
         "xaxis": "x10",
         "yaxis": "y10",
         "z": [
          [
           0.33373212814331055,
           0.17822416126728058,
           -0.12073884904384613
          ],
          [
           0.11671752482652664,
           -0.05531282722949982,
           -0.04807592183351517
          ],
          [
           -0.09588874876499176,
           -0.22624972462654114,
           -0.2297680824995041
          ]
         ]
        },
        {
         "coloraxis": "coloraxis",
         "colorscale": [
          [
           0,
           "rgb(247,251,255)"
          ],
          [
           0.125,
           "rgb(222,235,247)"
          ],
          [
           0.25,
           "rgb(198,219,239)"
          ],
          [
           0.375,
           "rgb(158,202,225)"
          ],
          [
           0.5,
           "rgb(107,174,214)"
          ],
          [
           0.625,
           "rgb(66,146,198)"
          ],
          [
           0.75,
           "rgb(33,113,181)"
          ],
          [
           0.875,
           "rgb(8,81,156)"
          ],
          [
           1,
           "rgb(8,48,107)"
          ]
         ],
         "type": "heatmap",
         "xaxis": "x18",
         "yaxis": "y18",
         "z": [
          [
           -0.04675319045782089,
           -0.16306836903095245,
           -0.14340506494045258
          ],
          [
           0.0626169890165329,
           0.3220469653606415,
           0.04839644953608513
          ],
          [
           0.20238454639911652,
           0.28034812211990356,
           0.23004794120788574
          ]
         ]
        },
        {
         "coloraxis": "coloraxis",
         "colorscale": [
          [
           0,
           "rgb(247,251,255)"
          ],
          [
           0.125,
           "rgb(222,235,247)"
          ],
          [
           0.25,
           "rgb(198,219,239)"
          ],
          [
           0.375,
           "rgb(158,202,225)"
          ],
          [
           0.5,
           "rgb(107,174,214)"
          ],
          [
           0.625,
           "rgb(66,146,198)"
          ],
          [
           0.75,
           "rgb(33,113,181)"
          ],
          [
           0.875,
           "rgb(8,81,156)"
          ],
          [
           1,
           "rgb(8,48,107)"
          ]
         ],
         "type": "heatmap",
         "xaxis": "x26",
         "yaxis": "y26",
         "z": [
          [
           -0.047607000917196274,
           -0.1635517179965973,
           0.04130815714597702
          ],
          [
           0.2571641206741333,
           0.0038008515257388353,
           -0.053870633244514465
          ],
          [
           -0.17292705178260803,
           0.11810503900051117,
           0.055237311869859695
          ]
         ]
        },
        {
         "coloraxis": "coloraxis",
         "colorscale": [
          [
           0,
           "rgb(247,251,255)"
          ],
          [
           0.125,
           "rgb(222,235,247)"
          ],
          [
           0.25,
           "rgb(198,219,239)"
          ],
          [
           0.375,
           "rgb(158,202,225)"
          ],
          [
           0.5,
           "rgb(107,174,214)"
          ],
          [
           0.625,
           "rgb(66,146,198)"
          ],
          [
           0.75,
           "rgb(33,113,181)"
          ],
          [
           0.875,
           "rgb(8,81,156)"
          ],
          [
           1,
           "rgb(8,48,107)"
          ]
         ],
         "type": "heatmap",
         "xaxis": "x34",
         "yaxis": "y34",
         "z": [
          [
           0.3037526309490204,
           -0.11091103404760361,
           0.29550445079803467
          ],
          [
           0.1726617068052292,
           -0.205521360039711,
           -0.06331033259630203
          ],
          [
           0.1945379078388214,
           0.27969932556152344,
           0.29219117760658264
          ]
         ]
        },
        {
         "coloraxis": "coloraxis",
         "colorscale": [
          [
           0,
           "rgb(247,251,255)"
          ],
          [
           0.125,
           "rgb(222,235,247)"
          ],
          [
           0.25,
           "rgb(198,219,239)"
          ],
          [
           0.375,
           "rgb(158,202,225)"
          ],
          [
           0.5,
           "rgb(107,174,214)"
          ],
          [
           0.625,
           "rgb(66,146,198)"
          ],
          [
           0.75,
           "rgb(33,113,181)"
          ],
          [
           0.875,
           "rgb(8,81,156)"
          ],
          [
           1,
           "rgb(8,48,107)"
          ]
         ],
         "type": "heatmap",
         "xaxis": "x42",
         "yaxis": "y42",
         "z": [
          [
           -0.2740233838558197,
           -0.13474027812480927,
           0.1568978726863861
          ],
          [
           -0.0535830594599247,
           0.06884842365980148,
           0.08070375770330429
          ],
          [
           -0.18564048409461975,
           -0.08650307357311249,
           0.3231217861175537
          ]
         ]
        },
        {
         "coloraxis": "coloraxis",
         "colorscale": [
          [
           0,
           "rgb(247,251,255)"
          ],
          [
           0.125,
           "rgb(222,235,247)"
          ],
          [
           0.25,
           "rgb(198,219,239)"
          ],
          [
           0.375,
           "rgb(158,202,225)"
          ],
          [
           0.5,
           "rgb(107,174,214)"
          ],
          [
           0.625,
           "rgb(66,146,198)"
          ],
          [
           0.75,
           "rgb(33,113,181)"
          ],
          [
           0.875,
           "rgb(8,81,156)"
          ],
          [
           1,
           "rgb(8,48,107)"
          ]
         ],
         "type": "heatmap",
         "xaxis": "x50",
         "yaxis": "y50",
         "z": [
          [
           0.24198228120803833,
           0.23950576782226562,
           -0.06606874614953995
          ],
          [
           -0.2540818750858307,
           0.16775918006896973,
           -0.08861349523067474
          ],
          [
           0.1038295328617096,
           -0.15952074527740479,
           -0.25489696860313416
          ]
         ]
        },
        {
         "coloraxis": "coloraxis",
         "colorscale": [
          [
           0,
           "rgb(247,251,255)"
          ],
          [
           0.125,
           "rgb(222,235,247)"
          ],
          [
           0.25,
           "rgb(198,219,239)"
          ],
          [
           0.375,
           "rgb(158,202,225)"
          ],
          [
           0.5,
           "rgb(107,174,214)"
          ],
          [
           0.625,
           "rgb(66,146,198)"
          ],
          [
           0.75,
           "rgb(33,113,181)"
          ],
          [
           0.875,
           "rgb(8,81,156)"
          ],
          [
           1,
           "rgb(8,48,107)"
          ]
         ],
         "type": "heatmap",
         "xaxis": "x58",
         "yaxis": "y58",
         "z": [
          [
           0.23789167404174805,
           -0.07689175009727478,
           0.2500525414943695
          ],
          [
           -0.06024851277470589,
           -0.12090164422988892,
           -0.1592075079679489
          ],
          [
           0.12160450220108032,
           -0.2962931990623474,
           0.014417431317269802
          ]
         ]
        },
        {
         "coloraxis": "coloraxis",
         "colorscale": [
          [
           0,
           "rgb(247,251,255)"
          ],
          [
           0.125,
           "rgb(222,235,247)"
          ],
          [
           0.25,
           "rgb(198,219,239)"
          ],
          [
           0.375,
           "rgb(158,202,225)"
          ],
          [
           0.5,
           "rgb(107,174,214)"
          ],
          [
           0.625,
           "rgb(66,146,198)"
          ],
          [
           0.75,
           "rgb(33,113,181)"
          ],
          [
           0.875,
           "rgb(8,81,156)"
          ],
          [
           1,
           "rgb(8,48,107)"
          ]
         ],
         "type": "heatmap",
         "xaxis": "x3",
         "yaxis": "y3",
         "z": [
          [
           -0.2218562364578247,
           -0.04135093465447426,
           -0.14399021863937378
          ],
          [
           -0.0844508558511734,
           -0.1438893973827362,
           0.2954246997833252
          ],
          [
           0.02323160320520401,
           -0.030270656570792198,
           -0.3352460563182831
          ]
         ]
        },
        {
         "coloraxis": "coloraxis",
         "colorscale": [
          [
           0,
           "rgb(247,251,255)"
          ],
          [
           0.125,
           "rgb(222,235,247)"
          ],
          [
           0.25,
           "rgb(198,219,239)"
          ],
          [
           0.375,
           "rgb(158,202,225)"
          ],
          [
           0.5,
           "rgb(107,174,214)"
          ],
          [
           0.625,
           "rgb(66,146,198)"
          ],
          [
           0.75,
           "rgb(33,113,181)"
          ],
          [
           0.875,
           "rgb(8,81,156)"
          ],
          [
           1,
           "rgb(8,48,107)"
          ]
         ],
         "type": "heatmap",
         "xaxis": "x11",
         "yaxis": "y11",
         "z": [
          [
           0.24795201420783997,
           -0.007396984845399857,
           0.19999998807907104
          ],
          [
           0.008593371137976646,
           -0.1260138750076294,
           -0.12554077804088593
          ],
          [
           0.17992675304412842,
           0.14153151214122772,
           -0.1338401436805725
          ]
         ]
        },
        {
         "coloraxis": "coloraxis",
         "colorscale": [
          [
           0,
           "rgb(247,251,255)"
          ],
          [
           0.125,
           "rgb(222,235,247)"
          ],
          [
           0.25,
           "rgb(198,219,239)"
          ],
          [
           0.375,
           "rgb(158,202,225)"
          ],
          [
           0.5,
           "rgb(107,174,214)"
          ],
          [
           0.625,
           "rgb(66,146,198)"
          ],
          [
           0.75,
           "rgb(33,113,181)"
          ],
          [
           0.875,
           "rgb(8,81,156)"
          ],
          [
           1,
           "rgb(8,48,107)"
          ]
         ],
         "type": "heatmap",
         "xaxis": "x19",
         "yaxis": "y19",
         "z": [
          [
           -0.14976805448532104,
           0.14211231470108032,
           -0.19369640946388245
          ],
          [
           0.3076658248901367,
           -0.15666836500167847,
           0.038111671805381775
          ],
          [
           0.27189919352531433,
           -0.025789912790060043,
           -0.2502977252006531
          ]
         ]
        },
        {
         "coloraxis": "coloraxis",
         "colorscale": [
          [
           0,
           "rgb(247,251,255)"
          ],
          [
           0.125,
           "rgb(222,235,247)"
          ],
          [
           0.25,
           "rgb(198,219,239)"
          ],
          [
           0.375,
           "rgb(158,202,225)"
          ],
          [
           0.5,
           "rgb(107,174,214)"
          ],
          [
           0.625,
           "rgb(66,146,198)"
          ],
          [
           0.75,
           "rgb(33,113,181)"
          ],
          [
           0.875,
           "rgb(8,81,156)"
          ],
          [
           1,
           "rgb(8,48,107)"
          ]
         ],
         "type": "heatmap",
         "xaxis": "x27",
         "yaxis": "y27",
         "z": [
          [
           0.11555342376232147,
           -0.04363732412457466,
           0.074186772108078
          ],
          [
           0.03671370446681976,
           0.19099853932857513,
           -0.21340930461883545
          ],
          [
           -0.17330823838710785,
           -0.2308419644832611,
           0.1703919917345047
          ]
         ]
        },
        {
         "coloraxis": "coloraxis",
         "colorscale": [
          [
           0,
           "rgb(247,251,255)"
          ],
          [
           0.125,
           "rgb(222,235,247)"
          ],
          [
           0.25,
           "rgb(198,219,239)"
          ],
          [
           0.375,
           "rgb(158,202,225)"
          ],
          [
           0.5,
           "rgb(107,174,214)"
          ],
          [
           0.625,
           "rgb(66,146,198)"
          ],
          [
           0.75,
           "rgb(33,113,181)"
          ],
          [
           0.875,
           "rgb(8,81,156)"
          ],
          [
           1,
           "rgb(8,48,107)"
          ]
         ],
         "type": "heatmap",
         "xaxis": "x35",
         "yaxis": "y35",
         "z": [
          [
           -0.24277962744235992,
           -0.09822148084640503,
           -0.002310782205313444
          ],
          [
           0.18010608851909637,
           -0.23809480667114258,
           -0.06337864696979523
          ],
          [
           0.058848787099123,
           -0.23454219102859497,
           -0.18586018681526184
          ]
         ]
        },
        {
         "coloraxis": "coloraxis",
         "colorscale": [
          [
           0,
           "rgb(247,251,255)"
          ],
          [
           0.125,
           "rgb(222,235,247)"
          ],
          [
           0.25,
           "rgb(198,219,239)"
          ],
          [
           0.375,
           "rgb(158,202,225)"
          ],
          [
           0.5,
           "rgb(107,174,214)"
          ],
          [
           0.625,
           "rgb(66,146,198)"
          ],
          [
           0.75,
           "rgb(33,113,181)"
          ],
          [
           0.875,
           "rgb(8,81,156)"
          ],
          [
           1,
           "rgb(8,48,107)"
          ]
         ],
         "type": "heatmap",
         "xaxis": "x43",
         "yaxis": "y43",
         "z": [
          [
           -0.13784481585025787,
           0.2267126590013504,
           -0.23043815791606903
          ],
          [
           0.04838697239756584,
           0.2697018086910248,
           -0.05552811175584793
          ],
          [
           0.1631898134946823,
           -0.16169796884059906,
           -0.08753370493650436
          ]
         ]
        },
        {
         "coloraxis": "coloraxis",
         "colorscale": [
          [
           0,
           "rgb(247,251,255)"
          ],
          [
           0.125,
           "rgb(222,235,247)"
          ],
          [
           0.25,
           "rgb(198,219,239)"
          ],
          [
           0.375,
           "rgb(158,202,225)"
          ],
          [
           0.5,
           "rgb(107,174,214)"
          ],
          [
           0.625,
           "rgb(66,146,198)"
          ],
          [
           0.75,
           "rgb(33,113,181)"
          ],
          [
           0.875,
           "rgb(8,81,156)"
          ],
          [
           1,
           "rgb(8,48,107)"
          ]
         ],
         "type": "heatmap",
         "xaxis": "x51",
         "yaxis": "y51",
         "z": [
          [
           -0.09801960736513138,
           0.276117742061615,
           -0.047760192304849625
          ],
          [
           -0.15586137771606445,
           0.25649166107177734,
           -0.08350900560617447
          ],
          [
           -0.11738695949316025,
           -0.011975014582276344,
           -0.032385800033807755
          ]
         ]
        },
        {
         "coloraxis": "coloraxis",
         "colorscale": [
          [
           0,
           "rgb(247,251,255)"
          ],
          [
           0.125,
           "rgb(222,235,247)"
          ],
          [
           0.25,
           "rgb(198,219,239)"
          ],
          [
           0.375,
           "rgb(158,202,225)"
          ],
          [
           0.5,
           "rgb(107,174,214)"
          ],
          [
           0.625,
           "rgb(66,146,198)"
          ],
          [
           0.75,
           "rgb(33,113,181)"
          ],
          [
           0.875,
           "rgb(8,81,156)"
          ],
          [
           1,
           "rgb(8,48,107)"
          ]
         ],
         "type": "heatmap",
         "xaxis": "x59",
         "yaxis": "y59",
         "z": [
          [
           -0.14238467812538147,
           0.10242851823568344,
           -0.22876718640327454
          ],
          [
           -0.07070738077163696,
           -0.1574813425540924,
           0.0667329952120781
          ],
          [
           -0.1499650925397873,
           0.2663624882698059,
           0.29881301522254944
          ]
         ]
        },
        {
         "coloraxis": "coloraxis",
         "colorscale": [
          [
           0,
           "rgb(247,251,255)"
          ],
          [
           0.125,
           "rgb(222,235,247)"
          ],
          [
           0.25,
           "rgb(198,219,239)"
          ],
          [
           0.375,
           "rgb(158,202,225)"
          ],
          [
           0.5,
           "rgb(107,174,214)"
          ],
          [
           0.625,
           "rgb(66,146,198)"
          ],
          [
           0.75,
           "rgb(33,113,181)"
          ],
          [
           0.875,
           "rgb(8,81,156)"
          ],
          [
           1,
           "rgb(8,48,107)"
          ]
         ],
         "type": "heatmap",
         "xaxis": "x4",
         "yaxis": "y4",
         "z": [
          [
           0.06491401791572571,
           0.13866779208183289,
           -0.07227322459220886
          ],
          [
           -0.2727341651916504,
           -0.24248075485229492,
           0.2980680465698242
          ],
          [
           -0.24605287611484528,
           -0.09060893207788467,
           -0.0470879003405571
          ]
         ]
        },
        {
         "coloraxis": "coloraxis",
         "colorscale": [
          [
           0,
           "rgb(247,251,255)"
          ],
          [
           0.125,
           "rgb(222,235,247)"
          ],
          [
           0.25,
           "rgb(198,219,239)"
          ],
          [
           0.375,
           "rgb(158,202,225)"
          ],
          [
           0.5,
           "rgb(107,174,214)"
          ],
          [
           0.625,
           "rgb(66,146,198)"
          ],
          [
           0.75,
           "rgb(33,113,181)"
          ],
          [
           0.875,
           "rgb(8,81,156)"
          ],
          [
           1,
           "rgb(8,48,107)"
          ]
         ],
         "type": "heatmap",
         "xaxis": "x12",
         "yaxis": "y12",
         "z": [
          [
           0.013699806295335293,
           -0.13732463121414185,
           -0.10557872802019119
          ],
          [
           0.07425213605165482,
           0.17144212126731873,
           0.16187036037445068
          ],
          [
           -0.1596904993057251,
           -0.227036252617836,
           0.13475829362869263
          ]
         ]
        },
        {
         "coloraxis": "coloraxis",
         "colorscale": [
          [
           0,
           "rgb(247,251,255)"
          ],
          [
           0.125,
           "rgb(222,235,247)"
          ],
          [
           0.25,
           "rgb(198,219,239)"
          ],
          [
           0.375,
           "rgb(158,202,225)"
          ],
          [
           0.5,
           "rgb(107,174,214)"
          ],
          [
           0.625,
           "rgb(66,146,198)"
          ],
          [
           0.75,
           "rgb(33,113,181)"
          ],
          [
           0.875,
           "rgb(8,81,156)"
          ],
          [
           1,
           "rgb(8,48,107)"
          ]
         ],
         "type": "heatmap",
         "xaxis": "x20",
         "yaxis": "y20",
         "z": [
          [
           -0.17379048466682434,
           -0.03598950058221817,
           0.2186390906572342
          ],
          [
           0.29443758726119995,
           -0.1741228997707367,
           0.06162184849381447
          ],
          [
           -0.29487285017967224,
           0.2653064429759979,
           -0.10777539759874344
          ]
         ]
        },
        {
         "coloraxis": "coloraxis",
         "colorscale": [
          [
           0,
           "rgb(247,251,255)"
          ],
          [
           0.125,
           "rgb(222,235,247)"
          ],
          [
           0.25,
           "rgb(198,219,239)"
          ],
          [
           0.375,
           "rgb(158,202,225)"
          ],
          [
           0.5,
           "rgb(107,174,214)"
          ],
          [
           0.625,
           "rgb(66,146,198)"
          ],
          [
           0.75,
           "rgb(33,113,181)"
          ],
          [
           0.875,
           "rgb(8,81,156)"
          ],
          [
           1,
           "rgb(8,48,107)"
          ]
         ],
         "type": "heatmap",
         "xaxis": "x28",
         "yaxis": "y28",
         "z": [
          [
           0.06862135976552963,
           0.22073017060756683,
           -0.2705400586128235
          ],
          [
           -0.23805783689022064,
           -0.035985317081213,
           0.22361505031585693
          ],
          [
           0.053401846438646317,
           0.013833379372954369,
           -0.30558541417121887
          ]
         ]
        },
        {
         "coloraxis": "coloraxis",
         "colorscale": [
          [
           0,
           "rgb(247,251,255)"
          ],
          [
           0.125,
           "rgb(222,235,247)"
          ],
          [
           0.25,
           "rgb(198,219,239)"
          ],
          [
           0.375,
           "rgb(158,202,225)"
          ],
          [
           0.5,
           "rgb(107,174,214)"
          ],
          [
           0.625,
           "rgb(66,146,198)"
          ],
          [
           0.75,
           "rgb(33,113,181)"
          ],
          [
           0.875,
           "rgb(8,81,156)"
          ],
          [
           1,
           "rgb(8,48,107)"
          ]
         ],
         "type": "heatmap",
         "xaxis": "x36",
         "yaxis": "y36",
         "z": [
          [
           0.20364131033420563,
           0.147263303399086,
           0.02918456867337227
          ],
          [
           0.13508081436157227,
           0.14113925397396088,
           0.10333602130413055
          ],
          [
           0.03553655371069908,
           0.15441395342350006,
           0.30838310718536377
          ]
         ]
        },
        {
         "coloraxis": "coloraxis",
         "colorscale": [
          [
           0,
           "rgb(247,251,255)"
          ],
          [
           0.125,
           "rgb(222,235,247)"
          ],
          [
           0.25,
           "rgb(198,219,239)"
          ],
          [
           0.375,
           "rgb(158,202,225)"
          ],
          [
           0.5,
           "rgb(107,174,214)"
          ],
          [
           0.625,
           "rgb(66,146,198)"
          ],
          [
           0.75,
           "rgb(33,113,181)"
          ],
          [
           0.875,
           "rgb(8,81,156)"
          ],
          [
           1,
           "rgb(8,48,107)"
          ]
         ],
         "type": "heatmap",
         "xaxis": "x44",
         "yaxis": "y44",
         "z": [
          [
           -0.2044842690229416,
           0.24174289405345917,
           0.03974750638008118
          ],
          [
           0.2051839828491211,
           -0.15783771872520447,
           -0.09680767357349396
          ],
          [
           -0.19284169375896454,
           -0.11861400306224823,
           0.25170961022377014
          ]
         ]
        },
        {
         "coloraxis": "coloraxis",
         "colorscale": [
          [
           0,
           "rgb(247,251,255)"
          ],
          [
           0.125,
           "rgb(222,235,247)"
          ],
          [
           0.25,
           "rgb(198,219,239)"
          ],
          [
           0.375,
           "rgb(158,202,225)"
          ],
          [
           0.5,
           "rgb(107,174,214)"
          ],
          [
           0.625,
           "rgb(66,146,198)"
          ],
          [
           0.75,
           "rgb(33,113,181)"
          ],
          [
           0.875,
           "rgb(8,81,156)"
          ],
          [
           1,
           "rgb(8,48,107)"
          ]
         ],
         "type": "heatmap",
         "xaxis": "x52",
         "yaxis": "y52",
         "z": [
          [
           -0.1366553008556366,
           -0.2537221610546112,
           0.168371319770813
          ],
          [
           0.22562627494335175,
           -0.11379507184028625,
           0.10167694836854935
          ],
          [
           0.006546356715261936,
           0.1687285602092743,
           -0.17814353108406067
          ]
         ]
        },
        {
         "coloraxis": "coloraxis",
         "colorscale": [
          [
           0,
           "rgb(247,251,255)"
          ],
          [
           0.125,
           "rgb(222,235,247)"
          ],
          [
           0.25,
           "rgb(198,219,239)"
          ],
          [
           0.375,
           "rgb(158,202,225)"
          ],
          [
           0.5,
           "rgb(107,174,214)"
          ],
          [
           0.625,
           "rgb(66,146,198)"
          ],
          [
           0.75,
           "rgb(33,113,181)"
          ],
          [
           0.875,
           "rgb(8,81,156)"
          ],
          [
           1,
           "rgb(8,48,107)"
          ]
         ],
         "type": "heatmap",
         "xaxis": "x60",
         "yaxis": "y60",
         "z": [
          [
           0.1910976767539978,
           0.003246135311201215,
           -0.024174809455871582
          ],
          [
           -0.2505945861339569,
           0.03695886954665184,
           0.291110098361969
          ],
          [
           -0.04166160523891449,
           -0.06623698770999908,
           -0.1873021274805069
          ]
         ]
        },
        {
         "coloraxis": "coloraxis",
         "colorscale": [
          [
           0,
           "rgb(247,251,255)"
          ],
          [
           0.125,
           "rgb(222,235,247)"
          ],
          [
           0.25,
           "rgb(198,219,239)"
          ],
          [
           0.375,
           "rgb(158,202,225)"
          ],
          [
           0.5,
           "rgb(107,174,214)"
          ],
          [
           0.625,
           "rgb(66,146,198)"
          ],
          [
           0.75,
           "rgb(33,113,181)"
          ],
          [
           0.875,
           "rgb(8,81,156)"
          ],
          [
           1,
           "rgb(8,48,107)"
          ]
         ],
         "type": "heatmap",
         "xaxis": "x5",
         "yaxis": "y5",
         "z": [
          [
           0.31414783000946045,
           0.08651704341173172,
           0.19524219632148743
          ],
          [
           -0.2761896848678589,
           -0.18570150434970856,
           0.1542554348707199
          ],
          [
           0.061513569205999374,
           0.1373048573732376,
           0.08019406348466873
          ]
         ]
        },
        {
         "coloraxis": "coloraxis",
         "colorscale": [
          [
           0,
           "rgb(247,251,255)"
          ],
          [
           0.125,
           "rgb(222,235,247)"
          ],
          [
           0.25,
           "rgb(198,219,239)"
          ],
          [
           0.375,
           "rgb(158,202,225)"
          ],
          [
           0.5,
           "rgb(107,174,214)"
          ],
          [
           0.625,
           "rgb(66,146,198)"
          ],
          [
           0.75,
           "rgb(33,113,181)"
          ],
          [
           0.875,
           "rgb(8,81,156)"
          ],
          [
           1,
           "rgb(8,48,107)"
          ]
         ],
         "type": "heatmap",
         "xaxis": "x13",
         "yaxis": "y13",
         "z": [
          [
           0.26941612362861633,
           -0.1405845284461975,
           0.08492117375135422
          ],
          [
           -0.2385099232196808,
           0.034303177148103714,
           -0.04182032123208046
          ],
          [
           0.20554769039154053,
           0.0699530616402626,
           -0.2936897575855255
          ]
         ]
        },
        {
         "coloraxis": "coloraxis",
         "colorscale": [
          [
           0,
           "rgb(247,251,255)"
          ],
          [
           0.125,
           "rgb(222,235,247)"
          ],
          [
           0.25,
           "rgb(198,219,239)"
          ],
          [
           0.375,
           "rgb(158,202,225)"
          ],
          [
           0.5,
           "rgb(107,174,214)"
          ],
          [
           0.625,
           "rgb(66,146,198)"
          ],
          [
           0.75,
           "rgb(33,113,181)"
          ],
          [
           0.875,
           "rgb(8,81,156)"
          ],
          [
           1,
           "rgb(8,48,107)"
          ]
         ],
         "type": "heatmap",
         "xaxis": "x21",
         "yaxis": "y21",
         "z": [
          [
           -0.0803116038441658,
           -0.1436856985092163,
           -0.0757419615983963
          ],
          [
           0.20278649032115936,
           -0.26788604259490967,
           0.017183374613523483
          ],
          [
           -0.12249252945184708,
           -0.0637231320142746,
           0.14129939675331116
          ]
         ]
        },
        {
         "coloraxis": "coloraxis",
         "colorscale": [
          [
           0,
           "rgb(247,251,255)"
          ],
          [
           0.125,
           "rgb(222,235,247)"
          ],
          [
           0.25,
           "rgb(198,219,239)"
          ],
          [
           0.375,
           "rgb(158,202,225)"
          ],
          [
           0.5,
           "rgb(107,174,214)"
          ],
          [
           0.625,
           "rgb(66,146,198)"
          ],
          [
           0.75,
           "rgb(33,113,181)"
          ],
          [
           0.875,
           "rgb(8,81,156)"
          ],
          [
           1,
           "rgb(8,48,107)"
          ]
         ],
         "type": "heatmap",
         "xaxis": "x29",
         "yaxis": "y29",
         "z": [
          [
           -0.12004692852497101,
           -0.11251266300678253,
           -0.07503538578748703
          ],
          [
           -0.19689030945301056,
           -0.12741805613040924,
           0.0476306788623333
          ],
          [
           0.28622549772262573,
           0.14792606234550476,
           0.11353740841150284
          ]
         ]
        },
        {
         "coloraxis": "coloraxis",
         "colorscale": [
          [
           0,
           "rgb(247,251,255)"
          ],
          [
           0.125,
           "rgb(222,235,247)"
          ],
          [
           0.25,
           "rgb(198,219,239)"
          ],
          [
           0.375,
           "rgb(158,202,225)"
          ],
          [
           0.5,
           "rgb(107,174,214)"
          ],
          [
           0.625,
           "rgb(66,146,198)"
          ],
          [
           0.75,
           "rgb(33,113,181)"
          ],
          [
           0.875,
           "rgb(8,81,156)"
          ],
          [
           1,
           "rgb(8,48,107)"
          ]
         ],
         "type": "heatmap",
         "xaxis": "x37",
         "yaxis": "y37",
         "z": [
          [
           0.013369308784604073,
           -0.19152948260307312,
           0.24733008444309235
          ],
          [
           -0.2011641561985016,
           0.01685698702931404,
           0.12926235795021057
          ],
          [
           0.016946518793702126,
           -0.30857059359550476,
           0.2655335068702698
          ]
         ]
        },
        {
         "coloraxis": "coloraxis",
         "colorscale": [
          [
           0,
           "rgb(247,251,255)"
          ],
          [
           0.125,
           "rgb(222,235,247)"
          ],
          [
           0.25,
           "rgb(198,219,239)"
          ],
          [
           0.375,
           "rgb(158,202,225)"
          ],
          [
           0.5,
           "rgb(107,174,214)"
          ],
          [
           0.625,
           "rgb(66,146,198)"
          ],
          [
           0.75,
           "rgb(33,113,181)"
          ],
          [
           0.875,
           "rgb(8,81,156)"
          ],
          [
           1,
           "rgb(8,48,107)"
          ]
         ],
         "type": "heatmap",
         "xaxis": "x45",
         "yaxis": "y45",
         "z": [
          [
           -0.11417693644762039,
           0.01026955433189869,
           -0.23720411956310272
          ],
          [
           -0.23967409133911133,
           0.275938481092453,
           0.2745172083377838
          ],
          [
           -0.09800590574741364,
           -0.057630427181720734,
           -0.20621098577976227
          ]
         ]
        },
        {
         "coloraxis": "coloraxis",
         "colorscale": [
          [
           0,
           "rgb(247,251,255)"
          ],
          [
           0.125,
           "rgb(222,235,247)"
          ],
          [
           0.25,
           "rgb(198,219,239)"
          ],
          [
           0.375,
           "rgb(158,202,225)"
          ],
          [
           0.5,
           "rgb(107,174,214)"
          ],
          [
           0.625,
           "rgb(66,146,198)"
          ],
          [
           0.75,
           "rgb(33,113,181)"
          ],
          [
           0.875,
           "rgb(8,81,156)"
          ],
          [
           1,
           "rgb(8,48,107)"
          ]
         ],
         "type": "heatmap",
         "xaxis": "x53",
         "yaxis": "y53",
         "z": [
          [
           -0.10699351876974106,
           -0.038095325231552124,
           0.2910653352737427
          ],
          [
           -0.046977780759334564,
           -0.30405479669570923,
           -0.1802372932434082
          ],
          [
           -0.06362677365541458,
           0.013613862916827202,
           -0.0662023052573204
          ]
         ]
        },
        {
         "coloraxis": "coloraxis",
         "colorscale": [
          [
           0,
           "rgb(247,251,255)"
          ],
          [
           0.125,
           "rgb(222,235,247)"
          ],
          [
           0.25,
           "rgb(198,219,239)"
          ],
          [
           0.375,
           "rgb(158,202,225)"
          ],
          [
           0.5,
           "rgb(107,174,214)"
          ],
          [
           0.625,
           "rgb(66,146,198)"
          ],
          [
           0.75,
           "rgb(33,113,181)"
          ],
          [
           0.875,
           "rgb(8,81,156)"
          ],
          [
           1,
           "rgb(8,48,107)"
          ]
         ],
         "type": "heatmap",
         "xaxis": "x61",
         "yaxis": "y61",
         "z": [
          [
           0.013459164649248123,
           0.2568163573741913,
           0.17516756057739258
          ],
          [
           0.2723049819469452,
           0.11537078022956848,
           -0.159227192401886
          ],
          [
           -0.30143794417381287,
           -0.20256876945495605,
           -0.2266131490468979
          ]
         ]
        },
        {
         "coloraxis": "coloraxis",
         "colorscale": [
          [
           0,
           "rgb(247,251,255)"
          ],
          [
           0.125,
           "rgb(222,235,247)"
          ],
          [
           0.25,
           "rgb(198,219,239)"
          ],
          [
           0.375,
           "rgb(158,202,225)"
          ],
          [
           0.5,
           "rgb(107,174,214)"
          ],
          [
           0.625,
           "rgb(66,146,198)"
          ],
          [
           0.75,
           "rgb(33,113,181)"
          ],
          [
           0.875,
           "rgb(8,81,156)"
          ],
          [
           1,
           "rgb(8,48,107)"
          ]
         ],
         "type": "heatmap",
         "xaxis": "x6",
         "yaxis": "y6",
         "z": [
          [
           -0.022407475858926773,
           0.2271811068058014,
           -0.2455807626247406
          ],
          [
           0.26344579458236694,
           0.23471710085868835,
           -0.16692449152469635
          ],
          [
           0.12074151635169983,
           0.3202548921108246,
           0.23511448502540588
          ]
         ]
        },
        {
         "coloraxis": "coloraxis",
         "colorscale": [
          [
           0,
           "rgb(247,251,255)"
          ],
          [
           0.125,
           "rgb(222,235,247)"
          ],
          [
           0.25,
           "rgb(198,219,239)"
          ],
          [
           0.375,
           "rgb(158,202,225)"
          ],
          [
           0.5,
           "rgb(107,174,214)"
          ],
          [
           0.625,
           "rgb(66,146,198)"
          ],
          [
           0.75,
           "rgb(33,113,181)"
          ],
          [
           0.875,
           "rgb(8,81,156)"
          ],
          [
           1,
           "rgb(8,48,107)"
          ]
         ],
         "type": "heatmap",
         "xaxis": "x14",
         "yaxis": "y14",
         "z": [
          [
           -0.11780156940221786,
           0.1412222683429718,
           0.05027172341942787
          ],
          [
           0.14042504131793976,
           -0.04497133195400238,
           5.987766780890524E-4
          ],
          [
           0.18630030751228333,
           0.2481645792722702,
           0.015082788653671741
          ]
         ]
        },
        {
         "coloraxis": "coloraxis",
         "colorscale": [
          [
           0,
           "rgb(247,251,255)"
          ],
          [
           0.125,
           "rgb(222,235,247)"
          ],
          [
           0.25,
           "rgb(198,219,239)"
          ],
          [
           0.375,
           "rgb(158,202,225)"
          ],
          [
           0.5,
           "rgb(107,174,214)"
          ],
          [
           0.625,
           "rgb(66,146,198)"
          ],
          [
           0.75,
           "rgb(33,113,181)"
          ],
          [
           0.875,
           "rgb(8,81,156)"
          ],
          [
           1,
           "rgb(8,48,107)"
          ]
         ],
         "type": "heatmap",
         "xaxis": "x22",
         "yaxis": "y22",
         "z": [
          [
           0.010808737948536873,
           -0.03009910136461258,
           0.28102585673332214
          ],
          [
           0.15090827643871307,
           0.21847444772720337,
           -0.1922030746936798
          ],
          [
           -0.11387301236391068,
           -0.29641181230545044,
           -0.09815558046102524
          ]
         ]
        },
        {
         "coloraxis": "coloraxis",
         "colorscale": [
          [
           0,
           "rgb(247,251,255)"
          ],
          [
           0.125,
           "rgb(222,235,247)"
          ],
          [
           0.25,
           "rgb(198,219,239)"
          ],
          [
           0.375,
           "rgb(158,202,225)"
          ],
          [
           0.5,
           "rgb(107,174,214)"
          ],
          [
           0.625,
           "rgb(66,146,198)"
          ],
          [
           0.75,
           "rgb(33,113,181)"
          ],
          [
           0.875,
           "rgb(8,81,156)"
          ],
          [
           1,
           "rgb(8,48,107)"
          ]
         ],
         "type": "heatmap",
         "xaxis": "x30",
         "yaxis": "y30",
         "z": [
          [
           -0.20538556575775146,
           0.17341670393943787,
           0.11334831267595291
          ],
          [
           0.13603247702121735,
           -0.2155478596687317,
           -0.27669447660446167
          ],
          [
           0.2326655387878418,
           0.28157272934913635,
           -0.17823563516139984
          ]
         ]
        },
        {
         "coloraxis": "coloraxis",
         "colorscale": [
          [
           0,
           "rgb(247,251,255)"
          ],
          [
           0.125,
           "rgb(222,235,247)"
          ],
          [
           0.25,
           "rgb(198,219,239)"
          ],
          [
           0.375,
           "rgb(158,202,225)"
          ],
          [
           0.5,
           "rgb(107,174,214)"
          ],
          [
           0.625,
           "rgb(66,146,198)"
          ],
          [
           0.75,
           "rgb(33,113,181)"
          ],
          [
           0.875,
           "rgb(8,81,156)"
          ],
          [
           1,
           "rgb(8,48,107)"
          ]
         ],
         "type": "heatmap",
         "xaxis": "x38",
         "yaxis": "y38",
         "z": [
          [
           -0.036022815853357315,
           0.18704412877559662,
           -0.12295804172754288
          ],
          [
           0.23997387290000916,
           0.07092974334955215,
           0.1908993124961853
          ],
          [
           -0.23487143218517303,
           0.09874756634235382,
           -0.3010391891002655
          ]
         ]
        },
        {
         "coloraxis": "coloraxis",
         "colorscale": [
          [
           0,
           "rgb(247,251,255)"
          ],
          [
           0.125,
           "rgb(222,235,247)"
          ],
          [
           0.25,
           "rgb(198,219,239)"
          ],
          [
           0.375,
           "rgb(158,202,225)"
          ],
          [
           0.5,
           "rgb(107,174,214)"
          ],
          [
           0.625,
           "rgb(66,146,198)"
          ],
          [
           0.75,
           "rgb(33,113,181)"
          ],
          [
           0.875,
           "rgb(8,81,156)"
          ],
          [
           1,
           "rgb(8,48,107)"
          ]
         ],
         "type": "heatmap",
         "xaxis": "x46",
         "yaxis": "y46",
         "z": [
          [
           -0.08246210962533951,
           0.1985984593629837,
           -0.15156541764736176
          ],
          [
           0.005588849540799856,
           0.1503007560968399,
           -0.08338578790426254
          ],
          [
           -0.16294094920158386,
           0.15934905409812927,
           -0.006689013447612524
          ]
         ]
        },
        {
         "coloraxis": "coloraxis",
         "colorscale": [
          [
           0,
           "rgb(247,251,255)"
          ],
          [
           0.125,
           "rgb(222,235,247)"
          ],
          [
           0.25,
           "rgb(198,219,239)"
          ],
          [
           0.375,
           "rgb(158,202,225)"
          ],
          [
           0.5,
           "rgb(107,174,214)"
          ],
          [
           0.625,
           "rgb(66,146,198)"
          ],
          [
           0.75,
           "rgb(33,113,181)"
          ],
          [
           0.875,
           "rgb(8,81,156)"
          ],
          [
           1,
           "rgb(8,48,107)"
          ]
         ],
         "type": "heatmap",
         "xaxis": "x54",
         "yaxis": "y54",
         "z": [
          [
           0.26315411925315857,
           0.09711417555809021,
           -0.09853126108646393
          ],
          [
           -0.125401571393013,
           0.2961480915546417,
           -0.09981046617031097
          ],
          [
           -0.2098887413740158,
           -0.006851607467979193,
           -0.11427831649780273
          ]
         ]
        },
        {
         "coloraxis": "coloraxis",
         "colorscale": [
          [
           0,
           "rgb(247,251,255)"
          ],
          [
           0.125,
           "rgb(222,235,247)"
          ],
          [
           0.25,
           "rgb(198,219,239)"
          ],
          [
           0.375,
           "rgb(158,202,225)"
          ],
          [
           0.5,
           "rgb(107,174,214)"
          ],
          [
           0.625,
           "rgb(66,146,198)"
          ],
          [
           0.75,
           "rgb(33,113,181)"
          ],
          [
           0.875,
           "rgb(8,81,156)"
          ],
          [
           1,
           "rgb(8,48,107)"
          ]
         ],
         "type": "heatmap",
         "xaxis": "x62",
         "yaxis": "y62",
         "z": [
          [
           0.07097774744033813,
           0.3094295263290405,
           0.27711594104766846
          ],
          [
           -0.22846628725528717,
           0.20345747470855713,
           -0.10998214036226273
          ],
          [
           -0.1702713519334793,
           -0.3142273724079132,
           -0.09371478855609894
          ]
         ]
        },
        {
         "coloraxis": "coloraxis",
         "colorscale": [
          [
           0,
           "rgb(247,251,255)"
          ],
          [
           0.125,
           "rgb(222,235,247)"
          ],
          [
           0.25,
           "rgb(198,219,239)"
          ],
          [
           0.375,
           "rgb(158,202,225)"
          ],
          [
           0.5,
           "rgb(107,174,214)"
          ],
          [
           0.625,
           "rgb(66,146,198)"
          ],
          [
           0.75,
           "rgb(33,113,181)"
          ],
          [
           0.875,
           "rgb(8,81,156)"
          ],
          [
           1,
           "rgb(8,48,107)"
          ]
         ],
         "type": "heatmap",
         "xaxis": "x7",
         "yaxis": "y7",
         "z": [
          [
           0.05642557144165039,
           0.3055638074874878,
           0.01323053240776062
          ],
          [
           0.2496303766965866,
           -0.14524142444133759,
           -0.026940645650029182
          ],
          [
           0.20054516196250916,
           0.10572756826877594,
           -0.017573295161128044
          ]
         ]
        },
        {
         "coloraxis": "coloraxis",
         "colorscale": [
          [
           0,
           "rgb(247,251,255)"
          ],
          [
           0.125,
           "rgb(222,235,247)"
          ],
          [
           0.25,
           "rgb(198,219,239)"
          ],
          [
           0.375,
           "rgb(158,202,225)"
          ],
          [
           0.5,
           "rgb(107,174,214)"
          ],
          [
           0.625,
           "rgb(66,146,198)"
          ],
          [
           0.75,
           "rgb(33,113,181)"
          ],
          [
           0.875,
           "rgb(8,81,156)"
          ],
          [
           1,
           "rgb(8,48,107)"
          ]
         ],
         "type": "heatmap",
         "xaxis": "x15",
         "yaxis": "y15",
         "z": [
          [
           -0.026852862909436226,
           -0.13618016242980957,
           -0.10064562410116196
          ],
          [
           0.2901136875152588,
           0.09380881488323212,
           -0.22383128106594086
          ],
          [
           -0.06220906972885132,
           0.13731011748313904,
           -0.129311665892601
          ]
         ]
        },
        {
         "coloraxis": "coloraxis",
         "colorscale": [
          [
           0,
           "rgb(247,251,255)"
          ],
          [
           0.125,
           "rgb(222,235,247)"
          ],
          [
           0.25,
           "rgb(198,219,239)"
          ],
          [
           0.375,
           "rgb(158,202,225)"
          ],
          [
           0.5,
           "rgb(107,174,214)"
          ],
          [
           0.625,
           "rgb(66,146,198)"
          ],
          [
           0.75,
           "rgb(33,113,181)"
          ],
          [
           0.875,
           "rgb(8,81,156)"
          ],
          [
           1,
           "rgb(8,48,107)"
          ]
         ],
         "type": "heatmap",
         "xaxis": "x23",
         "yaxis": "y23",
         "z": [
          [
           -0.1681486964225769,
           -0.02740033157169819,
           0.21580979228019714
          ],
          [
           -0.06410668790340424,
           -0.25662434101104736,
           -0.07110217958688736
          ],
          [
           0.1243564710021019,
           0.2174481451511383,
           -0.07826175540685654
          ]
         ]
        },
        {
         "coloraxis": "coloraxis",
         "colorscale": [
          [
           0,
           "rgb(247,251,255)"
          ],
          [
           0.125,
           "rgb(222,235,247)"
          ],
          [
           0.25,
           "rgb(198,219,239)"
          ],
          [
           0.375,
           "rgb(158,202,225)"
          ],
          [
           0.5,
           "rgb(107,174,214)"
          ],
          [
           0.625,
           "rgb(66,146,198)"
          ],
          [
           0.75,
           "rgb(33,113,181)"
          ],
          [
           0.875,
           "rgb(8,81,156)"
          ],
          [
           1,
           "rgb(8,48,107)"
          ]
         ],
         "type": "heatmap",
         "xaxis": "x31",
         "yaxis": "y31",
         "z": [
          [
           0.2545298933982849,
           -0.03151440620422363,
           0.05147466063499451
          ],
          [
           -0.2674485445022583,
           -0.1508553922176361,
           0.20105022192001343
          ],
          [
           0.06372404098510742,
           0.2592065930366516,
           0.2635088264942169
          ]
         ]
        },
        {
         "coloraxis": "coloraxis",
         "colorscale": [
          [
           0,
           "rgb(247,251,255)"
          ],
          [
           0.125,
           "rgb(222,235,247)"
          ],
          [
           0.25,
           "rgb(198,219,239)"
          ],
          [
           0.375,
           "rgb(158,202,225)"
          ],
          [
           0.5,
           "rgb(107,174,214)"
          ],
          [
           0.625,
           "rgb(66,146,198)"
          ],
          [
           0.75,
           "rgb(33,113,181)"
          ],
          [
           0.875,
           "rgb(8,81,156)"
          ],
          [
           1,
           "rgb(8,48,107)"
          ]
         ],
         "type": "heatmap",
         "xaxis": "x39",
         "yaxis": "y39",
         "z": [
          [
           -0.25935766100883484,
           -0.15392962098121643,
           0.22885052859783173
          ],
          [
           0.015152128413319588,
           0.3046102225780487,
           0.11670832335948944
          ],
          [
           -0.17146183550357819,
           0.12225590646266937,
           -0.24419502913951874
          ]
         ]
        },
        {
         "coloraxis": "coloraxis",
         "colorscale": [
          [
           0,
           "rgb(247,251,255)"
          ],
          [
           0.125,
           "rgb(222,235,247)"
          ],
          [
           0.25,
           "rgb(198,219,239)"
          ],
          [
           0.375,
           "rgb(158,202,225)"
          ],
          [
           0.5,
           "rgb(107,174,214)"
          ],
          [
           0.625,
           "rgb(66,146,198)"
          ],
          [
           0.75,
           "rgb(33,113,181)"
          ],
          [
           0.875,
           "rgb(8,81,156)"
          ],
          [
           1,
           "rgb(8,48,107)"
          ]
         ],
         "type": "heatmap",
         "xaxis": "x47",
         "yaxis": "y47",
         "z": [
          [
           0.05248519033193588,
           0.3487054705619812,
           0.044701751321554184
          ],
          [
           0.12083888798952103,
           -0.16070103645324707,
           0.3170001804828644
          ],
          [
           0.04199628159403801,
           0.07736149430274963,
           -0.22420692443847656
          ]
         ]
        },
        {
         "coloraxis": "coloraxis",
         "colorscale": [
          [
           0,
           "rgb(247,251,255)"
          ],
          [
           0.125,
           "rgb(222,235,247)"
          ],
          [
           0.25,
           "rgb(198,219,239)"
          ],
          [
           0.375,
           "rgb(158,202,225)"
          ],
          [
           0.5,
           "rgb(107,174,214)"
          ],
          [
           0.625,
           "rgb(66,146,198)"
          ],
          [
           0.75,
           "rgb(33,113,181)"
          ],
          [
           0.875,
           "rgb(8,81,156)"
          ],
          [
           1,
           "rgb(8,48,107)"
          ]
         ],
         "type": "heatmap",
         "xaxis": "x55",
         "yaxis": "y55",
         "z": [
          [
           -0.030955001711845398,
           -0.21831947565078735,
           -0.16353608667850494
          ],
          [
           -0.05835021659731865,
           0.02555241994559765,
           -0.200990691781044
          ],
          [
           -0.04750605672597885,
           0.08439807593822479,
           -0.19016462564468384
          ]
         ]
        },
        {
         "coloraxis": "coloraxis",
         "colorscale": [
          [
           0,
           "rgb(247,251,255)"
          ],
          [
           0.125,
           "rgb(222,235,247)"
          ],
          [
           0.25,
           "rgb(198,219,239)"
          ],
          [
           0.375,
           "rgb(158,202,225)"
          ],
          [
           0.5,
           "rgb(107,174,214)"
          ],
          [
           0.625,
           "rgb(66,146,198)"
          ],
          [
           0.75,
           "rgb(33,113,181)"
          ],
          [
           0.875,
           "rgb(8,81,156)"
          ],
          [
           1,
           "rgb(8,48,107)"
          ]
         ],
         "type": "heatmap",
         "xaxis": "x63",
         "yaxis": "y63",
         "z": [
          [
           0.03714786842465401,
           0.0621652789413929,
           -0.1729249358177185
          ],
          [
           0.20022884011268616,
           -0.3024357259273529,
           0.12757843732833862
          ],
          [
           -0.2348274439573288,
           0.03988318890333176,
           0.2378399521112442
          ]
         ]
        },
        {
         "coloraxis": "coloraxis",
         "colorscale": [
          [
           0,
           "rgb(247,251,255)"
          ],
          [
           0.125,
           "rgb(222,235,247)"
          ],
          [
           0.25,
           "rgb(198,219,239)"
          ],
          [
           0.375,
           "rgb(158,202,225)"
          ],
          [
           0.5,
           "rgb(107,174,214)"
          ],
          [
           0.625,
           "rgb(66,146,198)"
          ],
          [
           0.75,
           "rgb(33,113,181)"
          ],
          [
           0.875,
           "rgb(8,81,156)"
          ],
          [
           1,
           "rgb(8,48,107)"
          ]
         ],
         "type": "heatmap",
         "xaxis": "x8",
         "yaxis": "y8",
         "z": [
          [
           -0.2116466760635376,
           -0.2441905438899994,
           -0.1332366019487381
          ],
          [
           0.16761931777000427,
           0.14852797985076904,
           -0.16431282460689545
          ],
          [
           0.2631291151046753,
           0.15558099746704102,
           0.20700380206108093
          ]
         ]
        },
        {
         "coloraxis": "coloraxis",
         "colorscale": [
          [
           0,
           "rgb(247,251,255)"
          ],
          [
           0.125,
           "rgb(222,235,247)"
          ],
          [
           0.25,
           "rgb(198,219,239)"
          ],
          [
           0.375,
           "rgb(158,202,225)"
          ],
          [
           0.5,
           "rgb(107,174,214)"
          ],
          [
           0.625,
           "rgb(66,146,198)"
          ],
          [
           0.75,
           "rgb(33,113,181)"
          ],
          [
           0.875,
           "rgb(8,81,156)"
          ],
          [
           1,
           "rgb(8,48,107)"
          ]
         ],
         "type": "heatmap",
         "xaxis": "x16",
         "yaxis": "y16",
         "z": [
          [
           -0.14992237091064453,
           -0.07297777384519577,
           -0.2091507464647293
          ],
          [
           0.29117685556411743,
           -0.18921002745628357,
           0.30181553959846497
          ],
          [
           0.03426763415336609,
           0.003682781243696809,
           0.014038295485079288
          ]
         ]
        },
        {
         "coloraxis": "coloraxis",
         "colorscale": [
          [
           0,
           "rgb(247,251,255)"
          ],
          [
           0.125,
           "rgb(222,235,247)"
          ],
          [
           0.25,
           "rgb(198,219,239)"
          ],
          [
           0.375,
           "rgb(158,202,225)"
          ],
          [
           0.5,
           "rgb(107,174,214)"
          ],
          [
           0.625,
           "rgb(66,146,198)"
          ],
          [
           0.75,
           "rgb(33,113,181)"
          ],
          [
           0.875,
           "rgb(8,81,156)"
          ],
          [
           1,
           "rgb(8,48,107)"
          ]
         ],
         "type": "heatmap",
         "xaxis": "x24",
         "yaxis": "y24",
         "z": [
          [
           0.08745153993368149,
           0.10940190404653549,
           0.040710192173719406
          ],
          [
           -0.2194691002368927,
           -0.2700396478176117,
           -0.14214788377285004
          ],
          [
           -0.22033871710300446,
           -0.14462730288505554,
           0.2659175992012024
          ]
         ]
        },
        {
         "coloraxis": "coloraxis",
         "colorscale": [
          [
           0,
           "rgb(247,251,255)"
          ],
          [
           0.125,
           "rgb(222,235,247)"
          ],
          [
           0.25,
           "rgb(198,219,239)"
          ],
          [
           0.375,
           "rgb(158,202,225)"
          ],
          [
           0.5,
           "rgb(107,174,214)"
          ],
          [
           0.625,
           "rgb(66,146,198)"
          ],
          [
           0.75,
           "rgb(33,113,181)"
          ],
          [
           0.875,
           "rgb(8,81,156)"
          ],
          [
           1,
           "rgb(8,48,107)"
          ]
         ],
         "type": "heatmap",
         "xaxis": "x32",
         "yaxis": "y32",
         "z": [
          [
           0.09152243286371231,
           -0.10815850645303726,
           0.11805881559848785
          ],
          [
           -0.11508043110370636,
           -0.24564911425113678,
           -0.20499621331691742
          ],
          [
           -0.25398552417755127,
           -0.32138511538505554,
           -0.1310252845287323
          ]
         ]
        },
        {
         "coloraxis": "coloraxis",
         "colorscale": [
          [
           0,
           "rgb(247,251,255)"
          ],
          [
           0.125,
           "rgb(222,235,247)"
          ],
          [
           0.25,
           "rgb(198,219,239)"
          ],
          [
           0.375,
           "rgb(158,202,225)"
          ],
          [
           0.5,
           "rgb(107,174,214)"
          ],
          [
           0.625,
           "rgb(66,146,198)"
          ],
          [
           0.75,
           "rgb(33,113,181)"
          ],
          [
           0.875,
           "rgb(8,81,156)"
          ],
          [
           1,
           "rgb(8,48,107)"
          ]
         ],
         "type": "heatmap",
         "xaxis": "x40",
         "yaxis": "y40",
         "z": [
          [
           -0.09926288574934006,
           0.32032516598701477,
           0.2867871820926666
          ],
          [
           0.1777947098016739,
           0.23567894101142883,
           -0.05525057390332222
          ],
          [
           -0.08640698343515396,
           0.03330313414335251,
           -0.07802407443523407
          ]
         ]
        },
        {
         "coloraxis": "coloraxis",
         "colorscale": [
          [
           0,
           "rgb(247,251,255)"
          ],
          [
           0.125,
           "rgb(222,235,247)"
          ],
          [
           0.25,
           "rgb(198,219,239)"
          ],
          [
           0.375,
           "rgb(158,202,225)"
          ],
          [
           0.5,
           "rgb(107,174,214)"
          ],
          [
           0.625,
           "rgb(66,146,198)"
          ],
          [
           0.75,
           "rgb(33,113,181)"
          ],
          [
           0.875,
           "rgb(8,81,156)"
          ],
          [
           1,
           "rgb(8,48,107)"
          ]
         ],
         "type": "heatmap",
         "xaxis": "x48",
         "yaxis": "y48",
         "z": [
          [
           -0.03800529986619949,
           0.33773937821388245,
           0.30384179949760437
          ],
          [
           0.16660186648368835,
           0.15199866890907288,
           1.4816502516623586E-4
          ],
          [
           0.24477659165859222,
           0.1717989593744278,
           -0.023460261523723602
          ]
         ]
        },
        {
         "coloraxis": "coloraxis",
         "colorscale": [
          [
           0,
           "rgb(247,251,255)"
          ],
          [
           0.125,
           "rgb(222,235,247)"
          ],
          [
           0.25,
           "rgb(198,219,239)"
          ],
          [
           0.375,
           "rgb(158,202,225)"
          ],
          [
           0.5,
           "rgb(107,174,214)"
          ],
          [
           0.625,
           "rgb(66,146,198)"
          ],
          [
           0.75,
           "rgb(33,113,181)"
          ],
          [
           0.875,
           "rgb(8,81,156)"
          ],
          [
           1,
           "rgb(8,48,107)"
          ]
         ],
         "type": "heatmap",
         "xaxis": "x56",
         "yaxis": "y56",
         "z": [
          [
           0.1915901005268097,
           -0.2979607880115509,
           0.08225032687187195
          ],
          [
           -0.22896581888198853,
           -0.20143811404705048,
           0.3086833357810974
          ],
          [
           0.26545730233192444,
           -0.0581509992480278,
           -0.10350015759468079
          ]
         ]
        },
        {
         "coloraxis": "coloraxis",
         "colorscale": [
          [
           0,
           "rgb(247,251,255)"
          ],
          [
           0.125,
           "rgb(222,235,247)"
          ],
          [
           0.25,
           "rgb(198,219,239)"
          ],
          [
           0.375,
           "rgb(158,202,225)"
          ],
          [
           0.5,
           "rgb(107,174,214)"
          ],
          [
           0.625,
           "rgb(66,146,198)"
          ],
          [
           0.75,
           "rgb(33,113,181)"
          ],
          [
           0.875,
           "rgb(8,81,156)"
          ],
          [
           1,
           "rgb(8,48,107)"
          ]
         ],
         "type": "heatmap",
         "xaxis": "x64",
         "yaxis": "y64",
         "z": [
          [
           0.07619345933198929,
           -0.1951768696308136,
           0.19252951443195343
          ],
          [
           -0.14033083617687225,
           0.11653439700603485,
           0.13315145671367645
          ],
          [
           0.06379960477352142,
           0.010559546761214733,
           -0.26881006360054016
          ]
         ]
        }
       ],
       "layout": {
        "annotations": [
         {
          "font": {
           "size": 10
          },
          "showarrow": false,
          "text": "Filter 1",
          "x": 0.0515625,
          "xanchor": "center",
          "xref": "paper",
          "y": 1,
          "yanchor": "bottom",
          "yref": "paper"
         },
         {
          "font": {
           "size": 10
          },
          "showarrow": false,
          "text": "Filter 2",
          "x": 0.1796875,
          "xanchor": "center",
          "xref": "paper",
          "y": 1,
          "yanchor": "bottom",
          "yref": "paper"
         },
         {
          "font": {
           "size": 10
          },
          "showarrow": false,
          "text": "Filter 3",
          "x": 0.3078125,
          "xanchor": "center",
          "xref": "paper",
          "y": 1,
          "yanchor": "bottom",
          "yref": "paper"
         },
         {
          "font": {
           "size": 10
          },
          "showarrow": false,
          "text": "Filter 4",
          "x": 0.4359375,
          "xanchor": "center",
          "xref": "paper",
          "y": 1,
          "yanchor": "bottom",
          "yref": "paper"
         },
         {
          "font": {
           "size": 10
          },
          "showarrow": false,
          "text": "Filter 5",
          "x": 0.5640624999999999,
          "xanchor": "center",
          "xref": "paper",
          "y": 1,
          "yanchor": "bottom",
          "yref": "paper"
         },
         {
          "font": {
           "size": 10
          },
          "showarrow": false,
          "text": "Filter 6",
          "x": 0.6921875,
          "xanchor": "center",
          "xref": "paper",
          "y": 1,
          "yanchor": "bottom",
          "yref": "paper"
         },
         {
          "font": {
           "size": 10
          },
          "showarrow": false,
          "text": "Filter 7",
          "x": 0.8203125,
          "xanchor": "center",
          "xref": "paper",
          "y": 1,
          "yanchor": "bottom",
          "yref": "paper"
         },
         {
          "font": {
           "size": 10
          },
          "showarrow": false,
          "text": "Filter 8",
          "x": 0.9484375,
          "xanchor": "center",
          "xref": "paper",
          "y": 1,
          "yanchor": "bottom",
          "yref": "paper"
         },
         {
          "font": {
           "size": 10
          },
          "showarrow": false,
          "text": "Filter 9",
          "x": 0.0515625,
          "xanchor": "center",
          "xref": "paper",
          "y": 0.8671875,
          "yanchor": "bottom",
          "yref": "paper"
         },
         {
          "font": {
           "size": 10
          },
          "showarrow": false,
          "text": "Filter 10",
          "x": 0.1796875,
          "xanchor": "center",
          "xref": "paper",
          "y": 0.8671875,
          "yanchor": "bottom",
          "yref": "paper"
         },
         {
          "font": {
           "size": 10
          },
          "showarrow": false,
          "text": "Filter 11",
          "x": 0.3078125,
          "xanchor": "center",
          "xref": "paper",
          "y": 0.8671875,
          "yanchor": "bottom",
          "yref": "paper"
         },
         {
          "font": {
           "size": 10
          },
          "showarrow": false,
          "text": "Filter 12",
          "x": 0.4359375,
          "xanchor": "center",
          "xref": "paper",
          "y": 0.8671875,
          "yanchor": "bottom",
          "yref": "paper"
         },
         {
          "font": {
           "size": 10
          },
          "showarrow": false,
          "text": "Filter 13",
          "x": 0.5640624999999999,
          "xanchor": "center",
          "xref": "paper",
          "y": 0.8671875,
          "yanchor": "bottom",
          "yref": "paper"
         },
         {
          "font": {
           "size": 10
          },
          "showarrow": false,
          "text": "Filter 14",
          "x": 0.6921875,
          "xanchor": "center",
          "xref": "paper",
          "y": 0.8671875,
          "yanchor": "bottom",
          "yref": "paper"
         },
         {
          "font": {
           "size": 10
          },
          "showarrow": false,
          "text": "Filter 15",
          "x": 0.8203125,
          "xanchor": "center",
          "xref": "paper",
          "y": 0.8671875,
          "yanchor": "bottom",
          "yref": "paper"
         },
         {
          "font": {
           "size": 10
          },
          "showarrow": false,
          "text": "Filter 16",
          "x": 0.9484375,
          "xanchor": "center",
          "xref": "paper",
          "y": 0.8671875,
          "yanchor": "bottom",
          "yref": "paper"
         },
         {
          "font": {
           "size": 10
          },
          "showarrow": false,
          "text": "Filter 17",
          "x": 0.0515625,
          "xanchor": "center",
          "xref": "paper",
          "y": 0.734375,
          "yanchor": "bottom",
          "yref": "paper"
         },
         {
          "font": {
           "size": 10
          },
          "showarrow": false,
          "text": "Filter 18",
          "x": 0.1796875,
          "xanchor": "center",
          "xref": "paper",
          "y": 0.734375,
          "yanchor": "bottom",
          "yref": "paper"
         },
         {
          "font": {
           "size": 10
          },
          "showarrow": false,
          "text": "Filter 19",
          "x": 0.3078125,
          "xanchor": "center",
          "xref": "paper",
          "y": 0.734375,
          "yanchor": "bottom",
          "yref": "paper"
         },
         {
          "font": {
           "size": 10
          },
          "showarrow": false,
          "text": "Filter 20",
          "x": 0.4359375,
          "xanchor": "center",
          "xref": "paper",
          "y": 0.734375,
          "yanchor": "bottom",
          "yref": "paper"
         },
         {
          "font": {
           "size": 10
          },
          "showarrow": false,
          "text": "Filter 21",
          "x": 0.5640624999999999,
          "xanchor": "center",
          "xref": "paper",
          "y": 0.734375,
          "yanchor": "bottom",
          "yref": "paper"
         },
         {
          "font": {
           "size": 10
          },
          "showarrow": false,
          "text": "Filter 22",
          "x": 0.6921875,
          "xanchor": "center",
          "xref": "paper",
          "y": 0.734375,
          "yanchor": "bottom",
          "yref": "paper"
         },
         {
          "font": {
           "size": 10
          },
          "showarrow": false,
          "text": "Filter 23",
          "x": 0.8203125,
          "xanchor": "center",
          "xref": "paper",
          "y": 0.734375,
          "yanchor": "bottom",
          "yref": "paper"
         },
         {
          "font": {
           "size": 10
          },
          "showarrow": false,
          "text": "Filter 24",
          "x": 0.9484375,
          "xanchor": "center",
          "xref": "paper",
          "y": 0.734375,
          "yanchor": "bottom",
          "yref": "paper"
         },
         {
          "font": {
           "size": 10
          },
          "showarrow": false,
          "text": "Filter 25",
          "x": 0.0515625,
          "xanchor": "center",
          "xref": "paper",
          "y": 0.6015625,
          "yanchor": "bottom",
          "yref": "paper"
         },
         {
          "font": {
           "size": 10
          },
          "showarrow": false,
          "text": "Filter 26",
          "x": 0.1796875,
          "xanchor": "center",
          "xref": "paper",
          "y": 0.6015625,
          "yanchor": "bottom",
          "yref": "paper"
         },
         {
          "font": {
           "size": 10
          },
          "showarrow": false,
          "text": "Filter 27",
          "x": 0.3078125,
          "xanchor": "center",
          "xref": "paper",
          "y": 0.6015625,
          "yanchor": "bottom",
          "yref": "paper"
         },
         {
          "font": {
           "size": 10
          },
          "showarrow": false,
          "text": "Filter 28",
          "x": 0.4359375,
          "xanchor": "center",
          "xref": "paper",
          "y": 0.6015625,
          "yanchor": "bottom",
          "yref": "paper"
         },
         {
          "font": {
           "size": 10
          },
          "showarrow": false,
          "text": "Filter 29",
          "x": 0.5640624999999999,
          "xanchor": "center",
          "xref": "paper",
          "y": 0.6015625,
          "yanchor": "bottom",
          "yref": "paper"
         },
         {
          "font": {
           "size": 10
          },
          "showarrow": false,
          "text": "Filter 30",
          "x": 0.6921875,
          "xanchor": "center",
          "xref": "paper",
          "y": 0.6015625,
          "yanchor": "bottom",
          "yref": "paper"
         },
         {
          "font": {
           "size": 10
          },
          "showarrow": false,
          "text": "Filter 31",
          "x": 0.8203125,
          "xanchor": "center",
          "xref": "paper",
          "y": 0.6015625,
          "yanchor": "bottom",
          "yref": "paper"
         },
         {
          "font": {
           "size": 10
          },
          "showarrow": false,
          "text": "Filter 32",
          "x": 0.9484375,
          "xanchor": "center",
          "xref": "paper",
          "y": 0.6015625,
          "yanchor": "bottom",
          "yref": "paper"
         },
         {
          "font": {
           "size": 10
          },
          "showarrow": false,
          "text": "Filter 33",
          "x": 0.0515625,
          "xanchor": "center",
          "xref": "paper",
          "y": 0.46875,
          "yanchor": "bottom",
          "yref": "paper"
         },
         {
          "font": {
           "size": 10
          },
          "showarrow": false,
          "text": "Filter 34",
          "x": 0.1796875,
          "xanchor": "center",
          "xref": "paper",
          "y": 0.46875,
          "yanchor": "bottom",
          "yref": "paper"
         },
         {
          "font": {
           "size": 10
          },
          "showarrow": false,
          "text": "Filter 35",
          "x": 0.3078125,
          "xanchor": "center",
          "xref": "paper",
          "y": 0.46875,
          "yanchor": "bottom",
          "yref": "paper"
         },
         {
          "font": {
           "size": 10
          },
          "showarrow": false,
          "text": "Filter 36",
          "x": 0.4359375,
          "xanchor": "center",
          "xref": "paper",
          "y": 0.46875,
          "yanchor": "bottom",
          "yref": "paper"
         },
         {
          "font": {
           "size": 10
          },
          "showarrow": false,
          "text": "Filter 37",
          "x": 0.5640624999999999,
          "xanchor": "center",
          "xref": "paper",
          "y": 0.46875,
          "yanchor": "bottom",
          "yref": "paper"
         },
         {
          "font": {
           "size": 10
          },
          "showarrow": false,
          "text": "Filter 38",
          "x": 0.6921875,
          "xanchor": "center",
          "xref": "paper",
          "y": 0.46875,
          "yanchor": "bottom",
          "yref": "paper"
         },
         {
          "font": {
           "size": 10
          },
          "showarrow": false,
          "text": "Filter 39",
          "x": 0.8203125,
          "xanchor": "center",
          "xref": "paper",
          "y": 0.46875,
          "yanchor": "bottom",
          "yref": "paper"
         },
         {
          "font": {
           "size": 10
          },
          "showarrow": false,
          "text": "Filter 40",
          "x": 0.9484375,
          "xanchor": "center",
          "xref": "paper",
          "y": 0.46875,
          "yanchor": "bottom",
          "yref": "paper"
         },
         {
          "font": {
           "size": 10
          },
          "showarrow": false,
          "text": "Filter 41",
          "x": 0.0515625,
          "xanchor": "center",
          "xref": "paper",
          "y": 0.3359375,
          "yanchor": "bottom",
          "yref": "paper"
         },
         {
          "font": {
           "size": 10
          },
          "showarrow": false,
          "text": "Filter 42",
          "x": 0.1796875,
          "xanchor": "center",
          "xref": "paper",
          "y": 0.3359375,
          "yanchor": "bottom",
          "yref": "paper"
         },
         {
          "font": {
           "size": 10
          },
          "showarrow": false,
          "text": "Filter 43",
          "x": 0.3078125,
          "xanchor": "center",
          "xref": "paper",
          "y": 0.3359375,
          "yanchor": "bottom",
          "yref": "paper"
         },
         {
          "font": {
           "size": 10
          },
          "showarrow": false,
          "text": "Filter 44",
          "x": 0.4359375,
          "xanchor": "center",
          "xref": "paper",
          "y": 0.3359375,
          "yanchor": "bottom",
          "yref": "paper"
         },
         {
          "font": {
           "size": 10
          },
          "showarrow": false,
          "text": "Filter 45",
          "x": 0.5640624999999999,
          "xanchor": "center",
          "xref": "paper",
          "y": 0.3359375,
          "yanchor": "bottom",
          "yref": "paper"
         },
         {
          "font": {
           "size": 10
          },
          "showarrow": false,
          "text": "Filter 46",
          "x": 0.6921875,
          "xanchor": "center",
          "xref": "paper",
          "y": 0.3359375,
          "yanchor": "bottom",
          "yref": "paper"
         },
         {
          "font": {
           "size": 10
          },
          "showarrow": false,
          "text": "Filter 47",
          "x": 0.8203125,
          "xanchor": "center",
          "xref": "paper",
          "y": 0.3359375,
          "yanchor": "bottom",
          "yref": "paper"
         },
         {
          "font": {
           "size": 10
          },
          "showarrow": false,
          "text": "Filter 48",
          "x": 0.9484375,
          "xanchor": "center",
          "xref": "paper",
          "y": 0.3359375,
          "yanchor": "bottom",
          "yref": "paper"
         },
         {
          "font": {
           "size": 10
          },
          "showarrow": false,
          "text": "Filter 49",
          "x": 0.0515625,
          "xanchor": "center",
          "xref": "paper",
          "y": 0.203125,
          "yanchor": "bottom",
          "yref": "paper"
         },
         {
          "font": {
           "size": 10
          },
          "showarrow": false,
          "text": "Filter 50",
          "x": 0.1796875,
          "xanchor": "center",
          "xref": "paper",
          "y": 0.203125,
          "yanchor": "bottom",
          "yref": "paper"
         },
         {
          "font": {
           "size": 10
          },
          "showarrow": false,
          "text": "Filter 51",
          "x": 0.3078125,
          "xanchor": "center",
          "xref": "paper",
          "y": 0.203125,
          "yanchor": "bottom",
          "yref": "paper"
         },
         {
          "font": {
           "size": 10
          },
          "showarrow": false,
          "text": "Filter 52",
          "x": 0.4359375,
          "xanchor": "center",
          "xref": "paper",
          "y": 0.203125,
          "yanchor": "bottom",
          "yref": "paper"
         },
         {
          "font": {
           "size": 10
          },
          "showarrow": false,
          "text": "Filter 53",
          "x": 0.5640624999999999,
          "xanchor": "center",
          "xref": "paper",
          "y": 0.203125,
          "yanchor": "bottom",
          "yref": "paper"
         },
         {
          "font": {
           "size": 10
          },
          "showarrow": false,
          "text": "Filter 54",
          "x": 0.6921875,
          "xanchor": "center",
          "xref": "paper",
          "y": 0.203125,
          "yanchor": "bottom",
          "yref": "paper"
         },
         {
          "font": {
           "size": 10
          },
          "showarrow": false,
          "text": "Filter 55",
          "x": 0.8203125,
          "xanchor": "center",
          "xref": "paper",
          "y": 0.203125,
          "yanchor": "bottom",
          "yref": "paper"
         },
         {
          "font": {
           "size": 10
          },
          "showarrow": false,
          "text": "Filter 56",
          "x": 0.9484375,
          "xanchor": "center",
          "xref": "paper",
          "y": 0.203125,
          "yanchor": "bottom",
          "yref": "paper"
         },
         {
          "font": {
           "size": 10
          },
          "showarrow": false,
          "text": "Filter 57",
          "x": 0.0515625,
          "xanchor": "center",
          "xref": "paper",
          "y": 0.0703125,
          "yanchor": "bottom",
          "yref": "paper"
         },
         {
          "font": {
           "size": 10
          },
          "showarrow": false,
          "text": "Filter 58",
          "x": 0.1796875,
          "xanchor": "center",
          "xref": "paper",
          "y": 0.0703125,
          "yanchor": "bottom",
          "yref": "paper"
         },
         {
          "font": {
           "size": 10
          },
          "showarrow": false,
          "text": "Filter 59",
          "x": 0.3078125,
          "xanchor": "center",
          "xref": "paper",
          "y": 0.0703125,
          "yanchor": "bottom",
          "yref": "paper"
         },
         {
          "font": {
           "size": 10
          },
          "showarrow": false,
          "text": "Filter 60",
          "x": 0.4359375,
          "xanchor": "center",
          "xref": "paper",
          "y": 0.0703125,
          "yanchor": "bottom",
          "yref": "paper"
         },
         {
          "font": {
           "size": 10
          },
          "showarrow": false,
          "text": "Filter 61",
          "x": 0.5640624999999999,
          "xanchor": "center",
          "xref": "paper",
          "y": 0.0703125,
          "yanchor": "bottom",
          "yref": "paper"
         },
         {
          "font": {
           "size": 10
          },
          "showarrow": false,
          "text": "Filter 62",
          "x": 0.6921875,
          "xanchor": "center",
          "xref": "paper",
          "y": 0.0703125,
          "yanchor": "bottom",
          "yref": "paper"
         },
         {
          "font": {
           "size": 10
          },
          "showarrow": false,
          "text": "Filter 63",
          "x": 0.8203125,
          "xanchor": "center",
          "xref": "paper",
          "y": 0.0703125,
          "yanchor": "bottom",
          "yref": "paper"
         },
         {
          "font": {
           "size": 10
          },
          "showarrow": false,
          "text": "Filter 64",
          "x": 0.9484375,
          "xanchor": "center",
          "xref": "paper",
          "y": 0.0703125,
          "yanchor": "bottom",
          "yref": "paper"
         }
        ],
        "autosize": false,
        "height": 700,
        "margin": {
         "b": 10,
         "l": 10,
         "r": 200,
         "t": 20
        },
        "template": {
         "data": {
          "bar": [
           {
            "error_x": {
             "color": "#2a3f5f"
            },
            "error_y": {
             "color": "#2a3f5f"
            },
            "marker": {
             "line": {
              "color": "#E5ECF6",
              "width": 0.5
             },
             "pattern": {
              "fillmode": "overlay",
              "size": 10,
              "solidity": 0.2
             }
            },
            "type": "bar"
           }
          ],
          "barpolar": [
           {
            "marker": {
             "line": {
              "color": "#E5ECF6",
              "width": 0.5
             },
             "pattern": {
              "fillmode": "overlay",
              "size": 10,
              "solidity": 0.2
             }
            },
            "type": "barpolar"
           }
          ],
          "carpet": [
           {
            "aaxis": {
             "endlinecolor": "#2a3f5f",
             "gridcolor": "white",
             "linecolor": "white",
             "minorgridcolor": "white",
             "startlinecolor": "#2a3f5f"
            },
            "baxis": {
             "endlinecolor": "#2a3f5f",
             "gridcolor": "white",
             "linecolor": "white",
             "minorgridcolor": "white",
             "startlinecolor": "#2a3f5f"
            },
            "type": "carpet"
           }
          ],
          "choropleth": [
           {
            "colorbar": {
             "outlinewidth": 0,
             "ticks": ""
            },
            "type": "choropleth"
           }
          ],
          "contour": [
           {
            "colorbar": {
             "outlinewidth": 0,
             "ticks": ""
            },
            "colorscale": [
             [
              0,
              "#0d0887"
             ],
             [
              0.1111111111111111,
              "#46039f"
             ],
             [
              0.2222222222222222,
              "#7201a8"
             ],
             [
              0.3333333333333333,
              "#9c179e"
             ],
             [
              0.4444444444444444,
              "#bd3786"
             ],
             [
              0.5555555555555556,
              "#d8576b"
             ],
             [
              0.6666666666666666,
              "#ed7953"
             ],
             [
              0.7777777777777778,
              "#fb9f3a"
             ],
             [
              0.8888888888888888,
              "#fdca26"
             ],
             [
              1,
              "#f0f921"
             ]
            ],
            "type": "contour"
           }
          ],
          "contourcarpet": [
           {
            "colorbar": {
             "outlinewidth": 0,
             "ticks": ""
            },
            "type": "contourcarpet"
           }
          ],
          "heatmap": [
           {
            "colorbar": {
             "outlinewidth": 0,
             "ticks": ""
            },
            "colorscale": [
             [
              0,
              "#0d0887"
             ],
             [
              0.1111111111111111,
              "#46039f"
             ],
             [
              0.2222222222222222,
              "#7201a8"
             ],
             [
              0.3333333333333333,
              "#9c179e"
             ],
             [
              0.4444444444444444,
              "#bd3786"
             ],
             [
              0.5555555555555556,
              "#d8576b"
             ],
             [
              0.6666666666666666,
              "#ed7953"
             ],
             [
              0.7777777777777778,
              "#fb9f3a"
             ],
             [
              0.8888888888888888,
              "#fdca26"
             ],
             [
              1,
              "#f0f921"
             ]
            ],
            "type": "heatmap"
           }
          ],
          "heatmapgl": [
           {
            "colorbar": {
             "outlinewidth": 0,
             "ticks": ""
            },
            "colorscale": [
             [
              0,
              "#0d0887"
             ],
             [
              0.1111111111111111,
              "#46039f"
             ],
             [
              0.2222222222222222,
              "#7201a8"
             ],
             [
              0.3333333333333333,
              "#9c179e"
             ],
             [
              0.4444444444444444,
              "#bd3786"
             ],
             [
              0.5555555555555556,
              "#d8576b"
             ],
             [
              0.6666666666666666,
              "#ed7953"
             ],
             [
              0.7777777777777778,
              "#fb9f3a"
             ],
             [
              0.8888888888888888,
              "#fdca26"
             ],
             [
              1,
              "#f0f921"
             ]
            ],
            "type": "heatmapgl"
           }
          ],
          "histogram": [
           {
            "marker": {
             "pattern": {
              "fillmode": "overlay",
              "size": 10,
              "solidity": 0.2
             }
            },
            "type": "histogram"
           }
          ],
          "histogram2d": [
           {
            "colorbar": {
             "outlinewidth": 0,
             "ticks": ""
            },
            "colorscale": [
             [
              0,
              "#0d0887"
             ],
             [
              0.1111111111111111,
              "#46039f"
             ],
             [
              0.2222222222222222,
              "#7201a8"
             ],
             [
              0.3333333333333333,
              "#9c179e"
             ],
             [
              0.4444444444444444,
              "#bd3786"
             ],
             [
              0.5555555555555556,
              "#d8576b"
             ],
             [
              0.6666666666666666,
              "#ed7953"
             ],
             [
              0.7777777777777778,
              "#fb9f3a"
             ],
             [
              0.8888888888888888,
              "#fdca26"
             ],
             [
              1,
              "#f0f921"
             ]
            ],
            "type": "histogram2d"
           }
          ],
          "histogram2dcontour": [
           {
            "colorbar": {
             "outlinewidth": 0,
             "ticks": ""
            },
            "colorscale": [
             [
              0,
              "#0d0887"
             ],
             [
              0.1111111111111111,
              "#46039f"
             ],
             [
              0.2222222222222222,
              "#7201a8"
             ],
             [
              0.3333333333333333,
              "#9c179e"
             ],
             [
              0.4444444444444444,
              "#bd3786"
             ],
             [
              0.5555555555555556,
              "#d8576b"
             ],
             [
              0.6666666666666666,
              "#ed7953"
             ],
             [
              0.7777777777777778,
              "#fb9f3a"
             ],
             [
              0.8888888888888888,
              "#fdca26"
             ],
             [
              1,
              "#f0f921"
             ]
            ],
            "type": "histogram2dcontour"
           }
          ],
          "mesh3d": [
           {
            "colorbar": {
             "outlinewidth": 0,
             "ticks": ""
            },
            "type": "mesh3d"
           }
          ],
          "parcoords": [
           {
            "line": {
             "colorbar": {
              "outlinewidth": 0,
              "ticks": ""
             }
            },
            "type": "parcoords"
           }
          ],
          "pie": [
           {
            "automargin": true,
            "type": "pie"
           }
          ],
          "scatter": [
           {
            "fillpattern": {
             "fillmode": "overlay",
             "size": 10,
             "solidity": 0.2
            },
            "type": "scatter"
           }
          ],
          "scatter3d": [
           {
            "line": {
             "colorbar": {
              "outlinewidth": 0,
              "ticks": ""
             }
            },
            "marker": {
             "colorbar": {
              "outlinewidth": 0,
              "ticks": ""
             }
            },
            "type": "scatter3d"
           }
          ],
          "scattercarpet": [
           {
            "marker": {
             "colorbar": {
              "outlinewidth": 0,
              "ticks": ""
             }
            },
            "type": "scattercarpet"
           }
          ],
          "scattergeo": [
           {
            "marker": {
             "colorbar": {
              "outlinewidth": 0,
              "ticks": ""
             }
            },
            "type": "scattergeo"
           }
          ],
          "scattergl": [
           {
            "marker": {
             "colorbar": {
              "outlinewidth": 0,
              "ticks": ""
             }
            },
            "type": "scattergl"
           }
          ],
          "scattermapbox": [
           {
            "marker": {
             "colorbar": {
              "outlinewidth": 0,
              "ticks": ""
             }
            },
            "type": "scattermapbox"
           }
          ],
          "scatterpolar": [
           {
            "marker": {
             "colorbar": {
              "outlinewidth": 0,
              "ticks": ""
             }
            },
            "type": "scatterpolar"
           }
          ],
          "scatterpolargl": [
           {
            "marker": {
             "colorbar": {
              "outlinewidth": 0,
              "ticks": ""
             }
            },
            "type": "scatterpolargl"
           }
          ],
          "scatterternary": [
           {
            "marker": {
             "colorbar": {
              "outlinewidth": 0,
              "ticks": ""
             }
            },
            "type": "scatterternary"
           }
          ],
          "surface": [
           {
            "colorbar": {
             "outlinewidth": 0,
             "ticks": ""
            },
            "colorscale": [
             [
              0,
              "#0d0887"
             ],
             [
              0.1111111111111111,
              "#46039f"
             ],
             [
              0.2222222222222222,
              "#7201a8"
             ],
             [
              0.3333333333333333,
              "#9c179e"
             ],
             [
              0.4444444444444444,
              "#bd3786"
             ],
             [
              0.5555555555555556,
              "#d8576b"
             ],
             [
              0.6666666666666666,
              "#ed7953"
             ],
             [
              0.7777777777777778,
              "#fb9f3a"
             ],
             [
              0.8888888888888888,
              "#fdca26"
             ],
             [
              1,
              "#f0f921"
             ]
            ],
            "type": "surface"
           }
          ],
          "table": [
           {
            "cells": {
             "fill": {
              "color": "#EBF0F8"
             },
             "line": {
              "color": "white"
             }
            },
            "header": {
             "fill": {
              "color": "#C8D4E3"
             },
             "line": {
              "color": "white"
             }
            },
            "type": "table"
           }
          ]
         },
         "layout": {
          "annotationdefaults": {
           "arrowcolor": "#2a3f5f",
           "arrowhead": 0,
           "arrowwidth": 1
          },
          "autotypenumbers": "strict",
          "coloraxis": {
           "colorbar": {
            "outlinewidth": 0,
            "ticks": ""
           }
          },
          "colorscale": {
           "diverging": [
            [
             0,
             "#8e0152"
            ],
            [
             0.1,
             "#c51b7d"
            ],
            [
             0.2,
             "#de77ae"
            ],
            [
             0.3,
             "#f1b6da"
            ],
            [
             0.4,
             "#fde0ef"
            ],
            [
             0.5,
             "#f7f7f7"
            ],
            [
             0.6,
             "#e6f5d0"
            ],
            [
             0.7,
             "#b8e186"
            ],
            [
             0.8,
             "#7fbc41"
            ],
            [
             0.9,
             "#4d9221"
            ],
            [
             1,
             "#276419"
            ]
           ],
           "sequential": [
            [
             0,
             "#0d0887"
            ],
            [
             0.1111111111111111,
             "#46039f"
            ],
            [
             0.2222222222222222,
             "#7201a8"
            ],
            [
             0.3333333333333333,
             "#9c179e"
            ],
            [
             0.4444444444444444,
             "#bd3786"
            ],
            [
             0.5555555555555556,
             "#d8576b"
            ],
            [
             0.6666666666666666,
             "#ed7953"
            ],
            [
             0.7777777777777778,
             "#fb9f3a"
            ],
            [
             0.8888888888888888,
             "#fdca26"
            ],
            [
             1,
             "#f0f921"
            ]
           ],
           "sequentialminus": [
            [
             0,
             "#0d0887"
            ],
            [
             0.1111111111111111,
             "#46039f"
            ],
            [
             0.2222222222222222,
             "#7201a8"
            ],
            [
             0.3333333333333333,
             "#9c179e"
            ],
            [
             0.4444444444444444,
             "#bd3786"
            ],
            [
             0.5555555555555556,
             "#d8576b"
            ],
            [
             0.6666666666666666,
             "#ed7953"
            ],
            [
             0.7777777777777778,
             "#fb9f3a"
            ],
            [
             0.8888888888888888,
             "#fdca26"
            ],
            [
             1,
             "#f0f921"
            ]
           ]
          },
          "colorway": [
           "#636efa",
           "#EF553B",
           "#00cc96",
           "#ab63fa",
           "#FFA15A",
           "#19d3f3",
           "#FF6692",
           "#B6E880",
           "#FF97FF",
           "#FECB52"
          ],
          "font": {
           "color": "#2a3f5f"
          },
          "geo": {
           "bgcolor": "white",
           "lakecolor": "white",
           "landcolor": "#E5ECF6",
           "showlakes": true,
           "showland": true,
           "subunitcolor": "white"
          },
          "hoverlabel": {
           "align": "left"
          },
          "hovermode": "closest",
          "mapbox": {
           "style": "light"
          },
          "paper_bgcolor": "white",
          "plot_bgcolor": "#E5ECF6",
          "polar": {
           "angularaxis": {
            "gridcolor": "white",
            "linecolor": "white",
            "ticks": ""
           },
           "bgcolor": "#E5ECF6",
           "radialaxis": {
            "gridcolor": "white",
            "linecolor": "white",
            "ticks": ""
           }
          },
          "scene": {
           "xaxis": {
            "backgroundcolor": "#E5ECF6",
            "gridcolor": "white",
            "gridwidth": 2,
            "linecolor": "white",
            "showbackground": true,
            "ticks": "",
            "zerolinecolor": "white"
           },
           "yaxis": {
            "backgroundcolor": "#E5ECF6",
            "gridcolor": "white",
            "gridwidth": 2,
            "linecolor": "white",
            "showbackground": true,
            "ticks": "",
            "zerolinecolor": "white"
           },
           "zaxis": {
            "backgroundcolor": "#E5ECF6",
            "gridcolor": "white",
            "gridwidth": 2,
            "linecolor": "white",
            "showbackground": true,
            "ticks": "",
            "zerolinecolor": "white"
           }
          },
          "shapedefaults": {
           "line": {
            "color": "#2a3f5f"
           }
          },
          "ternary": {
           "aaxis": {
            "gridcolor": "white",
            "linecolor": "white",
            "ticks": ""
           },
           "baxis": {
            "gridcolor": "white",
            "linecolor": "white",
            "ticks": ""
           },
           "bgcolor": "#E5ECF6",
           "caxis": {
            "gridcolor": "white",
            "linecolor": "white",
            "ticks": ""
           }
          },
          "title": {
           "x": 0.05
          },
          "xaxis": {
           "automargin": true,
           "gridcolor": "white",
           "linecolor": "white",
           "ticks": "",
           "title": {
            "standoff": 15
           },
           "zerolinecolor": "white",
           "zerolinewidth": 2
          },
          "yaxis": {
           "automargin": true,
           "gridcolor": "white",
           "linecolor": "white",
           "ticks": "",
           "title": {
            "standoff": 15
           },
           "zerolinecolor": "white",
           "zerolinewidth": 2
          }
         }
        },
        "width": 700,
        "xaxis": {
         "anchor": "y",
         "domain": [
          0,
          0.103125
         ]
        },
        "xaxis10": {
         "anchor": "y10",
         "domain": [
          0.128125,
          0.23124999999999998
         ]
        },
        "xaxis11": {
         "anchor": "y11",
         "domain": [
          0.25625,
          0.359375
         ]
        },
        "xaxis12": {
         "anchor": "y12",
         "domain": [
          0.38437499999999997,
          0.48749999999999993
         ]
        },
        "xaxis13": {
         "anchor": "y13",
         "domain": [
          0.5125,
          0.615625
         ]
        },
        "xaxis14": {
         "anchor": "y14",
         "domain": [
          0.640625,
          0.74375
         ]
        },
        "xaxis15": {
         "anchor": "y15",
         "domain": [
          0.76875,
          0.8718750000000001
         ]
        },
        "xaxis16": {
         "anchor": "y16",
         "domain": [
          0.8968750000000001,
          1
         ]
        },
        "xaxis17": {
         "anchor": "y17",
         "domain": [
          0,
          0.103125
         ]
        },
        "xaxis18": {
         "anchor": "y18",
         "domain": [
          0.128125,
          0.23124999999999998
         ]
        },
        "xaxis19": {
         "anchor": "y19",
         "domain": [
          0.25625,
          0.359375
         ]
        },
        "xaxis2": {
         "anchor": "y2",
         "domain": [
          0.128125,
          0.23124999999999998
         ]
        },
        "xaxis20": {
         "anchor": "y20",
         "domain": [
          0.38437499999999997,
          0.48749999999999993
         ]
        },
        "xaxis21": {
         "anchor": "y21",
         "domain": [
          0.5125,
          0.615625
         ]
        },
        "xaxis22": {
         "anchor": "y22",
         "domain": [
          0.640625,
          0.74375
         ]
        },
        "xaxis23": {
         "anchor": "y23",
         "domain": [
          0.76875,
          0.8718750000000001
         ]
        },
        "xaxis24": {
         "anchor": "y24",
         "domain": [
          0.8968750000000001,
          1
         ]
        },
        "xaxis25": {
         "anchor": "y25",
         "domain": [
          0,
          0.103125
         ]
        },
        "xaxis26": {
         "anchor": "y26",
         "domain": [
          0.128125,
          0.23124999999999998
         ]
        },
        "xaxis27": {
         "anchor": "y27",
         "domain": [
          0.25625,
          0.359375
         ]
        },
        "xaxis28": {
         "anchor": "y28",
         "domain": [
          0.38437499999999997,
          0.48749999999999993
         ]
        },
        "xaxis29": {
         "anchor": "y29",
         "domain": [
          0.5125,
          0.615625
         ]
        },
        "xaxis3": {
         "anchor": "y3",
         "domain": [
          0.25625,
          0.359375
         ]
        },
        "xaxis30": {
         "anchor": "y30",
         "domain": [
          0.640625,
          0.74375
         ]
        },
        "xaxis31": {
         "anchor": "y31",
         "domain": [
          0.76875,
          0.8718750000000001
         ]
        },
        "xaxis32": {
         "anchor": "y32",
         "domain": [
          0.8968750000000001,
          1
         ]
        },
        "xaxis33": {
         "anchor": "y33",
         "domain": [
          0,
          0.103125
         ]
        },
        "xaxis34": {
         "anchor": "y34",
         "domain": [
          0.128125,
          0.23124999999999998
         ]
        },
        "xaxis35": {
         "anchor": "y35",
         "domain": [
          0.25625,
          0.359375
         ]
        },
        "xaxis36": {
         "anchor": "y36",
         "domain": [
          0.38437499999999997,
          0.48749999999999993
         ]
        },
        "xaxis37": {
         "anchor": "y37",
         "domain": [
          0.5125,
          0.615625
         ]
        },
        "xaxis38": {
         "anchor": "y38",
         "domain": [
          0.640625,
          0.74375
         ]
        },
        "xaxis39": {
         "anchor": "y39",
         "domain": [
          0.76875,
          0.8718750000000001
         ]
        },
        "xaxis4": {
         "anchor": "y4",
         "domain": [
          0.38437499999999997,
          0.48749999999999993
         ]
        },
        "xaxis40": {
         "anchor": "y40",
         "domain": [
          0.8968750000000001,
          1
         ]
        },
        "xaxis41": {
         "anchor": "y41",
         "domain": [
          0,
          0.103125
         ]
        },
        "xaxis42": {
         "anchor": "y42",
         "domain": [
          0.128125,
          0.23124999999999998
         ]
        },
        "xaxis43": {
         "anchor": "y43",
         "domain": [
          0.25625,
          0.359375
         ]
        },
        "xaxis44": {
         "anchor": "y44",
         "domain": [
          0.38437499999999997,
          0.48749999999999993
         ]
        },
        "xaxis45": {
         "anchor": "y45",
         "domain": [
          0.5125,
          0.615625
         ]
        },
        "xaxis46": {
         "anchor": "y46",
         "domain": [
          0.640625,
          0.74375
         ]
        },
        "xaxis47": {
         "anchor": "y47",
         "domain": [
          0.76875,
          0.8718750000000001
         ]
        },
        "xaxis48": {
         "anchor": "y48",
         "domain": [
          0.8968750000000001,
          1
         ]
        },
        "xaxis49": {
         "anchor": "y49",
         "domain": [
          0,
          0.103125
         ]
        },
        "xaxis5": {
         "anchor": "y5",
         "domain": [
          0.5125,
          0.615625
         ]
        },
        "xaxis50": {
         "anchor": "y50",
         "domain": [
          0.128125,
          0.23124999999999998
         ]
        },
        "xaxis51": {
         "anchor": "y51",
         "domain": [
          0.25625,
          0.359375
         ]
        },
        "xaxis52": {
         "anchor": "y52",
         "domain": [
          0.38437499999999997,
          0.48749999999999993
         ]
        },
        "xaxis53": {
         "anchor": "y53",
         "domain": [
          0.5125,
          0.615625
         ]
        },
        "xaxis54": {
         "anchor": "y54",
         "domain": [
          0.640625,
          0.74375
         ]
        },
        "xaxis55": {
         "anchor": "y55",
         "domain": [
          0.76875,
          0.8718750000000001
         ]
        },
        "xaxis56": {
         "anchor": "y56",
         "domain": [
          0.8968750000000001,
          1
         ]
        },
        "xaxis57": {
         "anchor": "y57",
         "domain": [
          0,
          0.103125
         ]
        },
        "xaxis58": {
         "anchor": "y58",
         "domain": [
          0.128125,
          0.23124999999999998
         ]
        },
        "xaxis59": {
         "anchor": "y59",
         "domain": [
          0.25625,
          0.359375
         ]
        },
        "xaxis6": {
         "anchor": "y6",
         "domain": [
          0.640625,
          0.74375
         ]
        },
        "xaxis60": {
         "anchor": "y60",
         "domain": [
          0.38437499999999997,
          0.48749999999999993
         ]
        },
        "xaxis61": {
         "anchor": "y61",
         "domain": [
          0.5125,
          0.615625
         ]
        },
        "xaxis62": {
         "anchor": "y62",
         "domain": [
          0.640625,
          0.74375
         ]
        },
        "xaxis63": {
         "anchor": "y63",
         "domain": [
          0.76875,
          0.8718750000000001
         ]
        },
        "xaxis64": {
         "anchor": "y64",
         "domain": [
          0.8968750000000001,
          1
         ]
        },
        "xaxis7": {
         "anchor": "y7",
         "domain": [
          0.76875,
          0.8718750000000001
         ]
        },
        "xaxis8": {
         "anchor": "y8",
         "domain": [
          0.8968750000000001,
          1
         ]
        },
        "xaxis9": {
         "anchor": "y9",
         "domain": [
          0,
          0.103125
         ]
        },
        "yaxis": {
         "anchor": "x",
         "autorange": true,
         "domain": [
          0.9296875,
          1
         ]
        },
        "yaxis10": {
         "anchor": "x10",
         "autorange": true,
         "domain": [
          0.796875,
          0.8671875
         ]
        },
        "yaxis11": {
         "anchor": "x11",
         "autorange": true,
         "domain": [
          0.796875,
          0.8671875
         ]
        },
        "yaxis12": {
         "anchor": "x12",
         "autorange": true,
         "domain": [
          0.796875,
          0.8671875
         ]
        },
        "yaxis13": {
         "anchor": "x13",
         "autorange": true,
         "domain": [
          0.796875,
          0.8671875
         ]
        },
        "yaxis14": {
         "anchor": "x14",
         "autorange": true,
         "domain": [
          0.796875,
          0.8671875
         ]
        },
        "yaxis15": {
         "anchor": "x15",
         "autorange": true,
         "domain": [
          0.796875,
          0.8671875
         ]
        },
        "yaxis16": {
         "anchor": "x16",
         "autorange": true,
         "domain": [
          0.796875,
          0.8671875
         ]
        },
        "yaxis17": {
         "anchor": "x17",
         "autorange": true,
         "domain": [
          0.6640625,
          0.734375
         ]
        },
        "yaxis18": {
         "anchor": "x18",
         "autorange": true,
         "domain": [
          0.6640625,
          0.734375
         ]
        },
        "yaxis19": {
         "anchor": "x19",
         "autorange": true,
         "domain": [
          0.6640625,
          0.734375
         ]
        },
        "yaxis2": {
         "anchor": "x2",
         "autorange": true,
         "domain": [
          0.9296875,
          1
         ]
        },
        "yaxis20": {
         "anchor": "x20",
         "autorange": true,
         "domain": [
          0.6640625,
          0.734375
         ]
        },
        "yaxis21": {
         "anchor": "x21",
         "autorange": true,
         "domain": [
          0.6640625,
          0.734375
         ]
        },
        "yaxis22": {
         "anchor": "x22",
         "autorange": true,
         "domain": [
          0.6640625,
          0.734375
         ]
        },
        "yaxis23": {
         "anchor": "x23",
         "autorange": true,
         "domain": [
          0.6640625,
          0.734375
         ]
        },
        "yaxis24": {
         "anchor": "x24",
         "autorange": true,
         "domain": [
          0.6640625,
          0.734375
         ]
        },
        "yaxis25": {
         "anchor": "x25",
         "autorange": true,
         "domain": [
          0.53125,
          0.6015625
         ]
        },
        "yaxis26": {
         "anchor": "x26",
         "autorange": true,
         "domain": [
          0.53125,
          0.6015625
         ]
        },
        "yaxis27": {
         "anchor": "x27",
         "autorange": true,
         "domain": [
          0.53125,
          0.6015625
         ]
        },
        "yaxis28": {
         "anchor": "x28",
         "autorange": true,
         "domain": [
          0.53125,
          0.6015625
         ]
        },
        "yaxis29": {
         "anchor": "x29",
         "autorange": true,
         "domain": [
          0.53125,
          0.6015625
         ]
        },
        "yaxis3": {
         "anchor": "x3",
         "autorange": true,
         "domain": [
          0.9296875,
          1
         ]
        },
        "yaxis30": {
         "anchor": "x30",
         "autorange": true,
         "domain": [
          0.53125,
          0.6015625
         ]
        },
        "yaxis31": {
         "anchor": "x31",
         "autorange": true,
         "domain": [
          0.53125,
          0.6015625
         ]
        },
        "yaxis32": {
         "anchor": "x32",
         "autorange": true,
         "domain": [
          0.53125,
          0.6015625
         ]
        },
        "yaxis33": {
         "anchor": "x33",
         "autorange": true,
         "domain": [
          0.3984375,
          0.46875
         ]
        },
        "yaxis34": {
         "anchor": "x34",
         "autorange": true,
         "domain": [
          0.3984375,
          0.46875
         ]
        },
        "yaxis35": {
         "anchor": "x35",
         "autorange": true,
         "domain": [
          0.3984375,
          0.46875
         ]
        },
        "yaxis36": {
         "anchor": "x36",
         "autorange": true,
         "domain": [
          0.3984375,
          0.46875
         ]
        },
        "yaxis37": {
         "anchor": "x37",
         "autorange": true,
         "domain": [
          0.3984375,
          0.46875
         ]
        },
        "yaxis38": {
         "anchor": "x38",
         "autorange": true,
         "domain": [
          0.3984375,
          0.46875
         ]
        },
        "yaxis39": {
         "anchor": "x39",
         "autorange": true,
         "domain": [
          0.3984375,
          0.46875
         ]
        },
        "yaxis4": {
         "anchor": "x4",
         "autorange": true,
         "domain": [
          0.9296875,
          1
         ]
        },
        "yaxis40": {
         "anchor": "x40",
         "autorange": true,
         "domain": [
          0.3984375,
          0.46875
         ]
        },
        "yaxis41": {
         "anchor": "x41",
         "autorange": true,
         "domain": [
          0.265625,
          0.3359375
         ]
        },
        "yaxis42": {
         "anchor": "x42",
         "autorange": true,
         "domain": [
          0.265625,
          0.3359375
         ]
        },
        "yaxis43": {
         "anchor": "x43",
         "autorange": true,
         "domain": [
          0.265625,
          0.3359375
         ]
        },
        "yaxis44": {
         "anchor": "x44",
         "autorange": true,
         "domain": [
          0.265625,
          0.3359375
         ]
        },
        "yaxis45": {
         "anchor": "x45",
         "autorange": true,
         "domain": [
          0.265625,
          0.3359375
         ]
        },
        "yaxis46": {
         "anchor": "x46",
         "autorange": true,
         "domain": [
          0.265625,
          0.3359375
         ]
        },
        "yaxis47": {
         "anchor": "x47",
         "autorange": true,
         "domain": [
          0.265625,
          0.3359375
         ]
        },
        "yaxis48": {
         "anchor": "x48",
         "autorange": true,
         "domain": [
          0.265625,
          0.3359375
         ]
        },
        "yaxis49": {
         "anchor": "x49",
         "autorange": true,
         "domain": [
          0.1328125,
          0.203125
         ]
        },
        "yaxis5": {
         "anchor": "x5",
         "autorange": true,
         "domain": [
          0.9296875,
          1
         ]
        },
        "yaxis50": {
         "anchor": "x50",
         "autorange": true,
         "domain": [
          0.1328125,
          0.203125
         ]
        },
        "yaxis51": {
         "anchor": "x51",
         "autorange": true,
         "domain": [
          0.1328125,
          0.203125
         ]
        },
        "yaxis52": {
         "anchor": "x52",
         "autorange": true,
         "domain": [
          0.1328125,
          0.203125
         ]
        },
        "yaxis53": {
         "anchor": "x53",
         "autorange": true,
         "domain": [
          0.1328125,
          0.203125
         ]
        },
        "yaxis54": {
         "anchor": "x54",
         "autorange": true,
         "domain": [
          0.1328125,
          0.203125
         ]
        },
        "yaxis55": {
         "anchor": "x55",
         "autorange": true,
         "domain": [
          0.1328125,
          0.203125
         ]
        },
        "yaxis56": {
         "anchor": "x56",
         "autorange": true,
         "domain": [
          0.1328125,
          0.203125
         ]
        },
        "yaxis57": {
         "anchor": "x57",
         "autorange": true,
         "domain": [
          0,
          0.0703125
         ]
        },
        "yaxis58": {
         "anchor": "x58",
         "autorange": true,
         "domain": [
          0,
          0.0703125
         ]
        },
        "yaxis59": {
         "anchor": "x59",
         "autorange": true,
         "domain": [
          0,
          0.0703125
         ]
        },
        "yaxis6": {
         "anchor": "x6",
         "autorange": true,
         "domain": [
          0.9296875,
          1
         ]
        },
        "yaxis60": {
         "anchor": "x60",
         "autorange": true,
         "domain": [
          0,
          0.0703125
         ]
        },
        "yaxis61": {
         "anchor": "x61",
         "autorange": true,
         "domain": [
          0,
          0.0703125
         ]
        },
        "yaxis62": {
         "anchor": "x62",
         "autorange": true,
         "domain": [
          0,
          0.0703125
         ]
        },
        "yaxis63": {
         "anchor": "x63",
         "autorange": true,
         "domain": [
          0,
          0.0703125
         ]
        },
        "yaxis64": {
         "anchor": "x64",
         "autorange": true,
         "domain": [
          0,
          0.0703125
         ]
        },
        "yaxis7": {
         "anchor": "x7",
         "autorange": true,
         "domain": [
          0.9296875,
          1
         ]
        },
        "yaxis8": {
         "anchor": "x8",
         "autorange": true,
         "domain": [
          0.9296875,
          1
         ]
        },
        "yaxis9": {
         "anchor": "x9",
         "autorange": true,
         "domain": [
          0.796875,
          0.8671875
         ]
        }
       }
      },
      "text/html": [
       "<div>                            <div id=\"dce4e7c9-f441-4d61-90f5-d9d7eb2c3d1b\" class=\"plotly-graph-div\" style=\"height:700px; width:700px;\"></div>            <script type=\"text/javascript\">                require([\"plotly\"], function(Plotly) {                    window.PLOTLYENV=window.PLOTLYENV || {};                                    if (document.getElementById(\"dce4e7c9-f441-4d61-90f5-d9d7eb2c3d1b\")) {                    Plotly.newPlot(                        \"dce4e7c9-f441-4d61-90f5-d9d7eb2c3d1b\",                        [{\"coloraxis\":\"coloraxis\",\"colorscale\":[[0.0,\"rgb(247,251,255)\"],[0.125,\"rgb(222,235,247)\"],[0.25,\"rgb(198,219,239)\"],[0.375,\"rgb(158,202,225)\"],[0.5,\"rgb(107,174,214)\"],[0.625,\"rgb(66,146,198)\"],[0.75,\"rgb(33,113,181)\"],[0.875,\"rgb(8,81,156)\"],[1.0,\"rgb(8,48,107)\"]],\"z\":[[-0.0194846298545599,-0.13450826704502106,0.16052526235580444],[-0.32911351323127747,-0.15505217015743256,-0.23047158122062683],[-0.1822313666343689,-0.054280344396829605,-0.0016763926250860095]],\"type\":\"heatmap\",\"xaxis\":\"x\",\"yaxis\":\"y\"},{\"coloraxis\":\"coloraxis\",\"colorscale\":[[0.0,\"rgb(247,251,255)\"],[0.125,\"rgb(222,235,247)\"],[0.25,\"rgb(198,219,239)\"],[0.375,\"rgb(158,202,225)\"],[0.5,\"rgb(107,174,214)\"],[0.625,\"rgb(66,146,198)\"],[0.75,\"rgb(33,113,181)\"],[0.875,\"rgb(8,81,156)\"],[1.0,\"rgb(8,48,107)\"]],\"z\":[[-0.28811612725257874,0.07113104313611984,0.0683097094297409],[0.07965414971113205,0.188160702586174,0.08297395706176758],[-0.3010849058628082,0.2928370535373688,-0.0022199475206434727]],\"type\":\"heatmap\",\"xaxis\":\"x9\",\"yaxis\":\"y9\"},{\"coloraxis\":\"coloraxis\",\"colorscale\":[[0.0,\"rgb(247,251,255)\"],[0.125,\"rgb(222,235,247)\"],[0.25,\"rgb(198,219,239)\"],[0.375,\"rgb(158,202,225)\"],[0.5,\"rgb(107,174,214)\"],[0.625,\"rgb(66,146,198)\"],[0.75,\"rgb(33,113,181)\"],[0.875,\"rgb(8,81,156)\"],[1.0,\"rgb(8,48,107)\"]],\"z\":[[-0.21879181265830994,0.22835290431976318,-0.04563860595226288],[-0.15858350694179535,-0.13521194458007812,-0.2651557922363281],[-0.2092290073633194,0.25842732191085815,-0.30164816975593567]],\"type\":\"heatmap\",\"xaxis\":\"x17\",\"yaxis\":\"y17\"},{\"coloraxis\":\"coloraxis\",\"colorscale\":[[0.0,\"rgb(247,251,255)\"],[0.125,\"rgb(222,235,247)\"],[0.25,\"rgb(198,219,239)\"],[0.375,\"rgb(158,202,225)\"],[0.5,\"rgb(107,174,214)\"],[0.625,\"rgb(66,146,198)\"],[0.75,\"rgb(33,113,181)\"],[0.875,\"rgb(8,81,156)\"],[1.0,\"rgb(8,48,107)\"]],\"z\":[[-0.17465956509113312,0.2902190387248993,-0.2681589722633362],[-0.2092248946428299,0.23662036657333374,0.13859368860721588],[0.022116342559456825,0.09630358964204788,-0.14931082725524902]],\"type\":\"heatmap\",\"xaxis\":\"x25\",\"yaxis\":\"y25\"},{\"coloraxis\":\"coloraxis\",\"colorscale\":[[0.0,\"rgb(247,251,255)\"],[0.125,\"rgb(222,235,247)\"],[0.25,\"rgb(198,219,239)\"],[0.375,\"rgb(158,202,225)\"],[0.5,\"rgb(107,174,214)\"],[0.625,\"rgb(66,146,198)\"],[0.75,\"rgb(33,113,181)\"],[0.875,\"rgb(8,81,156)\"],[1.0,\"rgb(8,48,107)\"]],\"z\":[[-0.07513575255870819,0.22091363370418549,0.28039440512657166],[0.20793093740940094,-0.20700813829898834,0.15620264410972595],[0.06575038284063339,0.0318775400519371,0.30030369758605957]],\"type\":\"heatmap\",\"xaxis\":\"x33\",\"yaxis\":\"y33\"},{\"coloraxis\":\"coloraxis\",\"colorscale\":[[0.0,\"rgb(247,251,255)\"],[0.125,\"rgb(222,235,247)\"],[0.25,\"rgb(198,219,239)\"],[0.375,\"rgb(158,202,225)\"],[0.5,\"rgb(107,174,214)\"],[0.625,\"rgb(66,146,198)\"],[0.75,\"rgb(33,113,181)\"],[0.875,\"rgb(8,81,156)\"],[1.0,\"rgb(8,48,107)\"]],\"z\":[[0.10807297378778458,-0.12111026793718338,0.06511934846639633],[0.20060093700885773,-0.18125931918621063,0.22053341567516327],[0.13157382607460022,0.15763074159622192,-0.18564298748970032]],\"type\":\"heatmap\",\"xaxis\":\"x41\",\"yaxis\":\"y41\"},{\"coloraxis\":\"coloraxis\",\"colorscale\":[[0.0,\"rgb(247,251,255)\"],[0.125,\"rgb(222,235,247)\"],[0.25,\"rgb(198,219,239)\"],[0.375,\"rgb(158,202,225)\"],[0.5,\"rgb(107,174,214)\"],[0.625,\"rgb(66,146,198)\"],[0.75,\"rgb(33,113,181)\"],[0.875,\"rgb(8,81,156)\"],[1.0,\"rgb(8,48,107)\"]],\"z\":[[0.1355210691690445,-0.16772028803825378,-0.08304993063211441],[0.1398136168718338,-0.01940918155014515,-0.24845531582832336],[0.20166721940040588,-0.19288505613803864,0.11775795370340347]],\"type\":\"heatmap\",\"xaxis\":\"x49\",\"yaxis\":\"y49\"},{\"coloraxis\":\"coloraxis\",\"colorscale\":[[0.0,\"rgb(247,251,255)\"],[0.125,\"rgb(222,235,247)\"],[0.25,\"rgb(198,219,239)\"],[0.375,\"rgb(158,202,225)\"],[0.5,\"rgb(107,174,214)\"],[0.625,\"rgb(66,146,198)\"],[0.75,\"rgb(33,113,181)\"],[0.875,\"rgb(8,81,156)\"],[1.0,\"rgb(8,48,107)\"]],\"z\":[[0.2668209969997406,-0.2854175865650177,-0.24668791890144348],[0.02341155707836151,0.24442918598651886,-0.2531885802745819],[0.11782857030630112,0.13730868697166443,0.01329486258327961]],\"type\":\"heatmap\",\"xaxis\":\"x57\",\"yaxis\":\"y57\"},{\"coloraxis\":\"coloraxis\",\"colorscale\":[[0.0,\"rgb(247,251,255)\"],[0.125,\"rgb(222,235,247)\"],[0.25,\"rgb(198,219,239)\"],[0.375,\"rgb(158,202,225)\"],[0.5,\"rgb(107,174,214)\"],[0.625,\"rgb(66,146,198)\"],[0.75,\"rgb(33,113,181)\"],[0.875,\"rgb(8,81,156)\"],[1.0,\"rgb(8,48,107)\"]],\"z\":[[0.010167851112782955,-0.1020498275756836,0.04077852889895439],[0.21792662143707275,0.19149190187454224,-0.21614161133766174],[0.04566805809736252,-0.33474817872047424,0.21337610483169556]],\"type\":\"heatmap\",\"xaxis\":\"x2\",\"yaxis\":\"y2\"},{\"coloraxis\":\"coloraxis\",\"colorscale\":[[0.0,\"rgb(247,251,255)\"],[0.125,\"rgb(222,235,247)\"],[0.25,\"rgb(198,219,239)\"],[0.375,\"rgb(158,202,225)\"],[0.5,\"rgb(107,174,214)\"],[0.625,\"rgb(66,146,198)\"],[0.75,\"rgb(33,113,181)\"],[0.875,\"rgb(8,81,156)\"],[1.0,\"rgb(8,48,107)\"]],\"z\":[[0.33373212814331055,0.17822416126728058,-0.12073884904384613],[0.11671752482652664,-0.05531282722949982,-0.04807592183351517],[-0.09588874876499176,-0.22624972462654114,-0.2297680824995041]],\"type\":\"heatmap\",\"xaxis\":\"x10\",\"yaxis\":\"y10\"},{\"coloraxis\":\"coloraxis\",\"colorscale\":[[0.0,\"rgb(247,251,255)\"],[0.125,\"rgb(222,235,247)\"],[0.25,\"rgb(198,219,239)\"],[0.375,\"rgb(158,202,225)\"],[0.5,\"rgb(107,174,214)\"],[0.625,\"rgb(66,146,198)\"],[0.75,\"rgb(33,113,181)\"],[0.875,\"rgb(8,81,156)\"],[1.0,\"rgb(8,48,107)\"]],\"z\":[[-0.04675319045782089,-0.16306836903095245,-0.14340506494045258],[0.0626169890165329,0.3220469653606415,0.04839644953608513],[0.20238454639911652,0.28034812211990356,0.23004794120788574]],\"type\":\"heatmap\",\"xaxis\":\"x18\",\"yaxis\":\"y18\"},{\"coloraxis\":\"coloraxis\",\"colorscale\":[[0.0,\"rgb(247,251,255)\"],[0.125,\"rgb(222,235,247)\"],[0.25,\"rgb(198,219,239)\"],[0.375,\"rgb(158,202,225)\"],[0.5,\"rgb(107,174,214)\"],[0.625,\"rgb(66,146,198)\"],[0.75,\"rgb(33,113,181)\"],[0.875,\"rgb(8,81,156)\"],[1.0,\"rgb(8,48,107)\"]],\"z\":[[-0.047607000917196274,-0.1635517179965973,0.04130815714597702],[0.2571641206741333,0.0038008515257388353,-0.053870633244514465],[-0.17292705178260803,0.11810503900051117,0.055237311869859695]],\"type\":\"heatmap\",\"xaxis\":\"x26\",\"yaxis\":\"y26\"},{\"coloraxis\":\"coloraxis\",\"colorscale\":[[0.0,\"rgb(247,251,255)\"],[0.125,\"rgb(222,235,247)\"],[0.25,\"rgb(198,219,239)\"],[0.375,\"rgb(158,202,225)\"],[0.5,\"rgb(107,174,214)\"],[0.625,\"rgb(66,146,198)\"],[0.75,\"rgb(33,113,181)\"],[0.875,\"rgb(8,81,156)\"],[1.0,\"rgb(8,48,107)\"]],\"z\":[[0.3037526309490204,-0.11091103404760361,0.29550445079803467],[0.1726617068052292,-0.205521360039711,-0.06331033259630203],[0.1945379078388214,0.27969932556152344,0.29219117760658264]],\"type\":\"heatmap\",\"xaxis\":\"x34\",\"yaxis\":\"y34\"},{\"coloraxis\":\"coloraxis\",\"colorscale\":[[0.0,\"rgb(247,251,255)\"],[0.125,\"rgb(222,235,247)\"],[0.25,\"rgb(198,219,239)\"],[0.375,\"rgb(158,202,225)\"],[0.5,\"rgb(107,174,214)\"],[0.625,\"rgb(66,146,198)\"],[0.75,\"rgb(33,113,181)\"],[0.875,\"rgb(8,81,156)\"],[1.0,\"rgb(8,48,107)\"]],\"z\":[[-0.2740233838558197,-0.13474027812480927,0.1568978726863861],[-0.0535830594599247,0.06884842365980148,0.08070375770330429],[-0.18564048409461975,-0.08650307357311249,0.3231217861175537]],\"type\":\"heatmap\",\"xaxis\":\"x42\",\"yaxis\":\"y42\"},{\"coloraxis\":\"coloraxis\",\"colorscale\":[[0.0,\"rgb(247,251,255)\"],[0.125,\"rgb(222,235,247)\"],[0.25,\"rgb(198,219,239)\"],[0.375,\"rgb(158,202,225)\"],[0.5,\"rgb(107,174,214)\"],[0.625,\"rgb(66,146,198)\"],[0.75,\"rgb(33,113,181)\"],[0.875,\"rgb(8,81,156)\"],[1.0,\"rgb(8,48,107)\"]],\"z\":[[0.24198228120803833,0.23950576782226562,-0.06606874614953995],[-0.2540818750858307,0.16775918006896973,-0.08861349523067474],[0.1038295328617096,-0.15952074527740479,-0.25489696860313416]],\"type\":\"heatmap\",\"xaxis\":\"x50\",\"yaxis\":\"y50\"},{\"coloraxis\":\"coloraxis\",\"colorscale\":[[0.0,\"rgb(247,251,255)\"],[0.125,\"rgb(222,235,247)\"],[0.25,\"rgb(198,219,239)\"],[0.375,\"rgb(158,202,225)\"],[0.5,\"rgb(107,174,214)\"],[0.625,\"rgb(66,146,198)\"],[0.75,\"rgb(33,113,181)\"],[0.875,\"rgb(8,81,156)\"],[1.0,\"rgb(8,48,107)\"]],\"z\":[[0.23789167404174805,-0.07689175009727478,0.2500525414943695],[-0.06024851277470589,-0.12090164422988892,-0.1592075079679489],[0.12160450220108032,-0.2962931990623474,0.014417431317269802]],\"type\":\"heatmap\",\"xaxis\":\"x58\",\"yaxis\":\"y58\"},{\"coloraxis\":\"coloraxis\",\"colorscale\":[[0.0,\"rgb(247,251,255)\"],[0.125,\"rgb(222,235,247)\"],[0.25,\"rgb(198,219,239)\"],[0.375,\"rgb(158,202,225)\"],[0.5,\"rgb(107,174,214)\"],[0.625,\"rgb(66,146,198)\"],[0.75,\"rgb(33,113,181)\"],[0.875,\"rgb(8,81,156)\"],[1.0,\"rgb(8,48,107)\"]],\"z\":[[-0.2218562364578247,-0.04135093465447426,-0.14399021863937378],[-0.0844508558511734,-0.1438893973827362,0.2954246997833252],[0.02323160320520401,-0.030270656570792198,-0.3352460563182831]],\"type\":\"heatmap\",\"xaxis\":\"x3\",\"yaxis\":\"y3\"},{\"coloraxis\":\"coloraxis\",\"colorscale\":[[0.0,\"rgb(247,251,255)\"],[0.125,\"rgb(222,235,247)\"],[0.25,\"rgb(198,219,239)\"],[0.375,\"rgb(158,202,225)\"],[0.5,\"rgb(107,174,214)\"],[0.625,\"rgb(66,146,198)\"],[0.75,\"rgb(33,113,181)\"],[0.875,\"rgb(8,81,156)\"],[1.0,\"rgb(8,48,107)\"]],\"z\":[[0.24795201420783997,-0.007396984845399857,0.19999998807907104],[0.008593371137976646,-0.1260138750076294,-0.12554077804088593],[0.17992675304412842,0.14153151214122772,-0.1338401436805725]],\"type\":\"heatmap\",\"xaxis\":\"x11\",\"yaxis\":\"y11\"},{\"coloraxis\":\"coloraxis\",\"colorscale\":[[0.0,\"rgb(247,251,255)\"],[0.125,\"rgb(222,235,247)\"],[0.25,\"rgb(198,219,239)\"],[0.375,\"rgb(158,202,225)\"],[0.5,\"rgb(107,174,214)\"],[0.625,\"rgb(66,146,198)\"],[0.75,\"rgb(33,113,181)\"],[0.875,\"rgb(8,81,156)\"],[1.0,\"rgb(8,48,107)\"]],\"z\":[[-0.14976805448532104,0.14211231470108032,-0.19369640946388245],[0.3076658248901367,-0.15666836500167847,0.038111671805381775],[0.27189919352531433,-0.025789912790060043,-0.2502977252006531]],\"type\":\"heatmap\",\"xaxis\":\"x19\",\"yaxis\":\"y19\"},{\"coloraxis\":\"coloraxis\",\"colorscale\":[[0.0,\"rgb(247,251,255)\"],[0.125,\"rgb(222,235,247)\"],[0.25,\"rgb(198,219,239)\"],[0.375,\"rgb(158,202,225)\"],[0.5,\"rgb(107,174,214)\"],[0.625,\"rgb(66,146,198)\"],[0.75,\"rgb(33,113,181)\"],[0.875,\"rgb(8,81,156)\"],[1.0,\"rgb(8,48,107)\"]],\"z\":[[0.11555342376232147,-0.04363732412457466,0.074186772108078],[0.03671370446681976,0.19099853932857513,-0.21340930461883545],[-0.17330823838710785,-0.2308419644832611,0.1703919917345047]],\"type\":\"heatmap\",\"xaxis\":\"x27\",\"yaxis\":\"y27\"},{\"coloraxis\":\"coloraxis\",\"colorscale\":[[0.0,\"rgb(247,251,255)\"],[0.125,\"rgb(222,235,247)\"],[0.25,\"rgb(198,219,239)\"],[0.375,\"rgb(158,202,225)\"],[0.5,\"rgb(107,174,214)\"],[0.625,\"rgb(66,146,198)\"],[0.75,\"rgb(33,113,181)\"],[0.875,\"rgb(8,81,156)\"],[1.0,\"rgb(8,48,107)\"]],\"z\":[[-0.24277962744235992,-0.09822148084640503,-0.002310782205313444],[0.18010608851909637,-0.23809480667114258,-0.06337864696979523],[0.058848787099123,-0.23454219102859497,-0.18586018681526184]],\"type\":\"heatmap\",\"xaxis\":\"x35\",\"yaxis\":\"y35\"},{\"coloraxis\":\"coloraxis\",\"colorscale\":[[0.0,\"rgb(247,251,255)\"],[0.125,\"rgb(222,235,247)\"],[0.25,\"rgb(198,219,239)\"],[0.375,\"rgb(158,202,225)\"],[0.5,\"rgb(107,174,214)\"],[0.625,\"rgb(66,146,198)\"],[0.75,\"rgb(33,113,181)\"],[0.875,\"rgb(8,81,156)\"],[1.0,\"rgb(8,48,107)\"]],\"z\":[[-0.13784481585025787,0.2267126590013504,-0.23043815791606903],[0.04838697239756584,0.2697018086910248,-0.05552811175584793],[0.1631898134946823,-0.16169796884059906,-0.08753370493650436]],\"type\":\"heatmap\",\"xaxis\":\"x43\",\"yaxis\":\"y43\"},{\"coloraxis\":\"coloraxis\",\"colorscale\":[[0.0,\"rgb(247,251,255)\"],[0.125,\"rgb(222,235,247)\"],[0.25,\"rgb(198,219,239)\"],[0.375,\"rgb(158,202,225)\"],[0.5,\"rgb(107,174,214)\"],[0.625,\"rgb(66,146,198)\"],[0.75,\"rgb(33,113,181)\"],[0.875,\"rgb(8,81,156)\"],[1.0,\"rgb(8,48,107)\"]],\"z\":[[-0.09801960736513138,0.276117742061615,-0.047760192304849625],[-0.15586137771606445,0.25649166107177734,-0.08350900560617447],[-0.11738695949316025,-0.011975014582276344,-0.032385800033807755]],\"type\":\"heatmap\",\"xaxis\":\"x51\",\"yaxis\":\"y51\"},{\"coloraxis\":\"coloraxis\",\"colorscale\":[[0.0,\"rgb(247,251,255)\"],[0.125,\"rgb(222,235,247)\"],[0.25,\"rgb(198,219,239)\"],[0.375,\"rgb(158,202,225)\"],[0.5,\"rgb(107,174,214)\"],[0.625,\"rgb(66,146,198)\"],[0.75,\"rgb(33,113,181)\"],[0.875,\"rgb(8,81,156)\"],[1.0,\"rgb(8,48,107)\"]],\"z\":[[-0.14238467812538147,0.10242851823568344,-0.22876718640327454],[-0.07070738077163696,-0.1574813425540924,0.0667329952120781],[-0.1499650925397873,0.2663624882698059,0.29881301522254944]],\"type\":\"heatmap\",\"xaxis\":\"x59\",\"yaxis\":\"y59\"},{\"coloraxis\":\"coloraxis\",\"colorscale\":[[0.0,\"rgb(247,251,255)\"],[0.125,\"rgb(222,235,247)\"],[0.25,\"rgb(198,219,239)\"],[0.375,\"rgb(158,202,225)\"],[0.5,\"rgb(107,174,214)\"],[0.625,\"rgb(66,146,198)\"],[0.75,\"rgb(33,113,181)\"],[0.875,\"rgb(8,81,156)\"],[1.0,\"rgb(8,48,107)\"]],\"z\":[[0.06491401791572571,0.13866779208183289,-0.07227322459220886],[-0.2727341651916504,-0.24248075485229492,0.2980680465698242],[-0.24605287611484528,-0.09060893207788467,-0.0470879003405571]],\"type\":\"heatmap\",\"xaxis\":\"x4\",\"yaxis\":\"y4\"},{\"coloraxis\":\"coloraxis\",\"colorscale\":[[0.0,\"rgb(247,251,255)\"],[0.125,\"rgb(222,235,247)\"],[0.25,\"rgb(198,219,239)\"],[0.375,\"rgb(158,202,225)\"],[0.5,\"rgb(107,174,214)\"],[0.625,\"rgb(66,146,198)\"],[0.75,\"rgb(33,113,181)\"],[0.875,\"rgb(8,81,156)\"],[1.0,\"rgb(8,48,107)\"]],\"z\":[[0.013699806295335293,-0.13732463121414185,-0.10557872802019119],[0.07425213605165482,0.17144212126731873,0.16187036037445068],[-0.1596904993057251,-0.227036252617836,0.13475829362869263]],\"type\":\"heatmap\",\"xaxis\":\"x12\",\"yaxis\":\"y12\"},{\"coloraxis\":\"coloraxis\",\"colorscale\":[[0.0,\"rgb(247,251,255)\"],[0.125,\"rgb(222,235,247)\"],[0.25,\"rgb(198,219,239)\"],[0.375,\"rgb(158,202,225)\"],[0.5,\"rgb(107,174,214)\"],[0.625,\"rgb(66,146,198)\"],[0.75,\"rgb(33,113,181)\"],[0.875,\"rgb(8,81,156)\"],[1.0,\"rgb(8,48,107)\"]],\"z\":[[-0.17379048466682434,-0.03598950058221817,0.2186390906572342],[0.29443758726119995,-0.1741228997707367,0.06162184849381447],[-0.29487285017967224,0.2653064429759979,-0.10777539759874344]],\"type\":\"heatmap\",\"xaxis\":\"x20\",\"yaxis\":\"y20\"},{\"coloraxis\":\"coloraxis\",\"colorscale\":[[0.0,\"rgb(247,251,255)\"],[0.125,\"rgb(222,235,247)\"],[0.25,\"rgb(198,219,239)\"],[0.375,\"rgb(158,202,225)\"],[0.5,\"rgb(107,174,214)\"],[0.625,\"rgb(66,146,198)\"],[0.75,\"rgb(33,113,181)\"],[0.875,\"rgb(8,81,156)\"],[1.0,\"rgb(8,48,107)\"]],\"z\":[[0.06862135976552963,0.22073017060756683,-0.2705400586128235],[-0.23805783689022064,-0.035985317081213,0.22361505031585693],[0.053401846438646317,0.013833379372954369,-0.30558541417121887]],\"type\":\"heatmap\",\"xaxis\":\"x28\",\"yaxis\":\"y28\"},{\"coloraxis\":\"coloraxis\",\"colorscale\":[[0.0,\"rgb(247,251,255)\"],[0.125,\"rgb(222,235,247)\"],[0.25,\"rgb(198,219,239)\"],[0.375,\"rgb(158,202,225)\"],[0.5,\"rgb(107,174,214)\"],[0.625,\"rgb(66,146,198)\"],[0.75,\"rgb(33,113,181)\"],[0.875,\"rgb(8,81,156)\"],[1.0,\"rgb(8,48,107)\"]],\"z\":[[0.20364131033420563,0.147263303399086,0.02918456867337227],[0.13508081436157227,0.14113925397396088,0.10333602130413055],[0.03553655371069908,0.15441395342350006,0.30838310718536377]],\"type\":\"heatmap\",\"xaxis\":\"x36\",\"yaxis\":\"y36\"},{\"coloraxis\":\"coloraxis\",\"colorscale\":[[0.0,\"rgb(247,251,255)\"],[0.125,\"rgb(222,235,247)\"],[0.25,\"rgb(198,219,239)\"],[0.375,\"rgb(158,202,225)\"],[0.5,\"rgb(107,174,214)\"],[0.625,\"rgb(66,146,198)\"],[0.75,\"rgb(33,113,181)\"],[0.875,\"rgb(8,81,156)\"],[1.0,\"rgb(8,48,107)\"]],\"z\":[[-0.2044842690229416,0.24174289405345917,0.03974750638008118],[0.2051839828491211,-0.15783771872520447,-0.09680767357349396],[-0.19284169375896454,-0.11861400306224823,0.25170961022377014]],\"type\":\"heatmap\",\"xaxis\":\"x44\",\"yaxis\":\"y44\"},{\"coloraxis\":\"coloraxis\",\"colorscale\":[[0.0,\"rgb(247,251,255)\"],[0.125,\"rgb(222,235,247)\"],[0.25,\"rgb(198,219,239)\"],[0.375,\"rgb(158,202,225)\"],[0.5,\"rgb(107,174,214)\"],[0.625,\"rgb(66,146,198)\"],[0.75,\"rgb(33,113,181)\"],[0.875,\"rgb(8,81,156)\"],[1.0,\"rgb(8,48,107)\"]],\"z\":[[-0.1366553008556366,-0.2537221610546112,0.168371319770813],[0.22562627494335175,-0.11379507184028625,0.10167694836854935],[0.006546356715261936,0.1687285602092743,-0.17814353108406067]],\"type\":\"heatmap\",\"xaxis\":\"x52\",\"yaxis\":\"y52\"},{\"coloraxis\":\"coloraxis\",\"colorscale\":[[0.0,\"rgb(247,251,255)\"],[0.125,\"rgb(222,235,247)\"],[0.25,\"rgb(198,219,239)\"],[0.375,\"rgb(158,202,225)\"],[0.5,\"rgb(107,174,214)\"],[0.625,\"rgb(66,146,198)\"],[0.75,\"rgb(33,113,181)\"],[0.875,\"rgb(8,81,156)\"],[1.0,\"rgb(8,48,107)\"]],\"z\":[[0.1910976767539978,0.003246135311201215,-0.024174809455871582],[-0.2505945861339569,0.03695886954665184,0.291110098361969],[-0.04166160523891449,-0.06623698770999908,-0.1873021274805069]],\"type\":\"heatmap\",\"xaxis\":\"x60\",\"yaxis\":\"y60\"},{\"coloraxis\":\"coloraxis\",\"colorscale\":[[0.0,\"rgb(247,251,255)\"],[0.125,\"rgb(222,235,247)\"],[0.25,\"rgb(198,219,239)\"],[0.375,\"rgb(158,202,225)\"],[0.5,\"rgb(107,174,214)\"],[0.625,\"rgb(66,146,198)\"],[0.75,\"rgb(33,113,181)\"],[0.875,\"rgb(8,81,156)\"],[1.0,\"rgb(8,48,107)\"]],\"z\":[[0.31414783000946045,0.08651704341173172,0.19524219632148743],[-0.2761896848678589,-0.18570150434970856,0.1542554348707199],[0.061513569205999374,0.1373048573732376,0.08019406348466873]],\"type\":\"heatmap\",\"xaxis\":\"x5\",\"yaxis\":\"y5\"},{\"coloraxis\":\"coloraxis\",\"colorscale\":[[0.0,\"rgb(247,251,255)\"],[0.125,\"rgb(222,235,247)\"],[0.25,\"rgb(198,219,239)\"],[0.375,\"rgb(158,202,225)\"],[0.5,\"rgb(107,174,214)\"],[0.625,\"rgb(66,146,198)\"],[0.75,\"rgb(33,113,181)\"],[0.875,\"rgb(8,81,156)\"],[1.0,\"rgb(8,48,107)\"]],\"z\":[[0.26941612362861633,-0.1405845284461975,0.08492117375135422],[-0.2385099232196808,0.034303177148103714,-0.04182032123208046],[0.20554769039154053,0.0699530616402626,-0.2936897575855255]],\"type\":\"heatmap\",\"xaxis\":\"x13\",\"yaxis\":\"y13\"},{\"coloraxis\":\"coloraxis\",\"colorscale\":[[0.0,\"rgb(247,251,255)\"],[0.125,\"rgb(222,235,247)\"],[0.25,\"rgb(198,219,239)\"],[0.375,\"rgb(158,202,225)\"],[0.5,\"rgb(107,174,214)\"],[0.625,\"rgb(66,146,198)\"],[0.75,\"rgb(33,113,181)\"],[0.875,\"rgb(8,81,156)\"],[1.0,\"rgb(8,48,107)\"]],\"z\":[[-0.0803116038441658,-0.1436856985092163,-0.0757419615983963],[0.20278649032115936,-0.26788604259490967,0.017183374613523483],[-0.12249252945184708,-0.0637231320142746,0.14129939675331116]],\"type\":\"heatmap\",\"xaxis\":\"x21\",\"yaxis\":\"y21\"},{\"coloraxis\":\"coloraxis\",\"colorscale\":[[0.0,\"rgb(247,251,255)\"],[0.125,\"rgb(222,235,247)\"],[0.25,\"rgb(198,219,239)\"],[0.375,\"rgb(158,202,225)\"],[0.5,\"rgb(107,174,214)\"],[0.625,\"rgb(66,146,198)\"],[0.75,\"rgb(33,113,181)\"],[0.875,\"rgb(8,81,156)\"],[1.0,\"rgb(8,48,107)\"]],\"z\":[[-0.12004692852497101,-0.11251266300678253,-0.07503538578748703],[-0.19689030945301056,-0.12741805613040924,0.0476306788623333],[0.28622549772262573,0.14792606234550476,0.11353740841150284]],\"type\":\"heatmap\",\"xaxis\":\"x29\",\"yaxis\":\"y29\"},{\"coloraxis\":\"coloraxis\",\"colorscale\":[[0.0,\"rgb(247,251,255)\"],[0.125,\"rgb(222,235,247)\"],[0.25,\"rgb(198,219,239)\"],[0.375,\"rgb(158,202,225)\"],[0.5,\"rgb(107,174,214)\"],[0.625,\"rgb(66,146,198)\"],[0.75,\"rgb(33,113,181)\"],[0.875,\"rgb(8,81,156)\"],[1.0,\"rgb(8,48,107)\"]],\"z\":[[0.013369308784604073,-0.19152948260307312,0.24733008444309235],[-0.2011641561985016,0.01685698702931404,0.12926235795021057],[0.016946518793702126,-0.30857059359550476,0.2655335068702698]],\"type\":\"heatmap\",\"xaxis\":\"x37\",\"yaxis\":\"y37\"},{\"coloraxis\":\"coloraxis\",\"colorscale\":[[0.0,\"rgb(247,251,255)\"],[0.125,\"rgb(222,235,247)\"],[0.25,\"rgb(198,219,239)\"],[0.375,\"rgb(158,202,225)\"],[0.5,\"rgb(107,174,214)\"],[0.625,\"rgb(66,146,198)\"],[0.75,\"rgb(33,113,181)\"],[0.875,\"rgb(8,81,156)\"],[1.0,\"rgb(8,48,107)\"]],\"z\":[[-0.11417693644762039,0.01026955433189869,-0.23720411956310272],[-0.23967409133911133,0.275938481092453,0.2745172083377838],[-0.09800590574741364,-0.057630427181720734,-0.20621098577976227]],\"type\":\"heatmap\",\"xaxis\":\"x45\",\"yaxis\":\"y45\"},{\"coloraxis\":\"coloraxis\",\"colorscale\":[[0.0,\"rgb(247,251,255)\"],[0.125,\"rgb(222,235,247)\"],[0.25,\"rgb(198,219,239)\"],[0.375,\"rgb(158,202,225)\"],[0.5,\"rgb(107,174,214)\"],[0.625,\"rgb(66,146,198)\"],[0.75,\"rgb(33,113,181)\"],[0.875,\"rgb(8,81,156)\"],[1.0,\"rgb(8,48,107)\"]],\"z\":[[-0.10699351876974106,-0.038095325231552124,0.2910653352737427],[-0.046977780759334564,-0.30405479669570923,-0.1802372932434082],[-0.06362677365541458,0.013613862916827202,-0.0662023052573204]],\"type\":\"heatmap\",\"xaxis\":\"x53\",\"yaxis\":\"y53\"},{\"coloraxis\":\"coloraxis\",\"colorscale\":[[0.0,\"rgb(247,251,255)\"],[0.125,\"rgb(222,235,247)\"],[0.25,\"rgb(198,219,239)\"],[0.375,\"rgb(158,202,225)\"],[0.5,\"rgb(107,174,214)\"],[0.625,\"rgb(66,146,198)\"],[0.75,\"rgb(33,113,181)\"],[0.875,\"rgb(8,81,156)\"],[1.0,\"rgb(8,48,107)\"]],\"z\":[[0.013459164649248123,0.2568163573741913,0.17516756057739258],[0.2723049819469452,0.11537078022956848,-0.159227192401886],[-0.30143794417381287,-0.20256876945495605,-0.2266131490468979]],\"type\":\"heatmap\",\"xaxis\":\"x61\",\"yaxis\":\"y61\"},{\"coloraxis\":\"coloraxis\",\"colorscale\":[[0.0,\"rgb(247,251,255)\"],[0.125,\"rgb(222,235,247)\"],[0.25,\"rgb(198,219,239)\"],[0.375,\"rgb(158,202,225)\"],[0.5,\"rgb(107,174,214)\"],[0.625,\"rgb(66,146,198)\"],[0.75,\"rgb(33,113,181)\"],[0.875,\"rgb(8,81,156)\"],[1.0,\"rgb(8,48,107)\"]],\"z\":[[-0.022407475858926773,0.2271811068058014,-0.2455807626247406],[0.26344579458236694,0.23471710085868835,-0.16692449152469635],[0.12074151635169983,0.3202548921108246,0.23511448502540588]],\"type\":\"heatmap\",\"xaxis\":\"x6\",\"yaxis\":\"y6\"},{\"coloraxis\":\"coloraxis\",\"colorscale\":[[0.0,\"rgb(247,251,255)\"],[0.125,\"rgb(222,235,247)\"],[0.25,\"rgb(198,219,239)\"],[0.375,\"rgb(158,202,225)\"],[0.5,\"rgb(107,174,214)\"],[0.625,\"rgb(66,146,198)\"],[0.75,\"rgb(33,113,181)\"],[0.875,\"rgb(8,81,156)\"],[1.0,\"rgb(8,48,107)\"]],\"z\":[[-0.11780156940221786,0.1412222683429718,0.05027172341942787],[0.14042504131793976,-0.04497133195400238,0.0005987766780890524],[0.18630030751228333,0.2481645792722702,0.015082788653671741]],\"type\":\"heatmap\",\"xaxis\":\"x14\",\"yaxis\":\"y14\"},{\"coloraxis\":\"coloraxis\",\"colorscale\":[[0.0,\"rgb(247,251,255)\"],[0.125,\"rgb(222,235,247)\"],[0.25,\"rgb(198,219,239)\"],[0.375,\"rgb(158,202,225)\"],[0.5,\"rgb(107,174,214)\"],[0.625,\"rgb(66,146,198)\"],[0.75,\"rgb(33,113,181)\"],[0.875,\"rgb(8,81,156)\"],[1.0,\"rgb(8,48,107)\"]],\"z\":[[0.010808737948536873,-0.03009910136461258,0.28102585673332214],[0.15090827643871307,0.21847444772720337,-0.1922030746936798],[-0.11387301236391068,-0.29641181230545044,-0.09815558046102524]],\"type\":\"heatmap\",\"xaxis\":\"x22\",\"yaxis\":\"y22\"},{\"coloraxis\":\"coloraxis\",\"colorscale\":[[0.0,\"rgb(247,251,255)\"],[0.125,\"rgb(222,235,247)\"],[0.25,\"rgb(198,219,239)\"],[0.375,\"rgb(158,202,225)\"],[0.5,\"rgb(107,174,214)\"],[0.625,\"rgb(66,146,198)\"],[0.75,\"rgb(33,113,181)\"],[0.875,\"rgb(8,81,156)\"],[1.0,\"rgb(8,48,107)\"]],\"z\":[[-0.20538556575775146,0.17341670393943787,0.11334831267595291],[0.13603247702121735,-0.2155478596687317,-0.27669447660446167],[0.2326655387878418,0.28157272934913635,-0.17823563516139984]],\"type\":\"heatmap\",\"xaxis\":\"x30\",\"yaxis\":\"y30\"},{\"coloraxis\":\"coloraxis\",\"colorscale\":[[0.0,\"rgb(247,251,255)\"],[0.125,\"rgb(222,235,247)\"],[0.25,\"rgb(198,219,239)\"],[0.375,\"rgb(158,202,225)\"],[0.5,\"rgb(107,174,214)\"],[0.625,\"rgb(66,146,198)\"],[0.75,\"rgb(33,113,181)\"],[0.875,\"rgb(8,81,156)\"],[1.0,\"rgb(8,48,107)\"]],\"z\":[[-0.036022815853357315,0.18704412877559662,-0.12295804172754288],[0.23997387290000916,0.07092974334955215,0.1908993124961853],[-0.23487143218517303,0.09874756634235382,-0.3010391891002655]],\"type\":\"heatmap\",\"xaxis\":\"x38\",\"yaxis\":\"y38\"},{\"coloraxis\":\"coloraxis\",\"colorscale\":[[0.0,\"rgb(247,251,255)\"],[0.125,\"rgb(222,235,247)\"],[0.25,\"rgb(198,219,239)\"],[0.375,\"rgb(158,202,225)\"],[0.5,\"rgb(107,174,214)\"],[0.625,\"rgb(66,146,198)\"],[0.75,\"rgb(33,113,181)\"],[0.875,\"rgb(8,81,156)\"],[1.0,\"rgb(8,48,107)\"]],\"z\":[[-0.08246210962533951,0.1985984593629837,-0.15156541764736176],[0.005588849540799856,0.1503007560968399,-0.08338578790426254],[-0.16294094920158386,0.15934905409812927,-0.006689013447612524]],\"type\":\"heatmap\",\"xaxis\":\"x46\",\"yaxis\":\"y46\"},{\"coloraxis\":\"coloraxis\",\"colorscale\":[[0.0,\"rgb(247,251,255)\"],[0.125,\"rgb(222,235,247)\"],[0.25,\"rgb(198,219,239)\"],[0.375,\"rgb(158,202,225)\"],[0.5,\"rgb(107,174,214)\"],[0.625,\"rgb(66,146,198)\"],[0.75,\"rgb(33,113,181)\"],[0.875,\"rgb(8,81,156)\"],[1.0,\"rgb(8,48,107)\"]],\"z\":[[0.26315411925315857,0.09711417555809021,-0.09853126108646393],[-0.125401571393013,0.2961480915546417,-0.09981046617031097],[-0.2098887413740158,-0.006851607467979193,-0.11427831649780273]],\"type\":\"heatmap\",\"xaxis\":\"x54\",\"yaxis\":\"y54\"},{\"coloraxis\":\"coloraxis\",\"colorscale\":[[0.0,\"rgb(247,251,255)\"],[0.125,\"rgb(222,235,247)\"],[0.25,\"rgb(198,219,239)\"],[0.375,\"rgb(158,202,225)\"],[0.5,\"rgb(107,174,214)\"],[0.625,\"rgb(66,146,198)\"],[0.75,\"rgb(33,113,181)\"],[0.875,\"rgb(8,81,156)\"],[1.0,\"rgb(8,48,107)\"]],\"z\":[[0.07097774744033813,0.3094295263290405,0.27711594104766846],[-0.22846628725528717,0.20345747470855713,-0.10998214036226273],[-0.1702713519334793,-0.3142273724079132,-0.09371478855609894]],\"type\":\"heatmap\",\"xaxis\":\"x62\",\"yaxis\":\"y62\"},{\"coloraxis\":\"coloraxis\",\"colorscale\":[[0.0,\"rgb(247,251,255)\"],[0.125,\"rgb(222,235,247)\"],[0.25,\"rgb(198,219,239)\"],[0.375,\"rgb(158,202,225)\"],[0.5,\"rgb(107,174,214)\"],[0.625,\"rgb(66,146,198)\"],[0.75,\"rgb(33,113,181)\"],[0.875,\"rgb(8,81,156)\"],[1.0,\"rgb(8,48,107)\"]],\"z\":[[0.05642557144165039,0.3055638074874878,0.01323053240776062],[0.2496303766965866,-0.14524142444133759,-0.026940645650029182],[0.20054516196250916,0.10572756826877594,-0.017573295161128044]],\"type\":\"heatmap\",\"xaxis\":\"x7\",\"yaxis\":\"y7\"},{\"coloraxis\":\"coloraxis\",\"colorscale\":[[0.0,\"rgb(247,251,255)\"],[0.125,\"rgb(222,235,247)\"],[0.25,\"rgb(198,219,239)\"],[0.375,\"rgb(158,202,225)\"],[0.5,\"rgb(107,174,214)\"],[0.625,\"rgb(66,146,198)\"],[0.75,\"rgb(33,113,181)\"],[0.875,\"rgb(8,81,156)\"],[1.0,\"rgb(8,48,107)\"]],\"z\":[[-0.026852862909436226,-0.13618016242980957,-0.10064562410116196],[0.2901136875152588,0.09380881488323212,-0.22383128106594086],[-0.06220906972885132,0.13731011748313904,-0.129311665892601]],\"type\":\"heatmap\",\"xaxis\":\"x15\",\"yaxis\":\"y15\"},{\"coloraxis\":\"coloraxis\",\"colorscale\":[[0.0,\"rgb(247,251,255)\"],[0.125,\"rgb(222,235,247)\"],[0.25,\"rgb(198,219,239)\"],[0.375,\"rgb(158,202,225)\"],[0.5,\"rgb(107,174,214)\"],[0.625,\"rgb(66,146,198)\"],[0.75,\"rgb(33,113,181)\"],[0.875,\"rgb(8,81,156)\"],[1.0,\"rgb(8,48,107)\"]],\"z\":[[-0.1681486964225769,-0.02740033157169819,0.21580979228019714],[-0.06410668790340424,-0.25662434101104736,-0.07110217958688736],[0.1243564710021019,0.2174481451511383,-0.07826175540685654]],\"type\":\"heatmap\",\"xaxis\":\"x23\",\"yaxis\":\"y23\"},{\"coloraxis\":\"coloraxis\",\"colorscale\":[[0.0,\"rgb(247,251,255)\"],[0.125,\"rgb(222,235,247)\"],[0.25,\"rgb(198,219,239)\"],[0.375,\"rgb(158,202,225)\"],[0.5,\"rgb(107,174,214)\"],[0.625,\"rgb(66,146,198)\"],[0.75,\"rgb(33,113,181)\"],[0.875,\"rgb(8,81,156)\"],[1.0,\"rgb(8,48,107)\"]],\"z\":[[0.2545298933982849,-0.03151440620422363,0.05147466063499451],[-0.2674485445022583,-0.1508553922176361,0.20105022192001343],[0.06372404098510742,0.2592065930366516,0.2635088264942169]],\"type\":\"heatmap\",\"xaxis\":\"x31\",\"yaxis\":\"y31\"},{\"coloraxis\":\"coloraxis\",\"colorscale\":[[0.0,\"rgb(247,251,255)\"],[0.125,\"rgb(222,235,247)\"],[0.25,\"rgb(198,219,239)\"],[0.375,\"rgb(158,202,225)\"],[0.5,\"rgb(107,174,214)\"],[0.625,\"rgb(66,146,198)\"],[0.75,\"rgb(33,113,181)\"],[0.875,\"rgb(8,81,156)\"],[1.0,\"rgb(8,48,107)\"]],\"z\":[[-0.25935766100883484,-0.15392962098121643,0.22885052859783173],[0.015152128413319588,0.3046102225780487,0.11670832335948944],[-0.17146183550357819,0.12225590646266937,-0.24419502913951874]],\"type\":\"heatmap\",\"xaxis\":\"x39\",\"yaxis\":\"y39\"},{\"coloraxis\":\"coloraxis\",\"colorscale\":[[0.0,\"rgb(247,251,255)\"],[0.125,\"rgb(222,235,247)\"],[0.25,\"rgb(198,219,239)\"],[0.375,\"rgb(158,202,225)\"],[0.5,\"rgb(107,174,214)\"],[0.625,\"rgb(66,146,198)\"],[0.75,\"rgb(33,113,181)\"],[0.875,\"rgb(8,81,156)\"],[1.0,\"rgb(8,48,107)\"]],\"z\":[[0.05248519033193588,0.3487054705619812,0.044701751321554184],[0.12083888798952103,-0.16070103645324707,0.3170001804828644],[0.04199628159403801,0.07736149430274963,-0.22420692443847656]],\"type\":\"heatmap\",\"xaxis\":\"x47\",\"yaxis\":\"y47\"},{\"coloraxis\":\"coloraxis\",\"colorscale\":[[0.0,\"rgb(247,251,255)\"],[0.125,\"rgb(222,235,247)\"],[0.25,\"rgb(198,219,239)\"],[0.375,\"rgb(158,202,225)\"],[0.5,\"rgb(107,174,214)\"],[0.625,\"rgb(66,146,198)\"],[0.75,\"rgb(33,113,181)\"],[0.875,\"rgb(8,81,156)\"],[1.0,\"rgb(8,48,107)\"]],\"z\":[[-0.030955001711845398,-0.21831947565078735,-0.16353608667850494],[-0.05835021659731865,0.02555241994559765,-0.200990691781044],[-0.04750605672597885,0.08439807593822479,-0.19016462564468384]],\"type\":\"heatmap\",\"xaxis\":\"x55\",\"yaxis\":\"y55\"},{\"coloraxis\":\"coloraxis\",\"colorscale\":[[0.0,\"rgb(247,251,255)\"],[0.125,\"rgb(222,235,247)\"],[0.25,\"rgb(198,219,239)\"],[0.375,\"rgb(158,202,225)\"],[0.5,\"rgb(107,174,214)\"],[0.625,\"rgb(66,146,198)\"],[0.75,\"rgb(33,113,181)\"],[0.875,\"rgb(8,81,156)\"],[1.0,\"rgb(8,48,107)\"]],\"z\":[[0.03714786842465401,0.0621652789413929,-0.1729249358177185],[0.20022884011268616,-0.3024357259273529,0.12757843732833862],[-0.2348274439573288,0.03988318890333176,0.2378399521112442]],\"type\":\"heatmap\",\"xaxis\":\"x63\",\"yaxis\":\"y63\"},{\"coloraxis\":\"coloraxis\",\"colorscale\":[[0.0,\"rgb(247,251,255)\"],[0.125,\"rgb(222,235,247)\"],[0.25,\"rgb(198,219,239)\"],[0.375,\"rgb(158,202,225)\"],[0.5,\"rgb(107,174,214)\"],[0.625,\"rgb(66,146,198)\"],[0.75,\"rgb(33,113,181)\"],[0.875,\"rgb(8,81,156)\"],[1.0,\"rgb(8,48,107)\"]],\"z\":[[-0.2116466760635376,-0.2441905438899994,-0.1332366019487381],[0.16761931777000427,0.14852797985076904,-0.16431282460689545],[0.2631291151046753,0.15558099746704102,0.20700380206108093]],\"type\":\"heatmap\",\"xaxis\":\"x8\",\"yaxis\":\"y8\"},{\"coloraxis\":\"coloraxis\",\"colorscale\":[[0.0,\"rgb(247,251,255)\"],[0.125,\"rgb(222,235,247)\"],[0.25,\"rgb(198,219,239)\"],[0.375,\"rgb(158,202,225)\"],[0.5,\"rgb(107,174,214)\"],[0.625,\"rgb(66,146,198)\"],[0.75,\"rgb(33,113,181)\"],[0.875,\"rgb(8,81,156)\"],[1.0,\"rgb(8,48,107)\"]],\"z\":[[-0.14992237091064453,-0.07297777384519577,-0.2091507464647293],[0.29117685556411743,-0.18921002745628357,0.30181553959846497],[0.03426763415336609,0.003682781243696809,0.014038295485079288]],\"type\":\"heatmap\",\"xaxis\":\"x16\",\"yaxis\":\"y16\"},{\"coloraxis\":\"coloraxis\",\"colorscale\":[[0.0,\"rgb(247,251,255)\"],[0.125,\"rgb(222,235,247)\"],[0.25,\"rgb(198,219,239)\"],[0.375,\"rgb(158,202,225)\"],[0.5,\"rgb(107,174,214)\"],[0.625,\"rgb(66,146,198)\"],[0.75,\"rgb(33,113,181)\"],[0.875,\"rgb(8,81,156)\"],[1.0,\"rgb(8,48,107)\"]],\"z\":[[0.08745153993368149,0.10940190404653549,0.040710192173719406],[-0.2194691002368927,-0.2700396478176117,-0.14214788377285004],[-0.22033871710300446,-0.14462730288505554,0.2659175992012024]],\"type\":\"heatmap\",\"xaxis\":\"x24\",\"yaxis\":\"y24\"},{\"coloraxis\":\"coloraxis\",\"colorscale\":[[0.0,\"rgb(247,251,255)\"],[0.125,\"rgb(222,235,247)\"],[0.25,\"rgb(198,219,239)\"],[0.375,\"rgb(158,202,225)\"],[0.5,\"rgb(107,174,214)\"],[0.625,\"rgb(66,146,198)\"],[0.75,\"rgb(33,113,181)\"],[0.875,\"rgb(8,81,156)\"],[1.0,\"rgb(8,48,107)\"]],\"z\":[[0.09152243286371231,-0.10815850645303726,0.11805881559848785],[-0.11508043110370636,-0.24564911425113678,-0.20499621331691742],[-0.25398552417755127,-0.32138511538505554,-0.1310252845287323]],\"type\":\"heatmap\",\"xaxis\":\"x32\",\"yaxis\":\"y32\"},{\"coloraxis\":\"coloraxis\",\"colorscale\":[[0.0,\"rgb(247,251,255)\"],[0.125,\"rgb(222,235,247)\"],[0.25,\"rgb(198,219,239)\"],[0.375,\"rgb(158,202,225)\"],[0.5,\"rgb(107,174,214)\"],[0.625,\"rgb(66,146,198)\"],[0.75,\"rgb(33,113,181)\"],[0.875,\"rgb(8,81,156)\"],[1.0,\"rgb(8,48,107)\"]],\"z\":[[-0.09926288574934006,0.32032516598701477,0.2867871820926666],[0.1777947098016739,0.23567894101142883,-0.05525057390332222],[-0.08640698343515396,0.03330313414335251,-0.07802407443523407]],\"type\":\"heatmap\",\"xaxis\":\"x40\",\"yaxis\":\"y40\"},{\"coloraxis\":\"coloraxis\",\"colorscale\":[[0.0,\"rgb(247,251,255)\"],[0.125,\"rgb(222,235,247)\"],[0.25,\"rgb(198,219,239)\"],[0.375,\"rgb(158,202,225)\"],[0.5,\"rgb(107,174,214)\"],[0.625,\"rgb(66,146,198)\"],[0.75,\"rgb(33,113,181)\"],[0.875,\"rgb(8,81,156)\"],[1.0,\"rgb(8,48,107)\"]],\"z\":[[-0.03800529986619949,0.33773937821388245,0.30384179949760437],[0.16660186648368835,0.15199866890907288,0.00014816502516623586],[0.24477659165859222,0.1717989593744278,-0.023460261523723602]],\"type\":\"heatmap\",\"xaxis\":\"x48\",\"yaxis\":\"y48\"},{\"coloraxis\":\"coloraxis\",\"colorscale\":[[0.0,\"rgb(247,251,255)\"],[0.125,\"rgb(222,235,247)\"],[0.25,\"rgb(198,219,239)\"],[0.375,\"rgb(158,202,225)\"],[0.5,\"rgb(107,174,214)\"],[0.625,\"rgb(66,146,198)\"],[0.75,\"rgb(33,113,181)\"],[0.875,\"rgb(8,81,156)\"],[1.0,\"rgb(8,48,107)\"]],\"z\":[[0.1915901005268097,-0.2979607880115509,0.08225032687187195],[-0.22896581888198853,-0.20143811404705048,0.3086833357810974],[0.26545730233192444,-0.0581509992480278,-0.10350015759468079]],\"type\":\"heatmap\",\"xaxis\":\"x56\",\"yaxis\":\"y56\"},{\"coloraxis\":\"coloraxis\",\"colorscale\":[[0.0,\"rgb(247,251,255)\"],[0.125,\"rgb(222,235,247)\"],[0.25,\"rgb(198,219,239)\"],[0.375,\"rgb(158,202,225)\"],[0.5,\"rgb(107,174,214)\"],[0.625,\"rgb(66,146,198)\"],[0.75,\"rgb(33,113,181)\"],[0.875,\"rgb(8,81,156)\"],[1.0,\"rgb(8,48,107)\"]],\"z\":[[0.07619345933198929,-0.1951768696308136,0.19252951443195343],[-0.14033083617687225,0.11653439700603485,0.13315145671367645],[0.06379960477352142,0.010559546761214733,-0.26881006360054016]],\"type\":\"heatmap\",\"xaxis\":\"x64\",\"yaxis\":\"y64\"}],                        {\"template\":{\"data\":{\"histogram2dcontour\":[{\"type\":\"histogram2dcontour\",\"colorbar\":{\"outlinewidth\":0,\"ticks\":\"\"},\"colorscale\":[[0.0,\"#0d0887\"],[0.1111111111111111,\"#46039f\"],[0.2222222222222222,\"#7201a8\"],[0.3333333333333333,\"#9c179e\"],[0.4444444444444444,\"#bd3786\"],[0.5555555555555556,\"#d8576b\"],[0.6666666666666666,\"#ed7953\"],[0.7777777777777778,\"#fb9f3a\"],[0.8888888888888888,\"#fdca26\"],[1.0,\"#f0f921\"]]}],\"choropleth\":[{\"type\":\"choropleth\",\"colorbar\":{\"outlinewidth\":0,\"ticks\":\"\"}}],\"histogram2d\":[{\"type\":\"histogram2d\",\"colorbar\":{\"outlinewidth\":0,\"ticks\":\"\"},\"colorscale\":[[0.0,\"#0d0887\"],[0.1111111111111111,\"#46039f\"],[0.2222222222222222,\"#7201a8\"],[0.3333333333333333,\"#9c179e\"],[0.4444444444444444,\"#bd3786\"],[0.5555555555555556,\"#d8576b\"],[0.6666666666666666,\"#ed7953\"],[0.7777777777777778,\"#fb9f3a\"],[0.8888888888888888,\"#fdca26\"],[1.0,\"#f0f921\"]]}],\"heatmap\":[{\"type\":\"heatmap\",\"colorbar\":{\"outlinewidth\":0,\"ticks\":\"\"},\"colorscale\":[[0.0,\"#0d0887\"],[0.1111111111111111,\"#46039f\"],[0.2222222222222222,\"#7201a8\"],[0.3333333333333333,\"#9c179e\"],[0.4444444444444444,\"#bd3786\"],[0.5555555555555556,\"#d8576b\"],[0.6666666666666666,\"#ed7953\"],[0.7777777777777778,\"#fb9f3a\"],[0.8888888888888888,\"#fdca26\"],[1.0,\"#f0f921\"]]}],\"heatmapgl\":[{\"type\":\"heatmapgl\",\"colorbar\":{\"outlinewidth\":0,\"ticks\":\"\"},\"colorscale\":[[0.0,\"#0d0887\"],[0.1111111111111111,\"#46039f\"],[0.2222222222222222,\"#7201a8\"],[0.3333333333333333,\"#9c179e\"],[0.4444444444444444,\"#bd3786\"],[0.5555555555555556,\"#d8576b\"],[0.6666666666666666,\"#ed7953\"],[0.7777777777777778,\"#fb9f3a\"],[0.8888888888888888,\"#fdca26\"],[1.0,\"#f0f921\"]]}],\"contourcarpet\":[{\"type\":\"contourcarpet\",\"colorbar\":{\"outlinewidth\":0,\"ticks\":\"\"}}],\"contour\":[{\"type\":\"contour\",\"colorbar\":{\"outlinewidth\":0,\"ticks\":\"\"},\"colorscale\":[[0.0,\"#0d0887\"],[0.1111111111111111,\"#46039f\"],[0.2222222222222222,\"#7201a8\"],[0.3333333333333333,\"#9c179e\"],[0.4444444444444444,\"#bd3786\"],[0.5555555555555556,\"#d8576b\"],[0.6666666666666666,\"#ed7953\"],[0.7777777777777778,\"#fb9f3a\"],[0.8888888888888888,\"#fdca26\"],[1.0,\"#f0f921\"]]}],\"surface\":[{\"type\":\"surface\",\"colorbar\":{\"outlinewidth\":0,\"ticks\":\"\"},\"colorscale\":[[0.0,\"#0d0887\"],[0.1111111111111111,\"#46039f\"],[0.2222222222222222,\"#7201a8\"],[0.3333333333333333,\"#9c179e\"],[0.4444444444444444,\"#bd3786\"],[0.5555555555555556,\"#d8576b\"],[0.6666666666666666,\"#ed7953\"],[0.7777777777777778,\"#fb9f3a\"],[0.8888888888888888,\"#fdca26\"],[1.0,\"#f0f921\"]]}],\"mesh3d\":[{\"type\":\"mesh3d\",\"colorbar\":{\"outlinewidth\":0,\"ticks\":\"\"}}],\"scatter\":[{\"fillpattern\":{\"fillmode\":\"overlay\",\"size\":10,\"solidity\":0.2},\"type\":\"scatter\"}],\"parcoords\":[{\"type\":\"parcoords\",\"line\":{\"colorbar\":{\"outlinewidth\":0,\"ticks\":\"\"}}}],\"scatterpolargl\":[{\"type\":\"scatterpolargl\",\"marker\":{\"colorbar\":{\"outlinewidth\":0,\"ticks\":\"\"}}}],\"bar\":[{\"error_x\":{\"color\":\"#2a3f5f\"},\"error_y\":{\"color\":\"#2a3f5f\"},\"marker\":{\"line\":{\"color\":\"#E5ECF6\",\"width\":0.5},\"pattern\":{\"fillmode\":\"overlay\",\"size\":10,\"solidity\":0.2}},\"type\":\"bar\"}],\"scattergeo\":[{\"type\":\"scattergeo\",\"marker\":{\"colorbar\":{\"outlinewidth\":0,\"ticks\":\"\"}}}],\"scatterpolar\":[{\"type\":\"scatterpolar\",\"marker\":{\"colorbar\":{\"outlinewidth\":0,\"ticks\":\"\"}}}],\"histogram\":[{\"marker\":{\"pattern\":{\"fillmode\":\"overlay\",\"size\":10,\"solidity\":0.2}},\"type\":\"histogram\"}],\"scattergl\":[{\"type\":\"scattergl\",\"marker\":{\"colorbar\":{\"outlinewidth\":0,\"ticks\":\"\"}}}],\"scatter3d\":[{\"type\":\"scatter3d\",\"line\":{\"colorbar\":{\"outlinewidth\":0,\"ticks\":\"\"}},\"marker\":{\"colorbar\":{\"outlinewidth\":0,\"ticks\":\"\"}}}],\"scattermapbox\":[{\"type\":\"scattermapbox\",\"marker\":{\"colorbar\":{\"outlinewidth\":0,\"ticks\":\"\"}}}],\"scatterternary\":[{\"type\":\"scatterternary\",\"marker\":{\"colorbar\":{\"outlinewidth\":0,\"ticks\":\"\"}}}],\"scattercarpet\":[{\"type\":\"scattercarpet\",\"marker\":{\"colorbar\":{\"outlinewidth\":0,\"ticks\":\"\"}}}],\"carpet\":[{\"aaxis\":{\"endlinecolor\":\"#2a3f5f\",\"gridcolor\":\"white\",\"linecolor\":\"white\",\"minorgridcolor\":\"white\",\"startlinecolor\":\"#2a3f5f\"},\"baxis\":{\"endlinecolor\":\"#2a3f5f\",\"gridcolor\":\"white\",\"linecolor\":\"white\",\"minorgridcolor\":\"white\",\"startlinecolor\":\"#2a3f5f\"},\"type\":\"carpet\"}],\"table\":[{\"cells\":{\"fill\":{\"color\":\"#EBF0F8\"},\"line\":{\"color\":\"white\"}},\"header\":{\"fill\":{\"color\":\"#C8D4E3\"},\"line\":{\"color\":\"white\"}},\"type\":\"table\"}],\"barpolar\":[{\"marker\":{\"line\":{\"color\":\"#E5ECF6\",\"width\":0.5},\"pattern\":{\"fillmode\":\"overlay\",\"size\":10,\"solidity\":0.2}},\"type\":\"barpolar\"}],\"pie\":[{\"automargin\":true,\"type\":\"pie\"}]},\"layout\":{\"autotypenumbers\":\"strict\",\"colorway\":[\"#636efa\",\"#EF553B\",\"#00cc96\",\"#ab63fa\",\"#FFA15A\",\"#19d3f3\",\"#FF6692\",\"#B6E880\",\"#FF97FF\",\"#FECB52\"],\"font\":{\"color\":\"#2a3f5f\"},\"hovermode\":\"closest\",\"hoverlabel\":{\"align\":\"left\"},\"paper_bgcolor\":\"white\",\"plot_bgcolor\":\"#E5ECF6\",\"polar\":{\"bgcolor\":\"#E5ECF6\",\"angularaxis\":{\"gridcolor\":\"white\",\"linecolor\":\"white\",\"ticks\":\"\"},\"radialaxis\":{\"gridcolor\":\"white\",\"linecolor\":\"white\",\"ticks\":\"\"}},\"ternary\":{\"bgcolor\":\"#E5ECF6\",\"aaxis\":{\"gridcolor\":\"white\",\"linecolor\":\"white\",\"ticks\":\"\"},\"baxis\":{\"gridcolor\":\"white\",\"linecolor\":\"white\",\"ticks\":\"\"},\"caxis\":{\"gridcolor\":\"white\",\"linecolor\":\"white\",\"ticks\":\"\"}},\"coloraxis\":{\"colorbar\":{\"outlinewidth\":0,\"ticks\":\"\"}},\"colorscale\":{\"sequential\":[[0.0,\"#0d0887\"],[0.1111111111111111,\"#46039f\"],[0.2222222222222222,\"#7201a8\"],[0.3333333333333333,\"#9c179e\"],[0.4444444444444444,\"#bd3786\"],[0.5555555555555556,\"#d8576b\"],[0.6666666666666666,\"#ed7953\"],[0.7777777777777778,\"#fb9f3a\"],[0.8888888888888888,\"#fdca26\"],[1.0,\"#f0f921\"]],\"sequentialminus\":[[0.0,\"#0d0887\"],[0.1111111111111111,\"#46039f\"],[0.2222222222222222,\"#7201a8\"],[0.3333333333333333,\"#9c179e\"],[0.4444444444444444,\"#bd3786\"],[0.5555555555555556,\"#d8576b\"],[0.6666666666666666,\"#ed7953\"],[0.7777777777777778,\"#fb9f3a\"],[0.8888888888888888,\"#fdca26\"],[1.0,\"#f0f921\"]],\"diverging\":[[0,\"#8e0152\"],[0.1,\"#c51b7d\"],[0.2,\"#de77ae\"],[0.3,\"#f1b6da\"],[0.4,\"#fde0ef\"],[0.5,\"#f7f7f7\"],[0.6,\"#e6f5d0\"],[0.7,\"#b8e186\"],[0.8,\"#7fbc41\"],[0.9,\"#4d9221\"],[1,\"#276419\"]]},\"xaxis\":{\"gridcolor\":\"white\",\"linecolor\":\"white\",\"ticks\":\"\",\"title\":{\"standoff\":15},\"zerolinecolor\":\"white\",\"automargin\":true,\"zerolinewidth\":2},\"yaxis\":{\"gridcolor\":\"white\",\"linecolor\":\"white\",\"ticks\":\"\",\"title\":{\"standoff\":15},\"zerolinecolor\":\"white\",\"automargin\":true,\"zerolinewidth\":2},\"scene\":{\"xaxis\":{\"backgroundcolor\":\"#E5ECF6\",\"gridcolor\":\"white\",\"linecolor\":\"white\",\"showbackground\":true,\"ticks\":\"\",\"zerolinecolor\":\"white\",\"gridwidth\":2},\"yaxis\":{\"backgroundcolor\":\"#E5ECF6\",\"gridcolor\":\"white\",\"linecolor\":\"white\",\"showbackground\":true,\"ticks\":\"\",\"zerolinecolor\":\"white\",\"gridwidth\":2},\"zaxis\":{\"backgroundcolor\":\"#E5ECF6\",\"gridcolor\":\"white\",\"linecolor\":\"white\",\"showbackground\":true,\"ticks\":\"\",\"zerolinecolor\":\"white\",\"gridwidth\":2}},\"shapedefaults\":{\"line\":{\"color\":\"#2a3f5f\"}},\"annotationdefaults\":{\"arrowcolor\":\"#2a3f5f\",\"arrowhead\":0,\"arrowwidth\":1},\"geo\":{\"bgcolor\":\"white\",\"landcolor\":\"#E5ECF6\",\"subunitcolor\":\"white\",\"showland\":true,\"showlakes\":true,\"lakecolor\":\"white\"},\"title\":{\"x\":0.05},\"mapbox\":{\"style\":\"light\"}}},\"xaxis\":{\"anchor\":\"y\",\"domain\":[0.0,0.103125]},\"yaxis\":{\"anchor\":\"x\",\"domain\":[0.9296875,1.0],\"autorange\":true},\"xaxis2\":{\"anchor\":\"y2\",\"domain\":[0.128125,0.23124999999999998]},\"yaxis2\":{\"anchor\":\"x2\",\"domain\":[0.9296875,1.0],\"autorange\":true},\"xaxis3\":{\"anchor\":\"y3\",\"domain\":[0.25625,0.359375]},\"yaxis3\":{\"anchor\":\"x3\",\"domain\":[0.9296875,1.0],\"autorange\":true},\"xaxis4\":{\"anchor\":\"y4\",\"domain\":[0.38437499999999997,0.48749999999999993]},\"yaxis4\":{\"anchor\":\"x4\",\"domain\":[0.9296875,1.0],\"autorange\":true},\"xaxis5\":{\"anchor\":\"y5\",\"domain\":[0.5125,0.615625]},\"yaxis5\":{\"anchor\":\"x5\",\"domain\":[0.9296875,1.0],\"autorange\":true},\"xaxis6\":{\"anchor\":\"y6\",\"domain\":[0.640625,0.74375]},\"yaxis6\":{\"anchor\":\"x6\",\"domain\":[0.9296875,1.0],\"autorange\":true},\"xaxis7\":{\"anchor\":\"y7\",\"domain\":[0.76875,0.8718750000000001]},\"yaxis7\":{\"anchor\":\"x7\",\"domain\":[0.9296875,1.0],\"autorange\":true},\"xaxis8\":{\"anchor\":\"y8\",\"domain\":[0.8968750000000001,1.0]},\"yaxis8\":{\"anchor\":\"x8\",\"domain\":[0.9296875,1.0],\"autorange\":true},\"xaxis9\":{\"anchor\":\"y9\",\"domain\":[0.0,0.103125]},\"yaxis9\":{\"anchor\":\"x9\",\"domain\":[0.796875,0.8671875],\"autorange\":true},\"xaxis10\":{\"anchor\":\"y10\",\"domain\":[0.128125,0.23124999999999998]},\"yaxis10\":{\"anchor\":\"x10\",\"domain\":[0.796875,0.8671875],\"autorange\":true},\"xaxis11\":{\"anchor\":\"y11\",\"domain\":[0.25625,0.359375]},\"yaxis11\":{\"anchor\":\"x11\",\"domain\":[0.796875,0.8671875],\"autorange\":true},\"xaxis12\":{\"anchor\":\"y12\",\"domain\":[0.38437499999999997,0.48749999999999993]},\"yaxis12\":{\"anchor\":\"x12\",\"domain\":[0.796875,0.8671875],\"autorange\":true},\"xaxis13\":{\"anchor\":\"y13\",\"domain\":[0.5125,0.615625]},\"yaxis13\":{\"anchor\":\"x13\",\"domain\":[0.796875,0.8671875],\"autorange\":true},\"xaxis14\":{\"anchor\":\"y14\",\"domain\":[0.640625,0.74375]},\"yaxis14\":{\"anchor\":\"x14\",\"domain\":[0.796875,0.8671875],\"autorange\":true},\"xaxis15\":{\"anchor\":\"y15\",\"domain\":[0.76875,0.8718750000000001]},\"yaxis15\":{\"anchor\":\"x15\",\"domain\":[0.796875,0.8671875],\"autorange\":true},\"xaxis16\":{\"anchor\":\"y16\",\"domain\":[0.8968750000000001,1.0]},\"yaxis16\":{\"anchor\":\"x16\",\"domain\":[0.796875,0.8671875],\"autorange\":true},\"xaxis17\":{\"anchor\":\"y17\",\"domain\":[0.0,0.103125]},\"yaxis17\":{\"anchor\":\"x17\",\"domain\":[0.6640625,0.734375],\"autorange\":true},\"xaxis18\":{\"anchor\":\"y18\",\"domain\":[0.128125,0.23124999999999998]},\"yaxis18\":{\"anchor\":\"x18\",\"domain\":[0.6640625,0.734375],\"autorange\":true},\"xaxis19\":{\"anchor\":\"y19\",\"domain\":[0.25625,0.359375]},\"yaxis19\":{\"anchor\":\"x19\",\"domain\":[0.6640625,0.734375],\"autorange\":true},\"xaxis20\":{\"anchor\":\"y20\",\"domain\":[0.38437499999999997,0.48749999999999993]},\"yaxis20\":{\"anchor\":\"x20\",\"domain\":[0.6640625,0.734375],\"autorange\":true},\"xaxis21\":{\"anchor\":\"y21\",\"domain\":[0.5125,0.615625]},\"yaxis21\":{\"anchor\":\"x21\",\"domain\":[0.6640625,0.734375],\"autorange\":true},\"xaxis22\":{\"anchor\":\"y22\",\"domain\":[0.640625,0.74375]},\"yaxis22\":{\"anchor\":\"x22\",\"domain\":[0.6640625,0.734375],\"autorange\":true},\"xaxis23\":{\"anchor\":\"y23\",\"domain\":[0.76875,0.8718750000000001]},\"yaxis23\":{\"anchor\":\"x23\",\"domain\":[0.6640625,0.734375],\"autorange\":true},\"xaxis24\":{\"anchor\":\"y24\",\"domain\":[0.8968750000000001,1.0]},\"yaxis24\":{\"anchor\":\"x24\",\"domain\":[0.6640625,0.734375],\"autorange\":true},\"xaxis25\":{\"anchor\":\"y25\",\"domain\":[0.0,0.103125]},\"yaxis25\":{\"anchor\":\"x25\",\"domain\":[0.53125,0.6015625],\"autorange\":true},\"xaxis26\":{\"anchor\":\"y26\",\"domain\":[0.128125,0.23124999999999998]},\"yaxis26\":{\"anchor\":\"x26\",\"domain\":[0.53125,0.6015625],\"autorange\":true},\"xaxis27\":{\"anchor\":\"y27\",\"domain\":[0.25625,0.359375]},\"yaxis27\":{\"anchor\":\"x27\",\"domain\":[0.53125,0.6015625],\"autorange\":true},\"xaxis28\":{\"anchor\":\"y28\",\"domain\":[0.38437499999999997,0.48749999999999993]},\"yaxis28\":{\"anchor\":\"x28\",\"domain\":[0.53125,0.6015625],\"autorange\":true},\"xaxis29\":{\"anchor\":\"y29\",\"domain\":[0.5125,0.615625]},\"yaxis29\":{\"anchor\":\"x29\",\"domain\":[0.53125,0.6015625],\"autorange\":true},\"xaxis30\":{\"anchor\":\"y30\",\"domain\":[0.640625,0.74375]},\"yaxis30\":{\"anchor\":\"x30\",\"domain\":[0.53125,0.6015625],\"autorange\":true},\"xaxis31\":{\"anchor\":\"y31\",\"domain\":[0.76875,0.8718750000000001]},\"yaxis31\":{\"anchor\":\"x31\",\"domain\":[0.53125,0.6015625],\"autorange\":true},\"xaxis32\":{\"anchor\":\"y32\",\"domain\":[0.8968750000000001,1.0]},\"yaxis32\":{\"anchor\":\"x32\",\"domain\":[0.53125,0.6015625],\"autorange\":true},\"xaxis33\":{\"anchor\":\"y33\",\"domain\":[0.0,0.103125]},\"yaxis33\":{\"anchor\":\"x33\",\"domain\":[0.3984375,0.46875],\"autorange\":true},\"xaxis34\":{\"anchor\":\"y34\",\"domain\":[0.128125,0.23124999999999998]},\"yaxis34\":{\"anchor\":\"x34\",\"domain\":[0.3984375,0.46875],\"autorange\":true},\"xaxis35\":{\"anchor\":\"y35\",\"domain\":[0.25625,0.359375]},\"yaxis35\":{\"anchor\":\"x35\",\"domain\":[0.3984375,0.46875],\"autorange\":true},\"xaxis36\":{\"anchor\":\"y36\",\"domain\":[0.38437499999999997,0.48749999999999993]},\"yaxis36\":{\"anchor\":\"x36\",\"domain\":[0.3984375,0.46875],\"autorange\":true},\"xaxis37\":{\"anchor\":\"y37\",\"domain\":[0.5125,0.615625]},\"yaxis37\":{\"anchor\":\"x37\",\"domain\":[0.3984375,0.46875],\"autorange\":true},\"xaxis38\":{\"anchor\":\"y38\",\"domain\":[0.640625,0.74375]},\"yaxis38\":{\"anchor\":\"x38\",\"domain\":[0.3984375,0.46875],\"autorange\":true},\"xaxis39\":{\"anchor\":\"y39\",\"domain\":[0.76875,0.8718750000000001]},\"yaxis39\":{\"anchor\":\"x39\",\"domain\":[0.3984375,0.46875],\"autorange\":true},\"xaxis40\":{\"anchor\":\"y40\",\"domain\":[0.8968750000000001,1.0]},\"yaxis40\":{\"anchor\":\"x40\",\"domain\":[0.3984375,0.46875],\"autorange\":true},\"xaxis41\":{\"anchor\":\"y41\",\"domain\":[0.0,0.103125]},\"yaxis41\":{\"anchor\":\"x41\",\"domain\":[0.265625,0.3359375],\"autorange\":true},\"xaxis42\":{\"anchor\":\"y42\",\"domain\":[0.128125,0.23124999999999998]},\"yaxis42\":{\"anchor\":\"x42\",\"domain\":[0.265625,0.3359375],\"autorange\":true},\"xaxis43\":{\"anchor\":\"y43\",\"domain\":[0.25625,0.359375]},\"yaxis43\":{\"anchor\":\"x43\",\"domain\":[0.265625,0.3359375],\"autorange\":true},\"xaxis44\":{\"anchor\":\"y44\",\"domain\":[0.38437499999999997,0.48749999999999993]},\"yaxis44\":{\"anchor\":\"x44\",\"domain\":[0.265625,0.3359375],\"autorange\":true},\"xaxis45\":{\"anchor\":\"y45\",\"domain\":[0.5125,0.615625]},\"yaxis45\":{\"anchor\":\"x45\",\"domain\":[0.265625,0.3359375],\"autorange\":true},\"xaxis46\":{\"anchor\":\"y46\",\"domain\":[0.640625,0.74375]},\"yaxis46\":{\"anchor\":\"x46\",\"domain\":[0.265625,0.3359375],\"autorange\":true},\"xaxis47\":{\"anchor\":\"y47\",\"domain\":[0.76875,0.8718750000000001]},\"yaxis47\":{\"anchor\":\"x47\",\"domain\":[0.265625,0.3359375],\"autorange\":true},\"xaxis48\":{\"anchor\":\"y48\",\"domain\":[0.8968750000000001,1.0]},\"yaxis48\":{\"anchor\":\"x48\",\"domain\":[0.265625,0.3359375],\"autorange\":true},\"xaxis49\":{\"anchor\":\"y49\",\"domain\":[0.0,0.103125]},\"yaxis49\":{\"anchor\":\"x49\",\"domain\":[0.1328125,0.203125],\"autorange\":true},\"xaxis50\":{\"anchor\":\"y50\",\"domain\":[0.128125,0.23124999999999998]},\"yaxis50\":{\"anchor\":\"x50\",\"domain\":[0.1328125,0.203125],\"autorange\":true},\"xaxis51\":{\"anchor\":\"y51\",\"domain\":[0.25625,0.359375]},\"yaxis51\":{\"anchor\":\"x51\",\"domain\":[0.1328125,0.203125],\"autorange\":true},\"xaxis52\":{\"anchor\":\"y52\",\"domain\":[0.38437499999999997,0.48749999999999993]},\"yaxis52\":{\"anchor\":\"x52\",\"domain\":[0.1328125,0.203125],\"autorange\":true},\"xaxis53\":{\"anchor\":\"y53\",\"domain\":[0.5125,0.615625]},\"yaxis53\":{\"anchor\":\"x53\",\"domain\":[0.1328125,0.203125],\"autorange\":true},\"xaxis54\":{\"anchor\":\"y54\",\"domain\":[0.640625,0.74375]},\"yaxis54\":{\"anchor\":\"x54\",\"domain\":[0.1328125,0.203125],\"autorange\":true},\"xaxis55\":{\"anchor\":\"y55\",\"domain\":[0.76875,0.8718750000000001]},\"yaxis55\":{\"anchor\":\"x55\",\"domain\":[0.1328125,0.203125],\"autorange\":true},\"xaxis56\":{\"anchor\":\"y56\",\"domain\":[0.8968750000000001,1.0]},\"yaxis56\":{\"anchor\":\"x56\",\"domain\":[0.1328125,0.203125],\"autorange\":true},\"xaxis57\":{\"anchor\":\"y57\",\"domain\":[0.0,0.103125]},\"yaxis57\":{\"anchor\":\"x57\",\"domain\":[0.0,0.0703125],\"autorange\":true},\"xaxis58\":{\"anchor\":\"y58\",\"domain\":[0.128125,0.23124999999999998]},\"yaxis58\":{\"anchor\":\"x58\",\"domain\":[0.0,0.0703125],\"autorange\":true},\"xaxis59\":{\"anchor\":\"y59\",\"domain\":[0.25625,0.359375]},\"yaxis59\":{\"anchor\":\"x59\",\"domain\":[0.0,0.0703125],\"autorange\":true},\"xaxis60\":{\"anchor\":\"y60\",\"domain\":[0.38437499999999997,0.48749999999999993]},\"yaxis60\":{\"anchor\":\"x60\",\"domain\":[0.0,0.0703125],\"autorange\":true},\"xaxis61\":{\"anchor\":\"y61\",\"domain\":[0.5125,0.615625]},\"yaxis61\":{\"anchor\":\"x61\",\"domain\":[0.0,0.0703125],\"autorange\":true},\"xaxis62\":{\"anchor\":\"y62\",\"domain\":[0.640625,0.74375]},\"yaxis62\":{\"anchor\":\"x62\",\"domain\":[0.0,0.0703125],\"autorange\":true},\"xaxis63\":{\"anchor\":\"y63\",\"domain\":[0.76875,0.8718750000000001]},\"yaxis63\":{\"anchor\":\"x63\",\"domain\":[0.0,0.0703125],\"autorange\":true},\"xaxis64\":{\"anchor\":\"y64\",\"domain\":[0.8968750000000001,1.0]},\"yaxis64\":{\"anchor\":\"x64\",\"domain\":[0.0,0.0703125],\"autorange\":true},\"annotations\":[{\"font\":{\"size\":10},\"showarrow\":false,\"text\":\"Filter 1\",\"x\":0.0515625,\"xanchor\":\"center\",\"xref\":\"paper\",\"y\":1.0,\"yanchor\":\"bottom\",\"yref\":\"paper\"},{\"font\":{\"size\":10},\"showarrow\":false,\"text\":\"Filter 2\",\"x\":0.1796875,\"xanchor\":\"center\",\"xref\":\"paper\",\"y\":1.0,\"yanchor\":\"bottom\",\"yref\":\"paper\"},{\"font\":{\"size\":10},\"showarrow\":false,\"text\":\"Filter 3\",\"x\":0.3078125,\"xanchor\":\"center\",\"xref\":\"paper\",\"y\":1.0,\"yanchor\":\"bottom\",\"yref\":\"paper\"},{\"font\":{\"size\":10},\"showarrow\":false,\"text\":\"Filter 4\",\"x\":0.4359375,\"xanchor\":\"center\",\"xref\":\"paper\",\"y\":1.0,\"yanchor\":\"bottom\",\"yref\":\"paper\"},{\"font\":{\"size\":10},\"showarrow\":false,\"text\":\"Filter 5\",\"x\":0.5640624999999999,\"xanchor\":\"center\",\"xref\":\"paper\",\"y\":1.0,\"yanchor\":\"bottom\",\"yref\":\"paper\"},{\"font\":{\"size\":10},\"showarrow\":false,\"text\":\"Filter 6\",\"x\":0.6921875,\"xanchor\":\"center\",\"xref\":\"paper\",\"y\":1.0,\"yanchor\":\"bottom\",\"yref\":\"paper\"},{\"font\":{\"size\":10},\"showarrow\":false,\"text\":\"Filter 7\",\"x\":0.8203125,\"xanchor\":\"center\",\"xref\":\"paper\",\"y\":1.0,\"yanchor\":\"bottom\",\"yref\":\"paper\"},{\"font\":{\"size\":10},\"showarrow\":false,\"text\":\"Filter 8\",\"x\":0.9484375,\"xanchor\":\"center\",\"xref\":\"paper\",\"y\":1.0,\"yanchor\":\"bottom\",\"yref\":\"paper\"},{\"font\":{\"size\":10},\"showarrow\":false,\"text\":\"Filter 9\",\"x\":0.0515625,\"xanchor\":\"center\",\"xref\":\"paper\",\"y\":0.8671875,\"yanchor\":\"bottom\",\"yref\":\"paper\"},{\"font\":{\"size\":10},\"showarrow\":false,\"text\":\"Filter 10\",\"x\":0.1796875,\"xanchor\":\"center\",\"xref\":\"paper\",\"y\":0.8671875,\"yanchor\":\"bottom\",\"yref\":\"paper\"},{\"font\":{\"size\":10},\"showarrow\":false,\"text\":\"Filter 11\",\"x\":0.3078125,\"xanchor\":\"center\",\"xref\":\"paper\",\"y\":0.8671875,\"yanchor\":\"bottom\",\"yref\":\"paper\"},{\"font\":{\"size\":10},\"showarrow\":false,\"text\":\"Filter 12\",\"x\":0.4359375,\"xanchor\":\"center\",\"xref\":\"paper\",\"y\":0.8671875,\"yanchor\":\"bottom\",\"yref\":\"paper\"},{\"font\":{\"size\":10},\"showarrow\":false,\"text\":\"Filter 13\",\"x\":0.5640624999999999,\"xanchor\":\"center\",\"xref\":\"paper\",\"y\":0.8671875,\"yanchor\":\"bottom\",\"yref\":\"paper\"},{\"font\":{\"size\":10},\"showarrow\":false,\"text\":\"Filter 14\",\"x\":0.6921875,\"xanchor\":\"center\",\"xref\":\"paper\",\"y\":0.8671875,\"yanchor\":\"bottom\",\"yref\":\"paper\"},{\"font\":{\"size\":10},\"showarrow\":false,\"text\":\"Filter 15\",\"x\":0.8203125,\"xanchor\":\"center\",\"xref\":\"paper\",\"y\":0.8671875,\"yanchor\":\"bottom\",\"yref\":\"paper\"},{\"font\":{\"size\":10},\"showarrow\":false,\"text\":\"Filter 16\",\"x\":0.9484375,\"xanchor\":\"center\",\"xref\":\"paper\",\"y\":0.8671875,\"yanchor\":\"bottom\",\"yref\":\"paper\"},{\"font\":{\"size\":10},\"showarrow\":false,\"text\":\"Filter 17\",\"x\":0.0515625,\"xanchor\":\"center\",\"xref\":\"paper\",\"y\":0.734375,\"yanchor\":\"bottom\",\"yref\":\"paper\"},{\"font\":{\"size\":10},\"showarrow\":false,\"text\":\"Filter 18\",\"x\":0.1796875,\"xanchor\":\"center\",\"xref\":\"paper\",\"y\":0.734375,\"yanchor\":\"bottom\",\"yref\":\"paper\"},{\"font\":{\"size\":10},\"showarrow\":false,\"text\":\"Filter 19\",\"x\":0.3078125,\"xanchor\":\"center\",\"xref\":\"paper\",\"y\":0.734375,\"yanchor\":\"bottom\",\"yref\":\"paper\"},{\"font\":{\"size\":10},\"showarrow\":false,\"text\":\"Filter 20\",\"x\":0.4359375,\"xanchor\":\"center\",\"xref\":\"paper\",\"y\":0.734375,\"yanchor\":\"bottom\",\"yref\":\"paper\"},{\"font\":{\"size\":10},\"showarrow\":false,\"text\":\"Filter 21\",\"x\":0.5640624999999999,\"xanchor\":\"center\",\"xref\":\"paper\",\"y\":0.734375,\"yanchor\":\"bottom\",\"yref\":\"paper\"},{\"font\":{\"size\":10},\"showarrow\":false,\"text\":\"Filter 22\",\"x\":0.6921875,\"xanchor\":\"center\",\"xref\":\"paper\",\"y\":0.734375,\"yanchor\":\"bottom\",\"yref\":\"paper\"},{\"font\":{\"size\":10},\"showarrow\":false,\"text\":\"Filter 23\",\"x\":0.8203125,\"xanchor\":\"center\",\"xref\":\"paper\",\"y\":0.734375,\"yanchor\":\"bottom\",\"yref\":\"paper\"},{\"font\":{\"size\":10},\"showarrow\":false,\"text\":\"Filter 24\",\"x\":0.9484375,\"xanchor\":\"center\",\"xref\":\"paper\",\"y\":0.734375,\"yanchor\":\"bottom\",\"yref\":\"paper\"},{\"font\":{\"size\":10},\"showarrow\":false,\"text\":\"Filter 25\",\"x\":0.0515625,\"xanchor\":\"center\",\"xref\":\"paper\",\"y\":0.6015625,\"yanchor\":\"bottom\",\"yref\":\"paper\"},{\"font\":{\"size\":10},\"showarrow\":false,\"text\":\"Filter 26\",\"x\":0.1796875,\"xanchor\":\"center\",\"xref\":\"paper\",\"y\":0.6015625,\"yanchor\":\"bottom\",\"yref\":\"paper\"},{\"font\":{\"size\":10},\"showarrow\":false,\"text\":\"Filter 27\",\"x\":0.3078125,\"xanchor\":\"center\",\"xref\":\"paper\",\"y\":0.6015625,\"yanchor\":\"bottom\",\"yref\":\"paper\"},{\"font\":{\"size\":10},\"showarrow\":false,\"text\":\"Filter 28\",\"x\":0.4359375,\"xanchor\":\"center\",\"xref\":\"paper\",\"y\":0.6015625,\"yanchor\":\"bottom\",\"yref\":\"paper\"},{\"font\":{\"size\":10},\"showarrow\":false,\"text\":\"Filter 29\",\"x\":0.5640624999999999,\"xanchor\":\"center\",\"xref\":\"paper\",\"y\":0.6015625,\"yanchor\":\"bottom\",\"yref\":\"paper\"},{\"font\":{\"size\":10},\"showarrow\":false,\"text\":\"Filter 30\",\"x\":0.6921875,\"xanchor\":\"center\",\"xref\":\"paper\",\"y\":0.6015625,\"yanchor\":\"bottom\",\"yref\":\"paper\"},{\"font\":{\"size\":10},\"showarrow\":false,\"text\":\"Filter 31\",\"x\":0.8203125,\"xanchor\":\"center\",\"xref\":\"paper\",\"y\":0.6015625,\"yanchor\":\"bottom\",\"yref\":\"paper\"},{\"font\":{\"size\":10},\"showarrow\":false,\"text\":\"Filter 32\",\"x\":0.9484375,\"xanchor\":\"center\",\"xref\":\"paper\",\"y\":0.6015625,\"yanchor\":\"bottom\",\"yref\":\"paper\"},{\"font\":{\"size\":10},\"showarrow\":false,\"text\":\"Filter 33\",\"x\":0.0515625,\"xanchor\":\"center\",\"xref\":\"paper\",\"y\":0.46875,\"yanchor\":\"bottom\",\"yref\":\"paper\"},{\"font\":{\"size\":10},\"showarrow\":false,\"text\":\"Filter 34\",\"x\":0.1796875,\"xanchor\":\"center\",\"xref\":\"paper\",\"y\":0.46875,\"yanchor\":\"bottom\",\"yref\":\"paper\"},{\"font\":{\"size\":10},\"showarrow\":false,\"text\":\"Filter 35\",\"x\":0.3078125,\"xanchor\":\"center\",\"xref\":\"paper\",\"y\":0.46875,\"yanchor\":\"bottom\",\"yref\":\"paper\"},{\"font\":{\"size\":10},\"showarrow\":false,\"text\":\"Filter 36\",\"x\":0.4359375,\"xanchor\":\"center\",\"xref\":\"paper\",\"y\":0.46875,\"yanchor\":\"bottom\",\"yref\":\"paper\"},{\"font\":{\"size\":10},\"showarrow\":false,\"text\":\"Filter 37\",\"x\":0.5640624999999999,\"xanchor\":\"center\",\"xref\":\"paper\",\"y\":0.46875,\"yanchor\":\"bottom\",\"yref\":\"paper\"},{\"font\":{\"size\":10},\"showarrow\":false,\"text\":\"Filter 38\",\"x\":0.6921875,\"xanchor\":\"center\",\"xref\":\"paper\",\"y\":0.46875,\"yanchor\":\"bottom\",\"yref\":\"paper\"},{\"font\":{\"size\":10},\"showarrow\":false,\"text\":\"Filter 39\",\"x\":0.8203125,\"xanchor\":\"center\",\"xref\":\"paper\",\"y\":0.46875,\"yanchor\":\"bottom\",\"yref\":\"paper\"},{\"font\":{\"size\":10},\"showarrow\":false,\"text\":\"Filter 40\",\"x\":0.9484375,\"xanchor\":\"center\",\"xref\":\"paper\",\"y\":0.46875,\"yanchor\":\"bottom\",\"yref\":\"paper\"},{\"font\":{\"size\":10},\"showarrow\":false,\"text\":\"Filter 41\",\"x\":0.0515625,\"xanchor\":\"center\",\"xref\":\"paper\",\"y\":0.3359375,\"yanchor\":\"bottom\",\"yref\":\"paper\"},{\"font\":{\"size\":10},\"showarrow\":false,\"text\":\"Filter 42\",\"x\":0.1796875,\"xanchor\":\"center\",\"xref\":\"paper\",\"y\":0.3359375,\"yanchor\":\"bottom\",\"yref\":\"paper\"},{\"font\":{\"size\":10},\"showarrow\":false,\"text\":\"Filter 43\",\"x\":0.3078125,\"xanchor\":\"center\",\"xref\":\"paper\",\"y\":0.3359375,\"yanchor\":\"bottom\",\"yref\":\"paper\"},{\"font\":{\"size\":10},\"showarrow\":false,\"text\":\"Filter 44\",\"x\":0.4359375,\"xanchor\":\"center\",\"xref\":\"paper\",\"y\":0.3359375,\"yanchor\":\"bottom\",\"yref\":\"paper\"},{\"font\":{\"size\":10},\"showarrow\":false,\"text\":\"Filter 45\",\"x\":0.5640624999999999,\"xanchor\":\"center\",\"xref\":\"paper\",\"y\":0.3359375,\"yanchor\":\"bottom\",\"yref\":\"paper\"},{\"font\":{\"size\":10},\"showarrow\":false,\"text\":\"Filter 46\",\"x\":0.6921875,\"xanchor\":\"center\",\"xref\":\"paper\",\"y\":0.3359375,\"yanchor\":\"bottom\",\"yref\":\"paper\"},{\"font\":{\"size\":10},\"showarrow\":false,\"text\":\"Filter 47\",\"x\":0.8203125,\"xanchor\":\"center\",\"xref\":\"paper\",\"y\":0.3359375,\"yanchor\":\"bottom\",\"yref\":\"paper\"},{\"font\":{\"size\":10},\"showarrow\":false,\"text\":\"Filter 48\",\"x\":0.9484375,\"xanchor\":\"center\",\"xref\":\"paper\",\"y\":0.3359375,\"yanchor\":\"bottom\",\"yref\":\"paper\"},{\"font\":{\"size\":10},\"showarrow\":false,\"text\":\"Filter 49\",\"x\":0.0515625,\"xanchor\":\"center\",\"xref\":\"paper\",\"y\":0.203125,\"yanchor\":\"bottom\",\"yref\":\"paper\"},{\"font\":{\"size\":10},\"showarrow\":false,\"text\":\"Filter 50\",\"x\":0.1796875,\"xanchor\":\"center\",\"xref\":\"paper\",\"y\":0.203125,\"yanchor\":\"bottom\",\"yref\":\"paper\"},{\"font\":{\"size\":10},\"showarrow\":false,\"text\":\"Filter 51\",\"x\":0.3078125,\"xanchor\":\"center\",\"xref\":\"paper\",\"y\":0.203125,\"yanchor\":\"bottom\",\"yref\":\"paper\"},{\"font\":{\"size\":10},\"showarrow\":false,\"text\":\"Filter 52\",\"x\":0.4359375,\"xanchor\":\"center\",\"xref\":\"paper\",\"y\":0.203125,\"yanchor\":\"bottom\",\"yref\":\"paper\"},{\"font\":{\"size\":10},\"showarrow\":false,\"text\":\"Filter 53\",\"x\":0.5640624999999999,\"xanchor\":\"center\",\"xref\":\"paper\",\"y\":0.203125,\"yanchor\":\"bottom\",\"yref\":\"paper\"},{\"font\":{\"size\":10},\"showarrow\":false,\"text\":\"Filter 54\",\"x\":0.6921875,\"xanchor\":\"center\",\"xref\":\"paper\",\"y\":0.203125,\"yanchor\":\"bottom\",\"yref\":\"paper\"},{\"font\":{\"size\":10},\"showarrow\":false,\"text\":\"Filter 55\",\"x\":0.8203125,\"xanchor\":\"center\",\"xref\":\"paper\",\"y\":0.203125,\"yanchor\":\"bottom\",\"yref\":\"paper\"},{\"font\":{\"size\":10},\"showarrow\":false,\"text\":\"Filter 56\",\"x\":0.9484375,\"xanchor\":\"center\",\"xref\":\"paper\",\"y\":0.203125,\"yanchor\":\"bottom\",\"yref\":\"paper\"},{\"font\":{\"size\":10},\"showarrow\":false,\"text\":\"Filter 57\",\"x\":0.0515625,\"xanchor\":\"center\",\"xref\":\"paper\",\"y\":0.0703125,\"yanchor\":\"bottom\",\"yref\":\"paper\"},{\"font\":{\"size\":10},\"showarrow\":false,\"text\":\"Filter 58\",\"x\":0.1796875,\"xanchor\":\"center\",\"xref\":\"paper\",\"y\":0.0703125,\"yanchor\":\"bottom\",\"yref\":\"paper\"},{\"font\":{\"size\":10},\"showarrow\":false,\"text\":\"Filter 59\",\"x\":0.3078125,\"xanchor\":\"center\",\"xref\":\"paper\",\"y\":0.0703125,\"yanchor\":\"bottom\",\"yref\":\"paper\"},{\"font\":{\"size\":10},\"showarrow\":false,\"text\":\"Filter 60\",\"x\":0.4359375,\"xanchor\":\"center\",\"xref\":\"paper\",\"y\":0.0703125,\"yanchor\":\"bottom\",\"yref\":\"paper\"},{\"font\":{\"size\":10},\"showarrow\":false,\"text\":\"Filter 61\",\"x\":0.5640624999999999,\"xanchor\":\"center\",\"xref\":\"paper\",\"y\":0.0703125,\"yanchor\":\"bottom\",\"yref\":\"paper\"},{\"font\":{\"size\":10},\"showarrow\":false,\"text\":\"Filter 62\",\"x\":0.6921875,\"xanchor\":\"center\",\"xref\":\"paper\",\"y\":0.0703125,\"yanchor\":\"bottom\",\"yref\":\"paper\"},{\"font\":{\"size\":10},\"showarrow\":false,\"text\":\"Filter 63\",\"x\":0.8203125,\"xanchor\":\"center\",\"xref\":\"paper\",\"y\":0.0703125,\"yanchor\":\"bottom\",\"yref\":\"paper\"},{\"font\":{\"size\":10},\"showarrow\":false,\"text\":\"Filter 64\",\"x\":0.9484375,\"xanchor\":\"center\",\"xref\":\"paper\",\"y\":0.0703125,\"yanchor\":\"bottom\",\"yref\":\"paper\"}],\"margin\":{\"t\":20,\"r\":200,\"b\":10,\"l\":10},\"width\":700,\"height\":700,\"autosize\":false},                        {\"responsive\": true}                    ).then(function(){\n",
       "                            \n",
       "var gd = document.getElementById('dce4e7c9-f441-4d61-90f5-d9d7eb2c3d1b');\n",
       "var x = new MutationObserver(function (mutations, observer) {{\n",
       "        var display = window.getComputedStyle(gd).display;\n",
       "        if (!display || display === 'none') {{\n",
       "            console.log([gd, 'removed!']);\n",
       "            Plotly.purge(gd);\n",
       "            observer.disconnect();\n",
       "        }}\n",
       "}});\n",
       "\n",
       "// Listen for the removal of the full notebook cells\n",
       "var notebookContainer = gd.closest('#notebook-container');\n",
       "if (notebookContainer) {{\n",
       "    x.observe(notebookContainer, {childList: true});\n",
       "}}\n",
       "\n",
       "// Listen for the clearing of the current output cell\n",
       "var outputEl = gd.closest('.output');\n",
       "if (outputEl) {{\n",
       "    x.observe(outputEl, {childList: true});\n",
       "}}\n",
       "\n",
       "                        })                };                });            </script>        </div>"
      ]
     },
     "metadata": {},
     "output_type": "display_data"
    }
   ],
   "source": [
    "\n",
    "# Create an empty list to store the Heatmap objects\n",
    "heatmaps = []\n",
    "weights = model_parameters[layer]\n",
    "\n",
    "num_rows = 8\n",
    "num_columns = int(np.ceil(weights.shape[0]/8))\n",
    "\n",
    "# Generate the Heatmap objects without plotting them\n",
    "for i in weights:\n",
    "    kernel = i.detach().cpu().squeeze().numpy()\n",
    "    heatmap = go.Heatmap(z=kernel, colorscale='Blues', coloraxis = \"coloraxis\")\n",
    "    heatmaps.append(heatmap)\n",
    "\n",
    "# Plot the heatmaps without colorbar\n",
    "fig = make_subplots(rows=num_rows, cols=num_columns, subplot_titles=['Filter {}'.format(i+1) for i in range(weights.shape[0])])\n",
    "\n",
    "for i, heatmap in enumerate(heatmaps):\n",
    "    fig.add_trace(heatmap, row=int(i % num_rows)+1, col=int(i / num_rows)+1)\n",
    "    fig.update_yaxes(autorange=True, row=int(i % num_rows)+1, col=int(i / num_rows)+1)\n",
    "# Configure the layout and display the figure\n",
    "fig.update_layout(\n",
    "    margin=dict(t=20, r=200, b=10, l=10),\n",
    "    width=700,\n",
    "    height=700,\n",
    "    autosize=False,\n",
    ")\n",
    "# fig.update_yaxes(autorange=\"reversed\")\n",
    "\n",
    "# Adjust the size of subplot titles\n",
    "for annotation in fig['layout']['annotations']:\n",
    "    annotation['font'] = dict(size=10)  # Adjust the font size of the titles\n",
    "\n",
    "# Add a separate colorbar to the layout\n",
    "\n",
    "fig.show()\n",
    "\n",
    "\n"
   ]
  },
  {
   "cell_type": "code",
   "execution_count": 137,
   "metadata": {
    "pycharm": {
     "name": "#%%\n"
    }
   },
   "outputs": [],
   "source": [
    "fig.write_image('kernels.png')"
   ]
  },
  {
   "cell_type": "code",
   "execution_count": null,
   "metadata": {
    "pycharm": {
     "name": "#%%\n"
    }
   },
   "outputs": [],
   "source": []
  },
  {
   "cell_type": "code",
   "execution_count": null,
   "metadata": {
    "pycharm": {
     "name": "#%%\n"
    }
   },
   "outputs": [],
   "source": []
  }
 ],
 "metadata": {
  "kernelspec": {
   "display_name": "Python 3 (ipykernel)",
   "language": "python",
   "name": "python3"
  },
  "language_info": {
   "codemirror_mode": {
    "name": "ipython",
    "version": 3
   },
   "file_extension": ".py",
   "mimetype": "text/x-python",
   "name": "python",
   "nbconvert_exporter": "python",
   "pygments_lexer": "ipython3",
   "version": "3.9.7"
  }
 },
 "nbformat": 4,
 "nbformat_minor": 1
}